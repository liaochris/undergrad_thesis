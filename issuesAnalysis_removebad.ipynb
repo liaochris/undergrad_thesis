{
 "cells": [
  {
   "cell_type": "markdown",
   "id": "7add0c8e-4c37-4e1d-a1f5-0665f1668909",
   "metadata": {},
   "source": [
    "## Data Cleaning Goals\n",
    "1. I want to create data that will allow me to\n",
    "   \n",
    "   a. analyze the structure of hierarchy across GitHub Repositories (whose opening issues? whose commenting on issues? how many are there overall?)\n",
    "   \n",
    "   b. track the sequence of participation for each issue\n",
    "   \n",
    "   c. link PRs to issues\n",
    "   \n",
    "   d. collect covariates related to issues so I can measure \"issue difficulty\"\n",
    "   "
   ]
  },
  {
   "cell_type": "code",
   "execution_count": 1,
   "id": "3f0a94b9-c839-468d-8e9d-fe6c5fa1f976",
   "metadata": {},
   "outputs": [],
   "source": [
    "from IPython.display import display, HTML\n",
    "\n",
    "def pretty_print(df):\n",
    "    return display(HTML(df.to_html().replace(\"\\\\n\",\"<br>\") ) )"
   ]
  },
  {
   "cell_type": "code",
   "execution_count": 2,
   "id": "7c5a58ac-1efe-4472-b9bf-50fa1721b27b",
   "metadata": {},
   "outputs": [],
   "source": [
    "## Import Libraries and Data"
   ]
  },
  {
   "cell_type": "code",
   "execution_count": 3,
   "id": "6ec58803-cdc1-4a7a-8597-326e8f6b77b8",
   "metadata": {
    "scrolled": true
   },
   "outputs": [],
   "source": [
    "import glob\n",
    "import dask.dataframe as dd\n",
    "import pandas as pd\n",
    "from pandarallel import pandarallel\n",
    "import matplotlib.pyplot as plt\n",
    "from datetime import timezone\n",
    "import datetime\n",
    "import ast\n",
    "import numpy as np\n",
    "from operator import itemgetter\n",
    "from stargazer.stargazer import Stargazer"
   ]
  },
  {
   "cell_type": "code",
   "execution_count": 4,
   "id": "a1c863b9-f93f-420f-920b-6f1546f478b1",
   "metadata": {},
   "outputs": [],
   "source": [
    "plt.style.use(\"seaborn\")"
   ]
  },
  {
   "cell_type": "code",
   "execution_count": 8,
   "id": "29a81293-26e6-4433-a769-9eacb9891964",
   "metadata": {},
   "outputs": [
    {
     "name": "stdout",
     "output_type": "stream",
     "text": [
      "INFO: Pandarallel will run on 32 workers.\n",
      "INFO: Pandarallel will use Memory file system to transfer data between the main process and workers.\n"
     ]
    }
   ],
   "source": [
    "pandarallel.initialize(progress_bar = True)"
   ]
  },
  {
   "cell_type": "code",
   "execution_count": 9,
   "id": "138b397f-fb37-4c8e-87da-6b9cd22be566",
   "metadata": {},
   "outputs": [],
   "source": [
    "pd.set_option('display.max_columns', None)"
   ]
  },
  {
   "cell_type": "code",
   "execution_count": 10,
   "id": "2c3e5b6d-2bad-4904-8569-1e1100662fa5",
   "metadata": {
    "scrolled": true
   },
   "outputs": [
    {
     "ename": "ParserError",
     "evalue": "Error tokenizing data. C error: Calling read(nbytes) on source failed. Try engine='python'.",
     "output_type": "error",
     "traceback": [
      "\u001b[0;31m---------------------------------------------------------------------------\u001b[0m",
      "\u001b[0;31mParserError\u001b[0m                               Traceback (most recent call last)",
      "File \u001b[0;32m<timed exec>:4\u001b[0m\n",
      "File \u001b[0;32m<timed exec>:4\u001b[0m, in \u001b[0;36m<listcomp>\u001b[0;34m(.0)\u001b[0m\n",
      "File \u001b[0;32m~/.local/lib/python3.8/site-packages/pandas/io/parsers/readers.py:912\u001b[0m, in \u001b[0;36mread_csv\u001b[0;34m(filepath_or_buffer, sep, delimiter, header, names, index_col, usecols, dtype, engine, converters, true_values, false_values, skipinitialspace, skiprows, skipfooter, nrows, na_values, keep_default_na, na_filter, verbose, skip_blank_lines, parse_dates, infer_datetime_format, keep_date_col, date_parser, date_format, dayfirst, cache_dates, iterator, chunksize, compression, thousands, decimal, lineterminator, quotechar, quoting, doublequote, escapechar, comment, encoding, encoding_errors, dialect, on_bad_lines, delim_whitespace, low_memory, memory_map, float_precision, storage_options, dtype_backend)\u001b[0m\n\u001b[1;32m    899\u001b[0m kwds_defaults \u001b[38;5;241m=\u001b[39m _refine_defaults_read(\n\u001b[1;32m    900\u001b[0m     dialect,\n\u001b[1;32m    901\u001b[0m     delimiter,\n\u001b[0;32m   (...)\u001b[0m\n\u001b[1;32m    908\u001b[0m     dtype_backend\u001b[38;5;241m=\u001b[39mdtype_backend,\n\u001b[1;32m    909\u001b[0m )\n\u001b[1;32m    910\u001b[0m kwds\u001b[38;5;241m.\u001b[39mupdate(kwds_defaults)\n\u001b[0;32m--> 912\u001b[0m \u001b[38;5;28;01mreturn\u001b[39;00m \u001b[43m_read\u001b[49m\u001b[43m(\u001b[49m\u001b[43mfilepath_or_buffer\u001b[49m\u001b[43m,\u001b[49m\u001b[43m \u001b[49m\u001b[43mkwds\u001b[49m\u001b[43m)\u001b[49m\n",
      "File \u001b[0;32m~/.local/lib/python3.8/site-packages/pandas/io/parsers/readers.py:577\u001b[0m, in \u001b[0;36m_read\u001b[0;34m(filepath_or_buffer, kwds)\u001b[0m\n\u001b[1;32m    574\u001b[0m _validate_names(kwds\u001b[38;5;241m.\u001b[39mget(\u001b[38;5;124m\"\u001b[39m\u001b[38;5;124mnames\u001b[39m\u001b[38;5;124m\"\u001b[39m, \u001b[38;5;28;01mNone\u001b[39;00m))\n\u001b[1;32m    576\u001b[0m \u001b[38;5;66;03m# Create the parser.\u001b[39;00m\n\u001b[0;32m--> 577\u001b[0m parser \u001b[38;5;241m=\u001b[39m \u001b[43mTextFileReader\u001b[49m\u001b[43m(\u001b[49m\u001b[43mfilepath_or_buffer\u001b[49m\u001b[43m,\u001b[49m\u001b[43m \u001b[49m\u001b[38;5;241;43m*\u001b[39;49m\u001b[38;5;241;43m*\u001b[39;49m\u001b[43mkwds\u001b[49m\u001b[43m)\u001b[49m\n\u001b[1;32m    579\u001b[0m \u001b[38;5;28;01mif\u001b[39;00m chunksize \u001b[38;5;129;01mor\u001b[39;00m iterator:\n\u001b[1;32m    580\u001b[0m     \u001b[38;5;28;01mreturn\u001b[39;00m parser\n",
      "File \u001b[0;32m~/.local/lib/python3.8/site-packages/pandas/io/parsers/readers.py:1407\u001b[0m, in \u001b[0;36mTextFileReader.__init__\u001b[0;34m(self, f, engine, **kwds)\u001b[0m\n\u001b[1;32m   1404\u001b[0m     \u001b[38;5;28mself\u001b[39m\u001b[38;5;241m.\u001b[39moptions[\u001b[38;5;124m\"\u001b[39m\u001b[38;5;124mhas_index_names\u001b[39m\u001b[38;5;124m\"\u001b[39m] \u001b[38;5;241m=\u001b[39m kwds[\u001b[38;5;124m\"\u001b[39m\u001b[38;5;124mhas_index_names\u001b[39m\u001b[38;5;124m\"\u001b[39m]\n\u001b[1;32m   1406\u001b[0m \u001b[38;5;28mself\u001b[39m\u001b[38;5;241m.\u001b[39mhandles: IOHandles \u001b[38;5;241m|\u001b[39m \u001b[38;5;28;01mNone\u001b[39;00m \u001b[38;5;241m=\u001b[39m \u001b[38;5;28;01mNone\u001b[39;00m\n\u001b[0;32m-> 1407\u001b[0m \u001b[38;5;28mself\u001b[39m\u001b[38;5;241m.\u001b[39m_engine \u001b[38;5;241m=\u001b[39m \u001b[38;5;28;43mself\u001b[39;49m\u001b[38;5;241;43m.\u001b[39;49m\u001b[43m_make_engine\u001b[49m\u001b[43m(\u001b[49m\u001b[43mf\u001b[49m\u001b[43m,\u001b[49m\u001b[43m \u001b[49m\u001b[38;5;28;43mself\u001b[39;49m\u001b[38;5;241;43m.\u001b[39;49m\u001b[43mengine\u001b[49m\u001b[43m)\u001b[49m\n",
      "File \u001b[0;32m~/.local/lib/python3.8/site-packages/pandas/io/parsers/readers.py:1679\u001b[0m, in \u001b[0;36mTextFileReader._make_engine\u001b[0;34m(self, f, engine)\u001b[0m\n\u001b[1;32m   1676\u001b[0m     \u001b[38;5;28;01mraise\u001b[39;00m \u001b[38;5;167;01mValueError\u001b[39;00m(msg)\n\u001b[1;32m   1678\u001b[0m \u001b[38;5;28;01mtry\u001b[39;00m:\n\u001b[0;32m-> 1679\u001b[0m     \u001b[38;5;28;01mreturn\u001b[39;00m \u001b[43mmapping\u001b[49m\u001b[43m[\u001b[49m\u001b[43mengine\u001b[49m\u001b[43m]\u001b[49m\u001b[43m(\u001b[49m\u001b[43mf\u001b[49m\u001b[43m,\u001b[49m\u001b[43m \u001b[49m\u001b[38;5;241;43m*\u001b[39;49m\u001b[38;5;241;43m*\u001b[39;49m\u001b[38;5;28;43mself\u001b[39;49m\u001b[38;5;241;43m.\u001b[39;49m\u001b[43moptions\u001b[49m\u001b[43m)\u001b[49m\n\u001b[1;32m   1680\u001b[0m \u001b[38;5;28;01mexcept\u001b[39;00m \u001b[38;5;167;01mException\u001b[39;00m:\n\u001b[1;32m   1681\u001b[0m     \u001b[38;5;28;01mif\u001b[39;00m \u001b[38;5;28mself\u001b[39m\u001b[38;5;241m.\u001b[39mhandles \u001b[38;5;129;01mis\u001b[39;00m \u001b[38;5;129;01mnot\u001b[39;00m \u001b[38;5;28;01mNone\u001b[39;00m:\n",
      "File \u001b[0;32m~/.local/lib/python3.8/site-packages/pandas/io/parsers/c_parser_wrapper.py:93\u001b[0m, in \u001b[0;36mCParserWrapper.__init__\u001b[0;34m(self, src, **kwds)\u001b[0m\n\u001b[1;32m     90\u001b[0m \u001b[38;5;28;01mif\u001b[39;00m kwds[\u001b[38;5;124m\"\u001b[39m\u001b[38;5;124mdtype_backend\u001b[39m\u001b[38;5;124m\"\u001b[39m] \u001b[38;5;241m==\u001b[39m \u001b[38;5;124m\"\u001b[39m\u001b[38;5;124mpyarrow\u001b[39m\u001b[38;5;124m\"\u001b[39m:\n\u001b[1;32m     91\u001b[0m     \u001b[38;5;66;03m# Fail here loudly instead of in cython after reading\u001b[39;00m\n\u001b[1;32m     92\u001b[0m     import_optional_dependency(\u001b[38;5;124m\"\u001b[39m\u001b[38;5;124mpyarrow\u001b[39m\u001b[38;5;124m\"\u001b[39m)\n\u001b[0;32m---> 93\u001b[0m \u001b[38;5;28mself\u001b[39m\u001b[38;5;241m.\u001b[39m_reader \u001b[38;5;241m=\u001b[39m \u001b[43mparsers\u001b[49m\u001b[38;5;241;43m.\u001b[39;49m\u001b[43mTextReader\u001b[49m\u001b[43m(\u001b[49m\u001b[43msrc\u001b[49m\u001b[43m,\u001b[49m\u001b[43m \u001b[49m\u001b[38;5;241;43m*\u001b[39;49m\u001b[38;5;241;43m*\u001b[39;49m\u001b[43mkwds\u001b[49m\u001b[43m)\u001b[49m\n\u001b[1;32m     95\u001b[0m \u001b[38;5;28mself\u001b[39m\u001b[38;5;241m.\u001b[39munnamed_cols \u001b[38;5;241m=\u001b[39m \u001b[38;5;28mself\u001b[39m\u001b[38;5;241m.\u001b[39m_reader\u001b[38;5;241m.\u001b[39munnamed_cols\n\u001b[1;32m     97\u001b[0m \u001b[38;5;66;03m# error: Cannot determine type of 'names'\u001b[39;00m\n",
      "File \u001b[0;32m~/.local/lib/python3.8/site-packages/pandas/_libs/parsers.pyx:550\u001b[0m, in \u001b[0;36mpandas._libs.parsers.TextReader.__cinit__\u001b[0;34m()\u001b[0m\n",
      "File \u001b[0;32m~/.local/lib/python3.8/site-packages/pandas/_libs/parsers.pyx:639\u001b[0m, in \u001b[0;36mpandas._libs.parsers.TextReader._get_header\u001b[0;34m()\u001b[0m\n",
      "File \u001b[0;32m~/.local/lib/python3.8/site-packages/pandas/_libs/parsers.pyx:850\u001b[0m, in \u001b[0;36mpandas._libs.parsers.TextReader._tokenize_rows\u001b[0;34m()\u001b[0m\n",
      "File \u001b[0;32m~/.local/lib/python3.8/site-packages/pandas/_libs/parsers.pyx:861\u001b[0m, in \u001b[0;36mpandas._libs.parsers.TextReader._check_tokenize_status\u001b[0;34m()\u001b[0m\n",
      "File \u001b[0;32m~/.local/lib/python3.8/site-packages/pandas/_libs/parsers.pyx:2029\u001b[0m, in \u001b[0;36mpandas._libs.parsers.raise_parser_error\u001b[0;34m()\u001b[0m\n",
      "\u001b[0;31mParserError\u001b[0m: Error tokenizing data. C error: Calling read(nbytes) on source failed. Try engine='python'."
     ]
    }
   ],
   "source": [
    "%%time\n",
    "# Read data on issue comments, issues\n",
    "issue_com = glob.glob('data/github_clean/filtered_github_data/issueCo*')\n",
    "issue_com.extend(glob.glob('data/github_clean/github_data_pre_18/issueCo*'))\n",
    "df_issue_comments = pd.concat([pd.read_csv(ele, index_col = 0) for ele in issue_com]).reset_index(drop = True)\n",
    "\n",
    "issues = glob.glob('data/github_clean/filtered_github_data/issues*')\n",
    "issues.extend(glob.glob('data/github_clean/github_data_pre_18/issues*'))\n",
    "df_issue = pd.concat([pd.read_csv(ele, index_col = 0) for ele in issues]).reset_index(drop = True)"
   ]
  },
  {
   "cell_type": "markdown",
   "id": "2f1a15b2-c140-4f84-bb41-9d44443aa9ba",
   "metadata": {},
   "source": [
    "## Storing Data"
   ]
  },
  {
   "cell_type": "code",
   "execution_count": 8,
   "id": "05ad98d9-37ff-44f1-bdf9-985bd5af340b",
   "metadata": {},
   "outputs": [],
   "source": [
    "OriginalDataStatistics = pd.DataFrame()\n",
    "DataDescriptives = pd.DataFrame()"
   ]
  },
  {
   "cell_type": "markdown",
   "id": "6f3ce80e-a701-4539-a596-4bff442a783a",
   "metadata": {},
   "source": [
    "## Data Cleaning"
   ]
  },
  {
   "cell_type": "code",
   "execution_count": 9,
   "id": "4ae10678-f6cc-4227-b2c8-9775b851706b",
   "metadata": {
    "scrolled": true
   },
   "outputs": [],
   "source": [
    "# columns to rename\n",
    "mod_columns = [ele for ele in df_issue_comments.columns if 'latest' in ele]\n",
    "mod_dict = {ele : ele.replace('latest_', '') for ele in mod_columns}\n",
    "df_issue_comments.rename(mod_dict, axis = 1, inplace = True)"
   ]
  },
  {
   "cell_type": "code",
   "execution_count": 10,
   "id": "b536752a-3bec-46c8-b6e7-58daa96e3e1f",
   "metadata": {
    "scrolled": true
   },
   "outputs": [],
   "source": [
    "full_issue_data = pd.concat([df_issue,df_issue_comments])"
   ]
  },
  {
   "cell_type": "code",
   "execution_count": 11,
   "id": "10b48efd-68d7-433b-bd41-710dc48db005",
   "metadata": {
    "scrolled": true
   },
   "outputs": [
    {
     "name": "stderr",
     "output_type": "stream",
     "text": [
      "/tmp/user/20506/ipykernel_1998686/1104531115.py:4: SettingWithCopyWarning: \n",
      "A value is trying to be set on a copy of a slice from a DataFrame.\n",
      "Try using .loc[row_indexer,col_indexer] = value instead\n",
      "\n",
      "See the caveats in the documentation: https://pandas.pydata.org/pandas-docs/stable/user_guide/indexing.html#returning-a-view-versus-a-copy\n",
      "  df_issue_clean['key'] = df_issue_clean['repo_id'].apply(str) + \"_\" + df_issue_clean['issue_number'].apply(str)\n"
     ]
    }
   ],
   "source": [
    "# clean data: remove entries with NA issue number values  \n",
    "df_issue_clean = full_issue_data[~full_issue_data['issue_number'].isna()]\n",
    "# clean data: add key variable\n",
    "df_issue_clean['key'] = df_issue_clean['repo_id'].apply(str) + \"_\" + df_issue_clean['issue_number'].apply(str)"
   ]
  },
  {
   "cell_type": "code",
   "execution_count": 12,
   "id": "91b71438-9f93-49ea-aa96-687171ede526",
   "metadata": {
    "scrolled": true
   },
   "outputs": [
    {
     "name": "stderr",
     "output_type": "stream",
     "text": [
      "/tmp/user/20506/ipykernel_1998686/3002124751.py:1: SettingWithCopyWarning: \n",
      "A value is trying to be set on a copy of a slice from a DataFrame.\n",
      "Try using .loc[row_indexer,col_indexer] = value instead\n",
      "\n",
      "See the caveats in the documentation: https://pandas.pydata.org/pandas-docs/stable/user_guide/indexing.html#returning-a-view-versus-a-copy\n",
      "  df_issue_clean['created_at'] = pd.to_datetime(df_issue_clean['created_at'])\n",
      "/tmp/user/20506/ipykernel_1998686/3002124751.py:2: SettingWithCopyWarning: \n",
      "A value is trying to be set on a copy of a slice from a DataFrame.\n",
      "Try using .loc[row_indexer,col_indexer] = value instead\n",
      "\n",
      "See the caveats in the documentation: https://pandas.pydata.org/pandas-docs/stable/user_guide/indexing.html#returning-a-view-versus-a-copy\n",
      "  df_issue_clean['created_at'] = df_issue_clean['created_at'].dt.tz_localize(None)\n"
     ]
    }
   ],
   "source": [
    "df_issue_clean['created_at'] = pd.to_datetime(df_issue_clean['created_at'])\n",
    "df_issue_clean['created_at'] = df_issue_clean['created_at'].dt.tz_localize(None)"
   ]
  },
  {
   "cell_type": "code",
   "execution_count": 13,
   "id": "2e6e78e4-e33c-43d3-bbd4-9f25c29b85f1",
   "metadata": {
    "scrolled": true
   },
   "outputs": [],
   "source": [
    "# FIX people who aren't classified as owner\n",
    "fix_ind = df_issue_clean[df_issue_clean.parallel_apply(lambda x: x['repo_name'].split(\"/\")[0] == x['issue_user_login'], axis = 1)].index\n",
    "df_issue_clean.loc[fix_ind, 'issue_author_association'] = 'OWNER'\n",
    "\n",
    "fix_ind_actor = df_issue_clean[df_issue_clean.parallel_apply(lambda x: x['repo_name'].split(\"/\")[0] == x['actor_login'], axis = 1)].index\n",
    "df_issue_clean.loc[fix_ind_actor, 'actor_repo_association'] = 'OWNER'"
   ]
  },
  {
   "cell_type": "code",
   "execution_count": 14,
   "id": "78f21572-6d9d-453c-b2b9-24d69c667a41",
   "metadata": {
    "scrolled": true
   },
   "outputs": [],
   "source": [
    "df_actor_missing = df_issue_clean[['actor_repo_association', 'actor_login', 'key']].drop_duplicates()\n",
    "df_actor_missing['count'] = df_actor_missing.groupby(['actor_login','key']).transform('count')"
   ]
  },
  {
   "cell_type": "code",
   "execution_count": 15,
   "id": "a8874a1f-7379-4fba-9789-3c522b9cf8e1",
   "metadata": {},
   "outputs": [
    {
     "data": {
      "text/html": [
       "<div>\n",
       "<style scoped>\n",
       "    .dataframe tbody tr th:only-of-type {\n",
       "        vertical-align: middle;\n",
       "    }\n",
       "\n",
       "    .dataframe tbody tr th {\n",
       "        vertical-align: top;\n",
       "    }\n",
       "\n",
       "    .dataframe thead th {\n",
       "        text-align: right;\n",
       "    }\n",
       "</style>\n",
       "<table border=\"1\" class=\"dataframe\">\n",
       "  <thead>\n",
       "    <tr style=\"text-align: right;\">\n",
       "      <th></th>\n",
       "      <th>actor_repo_association</th>\n",
       "      <th>actor_login</th>\n",
       "      <th>key</th>\n",
       "      <th>count</th>\n",
       "    </tr>\n",
       "  </thead>\n",
       "  <tbody>\n",
       "    <tr>\n",
       "      <th>0</th>\n",
       "      <td>OWNER</td>\n",
       "      <td>tkalus</td>\n",
       "      <td>96523010_197.0</td>\n",
       "      <td>2</td>\n",
       "    </tr>\n",
       "    <tr>\n",
       "      <th>1</th>\n",
       "      <td>NaN</td>\n",
       "      <td>pyup-bot</td>\n",
       "      <td>54683816_1.0</td>\n",
       "      <td>0</td>\n",
       "    </tr>\n",
       "    <tr>\n",
       "      <th>2</th>\n",
       "      <td>NaN</td>\n",
       "      <td>Murukarthick</td>\n",
       "      <td>97612481_440.0</td>\n",
       "      <td>1</td>\n",
       "    </tr>\n",
       "    <tr>\n",
       "      <th>3</th>\n",
       "      <td>OWNER</td>\n",
       "      <td>DeniRibicic</td>\n",
       "      <td>97612481_736.0</td>\n",
       "      <td>1</td>\n",
       "    </tr>\n",
       "    <tr>\n",
       "      <th>4</th>\n",
       "      <td>NaN</td>\n",
       "      <td>lorena1976</td>\n",
       "      <td>33614304_1192.0</td>\n",
       "      <td>0</td>\n",
       "    </tr>\n",
       "    <tr>\n",
       "      <th>...</th>\n",
       "      <td>...</td>\n",
       "      <td>...</td>\n",
       "      <td>...</td>\n",
       "      <td>...</td>\n",
       "    </tr>\n",
       "    <tr>\n",
       "      <th>3966532</th>\n",
       "      <td>COLLABORATOR</td>\n",
       "      <td>cycleuser</td>\n",
       "      <td>62860862_5.0</td>\n",
       "      <td>1</td>\n",
       "    </tr>\n",
       "    <tr>\n",
       "      <th>3966534</th>\n",
       "      <td>NONE</td>\n",
       "      <td>coveralls</td>\n",
       "      <td>101275731_20.0</td>\n",
       "      <td>1</td>\n",
       "    </tr>\n",
       "    <tr>\n",
       "      <th>3966537</th>\n",
       "      <td>COLLABORATOR</td>\n",
       "      <td>markotoplak</td>\n",
       "      <td>53335377_182.0</td>\n",
       "      <td>1</td>\n",
       "    </tr>\n",
       "    <tr>\n",
       "      <th>3966539</th>\n",
       "      <td>NaN</td>\n",
       "      <td>dwt</td>\n",
       "      <td>1372698_2.0</td>\n",
       "      <td>0</td>\n",
       "    </tr>\n",
       "    <tr>\n",
       "      <th>3966540</th>\n",
       "      <td>NaN</td>\n",
       "      <td>carljm</td>\n",
       "      <td>1446474_107.0</td>\n",
       "      <td>0</td>\n",
       "    </tr>\n",
       "  </tbody>\n",
       "</table>\n",
       "<p>3245550 rows × 4 columns</p>\n",
       "</div>"
      ],
      "text/plain": [
       "        actor_repo_association   actor_login              key  count\n",
       "0                        OWNER        tkalus   96523010_197.0      2\n",
       "1                          NaN      pyup-bot     54683816_1.0      0\n",
       "2                          NaN  Murukarthick   97612481_440.0      1\n",
       "3                        OWNER   DeniRibicic   97612481_736.0      1\n",
       "4                          NaN    lorena1976  33614304_1192.0      0\n",
       "...                        ...           ...              ...    ...\n",
       "3966532           COLLABORATOR     cycleuser     62860862_5.0      1\n",
       "3966534                   NONE     coveralls   101275731_20.0      1\n",
       "3966537           COLLABORATOR   markotoplak   53335377_182.0      1\n",
       "3966539                    NaN           dwt      1372698_2.0      0\n",
       "3966540                    NaN        carljm    1446474_107.0      0\n",
       "\n",
       "[3245550 rows x 4 columns]"
      ]
     },
     "execution_count": 15,
     "metadata": {},
     "output_type": "execute_result"
    }
   ],
   "source": [
    "df_actor_missing"
   ]
  },
  {
   "cell_type": "code",
   "execution_count": 16,
   "id": "89a5116d-cfaa-49f7-bce9-8dff2af165fc",
   "metadata": {
    "scrolled": true
   },
   "outputs": [],
   "source": [
    "# issue_author_association - author association for individual who opened the issue\n",
    "# actor_repo_association - author association for individual associated with repository\n",
    "# need to add actor_repo_association for IssuesEvent\n",
    "# for \"opened\" action, just fill in with issue_author_association\n",
    "opened_issues = df_issue_clean[(df_issue_clean['type'] == 'IssuesEvent') & (df_issue_clean['issue_action'] == 'opened')].index\n",
    "df_issue_clean.loc[opened_issues, 'actor_repo_association'] = df_issue_clean.loc[opened_issues, 'issue_author_association']\n",
    "# for \"closed\" action, need to impute - create table of ranks throughout time"
   ]
  },
  {
   "cell_type": "code",
   "execution_count": 12,
   "id": "80993151-05c0-40c2-9843-2dd363c88610",
   "metadata": {
    "scrolled": true
   },
   "outputs": [],
   "source": [
    "all_ranks = df_issue_clean[((df_issue_clean['type'] == 'IssuesEvent') & (df_issue_clean['issue_action'] == 'opened')) | \n",
    "    (df_issue_clean['type'] == 'IssueCommentEvent')][[\n",
    "    'actor_login', 'created_at', 'actor_repo_association', 'repo_name']].drop_duplicates().sort_values(\n",
    "    ['actor_login', 'repo_name', 'created_at']).dropna().reset_index(drop = True)"
   ]
  },
  {
   "cell_type": "code",
   "execution_count": 13,
   "id": "471fd1d8-5d32-4c77-9b4f-e8868f87d40f",
   "metadata": {},
   "outputs": [],
   "source": [
    "all_ranks = all_ranks.sort_values(['actor_login', 'repo_name', 'created_at'])"
   ]
  },
  {
   "cell_type": "code",
   "execution_count": 14,
   "id": "0c88453e-0125-4b5d-a0f8-c8bea90109df",
   "metadata": {
    "scrolled": true
   },
   "outputs": [],
   "source": [
    "all_ranks_change = all_ranks.groupby(['actor_login', 'repo_name', 'actor_repo_association'])['created_at'].min().reset_index()"
   ]
  },
  {
   "cell_type": "code",
   "execution_count": 15,
   "id": "17529af2-666a-4848-a448-3c736be35111",
   "metadata": {},
   "outputs": [],
   "source": [
    "all_ranks_change['min_date'] = all_ranks_change.groupby(['actor_login', 'repo_name'])['created_at'].transform('min')\n",
    "all_ranks_change['max_date'] = all_ranks_change.groupby(['actor_login', 'repo_name'])['created_at'].transform('max')"
   ]
  },
  {
   "cell_type": "code",
   "execution_count": 16,
   "id": "2a7f76af-059a-4a37-babe-945c07b63240",
   "metadata": {},
   "outputs": [],
   "source": [
    "all_ranks_change['count'] = all_ranks_change.sort_values('created_at').groupby(['actor_login', 'repo_name']).cumcount()+1\n",
    "all_ranks_change['max_count'] = all_ranks_change.sort_values('created_at').groupby(['actor_login', 'repo_name']).transform('count')['count']"
   ]
  },
  {
   "cell_type": "code",
   "execution_count": 17,
   "id": "12f8a652-8e9a-4173-9f71-3dc76172db12",
   "metadata": {
    "scrolled": true
   },
   "outputs": [],
   "source": [
    "# remove people who suddenly become NONE after being ranked\n",
    "all_ranks_change = all_ranks_change[~all_ranks_change.apply(lambda x: x['actor_repo_association'] == 'NONE' and x['count']>1 and x['count']<=x['max_count'],\n",
    "                                       axis = 1)]"
   ]
  },
  {
   "cell_type": "code",
   "execution_count": 18,
   "id": "49ee6b84-fa69-4210-89e7-9b772023bd2e",
   "metadata": {},
   "outputs": [],
   "source": [
    "all_ranks_change = all_ranks_change.sort_values(\n",
    "    by = ['actor_login', 'repo_name','created_at'])"
   ]
  },
  {
   "cell_type": "code",
   "execution_count": 19,
   "id": "21488c2e-8c08-43fb-8555-5240f73a3375",
   "metadata": {
    "scrolled": true
   },
   "outputs": [],
   "source": [
    "all_ranks_change['interval_end'] = all_ranks_change.sort_values(\n",
    "    by = ['created_at']).groupby(\n",
    "    ['actor_login', 'repo_name'], sort = True)['created_at'].shift(-1)"
   ]
  },
  {
   "cell_type": "code",
   "execution_count": 20,
   "id": "eeba88b1-91ae-4ad3-a105-028c344b13c5",
   "metadata": {
    "scrolled": true
   },
   "outputs": [],
   "source": [
    "all_ranks_change.loc[all_ranks_change[all_ranks_change['interval_end'].isna()].index,'interval_end'] = datetime(2023, 8, 31, 11, 59, 59)"
   ]
  },
  {
   "cell_type": "code",
   "execution_count": 21,
   "id": "92f3b8e9-bd2f-4bc1-b17e-9a609b5e2522",
   "metadata": {},
   "outputs": [],
   "source": [
    "## some people are owners when they should not be...\n",
    "# remove if they're an owner when they're not supposed to be... \n",
    "all_ranks_change = all_ranks_change[(all_ranks_change['actor_repo_association'] != 'OWNER') |\n",
    "    (all_ranks_change.apply(lambda x: x['actor_login'] == x['repo_name'].split(\"/\")[0], axis = 1))]"
   ]
  },
  {
   "cell_type": "code",
   "execution_count": 22,
   "id": "959d8e38-dbf3-47bc-96e9-8b664cbed2a9",
   "metadata": {},
   "outputs": [],
   "source": [
    "all_ranks_change['interval_actor'] = all_ranks_change.apply(\n",
    "    lambda x: [x['actor_repo_association'], x['created_at'], x['interval_end']], axis = 1)\n",
    "grouped_rank = all_ranks_change.sort_values(['actor_login', 'repo_name', 'created_at']).groupby(\n",
    "    ['actor_login', 'repo_name', 'min_date', 'max_date']).agg({'interval_actor':list}).reset_index().set_index(['actor_login', 'repo_name'])\n",
    "grouped_rank['min_date'] = pd.to_datetime(grouped_rank['min_date'])\n",
    "grouped_rank['max_date'] = pd.to_datetime(grouped_rank['max_date'])"
   ]
  },
  {
   "cell_type": "code",
   "execution_count": 23,
   "id": "ba4c0dce-5bef-4e01-be0d-448f88bff785",
   "metadata": {
    "scrolled": true
   },
   "outputs": [],
   "source": [
    "grouped_rank = grouped_rank.reset_index()"
   ]
  },
  {
   "cell_type": "code",
   "execution_count": 24,
   "id": "0ca1d9e7-1216-4ff9-b856-d94476ddd77f",
   "metadata": {
    "scrolled": true
   },
   "outputs": [],
   "source": [
    "grouped_rank['rank_max_date_actor'] = grouped_rank.apply(lambda x: [x['max_date'], x['interval_actor'][-1][0]], axis = 1)\n",
    "grouped_rank['rank_min_date_actor'] = grouped_rank.apply(\n",
    "    lambda x: [x['max_date'], 'NONE'] if x['actor_login'] != x['repo_name'].split(\"/\")[0] else [x['max_date'], 'OWNER'], axis = 1)\n",
    "grouped_rank['rank_max_date_issue'] = grouped_rank['rank_max_date_actor']\n",
    "grouped_rank['rank_min_date_issue'] = grouped_rank['rank_min_date_actor']\n",
    "grouped_rank['interval_issue'] = grouped_rank['interval_actor']"
   ]
  },
  {
   "cell_type": "code",
   "execution_count": 30,
   "id": "2021497f-fae6-483e-a4fb-b17e9610db93",
   "metadata": {
    "scrolled": true
   },
   "outputs": [],
   "source": [
    "df_issue_clean = pd.merge(df_issue_clean, grouped_rank[['actor_login', 'repo_name', 'rank_max_date_actor', 'rank_min_date_actor', 'interval_actor']],\n",
    "                          how = 'left', on = ['actor_login', 'repo_name'])\n",
    "\n",
    "df_issue_clean = pd.merge(df_issue_clean, grouped_rank[['actor_login', 'repo_name', 'rank_max_date_issue', 'rank_min_date_issue', 'interval_issue']].rename({\n",
    "    'actor_login':'issue_user_login'}, axis = 1),\n",
    "                          how = 'left', on = ['issue_user_login', 'repo_name'])"
   ]
  },
  {
   "cell_type": "code",
   "execution_count": 31,
   "id": "99cea56c-ebd1-47f7-8aa2-fcd32e9f744b",
   "metadata": {
    "scrolled": true
   },
   "outputs": [
    {
     "data": {
      "text/plain": [
       "\"df_issue_clean = df_issue_clean.drop(['rank_max_date_x','rank_min_date_x','interval_x'], axis = 1).rename({\\n    'rank_max_date_y':'rank_max_date',\\n    'rank_min_date_y':'rank_min_date',\\n    'interval_y':'interval'}, axis = 1)\""
      ]
     },
     "execution_count": 31,
     "metadata": {},
     "output_type": "execute_result"
    }
   ],
   "source": [
    "\"\"\"df_issue_clean = df_issue_clean.drop(['rank_max_date_x','rank_min_date_x','interval_x'], axis = 1).rename({\n",
    "    'rank_max_date_y':'rank_max_date',\n",
    "    'rank_min_date_y':'rank_min_date',\n",
    "    'interval_y':'interval'}, axis = 1)\"\"\""
   ]
  },
  {
   "cell_type": "code",
   "execution_count": 32,
   "id": "e84ffeff-949a-490b-a025-93323104eef2",
   "metadata": {
    "scrolled": true
   },
   "outputs": [],
   "source": [
    "df_issue_clean['actor_repo_association_repaired'] = df_issue_clean['actor_repo_association']\n",
    "na_repo_association = df_issue_clean[['rank_max_date_actor', 'rank_min_date_actor', 'interval_actor']].dropna().index\n",
    "na_issue_repo_association = df_issue_clean[['rank_max_date_issue', 'rank_min_date_issue', 'interval_issue']].dropna().index"
   ]
  },
  {
   "cell_type": "code",
   "execution_count": 33,
   "id": "deca1099-5e9b-4ce0-9918-4bb8fa226b82",
   "metadata": {},
   "outputs": [
    {
     "name": "stdout",
     "output_type": "stream",
     "text": [
      "0.24620620437992236 1246916\n"
     ]
    }
   ],
   "source": [
    "print(df_issue_clean['actor_repo_association_repaired'].isna().mean(),\n",
    "      df_issue_clean['actor_repo_association_repaired'].isna().sum())"
   ]
  },
  {
   "cell_type": "code",
   "execution_count": 34,
   "id": "b0e0d434-b7a6-437a-ba12-22c8c02df8f5",
   "metadata": {
    "scrolled": true
   },
   "outputs": [
    {
     "name": "stdout",
     "output_type": "stream",
     "text": [
      "0.17998320522546507 829895\n"
     ]
    }
   ],
   "source": [
    "print(df_issue_clean.loc[na_repo_association,'actor_repo_association_repaired'].isna().mean(),\n",
    "      df_issue_clean.loc[na_repo_association,'actor_repo_association_repaired'].isna().sum())"
   ]
  },
  {
   "cell_type": "code",
   "execution_count": 35,
   "id": "7af51f0f-04a8-4cbc-be45-35b7b6ab7753",
   "metadata": {
    "scrolled": true
   },
   "outputs": [],
   "source": [
    "for col in ['rank_max_date_actor', 'rank_min_date_actor']:\n",
    "    df_issue_clean.loc[na_repo_association, col] = df_issue_clean.loc[na_repo_association, col].apply(\n",
    "        lambda x: [pd.to_datetime(x[0]), x[1]])\n",
    "for col in ['rank_max_date_issue', 'rank_min_date_issue']:\n",
    "    df_issue_clean.loc[na_issue_repo_association, col] = df_issue_clean.loc[na_issue_repo_association, col].apply(\n",
    "        lambda x: [pd.to_datetime(x[0]), x[1]])"
   ]
  },
  {
   "cell_type": "code",
   "execution_count": 36,
   "id": "eaa0488b-f03e-4f02-8a7a-baf26e951ea7",
   "metadata": {
    "scrolled": true
   },
   "outputs": [],
   "source": [
    "df_issue_clean.loc[na_repo_association, 'actor_repo_association_repaired'] = df_issue_clean.loc[na_repo_association].apply(\n",
    "    lambda x: x['rank_min_date_actor'][1] if (x['created_at']<x['rank_min_date_actor'][0]) else \n",
    "    x['rank_max_date_actor'][1] if x['created_at']>=x['rank_max_date_actor'][0] else\n",
    "    [ele[0] for ele in x['interval_actor'] if x['created_at'] >= ele[1] and x['created_at'] < ele[2]], axis = 1)\n",
    "df_issue_clean.loc[na_repo_association, 'actor_repo_association_repaired'] = df_issue_clean.loc[na_repo_association, \n",
    "    'actor_repo_association_repaired'].apply(lambda x: x[0] if type(x) == list and len(x)>=1 else np.nan if type(x) == list else x)"
   ]
  },
  {
   "cell_type": "code",
   "execution_count": 37,
   "id": "6756e0b1-fb26-4da8-9de9-5805e8031279",
   "metadata": {},
   "outputs": [],
   "source": [
    "df_issue_clean.to_csv('df_issue_clean_removebad.csv')"
   ]
  },
  {
   "cell_type": "code",
   "execution_count": 38,
   "id": "834a161e-5b60-4264-9b68-b732d1739ad6",
   "metadata": {},
   "outputs": [],
   "source": [
    "#df_issue_clean = pd.read_csv('df_issue_clean.csv', index_col = 0)"
   ]
  },
  {
   "cell_type": "code",
   "execution_count": 39,
   "id": "92b92c22-bfba-4921-ac4f-132f00dcc300",
   "metadata": {},
   "outputs": [],
   "source": [
    "df_issue_clean['issue_author_association_repaired'] = df_issue_clean['issue_author_association'] "
   ]
  },
  {
   "cell_type": "code",
   "execution_count": 40,
   "id": "89aee5f8-de6f-4dec-a7a4-e6d630db6dcd",
   "metadata": {
    "scrolled": true
   },
   "outputs": [],
   "source": [
    "df_issue_clean.loc[na_issue_repo_association, 'issue_author_association_repaired'] = \\\n",
    "    df_issue_clean.loc[na_issue_repo_association].apply(\n",
    "    lambda x: x['rank_min_date_issue'][1] if (x['created_at']<x['rank_min_date_issue'][0]) else \n",
    "    x['rank_max_date_issue'][1] if x['created_at']>=x['rank_max_date_issue'][0] else\n",
    "    [ele[0] for ele in x['interval_issue'] if x['created_at'] >= ele[1] and x['created_at'] < ele[2]], axis = 1)\n",
    "df_issue_clean.loc[na_issue_repo_association, 'issue_author_association_repaired'] = df_issue_clean.loc[na_issue_repo_association,\n",
    "    'issue_author_association_repaired'].apply(lambda x: x[0] if type(x) == list and len(x)>=1 else np.nan if type(x) == list else x)\n",
    "\n"
   ]
  },
  {
   "cell_type": "code",
   "execution_count": 41,
   "id": "ffb4e7c4-6b32-47fb-92cc-1e3603685365",
   "metadata": {},
   "outputs": [
    {
     "name": "stdout",
     "output_type": "stream",
     "text": [
      "0.08234167943688235 417021\n",
      "0.12564885233918563 636351\n"
     ]
    }
   ],
   "source": [
    "print(df_issue_clean['actor_repo_association_repaired'].isna().mean(),\n",
    "      df_issue_clean['actor_repo_association_repaired'].isna().sum())\n",
    "print(df_issue_clean['issue_author_association_repaired'].isna().mean(),\n",
    "      df_issue_clean['issue_author_association_repaired'].isna().sum())"
   ]
  },
  {
   "cell_type": "code",
   "execution_count": 42,
   "id": "d7b22518-946d-4903-af85-5bb1362e7be6",
   "metadata": {},
   "outputs": [
    {
     "name": "stdout",
     "output_type": "stream",
     "text": [
      "0.0 0\n",
      "0.0 0\n"
     ]
    }
   ],
   "source": [
    "print(df_issue_clean.loc[na_repo_association,'actor_repo_association_repaired'].isna().mean(),\n",
    "      df_issue_clean.loc[na_repo_association,'actor_repo_association_repaired'].isna().sum())\n",
    "print(df_issue_clean.loc[na_issue_repo_association,'issue_author_association_repaired'].isna().mean(),\n",
    "      df_issue_clean.loc[na_issue_repo_association,'issue_author_association_repaired'].isna().sum())"
   ]
  },
  {
   "cell_type": "code",
   "execution_count": 43,
   "id": "b351168d-f745-4565-94e6-5139d071e037",
   "metadata": {},
   "outputs": [],
   "source": [
    "df_issue_clean.to_csv('df_issue_clean_removebad.csv')"
   ]
  },
  {
   "cell_type": "code",
   "execution_count": 44,
   "id": "351110c4-9f88-4e8d-be8d-e1d818f4e36b",
   "metadata": {
    "scrolled": true
   },
   "outputs": [],
   "source": [
    "# Some Statistics on Issues\n",
    "uq_issue_comments = df_issue_clean[df_issue_clean['type'] == 'IssueCommentEvent']['key'].unique().tolist()\n",
    "uq_issues = df_issue_clean[df_issue_clean['type'] == 'IssuesEvent']['key'].unique().tolist()\n",
    "OriginalDataStatistics.loc['Unique Issues (from comments data)', 'count'] = len(uq_issue_comments)\n",
    "OriginalDataStatistics.loc['Unique Issues (from issues data)', 'count'] = len(uq_issues)\n",
    "uq_issue_comments.extend(uq_issues)\n",
    "uq_issue_comments = list(set(uq_issue_comments))\n",
    "OriginalDataStatistics.loc['Unique Issues (from all data)']  = len(uq_issue_comments)"
   ]
  },
  {
   "cell_type": "code",
   "execution_count": 45,
   "id": "d1df52cf-61f1-47e1-b19b-a46ceb9793ba",
   "metadata": {},
   "outputs": [
    {
     "data": {
      "text/html": [
       "<div>\n",
       "<style scoped>\n",
       "    .dataframe tbody tr th:only-of-type {\n",
       "        vertical-align: middle;\n",
       "    }\n",
       "\n",
       "    .dataframe tbody tr th {\n",
       "        vertical-align: top;\n",
       "    }\n",
       "\n",
       "    .dataframe thead th {\n",
       "        text-align: right;\n",
       "    }\n",
       "</style>\n",
       "<table border=\"1\" class=\"dataframe\">\n",
       "  <thead>\n",
       "    <tr style=\"text-align: right;\">\n",
       "      <th></th>\n",
       "      <th>count</th>\n",
       "    </tr>\n",
       "  </thead>\n",
       "  <tbody>\n",
       "    <tr>\n",
       "      <th>Unique Issues (from comments data)</th>\n",
       "      <td>1136491.0</td>\n",
       "    </tr>\n",
       "    <tr>\n",
       "      <th>Unique Issues (from issues data)</th>\n",
       "      <td>751865.0</td>\n",
       "    </tr>\n",
       "    <tr>\n",
       "      <th>Unique Issues (from all data)</th>\n",
       "      <td>1300126.0</td>\n",
       "    </tr>\n",
       "  </tbody>\n",
       "</table>\n",
       "</div>"
      ],
      "text/plain": [
       "                                        count\n",
       "Unique Issues (from comments data)  1136491.0\n",
       "Unique Issues (from issues data)     751865.0\n",
       "Unique Issues (from all data)       1300126.0"
      ]
     },
     "execution_count": 45,
     "metadata": {},
     "output_type": "execute_result"
    }
   ],
   "source": [
    "OriginalDataStatistics"
   ]
  },
  {
   "cell_type": "code",
   "execution_count": 46,
   "id": "3fa5df7c-a376-446c-9ce6-c3e4997506e4",
   "metadata": {
    "scrolled": true
   },
   "outputs": [
    {
     "data": {
      "text/html": [
       "<div>\n",
       "<style scoped>\n",
       "    .dataframe tbody tr th:only-of-type {\n",
       "        vertical-align: middle;\n",
       "    }\n",
       "\n",
       "    .dataframe tbody tr th {\n",
       "        vertical-align: top;\n",
       "    }\n",
       "\n",
       "    .dataframe thead th {\n",
       "        text-align: right;\n",
       "    }\n",
       "</style>\n",
       "<table border=\"1\" class=\"dataframe\">\n",
       "  <thead>\n",
       "    <tr style=\"text-align: right;\">\n",
       "      <th></th>\n",
       "      <th>Total # of Issues</th>\n",
       "      <th>Total # of Projects</th>\n",
       "      <th>Average # of Issues/Project</th>\n",
       "      <th>Median # of Issues/Project</th>\n",
       "    </tr>\n",
       "  </thead>\n",
       "  <tbody>\n",
       "    <tr>\n",
       "      <th>0</th>\n",
       "      <td>1300126.0</td>\n",
       "      <td>6453.0</td>\n",
       "      <td>201.478382</td>\n",
       "      <td>49.0</td>\n",
       "    </tr>\n",
       "  </tbody>\n",
       "</table>\n",
       "</div>"
      ],
      "text/plain": [
       "   Total # of Issues  Total # of Projects  Average # of Issues/Project  \\\n",
       "0          1300126.0               6453.0                   201.478382   \n",
       "\n",
       "   Median # of Issues/Project  \n",
       "0                        49.0  "
      ]
     },
     "execution_count": 46,
     "metadata": {},
     "output_type": "execute_result"
    }
   ],
   "source": [
    "# total number of issues \n",
    "DataDescriptives.loc[0, 'Total # of Issues'] = df_issue_clean['key'].unique().shape[0]\n",
    "nunique_issues = df_issue_clean.groupby('repo_name').agg({'issue_number':'nunique'})\n",
    "DataDescriptives.loc[0, 'Total # of Projects'] = nunique_issues.shape[0]\n",
    "DataDescriptives.loc[0, 'Average # of Issues/Project'] = nunique_issues.mean()[0]\n",
    "DataDescriptives.loc[0,\"Median # of Issues/Project\"] = nunique_issues.median()[0]\n",
    "DataDescriptives.style.set_caption(\"Data Descriptives\")\n",
    "DataDescriptives.round(2).to_markdown('descriptives/issues/aggregate_statistics.md')\n",
    "DataDescriptives"
   ]
  },
  {
   "cell_type": "code",
   "execution_count": 47,
   "id": "bcd0017c-6c20-4fe6-a64c-d150d1705667",
   "metadata": {},
   "outputs": [
    {
     "data": {
      "image/png": "[encoded data removed]",
      "text/plain": [
       "<Figure size 800x550 with 1 Axes>"
      ]
     },
     "metadata": {},
     "output_type": "display_data"
    }
   ],
   "source": [
    "# PLOT ISSUE COUNT PER REPOSITORY\n",
    "# Initialize layout\n",
    "fig, ax = plt.subplots()\n",
    "#plot\n",
    "ax.hist(nunique_issues['issue_number'], bins=20, edgecolor=\"black\")\n",
    "ax.set_title('Number of issues/repository')\n",
    "ax.set_xlabel('Number of Issues')\n",
    "ax.set_ylabel('Number of Repositories')\n",
    "ax.set_yscale('log')\n",
    "plt.savefig('descriptives/issues/issue_repository.png')\n",
    "plt.show()"
   ]
  },
  {
   "cell_type": "code",
   "execution_count": 48,
   "id": "66454126-caa2-4ea2-aefa-4c3607ae14f4",
   "metadata": {
    "scrolled": true
   },
   "outputs": [
    {
     "data": {
      "text/plain": [
       "issue_number    0.538143\n",
       "dtype: float64"
      ]
     },
     "execution_count": 48,
     "metadata": {},
     "output_type": "execute_result"
    }
   ],
   "source": [
    "# PROPORTION OF ALL ISSUES CONTAINED IN top 300 of repos with most issues\n",
    "(nunique_issues/nunique_issues.sum()).sort_values('issue_number', ascending = False).head(300).sum()"
   ]
  },
  {
   "cell_type": "code",
   "execution_count": 49,
   "id": "5f23ae25-7aa2-4b59-8d7a-a5a7b0a688e8",
   "metadata": {
    "scrolled": true
   },
   "outputs": [
    {
     "name": "stdout",
     "output_type": "stream",
     "text": [
      "| Issue Latest Status   |   proportion |\n",
      "|:----------------------|-------------:|\n",
      "| closed                |        0.824 |\n",
      "| opened                |        0.172 |\n",
      "| reopened              |        0.004 |\n"
     ]
    }
   ],
   "source": [
    "# LATEST STATUS FOR ISSUE\n",
    "df_issue_clean['created_at'] = pd.to_datetime(df_issue_clean['created_at'])\n",
    "df_issue_clean = df_issue_clean.sort_values('created_at', ascending = False)\n",
    "df_issue_latest_status = df_issue_clean[~df_issue_clean.duplicated(['repo_id', 'issue_number'])]\n",
    "print(df_issue_latest_status['issue_action'].rename('Issue Latest Status').value_counts(normalize = True).round(3).to_markdown())"
   ]
  },
  {
   "cell_type": "code",
   "execution_count": 50,
   "id": "578bbcd7-4acb-42e1-8f56-1bbd80e16174",
   "metadata": {
    "scrolled": true
   },
   "outputs": [
    {
     "data": {
      "image/png": "[encoded data removed]",
      "text/plain": [
       "<Figure size 1000x400 with 2 Axes>"
      ]
     },
     "metadata": {},
     "output_type": "display_data"
    }
   ],
   "source": [
    "closed_issues = df_issue_latest_status[df_issue_latest_status['issue_action'] == 'closed']['key'].tolist()\n",
    "# includes open, reopened\n",
    "open_issues = df_issue_latest_status[df_issue_latest_status['issue_action'] != 'closed']['key'].tolist()\n",
    "\n",
    "status_dates = df_issue_clean.groupby(['repo_name', 'issue_number', 'key', 'issue_action']).agg({'created_at': ['min', 'max']}).reset_index()\n",
    "status_dates.columns = ['repo_name', 'issue_number', 'key', 'issue_action', 'min_date', 'max_date']\n",
    "status_dates = status_dates.pivot(index = ['repo_name', 'issue_number', 'key'], columns = 'issue_action', values = ['min_date' ,'max_date']).reset_index()\n",
    "status_dates.columns = ['repo_name', 'issue_number', 'key', 'closed_min_date', 'opened_min_date', 'reopened_min_date', \n",
    "                        'closed_max_date', 'opened_max_date', 'reopened_max_date']\n",
    "# remove ones that do not have an opened_min_date\n",
    "status_dates = status_dates[~status_dates['opened_min_date'].isna()]\n",
    "# ones that are closed - time open: use earliest open date minus latest close date\n",
    "closed_ind = status_dates[status_dates['key'].isin(closed_issues)].index\n",
    "status_dates.loc[closed_ind, 'open_time'] = status_dates.loc[closed_ind, 'closed_max_date'] - \\\n",
    "    status_dates.loc[closed_ind, 'opened_min_date']\n",
    "# ones that are still open - time open: use 8/31/2023 - opened date\n",
    "open_ind = status_dates[status_dates['key'].isin(open_issues)].index\n",
    "last_date = datetime(2023, 8, 31, 11, 59, 59)\n",
    "status_dates.loc[open_ind, 'open_time'] = last_date - status_dates.loc[open_ind, 'opened_min_date']\n",
    "\n",
    "# type of issue\n",
    "status_dates.loc[closed_ind, 'status'] = 'closed'\n",
    "status_dates.loc[open_ind, 'status'] = 'open'\n",
    "status_dates['open_time_days'] = status_dates['open_time'].apply(lambda x: x.days)\n",
    "\n",
    "### PLOT EXCLUDES ISSUES THAT WE DO NOT HAVE OPENED/CLOSED dates for\n",
    "# Initialize layout\n",
    "fig, ax = plt.subplots(1, 2, figsize = (10, 4))\n",
    "#plot\n",
    "status_dates.hist('open_time_days', by = 'status', bins=20, edgecolor=\"black\", ax = ax)\n",
    "fig.suptitle('Histogram of Days Open for Issues')\n",
    "for a in ax:\n",
    "    a.set_ylabel('Number of Issues')\n",
    "    a.set_xlabel('Days Open')\n",
    "    #a.set_yscale('log')\n",
    "ax[0].set_title('Closed Issues (as of 8/31/2023)')\n",
    "ax[1].set_title('Open Issues (as of 8/31/2023)')\n",
    "fig.tight_layout(rect=[0, 0.03, 1, 0.95])\n",
    "plt.show()"
   ]
  },
  {
   "cell_type": "code",
   "execution_count": 51,
   "id": "c34f9a08-94b8-40dd-89d2-3fefce4afcd1",
   "metadata": {},
   "outputs": [],
   "source": [
    "def lessThanGroups(status_dates):\n",
    "    og_shape = status_dates.shape[0]\n",
    "    one_day = status_dates[status_dates['open_time_days']<=1].shape[0]/og_shape\n",
    "    one_week = status_dates[status_dates['open_time_days']<=7].shape[0]/og_shape\n",
    "    one_month = status_dates[status_dates['open_time_days']<=30].shape[0]/og_shape\n",
    "    six_month = status_dates[status_dates['open_time_days']<=180].shape[0]/og_shape\n",
    "    one_year = status_dates[status_dates['open_time_days']<=365].shape[0]/og_shape\n",
    "    g_one_year = status_dates[status_dates['open_time_days']>365].shape[0]/og_shape\n",
    "    return [one_day, one_week, one_month, six_month, one_year, g_one_year, og_shape]"
   ]
  },
  {
   "cell_type": "code",
   "execution_count": 52,
   "id": "aa7d0ffe-c906-40eb-8e93-fb8119250a31",
   "metadata": {},
   "outputs": [
    {
     "data": {
      "text/html": [
       "<div>\n",
       "<style scoped>\n",
       "    .dataframe tbody tr th:only-of-type {\n",
       "        vertical-align: middle;\n",
       "    }\n",
       "\n",
       "    .dataframe tbody tr th {\n",
       "        vertical-align: top;\n",
       "    }\n",
       "\n",
       "    .dataframe thead th {\n",
       "        text-align: right;\n",
       "    }\n",
       "</style>\n",
       "<table border=\"1\" class=\"dataframe\">\n",
       "  <thead>\n",
       "    <tr style=\"text-align: right;\">\n",
       "      <th></th>\n",
       "      <th>open $\\leq$ 1 day</th>\n",
       "      <th>open $\\leq$ 1 week</th>\n",
       "      <th>open $\\leq$ 1 month</th>\n",
       "      <th>open $\\leq$ 6 months</th>\n",
       "      <th>open $\\leq$ 1 year</th>\n",
       "      <th>open $&gt;$ 1 year</th>\n",
       "      <th># of issues</th>\n",
       "    </tr>\n",
       "  </thead>\n",
       "  <tbody>\n",
       "    <tr>\n",
       "      <th>closzed issues</th>\n",
       "      <td>0.31</td>\n",
       "      <td>0.46</td>\n",
       "      <td>0.61</td>\n",
       "      <td>0.82</td>\n",
       "      <td>0.89</td>\n",
       "      <td>0.11</td>\n",
       "      <td>315827</td>\n",
       "    </tr>\n",
       "    <tr>\n",
       "      <th>open issues</th>\n",
       "      <td>0.00</td>\n",
       "      <td>0.00</td>\n",
       "      <td>0.01</td>\n",
       "      <td>0.07</td>\n",
       "      <td>0.13</td>\n",
       "      <td>0.87</td>\n",
       "      <td>367591</td>\n",
       "    </tr>\n",
       "  </tbody>\n",
       "</table>\n",
       "</div>"
      ],
      "text/plain": [
       "                open $\\leq$ 1 day  open $\\leq$ 1 week  open $\\leq$ 1 month  \\\n",
       "closzed issues               0.31                0.46                 0.61   \n",
       "open issues                  0.00                0.00                 0.01   \n",
       "\n",
       "                open $\\leq$ 6 months  open $\\leq$ 1 year  open $>$ 1 year  \\\n",
       "closzed issues                  0.82                0.89             0.11   \n",
       "open issues                     0.07                0.13             0.87   \n",
       "\n",
       "                # of issues  \n",
       "closzed issues       315827  \n",
       "open issues          367591  "
      ]
     },
     "execution_count": 52,
     "metadata": {},
     "output_type": "execute_result"
    }
   ],
   "source": [
    "df_open_days = pd.DataFrame([lessThanGroups(status_dates[status_dates['status'] == 'closed']),\n",
    "              lessThanGroups(status_dates[status_dates['status'] == 'open'])]).round(2)\n",
    "df_open_days.index = ['closzed issues', 'open issues']\n",
    "df_open_days.columns = ['open $\\leq$ 1 day', 'open $\\leq$ 1 week', 'open $\\leq$ 1 month', 'open $\\leq$ 6 months', \\\n",
    "                        'open $\\leq$ 1 year', 'open $>$ 1 year', '# of issues']\n",
    "df_open_days"
   ]
  },
  {
   "cell_type": "code",
   "execution_count": 53,
   "id": "1d2ebb4b-3598-4664-839a-9bf51f7c1282",
   "metadata": {
    "scrolled": true
   },
   "outputs": [
    {
     "data": {
      "image/png": "[encoded data removed]",
      "text/plain": [
       "<Figure size 1000x400 with 2 Axes>"
      ]
     },
     "metadata": {},
     "output_type": "display_data"
    }
   ],
   "source": [
    "# TEST WHAT HAPPENS WHEN WE \"APPROXIMATE\" \n",
    "closed_issues = df_issue_latest_status[df_issue_latest_status['issue_state'] == 'closed']['key'].tolist()\n",
    "# includes open, reopened\n",
    "open_issues = df_issue_latest_status[df_issue_latest_status['issue_state'] != 'closed']['key'].tolist()\n",
    "\n",
    "status_dates = df_issue_clean.groupby(['repo_name', 'issue_number', 'key', 'issue_state']).agg({'created_at': ['min', 'max']}).reset_index()\n",
    "status_dates.columns = ['repo_name', 'issue_number', 'key', 'issue_state', 'min_date', 'max_date']\n",
    "status_dates = status_dates.pivot(index = ['repo_name', 'issue_number', 'key'], columns = 'issue_state', values = ['min_date' ,'max_date']).reset_index()\n",
    "status_dates.columns = ['repo_name', 'issue_number', 'key', 'closed_min_date', 'opened_min_date', \n",
    "                        'closed_max_date', 'opened_max_date']\n",
    "# remove ones that do not have an opened_min_date\n",
    "status_dates = status_dates[~status_dates['opened_min_date'].isna()]\n",
    "# ones that are closed - time open: use earliest open date minus latest close date\n",
    "closed_ind = status_dates[status_dates['key'].isin(closed_issues)].index\n",
    "status_dates.loc[closed_ind, 'open_time'] = status_dates.loc[closed_ind, 'closed_max_date'] - \\\n",
    "    status_dates.loc[closed_ind, 'opened_min_date']\n",
    "# ones that are still open - time open: use 8/31/2023 - opened date\n",
    "open_ind = status_dates[status_dates['key'].isin(open_issues)].index\n",
    "last_date = datetime(2023, 8, 31, 11, 59, 59)\n",
    "status_dates.loc[open_ind, 'open_time'] = last_date - status_dates.loc[open_ind, 'opened_min_date']\n",
    "\n",
    "# type of issue\n",
    "status_dates.loc[closed_ind, 'status'] = 'closed'\n",
    "status_dates.loc[open_ind, 'status'] = 'open'\n",
    "status_dates['open_time_days'] = status_dates['open_time'].apply(lambda x: x.days)\n",
    "\n",
    "### PLOT EXCLUDES ISSUES THAT WE DO NOT HAVE OPENED/CLOSED dates for\n",
    "# Initialize layout\n",
    "fig, ax = plt.subplots(1, 2, figsize = (10, 4))\n",
    "#plot\n",
    "status_dates.hist('open_time_days', by = 'status', bins=20, edgecolor=\"black\", ax = ax)\n",
    "fig.suptitle('Histogram of Days Open for Issues')\n",
    "for a in ax:\n",
    "    a.set_ylabel('Number of Issues')\n",
    "    a.set_xlabel('Days Open')\n",
    "    #a.set_yscale('log')\n",
    "ax[0].set_title('Closed Issues (as of 8/31/2023)')\n",
    "ax[1].set_title('Open Issues (as of 8/31/2023)')\n",
    "fig.tight_layout(rect=[0, 0.03, 1, 0.95])\n",
    "plt.show()"
   ]
  },
  {
   "cell_type": "code",
   "execution_count": 54,
   "id": "b33a0117-7f38-4cac-9b1b-586fcc2982ed",
   "metadata": {},
   "outputs": [
    {
     "data": {
      "text/html": [
       "<div>\n",
       "<style scoped>\n",
       "    .dataframe tbody tr th:only-of-type {\n",
       "        vertical-align: middle;\n",
       "    }\n",
       "\n",
       "    .dataframe tbody tr th {\n",
       "        vertical-align: top;\n",
       "    }\n",
       "\n",
       "    .dataframe thead th {\n",
       "        text-align: right;\n",
       "    }\n",
       "</style>\n",
       "<table border=\"1\" class=\"dataframe\">\n",
       "  <thead>\n",
       "    <tr style=\"text-align: right;\">\n",
       "      <th></th>\n",
       "      <th>open $\\leq$ 1 day</th>\n",
       "      <th>open $\\leq$ 1 week</th>\n",
       "      <th>open $\\leq$ 1 month</th>\n",
       "      <th>open $\\leq$ 6 months</th>\n",
       "      <th>open $\\leq$ 1 year</th>\n",
       "      <th>open $&gt;$ 1 year</th>\n",
       "      <th># of issues</th>\n",
       "    </tr>\n",
       "  </thead>\n",
       "  <tbody>\n",
       "    <tr>\n",
       "      <th>closed issues</th>\n",
       "      <td>0.32</td>\n",
       "      <td>0.47</td>\n",
       "      <td>0.61</td>\n",
       "      <td>0.80</td>\n",
       "      <td>0.86</td>\n",
       "      <td>0.13</td>\n",
       "      <td>625196</td>\n",
       "    </tr>\n",
       "    <tr>\n",
       "      <th>open issues</th>\n",
       "      <td>0.00</td>\n",
       "      <td>0.00</td>\n",
       "      <td>0.02</td>\n",
       "      <td>0.09</td>\n",
       "      <td>0.17</td>\n",
       "      <td>0.83</td>\n",
       "      <td>570644</td>\n",
       "    </tr>\n",
       "  </tbody>\n",
       "</table>\n",
       "</div>"
      ],
      "text/plain": [
       "               open $\\leq$ 1 day  open $\\leq$ 1 week  open $\\leq$ 1 month  \\\n",
       "closed issues               0.32                0.47                 0.61   \n",
       "open issues                 0.00                0.00                 0.02   \n",
       "\n",
       "               open $\\leq$ 6 months  open $\\leq$ 1 year  open $>$ 1 year  \\\n",
       "closed issues                  0.80                0.86             0.13   \n",
       "open issues                    0.09                0.17             0.83   \n",
       "\n",
       "               # of issues  \n",
       "closed issues       625196  \n",
       "open issues         570644  "
      ]
     },
     "execution_count": 54,
     "metadata": {},
     "output_type": "execute_result"
    }
   ],
   "source": [
    "df_open_days = pd.DataFrame([lessThanGroups(status_dates[status_dates['status'] == 'closed']),\n",
    "              lessThanGroups(status_dates[status_dates['status'] == 'open'])]).round(2)\n",
    "df_open_days.index = ['closed issues', 'open issues']\n",
    "df_open_days.columns = ['open $\\leq$ 1 day', 'open $\\leq$ 1 week', 'open $\\leq$ 1 month', 'open $\\leq$ 6 months', \\\n",
    "                        'open $\\leq$ 1 year', 'open $>$ 1 year', '# of issues']\n",
    "df_open_days"
   ]
  },
  {
   "cell_type": "markdown",
   "id": "7a417ae6-7f53-4109-bc69-3fd32e086a19",
   "metadata": {},
   "source": [
    "## Whose Opening Issues"
   ]
  },
  {
   "cell_type": "code",
   "execution_count": 55,
   "id": "569f838d-60fc-489a-962e-20a12962b5a8",
   "metadata": {},
   "outputs": [],
   "source": [
    "opened_issues = df_issue_clean.sort_values(['key', 'created_at'])[['key', 'issue_author_association_repaired']].dropna().drop_duplicates()\n"
   ]
  },
  {
   "cell_type": "code",
   "execution_count": 55,
   "id": "e1f49579-6d5a-4f7e-adbd-6fe36163e2f6",
   "metadata": {},
   "outputs": [],
   "source": [
    "def groupActions(df_issue_clean):\n",
    "    closed_issues = df_issue_clean[df_issue_clean['issue_action'] == 'closed'].sort_values(\n",
    "    ['key', 'created_at'])[['key', 'issue_author_association_repaired']].drop_duplicates()\n",
    "    opened_issues = df_issue_clean.sort_values(['key', 'created_at'])[['key', 'issue_author_association_repaired']].dropna().drop_duplicates()\n",
    "    closed_issues['status'] = 'closed'\n",
    "    opened_issues['status'] = 'opened'\n",
    "    all_issues = pd.concat([closed_issues, opened_issues])\n",
    "    group_actions = all_issues.groupby('status')['issue_author_association_repaired'].value_counts(\n",
    "        normalize = True).reset_index().pivot(index = 'status', columns = 'issue_author_association_repaired', values = 'proportion')\n",
    "    group_actions = pd.concat([group_actions, all_issues['status'].value_counts()], axis = 1)\n",
    "    group_actions.columns.name = ''\n",
    "    group_actions = group_actions.loc[['closed', 'opened']]\n",
    "    group_actions.index = ['Closing', 'Opening']\n",
    "    return group_actions[['NONE', 'CONTRIBUTOR', 'MEMBER', 'COLLABORATOR', 'OWNER', 'count']], all_issues"
   ]
  },
  {
   "cell_type": "code",
   "execution_count": 56,
   "id": "464ef266-a2fa-4b9b-9f80-37f5dd507fd8",
   "metadata": {
    "scrolled": true
   },
   "outputs": [
    {
     "data": {
      "text/html": [
       "<div>\n",
       "<style scoped>\n",
       "    .dataframe tbody tr th:only-of-type {\n",
       "        vertical-align: middle;\n",
       "    }\n",
       "\n",
       "    .dataframe tbody tr th {\n",
       "        vertical-align: top;\n",
       "    }\n",
       "\n",
       "    .dataframe thead th {\n",
       "        text-align: right;\n",
       "    }\n",
       "</style>\n",
       "<table border=\"1\" class=\"dataframe\">\n",
       "  <thead>\n",
       "    <tr style=\"text-align: right;\">\n",
       "      <th></th>\n",
       "      <th>NONE</th>\n",
       "      <th>CONTRIBUTOR</th>\n",
       "      <th>MEMBER</th>\n",
       "      <th>COLLABORATOR</th>\n",
       "      <th>OWNER</th>\n",
       "      <th>count</th>\n",
       "    </tr>\n",
       "  </thead>\n",
       "  <tbody>\n",
       "    <tr>\n",
       "      <th>Closing</th>\n",
       "      <td>0.78</td>\n",
       "      <td>0.10</td>\n",
       "      <td>0.05</td>\n",
       "      <td>0.03</td>\n",
       "      <td>0.03</td>\n",
       "      <td>551125</td>\n",
       "    </tr>\n",
       "    <tr>\n",
       "      <th>Opening</th>\n",
       "      <td>0.67</td>\n",
       "      <td>0.17</td>\n",
       "      <td>0.07</td>\n",
       "      <td>0.05</td>\n",
       "      <td>0.03</td>\n",
       "      <td>1222236</td>\n",
       "    </tr>\n",
       "  </tbody>\n",
       "</table>\n",
       "</div>"
      ],
      "text/plain": [
       "         NONE  CONTRIBUTOR  MEMBER  COLLABORATOR  OWNER    count\n",
       "Closing  0.78         0.10    0.05          0.03   0.03   551125\n",
       "Opening  0.67         0.17    0.07          0.05   0.03  1222236"
      ]
     },
     "execution_count": 56,
     "metadata": {},
     "output_type": "execute_result"
    }
   ],
   "source": [
    "tb, all_issues = groupActions(df_issue_clean)"
   ]
  },
  {
   "cell_type": "code",
   "execution_count": 58,
   "id": "751dc6cf-734d-4d8f-aa8b-fe8c3bc7656f",
   "metadata": {},
   "outputs": [
    {
     "name": "stdout",
     "output_type": "stream",
     "text": [
      "|         |   NONE |   CONTRIBUTOR |   MEMBER |   COLLABORATOR |   OWNER |            count |\n",
      "|:--------|-------:|--------------:|---------:|---------------:|--------:|-----------------:|\n",
      "| Closing |   0.78 |          0.1  |     0.05 |           0.03 |    0.03 | 551125           |\n",
      "| Opening |   0.67 |          0.17 |     0.07 |           0.05 |    0.03 |      1.22224e+06 |\n"
     ]
    }
   ],
   "source": [
    "print(tb.round(2).to_markdown())"
   ]
  },
  {
   "cell_type": "code",
   "execution_count": 58,
   "id": "8d8294f2-6f64-4086-900e-ff82ec33bbff",
   "metadata": {
    "scrolled": true
   },
   "outputs": [
    {
     "data": {
      "application/vnd.jupyter.widget-view+json": {
       "model_id": "8e831466c7e8401c819eb612b231132d",
       "version_major": 2,
       "version_minor": 0
      },
      "text/plain": [
       "VBox(children=(HBox(children=(IntProgress(value=0, description='0.00%', max=55418), Label(value='0 / 55418')))…"
      ]
     },
     "metadata": {},
     "output_type": "display_data"
    }
   ],
   "source": [
    "all_issues['repo'] = all_issues['key'].parallel_apply(lambda x: x.split(\"_\")[0])\n",
    "# percent opened by owner vs. # of issues\n",
    "# percent opened by NONE vs. # of issues\n",
    "all_issues['opened_owner'] = all_issues['issue_author_association_repaired'] == 'OWNER'\n",
    "all_issues['opened_none'] = all_issues['issue_author_association_repaired'] == 'NONE'"
   ]
  },
  {
   "cell_type": "code",
   "execution_count": 59,
   "id": "9697b889-db85-478d-9ccf-69af10df4ddd",
   "metadata": {
    "scrolled": true
   },
   "outputs": [],
   "source": [
    "grouped_all_issues = all_issues.groupby('repo').agg({'opened_owner': ['count', 'mean'],'opened_none':['mean']})\n",
    "grouped_all_issues.columns = ['issue_count', 'opened_owner_mean', 'opened_none_mean']"
   ]
  },
  {
   "cell_type": "code",
   "execution_count": 60,
   "id": "52710cf8-8686-40ac-b218-b009c53700c3",
   "metadata": {},
   "outputs": [
    {
     "data": {
      "image/png": "[encoded data removed]",
      "text/plain": [
       "<Figure size 1000x800 with 4 Axes>"
      ]
     },
     "metadata": {},
     "output_type": "display_data"
    }
   ],
   "source": [
    "### PLOT EXCLUDES ISSUES THAT WE DO NOT HAVE OPENED/CLOSED dates for\n",
    "# Initialize layout\n",
    "fig, ax = plt.subplots(2, 2, figsize = (10, 8))\n",
    "#plot\n",
    "ax[0,0].scatter(x = grouped_all_issues['issue_count'], y = grouped_all_issues['opened_owner_mean'])\n",
    "ax[0,1].scatter(x = grouped_all_issues['issue_count'], y = grouped_all_issues['opened_none_mean'])\n",
    "ax[1,0].scatter(x = grouped_all_issues.query('issue_count>1000')['issue_count'], \n",
    "                y = grouped_all_issues.query('issue_count>1000')['opened_owner_mean'])\n",
    "ax[1,1].scatter(x = grouped_all_issues.query('issue_count>1000')['issue_count'], \n",
    "                y = grouped_all_issues.query('issue_count>1000')['opened_none_mean'])\n",
    "\n",
    "for i in range(2):\n",
    "    ax[i, 0].set_ylabel('% of Issues Opened by Owner')\n",
    "    ax[i, 1].set_ylabel('% of Issues Opened by Unaffiliated Contributors')\n",
    "\n",
    "    ax[i, 0].set_xlabel('Number of Issues')\n",
    "    ax[i, 1].set_xlabel('Number of Issues')\n",
    "    ax[1, i].set_title('Min 1000 Issues')\n",
    "fig.suptitle(\"% of Issues Opened by Group vs. Issue Count\")\n",
    "fig.tight_layout(rect=[0, 0.03, 1, 0.95])\n",
    "plt.show()"
   ]
  },
  {
   "cell_type": "code",
   "execution_count": 61,
   "id": "b4f6ece9-4c83-46fd-b3ee-89738d24db45",
   "metadata": {},
   "outputs": [
    {
     "data": {
      "text/html": [
       "<div>\n",
       "<style scoped>\n",
       "    .dataframe tbody tr th:only-of-type {\n",
       "        vertical-align: middle;\n",
       "    }\n",
       "\n",
       "    .dataframe tbody tr th {\n",
       "        vertical-align: top;\n",
       "    }\n",
       "\n",
       "    .dataframe thead th {\n",
       "        text-align: right;\n",
       "    }\n",
       "</style>\n",
       "<table border=\"1\" class=\"dataframe\">\n",
       "  <thead>\n",
       "    <tr style=\"text-align: right;\">\n",
       "      <th></th>\n",
       "      <th>NONE</th>\n",
       "      <th>CONTRIBUTOR</th>\n",
       "      <th>MEMBER</th>\n",
       "      <th>COLLABORATOR</th>\n",
       "      <th>OWNER</th>\n",
       "      <th>count</th>\n",
       "    </tr>\n",
       "  </thead>\n",
       "  <tbody>\n",
       "    <tr>\n",
       "      <th>Closing</th>\n",
       "      <td>0.57</td>\n",
       "      <td>0.14</td>\n",
       "      <td>0.25</td>\n",
       "      <td>0.04</td>\n",
       "      <td>0.0</td>\n",
       "      <td>11324</td>\n",
       "    </tr>\n",
       "    <tr>\n",
       "      <th>Opening</th>\n",
       "      <td>0.52</td>\n",
       "      <td>0.15</td>\n",
       "      <td>0.30</td>\n",
       "      <td>0.03</td>\n",
       "      <td>0.0</td>\n",
       "      <td>32265</td>\n",
       "    </tr>\n",
       "  </tbody>\n",
       "</table>\n",
       "</div>"
      ],
      "text/plain": [
       "         NONE  CONTRIBUTOR  MEMBER  COLLABORATOR  OWNER  count\n",
       "Closing  0.57         0.14    0.25          0.04    0.0  11324\n",
       "Opening  0.52         0.15    0.30          0.03    0.0  32265"
      ]
     },
     "execution_count": 61,
     "metadata": {},
     "output_type": "execute_result"
    }
   ],
   "source": [
    "tb_ray, all_issues_ray = groupActions(df_issue_clean[df_issue_clean['repo_name'] == 'ray-project/ray'])\n",
    "tb_ray.round(2)"
   ]
  },
  {
   "cell_type": "code",
   "execution_count": 62,
   "id": "0827f5c5-508a-4a4f-abbe-691353d1eb7f",
   "metadata": {},
   "outputs": [],
   "source": [
    "df_issue_clean.to_csv('df_issue_clean_removebad.csv')"
   ]
  },
  {
   "cell_type": "code",
   "execution_count": 25,
   "id": "d027538f-e5d4-4baf-b910-2b3194cd3af0",
   "metadata": {},
   "outputs": [],
   "source": [
    "grouped_rank.to_csv('grouped_rank_removebad.csv')"
   ]
  },
  {
   "cell_type": "markdown",
   "id": "ec88aa5b-5529-4da9-8ea4-3a3465218808",
   "metadata": {
    "jp-MarkdownHeadingCollapsed": true
   },
   "source": [
    "## Fix A Problem"
   ]
  },
  {
   "cell_type": "code",
   "execution_count": 11,
   "id": "b9d3283e-ac00-4a83-99f8-8a5a566b28ec",
   "metadata": {},
   "outputs": [
    {
     "name": "stderr",
     "output_type": "stream",
     "text": [
      "/tmp/user/20506/ipykernel_3184491/2677925804.py:1: DtypeWarning: Columns (11,27,34,35) have mixed types. Specify dtype option on import or set low_memory=False.\n",
      "  df_issue_clean = pd.read_csv('df_issue_clean_removebad.csv', index_col = 0)\n"
     ]
    }
   ],
   "source": [
    "df_issue_clean = pd.read_csv('df_issue_clean_removebad.csv', index_col = 0)\n",
    "grouped_rank = pd.read_csv('grouped_rank_removebad.csv', index_col = 0)"
   ]
  },
  {
   "cell_type": "code",
   "execution_count": 12,
   "id": "8c0a6cc6-daa6-41a4-8164-1d8153e4a343",
   "metadata": {},
   "outputs": [],
   "source": [
    "df_issue_clean = df_issue_clean[~df_issue_clean['actor_repo_association'].isna()]"
   ]
  },
  {
   "cell_type": "code",
   "execution_count": 13,
   "id": "7a84e42a-c0c4-4b23-ac9a-34ade62d6088",
   "metadata": {},
   "outputs": [],
   "source": [
    "df_issue_clean = df_issue_clean.query('issue_action != \"closed\" or (actor_repo_association_repaired == \"NONE\" and issue_user_login==actor_login) or \\\n",
    "    (actor_repo_association_repaired != \"NONE\")')"
   ]
  },
  {
   "cell_type": "markdown",
   "id": "697e61df-bd03-4d69-9b46-a5e5020112ad",
   "metadata": {},
   "source": [
    "# Existence of Hierarchy"
   ]
  },
  {
   "cell_type": "markdown",
   "id": "cf84cae4-38d2-401d-92d5-ba8fe726f653",
   "metadata": {},
   "source": [
    "Activity is defined as opening, closing and commenting on an issue"
   ]
  },
  {
   "cell_type": "code",
   "execution_count": 14,
   "id": "277c6760-e318-4aec-b49d-c3d22949650d",
   "metadata": {
    "scrolled": true
   },
   "outputs": [],
   "source": [
    "explicit_open_keys = df_issue_clean.query('issue_action == \"opened\"')['key'].unique().tolist()\n",
    "remaining_issues = df_issue_clean[~df_issue_clean['key'].isin(explicit_open_keys)][['key', 'issue_author_association']].drop_duplicates()['issue_author_association']"
   ]
  },
  {
   "cell_type": "code",
   "execution_count": 15,
   "id": "ca56580b-9c48-4b79-92e3-4c70a54280aa",
   "metadata": {},
   "outputs": [],
   "source": [
    "def make_generated_activity_base(df_issue_clean):\n",
    "    rank_identifying_cols = ['actor_login', 'repo_name', 'actor_repo_association_repaired']\n",
    "    generated_activity_base = pd.concat([\n",
    "        df_issue_clean[['key', 'issue_author_association_repaired']].drop_duplicates()['issue_author_association_repaired'].value_counts(),\n",
    "        df_issue_clean.query('issue_action == \"closed\"')['actor_repo_association_repaired'].value_counts(),\n",
    "        df_issue_clean.query('issue_action == \"closed\" and actor_login == issue_user_login')['actor_repo_association_repaired'].value_counts(),\n",
    "        df_issue_clean.query('issue_action == \"closed\" and actor_login != issue_user_login')['actor_repo_association_repaired'].value_counts(),\n",
    "        df_issue_clean.query('type == \"IssueCommentEvent\"')['actor_repo_association_repaired'].value_counts(),\n",
    "        df_issue_clean.query('type == \"IssueCommentEvent\" and actor_login == issue_user_login')['actor_repo_association_repaired'].value_counts(),\n",
    "        df_issue_clean.query('type == \"IssueCommentEvent\" and actor_login != issue_user_login')['actor_repo_association_repaired'].value_counts(),\n",
    "        df_issue_clean[rank_identifying_cols].drop_duplicates()['actor_repo_association_repaired'].value_counts(),\n",
    "    ], axis = 1).round(2).loc[\n",
    "        ['NONE', 'CONTRIBUTOR', 'MEMBER', 'COLLABORATOR', 'OWNER']]\n",
    "    generated_activity_base.columns = ['# of Opened Issues', '# of Closed Issues', '# of Closed Issues (Own Issue)', '# of Closed Issues (Others Issue)', \n",
    "                                       '# of Comments', '# of Comments (Own Issue)', '# of Comments (Others Issue)', '# of Individiuals']\n",
    "    generated_activity_base['Amount of Activity'] = generated_activity_base.apply(\n",
    "        lambda x: x[['# of Opened Issues', '# of Closed Issues', '# of Comments']].sum(), axis = 1)\n",
    "    generated_activity_base['Proportion'] = generated_activity_base['Amount of Activity']/generated_activity_base['Amount of Activity'].sum()\n",
    "    generated_activity_base = generated_activity_base[['Amount of Activity', 'Proportion', '# of Opened Issues', '# of Closed Issues', \n",
    "                                                       '# of Closed Issues (Own Issue)', '# of Closed Issues (Others Issue)', \n",
    "                                                       '# of Comments', '# of Comments (Own Issue)', '# of Comments (Others Issue)', '# of Individiuals']]\n",
    "    return generated_activity_base"
   ]
  },
  {
   "cell_type": "code",
   "execution_count": 16,
   "id": "078f29b5-29da-4614-bb85-f70ab20d4311",
   "metadata": {
    "scrolled": true
   },
   "outputs": [],
   "source": [
    "generated_activity_base = make_generated_activity_base(df_issue_clean)"
   ]
  },
  {
   "cell_type": "code",
   "execution_count": 17,
   "id": "dac6bf2e-faf5-4643-be44-d478441dd18e",
   "metadata": {
    "scrolled": true
   },
   "outputs": [],
   "source": [
    "generated_activity = generated_activity_base.copy()\n",
    "generated_activity['Activity/Individual'] = generated_activity['Amount of Activity']/generated_activity['# of Individiuals']\n",
    "for col in ['Opened Issues', 'Closed Issues', 'Closed Issues (Own Issue)',  'Closed Issues (Others Issue)',\n",
    "            'Comments', 'Comments (Own Issue)', 'Comments (Others Issue)']:\n",
    "    generated_activity[f'{col}/ Individual'] = generated_activity.apply(\n",
    "        lambda x: f\"{x[f'# of {col}']/x['# of Individiuals']:.2f}\\n({100*x[f'# of {col}']/x['Amount of Activity']:.2f}%)\", axis = 1)\n",
    "for col in ['# of Opened Issues', '# of Closed Issues', '# of Closed Issues (Own Issue)', \n",
    "            '# of Closed Issues (Others Issue)', '# of Comments', '# of Comments (Own Issue)', \n",
    "            '# of Comments (Others Issue)', '# of Individiuals']:\n",
    "    generated_activity[col] = generated_activity[col].apply(lambda x: f\"{x}\\n({x/generated_activity[col].sum():.2f})\")"
   ]
  },
  {
   "cell_type": "code",
   "execution_count": 18,
   "id": "3850a329-2abd-4e39-bccf-bb81df4a9945",
   "metadata": {},
   "outputs": [
    {
     "data": {
      "text/html": [
       "<table border=\"1\" class=\"dataframe\">\n",
       "  <thead>\n",
       "    <tr style=\"text-align: right;\">\n",
       "      <th></th>\n",
       "      <th>Amount of Activity</th>\n",
       "      <th>Proportion</th>\n",
       "      <th># of Opened Issues</th>\n",
       "      <th># of Closed Issues</th>\n",
       "      <th># of Closed Issues (Own Issue)</th>\n",
       "      <th># of Closed Issues (Others Issue)</th>\n",
       "      <th># of Comments</th>\n",
       "      <th># of Comments (Own Issue)</th>\n",
       "      <th># of Comments (Others Issue)</th>\n",
       "      <th># of Individiuals</th>\n",
       "      <th>Activity/Individual</th>\n",
       "      <th>Opened Issues/ Individual</th>\n",
       "      <th>Closed Issues/ Individual</th>\n",
       "      <th>Closed Issues (Own Issue)/ Individual</th>\n",
       "      <th>Closed Issues (Others Issue)/ Individual</th>\n",
       "      <th>Comments/ Individual</th>\n",
       "      <th>Comments (Own Issue)/ Individual</th>\n",
       "      <th>Comments (Others Issue)/ Individual</th>\n",
       "    </tr>\n",
       "  </thead>\n",
       "  <tbody>\n",
       "    <tr>\n",
       "      <th>NONE</th>\n",
       "      <td>2260563.0</td>\n",
       "      <td>0.52</td>\n",
       "      <td>734937<br>(0.65)</td>\n",
       "      <td>8466<br>(0.06)</td>\n",
       "      <td>8466<br>(0.28)</td>\n",
       "      <td>nan<br>(nan)</td>\n",
       "      <td>1517160<br>(0.49)</td>\n",
       "      <td>627009<br>(0.65)</td>\n",
       "      <td>890151<br>(0.41)</td>\n",
       "      <td>536646<br>(0.87)</td>\n",
       "      <td>4.21</td>\n",
       "      <td>1.37<br>(32.51%)</td>\n",
       "      <td>0.02<br>(0.37%)</td>\n",
       "      <td>0.02<br>(0.37%)</td>\n",
       "      <td>nan<br>(nan%)</td>\n",
       "      <td>2.83<br>(67.11%)</td>\n",
       "      <td>1.17<br>(27.74%)</td>\n",
       "      <td>1.66<br>(39.38%)</td>\n",
       "    </tr>\n",
       "    <tr>\n",
       "      <th>CONTRIBUTOR</th>\n",
       "      <td>934017.0</td>\n",
       "      <td>0.21</td>\n",
       "      <td>209455<br>(0.19)</td>\n",
       "      <td>40889<br>(0.31)</td>\n",
       "      <td>4525<br>(0.15)</td>\n",
       "      <td>36364.0<br>(0.36)</td>\n",
       "      <td>683673<br>(0.22)</td>\n",
       "      <td>170390<br>(0.18)</td>\n",
       "      <td>513283<br>(0.24)</td>\n",
       "      <td>42849<br>(0.07)</td>\n",
       "      <td>21.80</td>\n",
       "      <td>4.89<br>(22.43%)</td>\n",
       "      <td>0.95<br>(4.38%)</td>\n",
       "      <td>0.11<br>(0.48%)</td>\n",
       "      <td>0.85<br>(3.89%)</td>\n",
       "      <td>15.96<br>(73.20%)</td>\n",
       "      <td>3.98<br>(18.24%)</td>\n",
       "      <td>11.98<br>(54.95%)</td>\n",
       "    </tr>\n",
       "    <tr>\n",
       "      <th>MEMBER</th>\n",
       "      <td>465914.0</td>\n",
       "      <td>0.11</td>\n",
       "      <td>85808<br>(0.08)</td>\n",
       "      <td>3881<br>(0.03)</td>\n",
       "      <td>821<br>(0.03)</td>\n",
       "      <td>3060.0<br>(0.03)</td>\n",
       "      <td>376225<br>(0.12)</td>\n",
       "      <td>85430<br>(0.09)</td>\n",
       "      <td>290795<br>(0.14)</td>\n",
       "      <td>12971<br>(0.02)</td>\n",
       "      <td>35.92</td>\n",
       "      <td>6.62<br>(18.42%)</td>\n",
       "      <td>0.30<br>(0.83%)</td>\n",
       "      <td>0.06<br>(0.18%)</td>\n",
       "      <td>0.24<br>(0.66%)</td>\n",
       "      <td>29.01<br>(80.75%)</td>\n",
       "      <td>6.59<br>(18.34%)</td>\n",
       "      <td>22.42<br>(62.41%)</td>\n",
       "    </tr>\n",
       "    <tr>\n",
       "      <th>COLLABORATOR</th>\n",
       "      <td>383901.0</td>\n",
       "      <td>0.09</td>\n",
       "      <td>61082<br>(0.05)</td>\n",
       "      <td>7914<br>(0.06)</td>\n",
       "      <td>1170<br>(0.04)</td>\n",
       "      <td>6744.0<br>(0.07)</td>\n",
       "      <td>314905<br>(0.10)</td>\n",
       "      <td>56278<br>(0.06)</td>\n",
       "      <td>258627<br>(0.12)</td>\n",
       "      <td>6019<br>(0.01)</td>\n",
       "      <td>63.78</td>\n",
       "      <td>10.15<br>(15.91%)</td>\n",
       "      <td>1.31<br>(2.06%)</td>\n",
       "      <td>0.19<br>(0.30%)</td>\n",
       "      <td>1.12<br>(1.76%)</td>\n",
       "      <td>52.32<br>(82.03%)</td>\n",
       "      <td>9.35<br>(14.66%)</td>\n",
       "      <td>42.97<br>(67.37%)</td>\n",
       "    </tr>\n",
       "    <tr>\n",
       "      <th>OWNER</th>\n",
       "      <td>328575.0</td>\n",
       "      <td>0.08</td>\n",
       "      <td>36670<br>(0.03)</td>\n",
       "      <td>69556<br>(0.53)</td>\n",
       "      <td>15666<br>(0.51)</td>\n",
       "      <td>53890.0<br>(0.54)</td>\n",
       "      <td>222349<br>(0.07)</td>\n",
       "      <td>24590<br>(0.03)</td>\n",
       "      <td>197759<br>(0.09)</td>\n",
       "      <td>21591<br>(0.03)</td>\n",
       "      <td>15.22</td>\n",
       "      <td>1.70<br>(11.16%)</td>\n",
       "      <td>3.22<br>(21.17%)</td>\n",
       "      <td>0.73<br>(4.77%)</td>\n",
       "      <td>2.50<br>(16.40%)</td>\n",
       "      <td>10.30<br>(67.67%)</td>\n",
       "      <td>1.14<br>(7.48%)</td>\n",
       "      <td>9.16<br>(60.19%)</td>\n",
       "    </tr>\n",
       "  </tbody>\n",
       "</table>"
      ],
      "text/plain": [
       "<IPython.core.display.HTML object>"
      ]
     },
     "metadata": {},
     "output_type": "display_data"
    }
   ],
   "source": [
    "pretty_print(generated_activity.round(2))"
   ]
  },
  {
   "cell_type": "markdown",
   "id": "4af35134-65ca-43fa-8b29-a0127945f3b5",
   "metadata": {},
   "source": [
    "Now, I'm going to weight the individual count by how long they were that rank for. I do this because I know in some weird instances, we see people obtain ranks for very short periods of time. This will allow me to more precisely understand how much activity an individual contributed to. "
   ]
  },
  {
   "cell_type": "code",
   "execution_count": 19,
   "id": "1e83a881-21dd-47fc-9f58-cfa454c9d61d",
   "metadata": {
    "scrolled": true
   },
   "outputs": [],
   "source": [
    "all_users = pd.concat([df_issue_clean[['created_at', 'actor_login', 'repo_name']].rename({'actor_login':'user'}, axis = 1),\n",
    "                       df_issue_clean[['created_at', 'issue_user_login', 'repo_name']].rename({'issue_user_login':'user'}, axis = 1)])\n",
    "earliest = all_users.sort_values('created_at').drop_duplicates(['user', 'repo_name']).rename({'created_at': 'earliest_date'}, axis = 1)\n",
    "latest = all_users.sort_values('created_at', ascending = False).drop_duplicates(['user', 'repo_name']).rename({'created_at': 'latest_date'}, axis = 1)\n",
    "user_dates = pd.merge(latest, earliest, on = ['user', 'repo_name'], how = 'outer')[['user', 'repo_name', 'earliest_date', 'latest_date']]"
   ]
  },
  {
   "cell_type": "code",
   "execution_count": 20,
   "id": "e429ad64-711e-4bc0-a971-769b7e5f3ff1",
   "metadata": {
    "scrolled": true
   },
   "outputs": [],
   "source": [
    "user_dates['key'] = user_dates['user']+\"_\"+user_dates['repo_name']\n",
    "early_dict = user_dates.set_index('key')['earliest_date'].to_dict()\n",
    "last_dict = user_dates.set_index('key')['latest_date'].to_dict()"
   ]
  },
  {
   "cell_type": "code",
   "execution_count": 21,
   "id": "1dbcb3eb-4bc3-4aa7-97a5-871c4d51f4fe",
   "metadata": {
    "scrolled": true
   },
   "outputs": [
    {
     "name": "stdout",
     "output_type": "stream",
     "text": [
      "interval_actor\n"
     ]
    },
    {
     "data": {
      "application/vnd.jupyter.widget-view+json": {
       "model_id": "63c990fcb8964d6daedcafe7602525f1",
       "version_major": 2,
       "version_minor": 0
      },
      "text/plain": [
       "VBox(children=(HBox(children=(IntProgress(value=0, description='0.00%', max=17312), Label(value='0 / 17312')))…"
      ]
     },
     "metadata": {},
     "output_type": "display_data"
    },
    {
     "name": "stdout",
     "output_type": "stream",
     "text": [
      "rank_max_date_actor\n"
     ]
    },
    {
     "data": {
      "application/vnd.jupyter.widget-view+json": {
       "model_id": "56a678b59053444da2a27ffe119f8ad7",
       "version_major": 2,
       "version_minor": 0
      },
      "text/plain": [
       "VBox(children=(HBox(children=(IntProgress(value=0, description='0.00%', max=17312), Label(value='0 / 17312')))…"
      ]
     },
     "metadata": {},
     "output_type": "display_data"
    },
    {
     "name": "stdout",
     "output_type": "stream",
     "text": [
      "rank_min_date_actor\n"
     ]
    },
    {
     "data": {
      "application/vnd.jupyter.widget-view+json": {
       "model_id": "2b609dec2dd243b0ac2a19c1f4611879",
       "version_major": 2,
       "version_minor": 0
      },
      "text/plain": [
       "VBox(children=(HBox(children=(IntProgress(value=0, description='0.00%', max=17312), Label(value='0 / 17312')))…"
      ]
     },
     "metadata": {},
     "output_type": "display_data"
    },
    {
     "name": "stdout",
     "output_type": "stream",
     "text": [
      "rank_max_date_issue\n"
     ]
    },
    {
     "data": {
      "application/vnd.jupyter.widget-view+json": {
       "model_id": "05c7ddd04a23447e892e58014672ff5a",
       "version_major": 2,
       "version_minor": 0
      },
      "text/plain": [
       "VBox(children=(HBox(children=(IntProgress(value=0, description='0.00%', max=17312), Label(value='0 / 17312')))…"
      ]
     },
     "metadata": {},
     "output_type": "display_data"
    },
    {
     "name": "stdout",
     "output_type": "stream",
     "text": [
      "rank_min_date_issue\n"
     ]
    },
    {
     "data": {
      "application/vnd.jupyter.widget-view+json": {
       "model_id": "3ef343afb6fe4c6caca41322ca84f20d",
       "version_major": 2,
       "version_minor": 0
      },
      "text/plain": [
       "VBox(children=(HBox(children=(IntProgress(value=0, description='0.00%', max=17312), Label(value='0 / 17312')))…"
      ]
     },
     "metadata": {},
     "output_type": "display_data"
    },
    {
     "name": "stdout",
     "output_type": "stream",
     "text": [
      "interval_issue\n"
     ]
    },
    {
     "data": {
      "application/vnd.jupyter.widget-view+json": {
       "model_id": "9740249af1624d54bd58bc14d4e52068",
       "version_major": 2,
       "version_minor": 0
      },
      "text/plain": [
       "VBox(children=(HBox(children=(IntProgress(value=0, description='0.00%', max=17312), Label(value='0 / 17312')))…"
      ]
     },
     "metadata": {},
     "output_type": "display_data"
    }
   ],
   "source": [
    "from pandas import Timestamp\n",
    "for col in grouped_rank.columns[4:10]:\n",
    "    print(col)\n",
    "    grouped_rank[col] = grouped_rank[col].parallel_apply(lambda x: eval(x, {'datetime': datetime,\n",
    "                                                                            'Timestamp': Timestamp}))"
   ]
  },
  {
   "cell_type": "code",
   "execution_count": 22,
   "id": "555a874e-eba5-4f2f-b0ef-42cd3ea29328",
   "metadata": {
    "scrolled": true
   },
   "outputs": [],
   "source": [
    "def make_time_spent(grouped_rank):\n",
    "    time_spent = pd.DataFrame(grouped_rank['final_interval'].parallel_apply(\n",
    "        lambda x: [[ele[0], pd.to_datetime(ele[2])-pd.to_datetime(ele[1])] for ele in x]).explode())\n",
    "    time_spent['rank'] = time_spent['final_interval'].apply(lambda x: x[0])\n",
    "    time_spent['time spent'] = time_spent['final_interval'].apply(lambda x: x[1])\n",
    "    time_spent['Time Spent Seconds'] = time_spent['time spent'].apply(lambda x: x.total_seconds())\n",
    "    time_spent['Time Spent (Prop.)'] = time_spent['Time Spent Seconds']/time_spent['Time Spent Seconds'].sum()\n",
    "    time_spent['Time Spent (Worker-Years)'] = time_spent['Time Spent Seconds']/(86400*30*12)\n",
    "\n",
    "    return time_spent"
   ]
  },
  {
   "cell_type": "code",
   "execution_count": 23,
   "id": "38970eaa-0c16-4919-8c14-3b9270306075",
   "metadata": {
    "scrolled": true
   },
   "outputs": [
    {
     "data": {
      "application/vnd.jupyter.widget-view+json": {
       "model_id": "d12e0d627aee45aa86c357c1a190143c",
       "version_major": 2,
       "version_minor": 0
      },
      "text/plain": [
       "VBox(children=(HBox(children=(IntProgress(value=0, description='0.00%', max=17312), Label(value='0 / 17312')))…"
      ]
     },
     "metadata": {},
     "output_type": "display_data"
    },
    {
     "data": {
      "application/vnd.jupyter.widget-view+json": {
       "model_id": "f5aa3697907b47f7b76b707666e29788",
       "version_major": 2,
       "version_minor": 0
      },
      "text/plain": [
       "VBox(children=(HBox(children=(IntProgress(value=0, description='0.00%', max=17312), Label(value='0 / 17312')))…"
      ]
     },
     "metadata": {},
     "output_type": "display_data"
    }
   ],
   "source": [
    "grouped_rank['key'] = grouped_rank['actor_login']+\"_\"+grouped_rank['repo_name']\n",
    "grouped_rank['final_interval'] = grouped_rank.parallel_apply(\n",
    "    lambda x: [[x['interval_actor'][0][0], early_dict[x['key']], last_dict[x['key']]]] if len(x['interval_actor']) == 1 else \n",
    "    [[x['interval_actor'][0][0], early_dict[x['key']], x['interval_actor'][0][2]]] + x['interval_actor'][1:-1] + \\\n",
    "    [[x['interval_actor'][-1][0], x['interval_actor'][-1][1], last_dict[x['key']]]], axis = 1)\n",
    "\n",
    "time_spent = make_time_spent(grouped_rank)"
   ]
  },
  {
   "cell_type": "code",
   "execution_count": 24,
   "id": "33b1ddb9-cd71-4d7c-89cc-c36c9a545537",
   "metadata": {},
   "outputs": [],
   "source": [
    "def make_generated_activity_time(generated_activity_base, time_spent):\n",
    "    generated_activity_time = pd.concat([generated_activity_base, time_spent.groupby('rank')['Time Spent (Worker-Years)'].sum()], axis = 1)\n",
    "    generated_activity_time['Activity/Worker-Year'] = generated_activity_time['Amount of Activity']/generated_activity_time['Time Spent (Worker-Years)']\n",
    "    for col in ['Opened Issues', 'Closed Issues', 'Closed Issues (Own Issue)',  'Closed Issues (Others Issue)',\n",
    "                'Comments', 'Comments (Own Issue)', 'Comments (Others Issue)']:\n",
    "        generated_activity_time[f'{col}/Time Spent'] = generated_activity_time.apply(\n",
    "            lambda x: f\"{x[f'# of {col}']/x['Time Spent (Worker-Years)']:.2f}\\n ({100*x[f'# of {col}']/x['Amount of Activity']:.2f}%)\", axis = 1)\n",
    "    \n",
    "    \n",
    "    for col in ['# of Opened Issues', '# of Closed Issues', '# of Closed Issues (Own Issue)', \n",
    "                '# of Closed Issues (Others Issue)', '# of Comments', '# of Comments (Own Issue)', \n",
    "                '# of Comments (Others Issue)', '# of Individiuals']:\n",
    "        generated_activity_time[col] = generated_activity_time[col].apply(lambda x: f\"{x:,}\\n({x/generated_activity_time[col].sum():.2f})\")\n",
    "\n",
    "    generated_activity_time['Amount of Activity'] = generated_activity_time['Amount of Activity'].apply(lambda x: f\"{x:,}\")\n",
    "    generated_activity_time['Proportion'] = generated_activity_time['Proportion'].round(2)\n",
    "\n",
    "    generated_activity_time['Time Spent (Worker-Years)'] = generated_activity_time['Time Spent (Worker-Years)'].apply(\n",
    "        lambda x: f\"{x:,.2f}\\n({x/generated_activity_time['Time Spent (Worker-Years)'].sum():.2f})\")\n",
    "    generated_activity_time['Activity/Worker-Year'] = generated_activity_time['Activity/Worker-Year'].round(2)\n",
    "\n",
    "    return generated_activity_time"
   ]
  },
  {
   "cell_type": "code",
   "execution_count": 25,
   "id": "18561136-673e-45bc-9b1c-9d90baeddf2f",
   "metadata": {
    "scrolled": true
   },
   "outputs": [],
   "source": [
    "generated_activity_time = make_generated_activity_time(generated_activity_base, time_spent)"
   ]
  },
  {
   "cell_type": "markdown",
   "id": "3185304f-7b50-4811-8930-6f12cbf04aa7",
   "metadata": {},
   "source": [
    "\n",
    "main difference between this and a previous analysis is that owners become more involved if you consider the \"intensity\" of \n",
    "someone's actions\n",
    "\n",
    "ie: how much work someone does within a given time period\n",
    "\n",
    "I prefer this one because it makes individuals more comparable within a particular time period\n",
    "\n",
    "**most important findings:**\n",
    "1) Large Disparity in Activity/Individual - Higher ranked individuals do more things in the same relative time period\n",
    "2) Individuals progressively spend \n",
    "    a) less of their time opening issues (asking questions/flagging problems)\n",
    "    b) more of their time closing issues (administrative work). In particular its notable how many issues owners close, \n",
    "    especially given that they do less things. Owners close A LOT of issues..\n",
    "3) As individuals rise in rank,\n",
    "    a) they spend more time commenting on issues, especially other people's issues\n",
    "    b) they don't spend that much time commenting on their own issues - why is that?"
   ]
  },
  {
   "cell_type": "code",
   "execution_count": 26,
   "id": "a9dd6ef8-481a-467d-8ee7-c79a5f522ac2",
   "metadata": {
    "scrolled": true
   },
   "outputs": [
    {
     "data": {
      "text/html": [
       "<table border=\"1\" class=\"dataframe\">\n",
       "  <thead>\n",
       "    <tr style=\"text-align: right;\">\n",
       "      <th></th>\n",
       "      <th>Amount of Activity</th>\n",
       "      <th>Proportion</th>\n",
       "      <th># of Opened Issues</th>\n",
       "      <th># of Closed Issues</th>\n",
       "      <th># of Closed Issues (Own Issue)</th>\n",
       "      <th># of Closed Issues (Others Issue)</th>\n",
       "      <th># of Comments</th>\n",
       "      <th># of Comments (Own Issue)</th>\n",
       "      <th># of Comments (Others Issue)</th>\n",
       "      <th># of Individiuals</th>\n",
       "      <th>Time Spent (Worker-Years)</th>\n",
       "      <th>Activity/Worker-Year</th>\n",
       "      <th>Opened Issues/Time Spent</th>\n",
       "      <th>Closed Issues/Time Spent</th>\n",
       "      <th>Closed Issues (Own Issue)/Time Spent</th>\n",
       "      <th>Closed Issues (Others Issue)/Time Spent</th>\n",
       "      <th>Comments/Time Spent</th>\n",
       "      <th>Comments (Own Issue)/Time Spent</th>\n",
       "      <th>Comments (Others Issue)/Time Spent</th>\n",
       "    </tr>\n",
       "  </thead>\n",
       "  <tbody>\n",
       "    <tr>\n",
       "      <th>NONE</th>\n",
       "      <td>2,260,563.0</td>\n",
       "      <td>0.52</td>\n",
       "      <td>734,937<br>(0.65)</td>\n",
       "      <td>8,466<br>(0.06)</td>\n",
       "      <td>8,466<br>(0.28)</td>\n",
       "      <td>nan<br>(nan)</td>\n",
       "      <td>1,517,160<br>(0.49)</td>\n",
       "      <td>627,009<br>(0.65)</td>\n",
       "      <td>890,151<br>(0.41)</td>\n",
       "      <td>536,646<br>(0.87)</td>\n",
       "      <td>182,045.50<br>(0.68)</td>\n",
       "      <td>12.42</td>\n",
       "      <td>4.04<br> (32.51%)</td>\n",
       "      <td>0.05<br> (0.37%)</td>\n",
       "      <td>0.05<br> (0.37%)</td>\n",
       "      <td>nan<br> (nan%)</td>\n",
       "      <td>8.33<br> (67.11%)</td>\n",
       "      <td>3.44<br> (27.74%)</td>\n",
       "      <td>4.89<br> (39.38%)</td>\n",
       "    </tr>\n",
       "    <tr>\n",
       "      <th>CONTRIBUTOR</th>\n",
       "      <td>934,017.0</td>\n",
       "      <td>0.21</td>\n",
       "      <td>209,455<br>(0.19)</td>\n",
       "      <td>40,889<br>(0.31)</td>\n",
       "      <td>4,525<br>(0.15)</td>\n",
       "      <td>36,364.0<br>(0.36)</td>\n",
       "      <td>683,673<br>(0.22)</td>\n",
       "      <td>170,390<br>(0.18)</td>\n",
       "      <td>513,283<br>(0.24)</td>\n",
       "      <td>42,849<br>(0.07)</td>\n",
       "      <td>45,506.53<br>(0.17)</td>\n",
       "      <td>20.52</td>\n",
       "      <td>4.60<br> (22.43%)</td>\n",
       "      <td>0.90<br> (4.38%)</td>\n",
       "      <td>0.10<br> (0.48%)</td>\n",
       "      <td>0.80<br> (3.89%)</td>\n",
       "      <td>15.02<br> (73.20%)</td>\n",
       "      <td>3.74<br> (18.24%)</td>\n",
       "      <td>11.28<br> (54.95%)</td>\n",
       "    </tr>\n",
       "    <tr>\n",
       "      <th>MEMBER</th>\n",
       "      <td>465,914.0</td>\n",
       "      <td>0.11</td>\n",
       "      <td>85,808<br>(0.08)</td>\n",
       "      <td>3,881<br>(0.03)</td>\n",
       "      <td>821<br>(0.03)</td>\n",
       "      <td>3,060.0<br>(0.03)</td>\n",
       "      <td>376,225<br>(0.12)</td>\n",
       "      <td>85,430<br>(0.09)</td>\n",
       "      <td>290,795<br>(0.14)</td>\n",
       "      <td>12,971<br>(0.02)</td>\n",
       "      <td>18,195.06<br>(0.07)</td>\n",
       "      <td>25.61</td>\n",
       "      <td>4.72<br> (18.42%)</td>\n",
       "      <td>0.21<br> (0.83%)</td>\n",
       "      <td>0.05<br> (0.18%)</td>\n",
       "      <td>0.17<br> (0.66%)</td>\n",
       "      <td>20.68<br> (80.75%)</td>\n",
       "      <td>4.70<br> (18.34%)</td>\n",
       "      <td>15.98<br> (62.41%)</td>\n",
       "    </tr>\n",
       "    <tr>\n",
       "      <th>COLLABORATOR</th>\n",
       "      <td>383,901.0</td>\n",
       "      <td>0.09</td>\n",
       "      <td>61,082<br>(0.05)</td>\n",
       "      <td>7,914<br>(0.06)</td>\n",
       "      <td>1,170<br>(0.04)</td>\n",
       "      <td>6,744.0<br>(0.07)</td>\n",
       "      <td>314,905<br>(0.10)</td>\n",
       "      <td>56,278<br>(0.06)</td>\n",
       "      <td>258,627<br>(0.12)</td>\n",
       "      <td>6,019<br>(0.01)</td>\n",
       "      <td>8,319.34<br>(0.03)</td>\n",
       "      <td>46.15</td>\n",
       "      <td>7.34<br> (15.91%)</td>\n",
       "      <td>0.95<br> (2.06%)</td>\n",
       "      <td>0.14<br> (0.30%)</td>\n",
       "      <td>0.81<br> (1.76%)</td>\n",
       "      <td>37.85<br> (82.03%)</td>\n",
       "      <td>6.76<br> (14.66%)</td>\n",
       "      <td>31.09<br> (67.37%)</td>\n",
       "    </tr>\n",
       "    <tr>\n",
       "      <th>OWNER</th>\n",
       "      <td>328,575.0</td>\n",
       "      <td>0.08</td>\n",
       "      <td>36,670<br>(0.03)</td>\n",
       "      <td>69,556<br>(0.53)</td>\n",
       "      <td>15,666<br>(0.51)</td>\n",
       "      <td>53,890.0<br>(0.54)</td>\n",
       "      <td>222,349<br>(0.07)</td>\n",
       "      <td>24,590<br>(0.03)</td>\n",
       "      <td>197,759<br>(0.09)</td>\n",
       "      <td>21,591<br>(0.03)</td>\n",
       "      <td>11,723.34<br>(0.04)</td>\n",
       "      <td>28.03</td>\n",
       "      <td>3.13<br> (11.16%)</td>\n",
       "      <td>5.93<br> (21.17%)</td>\n",
       "      <td>1.34<br> (4.77%)</td>\n",
       "      <td>4.60<br> (16.40%)</td>\n",
       "      <td>18.97<br> (67.67%)</td>\n",
       "      <td>2.10<br> (7.48%)</td>\n",
       "      <td>16.87<br> (60.19%)</td>\n",
       "    </tr>\n",
       "  </tbody>\n",
       "</table>"
      ],
      "text/plain": [
       "<IPython.core.display.HTML object>"
      ]
     },
     "metadata": {},
     "output_type": "display_data"
    }
   ],
   "source": [
    "pretty_print(generated_activity_time.round(2))"
   ]
  },
  {
   "cell_type": "code",
   "execution_count": 27,
   "id": "b97d10d3-50f5-497a-9ea1-056e5ce8ef4b",
   "metadata": {},
   "outputs": [
    {
     "data": {
      "text/html": [
       "<table border=\"1\" class=\"dataframe\">\n",
       "  <thead>\n",
       "    <tr style=\"text-align: right;\">\n",
       "      <th></th>\n",
       "      <th>Amount of Activity</th>\n",
       "      <th>Proportion</th>\n",
       "      <th># of Opened Issues</th>\n",
       "      <th># of Closed Issues</th>\n",
       "      <th># of Closed Issues (Own Issue)</th>\n",
       "      <th># of Closed Issues (Others Issue)</th>\n",
       "      <th># of Comments</th>\n",
       "      <th># of Comments (Own Issue)</th>\n",
       "      <th># of Comments (Others Issue)</th>\n",
       "    </tr>\n",
       "  </thead>\n",
       "  <tbody>\n",
       "    <tr>\n",
       "      <th>NONE</th>\n",
       "      <td>2,260,563.0</td>\n",
       "      <td>0.52</td>\n",
       "      <td>734,937<br>(0.65)</td>\n",
       "      <td>8,466<br>(0.06)</td>\n",
       "      <td>8,466<br>(0.28)</td>\n",
       "      <td>nan<br>(nan)</td>\n",
       "      <td>1,517,160<br>(0.49)</td>\n",
       "      <td>627,009<br>(0.65)</td>\n",
       "      <td>890,151<br>(0.41)</td>\n",
       "    </tr>\n",
       "    <tr>\n",
       "      <th>CONTRIBUTOR</th>\n",
       "      <td>934,017.0</td>\n",
       "      <td>0.21</td>\n",
       "      <td>209,455<br>(0.19)</td>\n",
       "      <td>40,889<br>(0.31)</td>\n",
       "      <td>4,525<br>(0.15)</td>\n",
       "      <td>36,364.0<br>(0.36)</td>\n",
       "      <td>683,673<br>(0.22)</td>\n",
       "      <td>170,390<br>(0.18)</td>\n",
       "      <td>513,283<br>(0.24)</td>\n",
       "    </tr>\n",
       "    <tr>\n",
       "      <th>MEMBER</th>\n",
       "      <td>465,914.0</td>\n",
       "      <td>0.11</td>\n",
       "      <td>85,808<br>(0.08)</td>\n",
       "      <td>3,881<br>(0.03)</td>\n",
       "      <td>821<br>(0.03)</td>\n",
       "      <td>3,060.0<br>(0.03)</td>\n",
       "      <td>376,225<br>(0.12)</td>\n",
       "      <td>85,430<br>(0.09)</td>\n",
       "      <td>290,795<br>(0.14)</td>\n",
       "    </tr>\n",
       "    <tr>\n",
       "      <th>COLLABORATOR</th>\n",
       "      <td>383,901.0</td>\n",
       "      <td>0.09</td>\n",
       "      <td>61,082<br>(0.05)</td>\n",
       "      <td>7,914<br>(0.06)</td>\n",
       "      <td>1,170<br>(0.04)</td>\n",
       "      <td>6,744.0<br>(0.07)</td>\n",
       "      <td>314,905<br>(0.10)</td>\n",
       "      <td>56,278<br>(0.06)</td>\n",
       "      <td>258,627<br>(0.12)</td>\n",
       "    </tr>\n",
       "    <tr>\n",
       "      <th>OWNER</th>\n",
       "      <td>328,575.0</td>\n",
       "      <td>0.08</td>\n",
       "      <td>36,670<br>(0.03)</td>\n",
       "      <td>69,556<br>(0.53)</td>\n",
       "      <td>15,666<br>(0.51)</td>\n",
       "      <td>53,890.0<br>(0.54)</td>\n",
       "      <td>222,349<br>(0.07)</td>\n",
       "      <td>24,590<br>(0.03)</td>\n",
       "      <td>197,759<br>(0.09)</td>\n",
       "    </tr>\n",
       "  </tbody>\n",
       "</table>"
      ],
      "text/plain": [
       "<IPython.core.display.HTML object>"
      ]
     },
     "metadata": {},
     "output_type": "display_data"
    }
   ],
   "source": [
    "pretty_print(generated_activity_time[['Amount of Activity','Proportion','# of Opened Issues','# of Closed Issues',\n",
    "                         '# of Closed Issues (Own Issue)','# of Closed Issues (Others Issue)','# of Comments','# of Comments (Own Issue)',\n",
    "                         '# of Comments (Others Issue)']])"
   ]
  },
  {
   "cell_type": "code",
   "execution_count": 28,
   "id": "d89892a6-7302-4802-8e95-53070c5cb76b",
   "metadata": {},
   "outputs": [
    {
     "data": {
      "text/html": [
       "<table border=\"1\" class=\"dataframe\">\n",
       "  <thead>\n",
       "    <tr style=\"text-align: right;\">\n",
       "      <th></th>\n",
       "      <th>Amount of Activity</th>\n",
       "      <th>Time Spent (Worker-Years)</th>\n",
       "      <th>Activity/Worker-Year</th>\n",
       "      <th>Opened Issues/Time Spent</th>\n",
       "      <th>Closed Issues/Time Spent</th>\n",
       "      <th>Closed Issues (Own Issue)/Time Spent</th>\n",
       "      <th>Closed Issues (Others Issue)/Time Spent</th>\n",
       "      <th>Comments/Time Spent</th>\n",
       "      <th>Comments (Own Issue)/Time Spent</th>\n",
       "      <th>Comments (Others Issue)/Time Spent</th>\n",
       "    </tr>\n",
       "  </thead>\n",
       "  <tbody>\n",
       "    <tr>\n",
       "      <th>NONE</th>\n",
       "      <td>2,260,563.0</td>\n",
       "      <td>182,045.50<br>(0.68)</td>\n",
       "      <td>12.42</td>\n",
       "      <td>4.04<br> (32.51%)</td>\n",
       "      <td>0.05<br> (0.37%)</td>\n",
       "      <td>0.05<br> (0.37%)</td>\n",
       "      <td>nan<br> (nan%)</td>\n",
       "      <td>8.33<br> (67.11%)</td>\n",
       "      <td>3.44<br> (27.74%)</td>\n",
       "      <td>4.89<br> (39.38%)</td>\n",
       "    </tr>\n",
       "    <tr>\n",
       "      <th>CONTRIBUTOR</th>\n",
       "      <td>934,017.0</td>\n",
       "      <td>45,506.53<br>(0.17)</td>\n",
       "      <td>20.52</td>\n",
       "      <td>4.60<br> (22.43%)</td>\n",
       "      <td>0.90<br> (4.38%)</td>\n",
       "      <td>0.10<br> (0.48%)</td>\n",
       "      <td>0.80<br> (3.89%)</td>\n",
       "      <td>15.02<br> (73.20%)</td>\n",
       "      <td>3.74<br> (18.24%)</td>\n",
       "      <td>11.28<br> (54.95%)</td>\n",
       "    </tr>\n",
       "    <tr>\n",
       "      <th>MEMBER</th>\n",
       "      <td>465,914.0</td>\n",
       "      <td>18,195.06<br>(0.07)</td>\n",
       "      <td>25.61</td>\n",
       "      <td>4.72<br> (18.42%)</td>\n",
       "      <td>0.21<br> (0.83%)</td>\n",
       "      <td>0.05<br> (0.18%)</td>\n",
       "      <td>0.17<br> (0.66%)</td>\n",
       "      <td>20.68<br> (80.75%)</td>\n",
       "      <td>4.70<br> (18.34%)</td>\n",
       "      <td>15.98<br> (62.41%)</td>\n",
       "    </tr>\n",
       "    <tr>\n",
       "      <th>COLLABORATOR</th>\n",
       "      <td>383,901.0</td>\n",
       "      <td>8,319.34<br>(0.03)</td>\n",
       "      <td>46.15</td>\n",
       "      <td>7.34<br> (15.91%)</td>\n",
       "      <td>0.95<br> (2.06%)</td>\n",
       "      <td>0.14<br> (0.30%)</td>\n",
       "      <td>0.81<br> (1.76%)</td>\n",
       "      <td>37.85<br> (82.03%)</td>\n",
       "      <td>6.76<br> (14.66%)</td>\n",
       "      <td>31.09<br> (67.37%)</td>\n",
       "    </tr>\n",
       "    <tr>\n",
       "      <th>OWNER</th>\n",
       "      <td>328,575.0</td>\n",
       "      <td>11,723.34<br>(0.04)</td>\n",
       "      <td>28.03</td>\n",
       "      <td>3.13<br> (11.16%)</td>\n",
       "      <td>5.93<br> (21.17%)</td>\n",
       "      <td>1.34<br> (4.77%)</td>\n",
       "      <td>4.60<br> (16.40%)</td>\n",
       "      <td>18.97<br> (67.67%)</td>\n",
       "      <td>2.10<br> (7.48%)</td>\n",
       "      <td>16.87<br> (60.19%)</td>\n",
       "    </tr>\n",
       "  </tbody>\n",
       "</table>"
      ],
      "text/plain": [
       "<IPython.core.display.HTML object>"
      ]
     },
     "metadata": {},
     "output_type": "display_data"
    }
   ],
   "source": [
    "pretty_print(generated_activity_time[['Amount of Activity','Time Spent (Worker-Years)','Activity/Worker-Year','Opened Issues/Time Spent',\n",
    "                                      'Closed Issues/Time Spent','Closed Issues (Own Issue)/Time Spent','Closed Issues (Others Issue)/Time Spent','Comments/Time Spent',\n",
    "                                      'Comments (Own Issue)/Time Spent','Comments (Others Issue)/Time Spent']])"
   ]
  },
  {
   "cell_type": "code",
   "execution_count": 29,
   "id": "313f3d26-8a7a-44ba-a919-b308fa65a288",
   "metadata": {},
   "outputs": [],
   "source": [
    "# how does it vary by repository size?"
   ]
  },
  {
   "cell_type": "code",
   "execution_count": 30,
   "id": "d8bde092-9928-4db4-a711-ff5d61b8e0dd",
   "metadata": {
    "scrolled": true
   },
   "outputs": [],
   "source": [
    "repo_contributors = df_issue_clean[['repo_name', 'actor_login']].drop_duplicates()['repo_name'].value_counts()"
   ]
  },
  {
   "cell_type": "code",
   "execution_count": 31,
   "id": "ee15fe89-5bd7-4439-9f2c-3f87f29bcdfc",
   "metadata": {
    "scrolled": true
   },
   "outputs": [
    {
     "data": {
      "image/png": "[encoded data removed]",
      "text/plain": [
       "<Figure size 400x300 with 1 Axes>"
      ]
     },
     "metadata": {},
     "output_type": "display_data"
    }
   ],
   "source": [
    "fig, ax = plt.subplots(figsize = (4, 3))\n",
    "pd.Series(repo_contributors.values).hist(ax = ax, bins = 30)\n",
    "ax.set_title('Histogram of # of Contributors to Repositories')\n",
    "ax.set_xlabel('Number of Unique Contributors')\n",
    "ax.set_ylabel('Number of Repositories')\n",
    "ax.set_yscale('log')\n",
    "plt.show()"
   ]
  },
  {
   "cell_type": "markdown",
   "id": "3118f1c9-9aa3-4074-8f9f-3b80d7628359",
   "metadata": {},
   "source": [
    "## Time for More Analysis"
   ]
  },
  {
   "cell_type": "markdown",
   "id": "5bf70c4c-464a-41bf-8429-abeb0cf3f7fa",
   "metadata": {},
   "source": [
    "The main difference between this and a previous analysis is that owners become more involved if you consider the \"intensity\" of \n",
    "someone's actions (how much work someone does within a given time period). I prefer this one because it makes individuals more comparable within a particular time period\n",
    "\n",
    "**most important findings:**\n",
    "1) Large Disparity in Activity/Individual - Higher ranked individuals do more things in the same relative time period\n",
    "2) Individuals progressively spend\n",
    "   \n",
    "    a) less of their time opening issues (asking questions/flagging problems)\n",
    "   \n",
    "    b) more of their time closing issues (administrative work). In particular its notable how many issues owners close, \n",
    "    especially given that they do less things. Owners close A LOT of issues..\n",
    "4) As individuals rise in rank,\n",
    "\n",
    "    a) they spend more time commenting on issues, especially other people's issues\n",
    "\n",
    "    b) they don't spend that much time commenting on their own issues - why is that?"
   ]
  },
  {
   "cell_type": "markdown",
   "id": "6661d379-01c1-4830-9fee-0ba35d52a93c",
   "metadata": {},
   "source": [
    "1) Why do they do more things?\n",
    "\n",
    "2) "
   ]
  },
  {
   "cell_type": "code",
   "execution_count": 32,
   "id": "fd647a1e-e800-45e3-9a63-1aa122e6d91a",
   "metadata": {
    "scrolled": true
   },
   "outputs": [
    {
     "data": {
      "text/html": [
       "<table border=\"1\" class=\"dataframe\">\n",
       "  <thead>\n",
       "    <tr style=\"text-align: right;\">\n",
       "      <th></th>\n",
       "      <th>Amount of Activity</th>\n",
       "      <th>Proportion</th>\n",
       "      <th># of Opened Issues</th>\n",
       "      <th># of Closed Issues</th>\n",
       "      <th># of Closed Issues (Own Issue)</th>\n",
       "      <th># of Closed Issues (Others Issue)</th>\n",
       "      <th># of Comments</th>\n",
       "      <th># of Comments (Own Issue)</th>\n",
       "      <th># of Comments (Others Issue)</th>\n",
       "      <th># of Individiuals</th>\n",
       "      <th>Time Spent (Worker-Years)</th>\n",
       "      <th>Activity/Worker-Year</th>\n",
       "      <th>Opened Issues/Time Spent</th>\n",
       "      <th>Closed Issues/Time Spent</th>\n",
       "      <th>Closed Issues (Own Issue)/Time Spent</th>\n",
       "      <th>Closed Issues (Others Issue)/Time Spent</th>\n",
       "      <th>Comments/Time Spent</th>\n",
       "      <th>Comments (Own Issue)/Time Spent</th>\n",
       "      <th>Comments (Others Issue)/Time Spent</th>\n",
       "    </tr>\n",
       "  </thead>\n",
       "  <tbody>\n",
       "    <tr>\n",
       "      <th>NONE</th>\n",
       "      <td>2,260,563.0</td>\n",
       "      <td>0.52</td>\n",
       "      <td>734,937<br>(0.65)</td>\n",
       "      <td>8,466<br>(0.06)</td>\n",
       "      <td>8,466<br>(0.28)</td>\n",
       "      <td>nan<br>(nan)</td>\n",
       "      <td>1,517,160<br>(0.49)</td>\n",
       "      <td>627,009<br>(0.65)</td>\n",
       "      <td>890,151<br>(0.41)</td>\n",
       "      <td>536,646<br>(0.87)</td>\n",
       "      <td>182,045.50<br>(0.68)</td>\n",
       "      <td>12.42</td>\n",
       "      <td>4.04<br> (32.51%)</td>\n",
       "      <td>0.05<br> (0.37%)</td>\n",
       "      <td>0.05<br> (0.37%)</td>\n",
       "      <td>nan<br> (nan%)</td>\n",
       "      <td>8.33<br> (67.11%)</td>\n",
       "      <td>3.44<br> (27.74%)</td>\n",
       "      <td>4.89<br> (39.38%)</td>\n",
       "    </tr>\n",
       "    <tr>\n",
       "      <th>CONTRIBUTOR</th>\n",
       "      <td>934,017.0</td>\n",
       "      <td>0.21</td>\n",
       "      <td>209,455<br>(0.19)</td>\n",
       "      <td>40,889<br>(0.31)</td>\n",
       "      <td>4,525<br>(0.15)</td>\n",
       "      <td>36,364.0<br>(0.36)</td>\n",
       "      <td>683,673<br>(0.22)</td>\n",
       "      <td>170,390<br>(0.18)</td>\n",
       "      <td>513,283<br>(0.24)</td>\n",
       "      <td>42,849<br>(0.07)</td>\n",
       "      <td>45,506.53<br>(0.17)</td>\n",
       "      <td>20.52</td>\n",
       "      <td>4.60<br> (22.43%)</td>\n",
       "      <td>0.90<br> (4.38%)</td>\n",
       "      <td>0.10<br> (0.48%)</td>\n",
       "      <td>0.80<br> (3.89%)</td>\n",
       "      <td>15.02<br> (73.20%)</td>\n",
       "      <td>3.74<br> (18.24%)</td>\n",
       "      <td>11.28<br> (54.95%)</td>\n",
       "    </tr>\n",
       "    <tr>\n",
       "      <th>MEMBER</th>\n",
       "      <td>465,914.0</td>\n",
       "      <td>0.11</td>\n",
       "      <td>85,808<br>(0.08)</td>\n",
       "      <td>3,881<br>(0.03)</td>\n",
       "      <td>821<br>(0.03)</td>\n",
       "      <td>3,060.0<br>(0.03)</td>\n",
       "      <td>376,225<br>(0.12)</td>\n",
       "      <td>85,430<br>(0.09)</td>\n",
       "      <td>290,795<br>(0.14)</td>\n",
       "      <td>12,971<br>(0.02)</td>\n",
       "      <td>18,195.06<br>(0.07)</td>\n",
       "      <td>25.61</td>\n",
       "      <td>4.72<br> (18.42%)</td>\n",
       "      <td>0.21<br> (0.83%)</td>\n",
       "      <td>0.05<br> (0.18%)</td>\n",
       "      <td>0.17<br> (0.66%)</td>\n",
       "      <td>20.68<br> (80.75%)</td>\n",
       "      <td>4.70<br> (18.34%)</td>\n",
       "      <td>15.98<br> (62.41%)</td>\n",
       "    </tr>\n",
       "    <tr>\n",
       "      <th>COLLABORATOR</th>\n",
       "      <td>383,901.0</td>\n",
       "      <td>0.09</td>\n",
       "      <td>61,082<br>(0.05)</td>\n",
       "      <td>7,914<br>(0.06)</td>\n",
       "      <td>1,170<br>(0.04)</td>\n",
       "      <td>6,744.0<br>(0.07)</td>\n",
       "      <td>314,905<br>(0.10)</td>\n",
       "      <td>56,278<br>(0.06)</td>\n",
       "      <td>258,627<br>(0.12)</td>\n",
       "      <td>6,019<br>(0.01)</td>\n",
       "      <td>8,319.34<br>(0.03)</td>\n",
       "      <td>46.15</td>\n",
       "      <td>7.34<br> (15.91%)</td>\n",
       "      <td>0.95<br> (2.06%)</td>\n",
       "      <td>0.14<br> (0.30%)</td>\n",
       "      <td>0.81<br> (1.76%)</td>\n",
       "      <td>37.85<br> (82.03%)</td>\n",
       "      <td>6.76<br> (14.66%)</td>\n",
       "      <td>31.09<br> (67.37%)</td>\n",
       "    </tr>\n",
       "    <tr>\n",
       "      <th>OWNER</th>\n",
       "      <td>328,575.0</td>\n",
       "      <td>0.08</td>\n",
       "      <td>36,670<br>(0.03)</td>\n",
       "      <td>69,556<br>(0.53)</td>\n",
       "      <td>15,666<br>(0.51)</td>\n",
       "      <td>53,890.0<br>(0.54)</td>\n",
       "      <td>222,349<br>(0.07)</td>\n",
       "      <td>24,590<br>(0.03)</td>\n",
       "      <td>197,759<br>(0.09)</td>\n",
       "      <td>21,591<br>(0.03)</td>\n",
       "      <td>11,723.34<br>(0.04)</td>\n",
       "      <td>28.03</td>\n",
       "      <td>3.13<br> (11.16%)</td>\n",
       "      <td>5.93<br> (21.17%)</td>\n",
       "      <td>1.34<br> (4.77%)</td>\n",
       "      <td>4.60<br> (16.40%)</td>\n",
       "      <td>18.97<br> (67.67%)</td>\n",
       "      <td>2.10<br> (7.48%)</td>\n",
       "      <td>16.87<br> (60.19%)</td>\n",
       "    </tr>\n",
       "  </tbody>\n",
       "</table>"
      ],
      "text/plain": [
       "<IPython.core.display.HTML object>"
      ]
     },
     "metadata": {},
     "output_type": "display_data"
    }
   ],
   "source": [
    "pretty_print(generated_activity_time.round(2))"
   ]
  },
  {
   "cell_type": "code",
   "execution_count": 33,
   "id": "4098ae4c-6432-4e07-a9ee-54548d73a94e",
   "metadata": {
    "scrolled": true
   },
   "outputs": [],
   "source": [
    "organization_list = df_issue_clean['org_login'].dropna().unique()"
   ]
  },
  {
   "cell_type": "code",
   "execution_count": 34,
   "id": "61ece52d-2ce8-45e5-976b-39ff08e7a38c",
   "metadata": {
    "scrolled": true
   },
   "outputs": [],
   "source": [
    "watch_lst = glob.glob('data/github_clean/github_data_pre_18/watchEvent*')\n",
    "watch_lst.extend(glob.glob('data/github_clean/filtered_github_data/watchEvent*'))\n",
    "watch_data = pd.concat([pd.read_csv(file, usecols = ['repo_name'], engine = 'pyarrow') for file in watch_lst])\n",
    "watch_data = watch_data.value_counts()"
   ]
  },
  {
   "cell_type": "code",
   "execution_count": 35,
   "id": "973225e7-b41e-4ac1-b7ce-3d4c0bedda28",
   "metadata": {
    "scrolled": true
   },
   "outputs": [],
   "source": [
    "fork_lst = glob.glob('data/github_clean/github_data_pre_18/forkEvent*')\n",
    "fork_lst.extend(glob.glob('data/github_clean/filtered_github_data/forkEvent*'))\n",
    "fork_data = pd.concat([pd.read_csv(file, usecols = ['repo_name'], engine = 'pyarrow') for file in fork_lst])\n",
    "fork_data = fork_data.value_counts()"
   ]
  },
  {
   "cell_type": "code",
   "execution_count": 36,
   "id": "bda0abe9-b414-44ef-86d2-ef353427cb36",
   "metadata": {},
   "outputs": [],
   "source": [
    "def calculateTimeSpent(grouped_rank):\n",
    "    time_spent = pd.DataFrame(grouped_rank['final_interval'].parallel_apply(\n",
    "        lambda x: [[ele[0], pd.to_datetime(ele[2])-pd.to_datetime(ele[1])] for ele in x]).explode())\n",
    "    time_spent['rank'] = time_spent['final_interval'].apply(lambda x: x[0])\n",
    "    time_spent['time spent'] = time_spent['final_interval'].apply(lambda x: x[1])\n",
    "    time_spent['Time Spent Seconds'] = time_spent['time spent'].apply(lambda x: x.total_seconds())\n",
    "    time_spent['Time Spent (Prop.)'] = time_spent['Time Spent Seconds']/time_spent['Time Spent Seconds'].sum()\n",
    "    time_spent['Time Spent (Worker-Years)'] = time_spent['Time Spent Seconds']/(86400*30*12)\n",
    "    return time_spent"
   ]
  },
  {
   "cell_type": "code",
   "execution_count": 37,
   "id": "cf3e5e5b-2fd8-45ef-846c-7759117af24b",
   "metadata": {
    "scrolled": true
   },
   "outputs": [
    {
     "data": {
      "application/vnd.jupyter.widget-view+json": {
       "model_id": "a89e6776d2fd477fab1aac4edf05c07a",
       "version_major": 2,
       "version_minor": 0
      },
      "text/plain": [
       "VBox(children=(HBox(children=(IntProgress(value=0, description='0.00%', max=11654), Label(value='0 / 11654')))…"
      ]
     },
     "metadata": {},
     "output_type": "display_data"
    },
    {
     "data": {
      "application/vnd.jupyter.widget-view+json": {
       "model_id": "95ee148eafc74a11a28c7fca80c6eaf6",
       "version_major": 2,
       "version_minor": 0
      },
      "text/plain": [
       "VBox(children=(HBox(children=(IntProgress(value=0, description='0.00%', max=5658), Label(value='0 / 5658'))), …"
      ]
     },
     "metadata": {},
     "output_type": "display_data"
    },
    {
     "data": {
      "application/vnd.jupyter.widget-view+json": {
       "model_id": "dc8489163efd4603b2e3ea5ace8edc4e",
       "version_major": 2,
       "version_minor": 0
      },
      "text/plain": [
       "VBox(children=(HBox(children=(IntProgress(value=0, description='0.00%', max=9689), Label(value='0 / 9689'))), …"
      ]
     },
     "metadata": {},
     "output_type": "display_data"
    },
    {
     "data": {
      "application/vnd.jupyter.widget-view+json": {
       "model_id": "b8bafe1a6f6f44c39c85015eae3a9ddc",
       "version_major": 2,
       "version_minor": 0
      },
      "text/plain": [
       "VBox(children=(HBox(children=(IntProgress(value=0, description='0.00%', max=7623), Label(value='0 / 7623'))), …"
      ]
     },
     "metadata": {},
     "output_type": "display_data"
    },
    {
     "data": {
      "application/vnd.jupyter.widget-view+json": {
       "model_id": "7a85993bc77b40b5a219be853906e1d3",
       "version_major": 2,
       "version_minor": 0
      },
      "text/plain": [
       "VBox(children=(HBox(children=(IntProgress(value=0, description='0.00%', max=8874), Label(value='0 / 8874'))), …"
      ]
     },
     "metadata": {},
     "output_type": "display_data"
    },
    {
     "data": {
      "application/vnd.jupyter.widget-view+json": {
       "model_id": "c77d7eb1f8c041179c28eaeaa66eacad",
       "version_major": 2,
       "version_minor": 0
      },
      "text/plain": [
       "VBox(children=(HBox(children=(IntProgress(value=0, description='0.00%', max=8438), Label(value='0 / 8438'))), …"
      ]
     },
     "metadata": {},
     "output_type": "display_data"
    },
    {
     "data": {
      "application/vnd.jupyter.widget-view+json": {
       "model_id": "5644573f2a9d449d91cabc390aacb03a",
       "version_major": 2,
       "version_minor": 0
      },
      "text/plain": [
       "VBox(children=(HBox(children=(IntProgress(value=0, description='0.00%', max=8193), Label(value='0 / 8193'))), …"
      ]
     },
     "metadata": {},
     "output_type": "display_data"
    },
    {
     "data": {
      "application/vnd.jupyter.widget-view+json": {
       "model_id": "998676eba0a44ca6b2d53c771dae234c",
       "version_major": 2,
       "version_minor": 0
      },
      "text/plain": [
       "VBox(children=(HBox(children=(IntProgress(value=0, description='0.00%', max=9119), Label(value='0 / 9119'))), …"
      ]
     },
     "metadata": {},
     "output_type": "display_data"
    },
    {
     "data": {
      "application/vnd.jupyter.widget-view+json": {
       "model_id": "9098fee9ee114a20b20a9faf1a618eec",
       "version_major": 2,
       "version_minor": 0
      },
      "text/plain": [
       "VBox(children=(HBox(children=(IntProgress(value=0, description='0.00%', max=8577), Label(value='0 / 8577'))), …"
      ]
     },
     "metadata": {},
     "output_type": "display_data"
    },
    {
     "data": {
      "application/vnd.jupyter.widget-view+json": {
       "model_id": "d5c27adc7c3e4c60a3982940a5da1456",
       "version_major": 2,
       "version_minor": 0
      },
      "text/plain": [
       "VBox(children=(HBox(children=(IntProgress(value=0, description='0.00%', max=8735), Label(value='0 / 8735'))), …"
      ]
     },
     "metadata": {},
     "output_type": "display_data"
    }
   ],
   "source": [
    "time_spent_org = calculateTimeSpent(grouped_rank[grouped_rank['repo_name'].apply(lambda x: x.split(\"/\")[0] in organization_list)])\n",
    "time_spent_noorg = calculateTimeSpent(grouped_rank[~grouped_rank['repo_name'].apply(lambda x: x.split(\"/\")[0] in organization_list)])\n",
    "time_spent_many_contributor = calculateTimeSpent(grouped_rank[grouped_rank['repo_name'].isin(repo_contributors.head(300).index)])\n",
    "time_spent_no_many = calculateTimeSpent(grouped_rank[~grouped_rank['repo_name'].isin(repo_contributors.head(300).index)])\n",
    "time_spent_most_activity = calculateTimeSpent(grouped_rank[grouped_rank['repo_name'].isin(\n",
    "    df_issue_clean['repo_name'].value_counts().head(300).index)])\n",
    "time_spent_not_most = calculateTimeSpent(grouped_rank[~grouped_rank['repo_name'].isin(\n",
    "    df_issue_clean['repo_name'].value_counts().head(300).index)])\n",
    "time_spent_most_watch = calculateTimeSpent(grouped_rank[grouped_rank['repo_name'].isin(\n",
    "    watch_data.reset_index()['repo_name'].head(300).tolist())])\n",
    "time_spent_not_watch = calculateTimeSpent(grouped_rank[~grouped_rank['repo_name'].isin(\n",
    "    watch_data.reset_index()['repo_name'].head(300).tolist())])\n",
    "time_spent_most_fork = calculateTimeSpent(grouped_rank[grouped_rank['repo_name'].isin(\n",
    "    fork_data.reset_index()['repo_name'].head(300).tolist())])\n",
    "time_spent_not_fork = calculateTimeSpent(grouped_rank[~grouped_rank['repo_name'].isin(\n",
    "    fork_data.reset_index()['repo_name'].head(300).tolist())])"
   ]
  },
  {
   "cell_type": "code",
   "execution_count": 38,
   "id": "a52d7753-d1c1-412e-bbb9-e85f81eb5b84",
   "metadata": {
    "scrolled": true
   },
   "outputs": [
    {
     "data": {
      "text/html": [
       "<table border=\"1\" class=\"dataframe\">\n",
       "  <thead>\n",
       "    <tr style=\"text-align: right;\">\n",
       "      <th>Time Spent (Worker-Years)</th>\n",
       "      <th>Organization</th>\n",
       "      <th>Top 300 (repos) Most Contributors</th>\n",
       "      <th>Top 300 (repos) Most Activity</th>\n",
       "      <th>Top 300 (repos) Most Watches</th>\n",
       "      <th>Top 300 (repos) Most Forks</th>\n",
       "    </tr>\n",
       "    <tr>\n",
       "      <th>rank</th>\n",
       "      <th></th>\n",
       "      <th></th>\n",
       "      <th></th>\n",
       "      <th></th>\n",
       "      <th></th>\n",
       "    </tr>\n",
       "  </thead>\n",
       "  <tbody>\n",
       "    <tr>\n",
       "      <th>NONE</th>\n",
       "      <td>120842<br>(0.68)</td>\n",
       "      <td>106181<br>(0.81)</td>\n",
       "      <td>97383<br>(0.78)</td>\n",
       "      <td>88696<br>(0.81)</td>\n",
       "      <td>93183<br>(0.81)</td>\n",
       "    </tr>\n",
       "    <tr>\n",
       "      <th>CONTRIBUTOR</th>\n",
       "      <td>31971<br>(0.18)</td>\n",
       "      <td>16805<br>(0.13)</td>\n",
       "      <td>18334<br>(0.15)</td>\n",
       "      <td>13819<br>(0.13)</td>\n",
       "      <td>14786<br>(0.13)</td>\n",
       "    </tr>\n",
       "    <tr>\n",
       "      <th>MEMBER</th>\n",
       "      <td>18195<br>(0.10)</td>\n",
       "      <td>5980<br>(0.05)</td>\n",
       "      <td>6817<br>(0.05)</td>\n",
       "      <td>4765<br>(0.04)</td>\n",
       "      <td>5212<br>(0.05)</td>\n",
       "    </tr>\n",
       "    <tr>\n",
       "      <th>COLLABORATOR</th>\n",
       "      <td>5480<br>(0.03)</td>\n",
       "      <td>1843<br>(0.01)</td>\n",
       "      <td>2644<br>(0.02)</td>\n",
       "      <td>1655<br>(0.02)</td>\n",
       "      <td>1784<br>(0.02)</td>\n",
       "    </tr>\n",
       "    <tr>\n",
       "      <th>OWNER</th>\n",
       "      <td>35<br>(0.00)</td>\n",
       "      <td>319<br>(0.00)</td>\n",
       "      <td>248<br>(0.00)</td>\n",
       "      <td>516<br>(0.00)</td>\n",
       "      <td>483<br>(0.00)</td>\n",
       "    </tr>\n",
       "  </tbody>\n",
       "</table>"
      ],
      "text/plain": [
       "<IPython.core.display.HTML object>"
      ]
     },
     "metadata": {},
     "output_type": "display_data"
    }
   ],
   "source": [
    "hierarchy_dist_most = pd.concat([\n",
    "    time_spent_org.groupby('rank')['Time Spent (Worker-Years)'].sum().rename('Organization'),\n",
    "    time_spent_many_contributor.groupby('rank')['Time Spent (Worker-Years)'].sum().rename('Top 300 (repos) Most Contributors'),\n",
    "    time_spent_most_activity.groupby('rank')['Time Spent (Worker-Years)'].sum().rename('Top 300 (repos) Most Activity'),\n",
    "    time_spent_most_watch.groupby('rank')['Time Spent (Worker-Years)'].sum().rename('Top 300 (repos) Most Watches'),\n",
    "    time_spent_most_fork.groupby('rank')['Time Spent (Worker-Years)'].sum().rename('Top 300 (repos) Most Forks'),\n",
    "], axis = 1)\n",
    "hierarchy_dist_less = pd.concat([\n",
    "    time_spent_noorg.groupby('rank')['Time Spent (Worker-Years)'].sum().rename('Not Organization'),\n",
    "    time_spent_no_many.groupby('rank')['Time Spent (Worker-Years)'].sum().rename('Not Top 300 (repos) Most Contributors'),\n",
    "    time_spent_not_most.groupby('rank')['Time Spent (Worker-Years)'].sum().rename('Not Top 300 (repos) Most Activity'),\n",
    "    time_spent_not_watch.groupby('rank')['Time Spent (Worker-Years)'].sum().rename('Not Top 300 (repos) Most Watches'),\n",
    "    time_spent_not_fork.groupby('rank')['Time Spent (Worker-Years)'].sum().rename('Not Top 300 (repos) Most Forks'),\n",
    "], axis = 1)\n",
    "\n",
    "for col in hierarchy_dist_most.columns:\n",
    "    hierarchy_dist_most[col] = hierarchy_dist_most[col].apply(lambda x: f\"{x:.0f}\\n({x/hierarchy_dist_most[col].sum():.2f})\")\n",
    "for col in hierarchy_dist_less.columns:\n",
    "    hierarchy_dist_less[col] = hierarchy_dist_less[col].apply(lambda x: f\"{x:.0f}\\n({x/hierarchy_dist_less[col].sum():.2f})\")\n",
    "\n",
    "hierarchy_dist_most.columns.name = 'Time Spent (Worker-Years)'\n",
    "hierarchy_dist_less.columns.name = 'Time Spent (Worker-Years)'\n",
    "pretty_print(hierarchy_dist_most.loc[['NONE', 'CONTRIBUTOR', 'MEMBER','COLLABORATOR', 'OWNER']])"
   ]
  },
  {
   "cell_type": "code",
   "execution_count": 39,
   "id": "86c10db1-eebe-45ea-afd5-866e40738c72",
   "metadata": {
    "scrolled": true
   },
   "outputs": [
    {
     "data": {
      "text/html": [
       "<table border=\"1\" class=\"dataframe\">\n",
       "  <thead>\n",
       "    <tr style=\"text-align: right;\">\n",
       "      <th>Time Spent (Worker-Years)</th>\n",
       "      <th>Not Organization</th>\n",
       "      <th>Not Top 300 (repos) Most Contributors</th>\n",
       "      <th>Not Top 300 (repos) Most Activity</th>\n",
       "      <th>Not Top 300 (repos) Most Watches</th>\n",
       "      <th>Not Top 300 (repos) Most Forks</th>\n",
       "    </tr>\n",
       "    <tr>\n",
       "      <th>rank</th>\n",
       "      <th></th>\n",
       "      <th></th>\n",
       "      <th></th>\n",
       "      <th></th>\n",
       "      <th></th>\n",
       "    </tr>\n",
       "  </thead>\n",
       "  <tbody>\n",
       "    <tr>\n",
       "      <th>NONE</th>\n",
       "      <td>61203<br>(0.69)</td>\n",
       "      <td>75865<br>(0.56)</td>\n",
       "      <td>84662<br>(0.60)</td>\n",
       "      <td>93349<br>(0.60)</td>\n",
       "      <td>88863<br>(0.59)</td>\n",
       "    </tr>\n",
       "    <tr>\n",
       "      <th>CONTRIBUTOR</th>\n",
       "      <td>13536<br>(0.15)</td>\n",
       "      <td>28701<br>(0.21)</td>\n",
       "      <td>27172<br>(0.19)</td>\n",
       "      <td>31687<br>(0.20)</td>\n",
       "      <td>30720<br>(0.20)</td>\n",
       "    </tr>\n",
       "    <tr>\n",
       "      <th>MEMBER</th>\n",
       "      <td>nan<br>(nan)</td>\n",
       "      <td>12215<br>(0.09)</td>\n",
       "      <td>11378<br>(0.08)</td>\n",
       "      <td>13430<br>(0.09)</td>\n",
       "      <td>12983<br>(0.09)</td>\n",
       "    </tr>\n",
       "    <tr>\n",
       "      <th>COLLABORATOR</th>\n",
       "      <td>2840<br>(0.03)</td>\n",
       "      <td>6476<br>(0.05)</td>\n",
       "      <td>5676<br>(0.04)</td>\n",
       "      <td>6665<br>(0.04)</td>\n",
       "      <td>6535<br>(0.04)</td>\n",
       "    </tr>\n",
       "    <tr>\n",
       "      <th>OWNER</th>\n",
       "      <td>11688<br>(0.13)</td>\n",
       "      <td>11405<br>(0.08)</td>\n",
       "      <td>11475<br>(0.08)</td>\n",
       "      <td>11207<br>(0.07)</td>\n",
       "      <td>11241<br>(0.07)</td>\n",
       "    </tr>\n",
       "  </tbody>\n",
       "</table>"
      ],
      "text/plain": [
       "<IPython.core.display.HTML object>"
      ]
     },
     "metadata": {},
     "output_type": "display_data"
    }
   ],
   "source": [
    "pretty_print(hierarchy_dist_less.loc[['NONE', 'CONTRIBUTOR', 'MEMBER','COLLABORATOR', 'OWNER']])"
   ]
  },
  {
   "cell_type": "code",
   "execution_count": 40,
   "id": "cd606136-b848-4a0a-b0d2-119b4ea88240",
   "metadata": {},
   "outputs": [],
   "source": [
    "top300_contri_grouped_rank = grouped_rank[grouped_rank['repo_name'].isin(repo_contributors.head(300).index)]\n",
    "top300_contri_df_issue_clean = df_issue_clean[df_issue_clean['repo_name'].isin(repo_contributors.head(300).index)]\n",
    "nottop300_contri_grouped_rank = grouped_rank[~grouped_rank['repo_name'].isin(repo_contributors.head(300).index)]\n",
    "nottop300_contri_df_issue_clean = df_issue_clean[~df_issue_clean['repo_name'].isin(repo_contributors.head(300).index)]"
   ]
  },
  {
   "cell_type": "code",
   "execution_count": 41,
   "id": "43d0f3f3-eb39-4920-9302-10a9f7d5eb3c",
   "metadata": {
    "scrolled": true
   },
   "outputs": [
    {
     "data": {
      "application/vnd.jupyter.widget-view+json": {
       "model_id": "2636e71dea9642c5b44cf8b8bba21a15",
       "version_major": 2,
       "version_minor": 0
      },
      "text/plain": [
       "VBox(children=(HBox(children=(IntProgress(value=0, description='0.00%', max=9689), Label(value='0 / 9689'))), …"
      ]
     },
     "metadata": {},
     "output_type": "display_data"
    }
   ],
   "source": [
    "top300_contri_time_spent = make_time_spent(top300_contri_grouped_rank)\n",
    "top300_contri_generated_activity_base = make_generated_activity_base(top300_contri_df_issue_clean)\n",
    "top300_contri_generated_activity_time = make_generated_activity_time(top300_contri_generated_activity_base, top300_contri_time_spent)"
   ]
  },
  {
   "cell_type": "code",
   "execution_count": 42,
   "id": "b3b986e2-f2eb-4378-bb0b-3acf6e23bfbc",
   "metadata": {
    "scrolled": true
   },
   "outputs": [
    {
     "data": {
      "application/vnd.jupyter.widget-view+json": {
       "model_id": "8823fb3bfaf34d5ca65174aa119d4f7d",
       "version_major": 2,
       "version_minor": 0
      },
      "text/plain": [
       "VBox(children=(HBox(children=(IntProgress(value=0, description='0.00%', max=7623), Label(value='0 / 7623'))), …"
      ]
     },
     "metadata": {},
     "output_type": "display_data"
    }
   ],
   "source": [
    "nottop300_contri_time_spent = make_time_spent(nottop300_contri_grouped_rank)\n",
    "nottop300_contri_generated_activity_base = make_generated_activity_base(nottop300_contri_df_issue_clean)\n",
    "nottop300_contri_generated_activity_time = make_generated_activity_time(nottop300_contri_generated_activity_base, nottop300_contri_time_spent)"
   ]
  },
  {
   "cell_type": "code",
   "execution_count": 43,
   "id": "ce326b3c-bfe8-4d2a-bff5-705efafe4a24",
   "metadata": {
    "scrolled": true
   },
   "outputs": [
    {
     "data": {
      "text/html": [
       "<table border=\"1\" class=\"dataframe\">\n",
       "  <thead>\n",
       "    <tr style=\"text-align: right;\">\n",
       "      <th>Top 300 Repositories, by Contributor Count</th>\n",
       "      <th>Amount of Activity</th>\n",
       "      <th>Proportion</th>\n",
       "      <th># of Opened Issues</th>\n",
       "      <th># of Closed Issues</th>\n",
       "      <th># of Closed Issues (Own Issue)</th>\n",
       "      <th># of Closed Issues (Others Issue)</th>\n",
       "      <th># of Comments</th>\n",
       "      <th># of Comments (Own Issue)</th>\n",
       "      <th># of Comments (Others Issue)</th>\n",
       "    </tr>\n",
       "  </thead>\n",
       "  <tbody>\n",
       "    <tr>\n",
       "      <th>NONE</th>\n",
       "      <td>1,225,733.0</td>\n",
       "      <td>0.54</td>\n",
       "      <td>371,030<br>(0.69)</td>\n",
       "      <td>4,208<br>(0.10)</td>\n",
       "      <td>4,208<br>(0.52)</td>\n",
       "      <td>nan<br>(nan)</td>\n",
       "      <td>850,495<br>(0.51)</td>\n",
       "      <td>327,956<br>(0.68)</td>\n",
       "      <td>522,539<br>(0.44)</td>\n",
       "    </tr>\n",
       "    <tr>\n",
       "      <th>CONTRIBUTOR</th>\n",
       "      <td>437,577.0</td>\n",
       "      <td>0.19</td>\n",
       "      <td>86,154<br>(0.16)</td>\n",
       "      <td>17,327<br>(0.41)</td>\n",
       "      <td>1,332<br>(0.16)</td>\n",
       "      <td>15,995.0<br>(0.46)</td>\n",
       "      <td>334,096<br>(0.20)</td>\n",
       "      <td>72,731<br>(0.15)</td>\n",
       "      <td>261,365<br>(0.22)</td>\n",
       "    </tr>\n",
       "    <tr>\n",
       "      <th>MEMBER</th>\n",
       "      <td>308,986.0</td>\n",
       "      <td>0.14</td>\n",
       "      <td>52,344<br>(0.10)</td>\n",
       "      <td>2,475<br>(0.06)</td>\n",
       "      <td>410<br>(0.05)</td>\n",
       "      <td>2,065.0<br>(0.06)</td>\n",
       "      <td>254,167<br>(0.15)</td>\n",
       "      <td>57,057<br>(0.12)</td>\n",
       "      <td>197,110<br>(0.16)</td>\n",
       "    </tr>\n",
       "    <tr>\n",
       "      <th>COLLABORATOR</th>\n",
       "      <td>223,166.0</td>\n",
       "      <td>0.10</td>\n",
       "      <td>24,276<br>(0.04)</td>\n",
       "      <td>4,533<br>(0.11)</td>\n",
       "      <td>426<br>(0.05)</td>\n",
       "      <td>4,107.0<br>(0.12)</td>\n",
       "      <td>194,357<br>(0.12)</td>\n",
       "      <td>22,959<br>(0.05)</td>\n",
       "      <td>171,398<br>(0.14)</td>\n",
       "    </tr>\n",
       "    <tr>\n",
       "      <th>OWNER</th>\n",
       "      <td>68,428.0</td>\n",
       "      <td>0.03</td>\n",
       "      <td>6,460<br>(0.01)</td>\n",
       "      <td>14,166<br>(0.33)</td>\n",
       "      <td>1,735<br>(0.21)</td>\n",
       "      <td>12,431.0<br>(0.36)</td>\n",
       "      <td>47,802<br>(0.03)</td>\n",
       "      <td>3,164<br>(0.01)</td>\n",
       "      <td>44,638<br>(0.04)</td>\n",
       "    </tr>\n",
       "  </tbody>\n",
       "</table>"
      ],
      "text/plain": [
       "<IPython.core.display.HTML object>"
      ]
     },
     "metadata": {},
     "output_type": "display_data"
    }
   ],
   "source": [
    "top300_contri_generated_activity_time.columns.name = 'Top 300 Repositories, by Contributor Count'\n",
    "pretty_print(top300_contri_generated_activity_time[['Amount of Activity','Proportion','# of Opened Issues','# of Closed Issues',\n",
    "                         '# of Closed Issues (Own Issue)','# of Closed Issues (Others Issue)','# of Comments','# of Comments (Own Issue)',\n",
    "                         '# of Comments (Others Issue)']])"
   ]
  },
  {
   "cell_type": "code",
   "execution_count": 150,
   "id": "e1362b0b-2211-4760-9539-586a0665c656",
   "metadata": {
    "scrolled": true
   },
   "outputs": [
    {
     "data": {
      "text/html": [
       "<table border=\"1\" class=\"dataframe\">\n",
       "  <thead>\n",
       "    <tr style=\"text-align: right;\">\n",
       "      <th>All Repositories except Top 300 by Contributor Count</th>\n",
       "      <th>Amount of Activity</th>\n",
       "      <th>Proportion</th>\n",
       "      <th># of Opened Issues</th>\n",
       "      <th># of Closed Issues</th>\n",
       "      <th># of Closed Issues (Own Issue)</th>\n",
       "      <th># of Closed Issues (Others Issue)</th>\n",
       "      <th># of Comments</th>\n",
       "      <th># of Comments (Own Issue)</th>\n",
       "      <th># of Comments (Others Issue)</th>\n",
       "    </tr>\n",
       "  </thead>\n",
       "  <tbody>\n",
       "    <tr>\n",
       "      <th>NONE</th>\n",
       "      <td>1,034,873.0</td>\n",
       "      <td>0.49</td>\n",
       "      <td>363,950<br>(0.62)</td>\n",
       "      <td>4,258<br>(0.05)</td>\n",
       "      <td>4,258<br>(0.19)</td>\n",
       "      <td>nan<br>(nan)</td>\n",
       "      <td>666,665<br>(0.47)</td>\n",
       "      <td>299,053<br>(0.62)</td>\n",
       "      <td>367,612<br>(0.39)</td>\n",
       "    </tr>\n",
       "    <tr>\n",
       "      <th>CONTRIBUTOR</th>\n",
       "      <td>496,475.0</td>\n",
       "      <td>0.24</td>\n",
       "      <td>123,336<br>(0.21)</td>\n",
       "      <td>23,562<br>(0.27)</td>\n",
       "      <td>3,193<br>(0.14)</td>\n",
       "      <td>20,369.0<br>(0.31)</td>\n",
       "      <td>349,577<br>(0.24)</td>\n",
       "      <td>97,659<br>(0.20)</td>\n",
       "      <td>251,918<br>(0.26)</td>\n",
       "    </tr>\n",
       "    <tr>\n",
       "      <th>MEMBER</th>\n",
       "      <td>156,928.0</td>\n",
       "      <td>0.07</td>\n",
       "      <td>33,464<br>(0.06)</td>\n",
       "      <td>1,406<br>(0.02)</td>\n",
       "      <td>411<br>(0.02)</td>\n",
       "      <td>995.0<br>(0.02)</td>\n",
       "      <td>122,058<br>(0.09)</td>\n",
       "      <td>28,373<br>(0.06)</td>\n",
       "      <td>93,685<br>(0.10)</td>\n",
       "    </tr>\n",
       "    <tr>\n",
       "      <th>COLLABORATOR</th>\n",
       "      <td>160,735.0</td>\n",
       "      <td>0.08</td>\n",
       "      <td>36,806<br>(0.06)</td>\n",
       "      <td>3,381<br>(0.04)</td>\n",
       "      <td>744<br>(0.03)</td>\n",
       "      <td>2,637.0<br>(0.04)</td>\n",
       "      <td>120,548<br>(0.08)</td>\n",
       "      <td>33,319<br>(0.07)</td>\n",
       "      <td>87,229<br>(0.09)</td>\n",
       "    </tr>\n",
       "    <tr>\n",
       "      <th>OWNER</th>\n",
       "      <td>260,147.0</td>\n",
       "      <td>0.12</td>\n",
       "      <td>30,210<br>(0.05)</td>\n",
       "      <td>55,390<br>(0.63)</td>\n",
       "      <td>13,931<br>(0.62)</td>\n",
       "      <td>41,459.0<br>(0.63)</td>\n",
       "      <td>174,547<br>(0.12)</td>\n",
       "      <td>21,426<br>(0.04)</td>\n",
       "      <td>153,121<br>(0.16)</td>\n",
       "    </tr>\n",
       "  </tbody>\n",
       "</table>"
      ],
      "text/plain": [
       "<IPython.core.display.HTML object>"
      ]
     },
     "metadata": {},
     "output_type": "display_data"
    }
   ],
   "source": [
    "nottop300_contri_generated_activity_time.columns.name = 'All Repositories except Top 300 by Contributor Count'\n",
    "pretty_print(nottop300_contri_generated_activity_time[['Amount of Activity','Proportion','# of Opened Issues','# of Closed Issues',\n",
    "                         '# of Closed Issues (Own Issue)','# of Closed Issues (Others Issue)','# of Comments','# of Comments (Own Issue)',\n",
    "                         '# of Comments (Others Issue)']]) "
   ]
  },
  {
   "cell_type": "code",
   "execution_count": 159,
   "id": "2e25cb97-e2b4-4ea6-bfad-f7639cf21f21",
   "metadata": {},
   "outputs": [
    {
     "name": "stdout",
     "output_type": "stream",
     "text": [
      "3.8280183985089686 526347\n",
      "3.0017242245174685 597370\n"
     ]
    }
   ],
   "source": [
    "print(top300_contri_df_issue_clean.shape[0]/top300_contri_df_issue_clean['key'].unique().shape[0], top300_contri_df_issue_clean['key'].unique().shape[0])\n",
    "print(nottop300_contri_df_issue_clean.shape[0]/nottop300_contri_df_issue_clean['key'].unique().shape[0], nottop300_contri_df_issue_clean['key'].unique().shape[0])"
   ]
  },
  {
   "cell_type": "code",
   "execution_count": 44,
   "id": "e8fce725-5fa8-4d1f-a6c7-0441028f6275",
   "metadata": {
    "scrolled": true
   },
   "outputs": [
    {
     "data": {
      "text/html": [
       "<table border=\"1\" class=\"dataframe\">\n",
       "  <thead>\n",
       "    <tr style=\"text-align: right;\">\n",
       "      <th>Top 300 Repositories, by Contributor Count</th>\n",
       "      <th>Amount of Activity</th>\n",
       "      <th>Time Spent (Worker-Years)</th>\n",
       "      <th>Activity/Worker-Year</th>\n",
       "      <th>Opened Issues/Time Spent</th>\n",
       "      <th>Closed Issues/Time Spent</th>\n",
       "      <th>Closed Issues (Own Issue)/Time Spent</th>\n",
       "      <th>Closed Issues (Others Issue)/Time Spent</th>\n",
       "      <th>Comments/Time Spent</th>\n",
       "      <th>Comments (Own Issue)/Time Spent</th>\n",
       "      <th>Comments (Others Issue)/Time Spent</th>\n",
       "    </tr>\n",
       "  </thead>\n",
       "  <tbody>\n",
       "    <tr>\n",
       "      <th>NONE</th>\n",
       "      <td>1,225,733.0</td>\n",
       "      <td>106,180.52<br>(0.81)</td>\n",
       "      <td>11.54</td>\n",
       "      <td>3.49<br> (30.27%)</td>\n",
       "      <td>0.04<br> (0.34%)</td>\n",
       "      <td>0.04<br> (0.34%)</td>\n",
       "      <td>nan<br> (nan%)</td>\n",
       "      <td>8.01<br> (69.39%)</td>\n",
       "      <td>3.09<br> (26.76%)</td>\n",
       "      <td>4.92<br> (42.63%)</td>\n",
       "    </tr>\n",
       "    <tr>\n",
       "      <th>CONTRIBUTOR</th>\n",
       "      <td>437,577.0</td>\n",
       "      <td>16,805.11<br>(0.13)</td>\n",
       "      <td>26.04</td>\n",
       "      <td>5.13<br> (19.69%)</td>\n",
       "      <td>1.03<br> (3.96%)</td>\n",
       "      <td>0.08<br> (0.30%)</td>\n",
       "      <td>0.95<br> (3.66%)</td>\n",
       "      <td>19.88<br> (76.35%)</td>\n",
       "      <td>4.33<br> (16.62%)</td>\n",
       "      <td>15.55<br> (59.73%)</td>\n",
       "    </tr>\n",
       "    <tr>\n",
       "      <th>MEMBER</th>\n",
       "      <td>308,986.0</td>\n",
       "      <td>5,980.16<br>(0.05)</td>\n",
       "      <td>51.67</td>\n",
       "      <td>8.75<br> (16.94%)</td>\n",
       "      <td>0.41<br> (0.80%)</td>\n",
       "      <td>0.07<br> (0.13%)</td>\n",
       "      <td>0.35<br> (0.67%)</td>\n",
       "      <td>42.50<br> (82.26%)</td>\n",
       "      <td>9.54<br> (18.47%)</td>\n",
       "      <td>32.96<br> (63.79%)</td>\n",
       "    </tr>\n",
       "    <tr>\n",
       "      <th>COLLABORATOR</th>\n",
       "      <td>223,166.0</td>\n",
       "      <td>1,843.19<br>(0.01)</td>\n",
       "      <td>121.08</td>\n",
       "      <td>13.17<br> (10.88%)</td>\n",
       "      <td>2.46<br> (2.03%)</td>\n",
       "      <td>0.23<br> (0.19%)</td>\n",
       "      <td>2.23<br> (1.84%)</td>\n",
       "      <td>105.45<br> (87.09%)</td>\n",
       "      <td>12.46<br> (10.29%)</td>\n",
       "      <td>92.99<br> (76.80%)</td>\n",
       "    </tr>\n",
       "    <tr>\n",
       "      <th>OWNER</th>\n",
       "      <td>68,428.0</td>\n",
       "      <td>318.75<br>(0.00)</td>\n",
       "      <td>214.68</td>\n",
       "      <td>20.27<br> (9.44%)</td>\n",
       "      <td>44.44<br> (20.70%)</td>\n",
       "      <td>5.44<br> (2.54%)</td>\n",
       "      <td>39.00<br> (18.17%)</td>\n",
       "      <td>149.97<br> (69.86%)</td>\n",
       "      <td>9.93<br> (4.62%)</td>\n",
       "      <td>140.04<br> (65.23%)</td>\n",
       "    </tr>\n",
       "  </tbody>\n",
       "</table>"
      ],
      "text/plain": [
       "<IPython.core.display.HTML object>"
      ]
     },
     "metadata": {},
     "output_type": "display_data"
    }
   ],
   "source": [
    "pretty_print(top300_contri_generated_activity_time[['Amount of Activity','Time Spent (Worker-Years)','Activity/Worker-Year','Opened Issues/Time Spent',\n",
    "                                      'Closed Issues/Time Spent','Closed Issues (Own Issue)/Time Spent','Closed Issues (Others Issue)/Time Spent','Comments/Time Spent',\n",
    "                                      'Comments (Own Issue)/Time Spent','Comments (Others Issue)/Time Spent']])"
   ]
  },
  {
   "cell_type": "code",
   "execution_count": 45,
   "id": "c6cd3284-a28b-4eb3-be17-f80caefce7a5",
   "metadata": {},
   "outputs": [
    {
     "data": {
      "text/html": [
       "<table border=\"1\" class=\"dataframe\">\n",
       "  <thead>\n",
       "    <tr style=\"text-align: right;\">\n",
       "      <th></th>\n",
       "      <th>Amount of Activity</th>\n",
       "      <th>Time Spent (Worker-Years)</th>\n",
       "      <th>Activity/Worker-Year</th>\n",
       "      <th>Opened Issues/Time Spent</th>\n",
       "      <th>Closed Issues/Time Spent</th>\n",
       "      <th>Closed Issues (Own Issue)/Time Spent</th>\n",
       "      <th>Closed Issues (Others Issue)/Time Spent</th>\n",
       "      <th>Comments/Time Spent</th>\n",
       "      <th>Comments (Own Issue)/Time Spent</th>\n",
       "      <th>Comments (Others Issue)/Time Spent</th>\n",
       "    </tr>\n",
       "  </thead>\n",
       "  <tbody>\n",
       "    <tr>\n",
       "      <th>NONE</th>\n",
       "      <td>1,034,873.0</td>\n",
       "      <td>75,864.98<br>(0.56)</td>\n",
       "      <td>13.64</td>\n",
       "      <td>4.80<br> (35.17%)</td>\n",
       "      <td>0.06<br> (0.41%)</td>\n",
       "      <td>0.06<br> (0.41%)</td>\n",
       "      <td>nan<br> (nan%)</td>\n",
       "      <td>8.79<br> (64.42%)</td>\n",
       "      <td>3.94<br> (28.90%)</td>\n",
       "      <td>4.85<br> (35.52%)</td>\n",
       "    </tr>\n",
       "    <tr>\n",
       "      <th>CONTRIBUTOR</th>\n",
       "      <td>496,475.0</td>\n",
       "      <td>28,701.43<br>(0.21)</td>\n",
       "      <td>17.30</td>\n",
       "      <td>4.30<br> (24.84%)</td>\n",
       "      <td>0.82<br> (4.75%)</td>\n",
       "      <td>0.11<br> (0.64%)</td>\n",
       "      <td>0.71<br> (4.10%)</td>\n",
       "      <td>12.18<br> (70.41%)</td>\n",
       "      <td>3.40<br> (19.67%)</td>\n",
       "      <td>8.78<br> (50.74%)</td>\n",
       "    </tr>\n",
       "    <tr>\n",
       "      <th>MEMBER</th>\n",
       "      <td>156,928.0</td>\n",
       "      <td>12,214.90<br>(0.09)</td>\n",
       "      <td>12.85</td>\n",
       "      <td>2.74<br> (21.32%)</td>\n",
       "      <td>0.12<br> (0.90%)</td>\n",
       "      <td>0.03<br> (0.26%)</td>\n",
       "      <td>0.08<br> (0.63%)</td>\n",
       "      <td>9.99<br> (77.78%)</td>\n",
       "      <td>2.32<br> (18.08%)</td>\n",
       "      <td>7.67<br> (59.70%)</td>\n",
       "    </tr>\n",
       "    <tr>\n",
       "      <th>COLLABORATOR</th>\n",
       "      <td>160,735.0</td>\n",
       "      <td>6,476.15<br>(0.05)</td>\n",
       "      <td>24.82</td>\n",
       "      <td>5.68<br> (22.90%)</td>\n",
       "      <td>0.52<br> (2.10%)</td>\n",
       "      <td>0.11<br> (0.46%)</td>\n",
       "      <td>0.41<br> (1.64%)</td>\n",
       "      <td>18.61<br> (75.00%)</td>\n",
       "      <td>5.14<br> (20.73%)</td>\n",
       "      <td>13.47<br> (54.27%)</td>\n",
       "    </tr>\n",
       "    <tr>\n",
       "      <th>OWNER</th>\n",
       "      <td>260,147.0</td>\n",
       "      <td>11,404.59<br>(0.08)</td>\n",
       "      <td>22.81</td>\n",
       "      <td>2.65<br> (11.61%)</td>\n",
       "      <td>4.86<br> (21.29%)</td>\n",
       "      <td>1.22<br> (5.36%)</td>\n",
       "      <td>3.64<br> (15.94%)</td>\n",
       "      <td>15.30<br> (67.10%)</td>\n",
       "      <td>1.88<br> (8.24%)</td>\n",
       "      <td>13.43<br> (58.86%)</td>\n",
       "    </tr>\n",
       "  </tbody>\n",
       "</table>"
      ],
      "text/plain": [
       "<IPython.core.display.HTML object>"
      ]
     },
     "metadata": {},
     "output_type": "display_data"
    }
   ],
   "source": [
    "pretty_print(nottop300_contri_generated_activity_time[['Amount of Activity','Time Spent (Worker-Years)','Activity/Worker-Year','Opened Issues/Time Spent',\n",
    "                                      'Closed Issues/Time Spent','Closed Issues (Own Issue)/Time Spent','Closed Issues (Others Issue)/Time Spent','Comments/Time Spent',\n",
    "                                      'Comments (Own Issue)/Time Spent','Comments (Others Issue)/Time Spent']])"
   ]
  },
  {
   "cell_type": "markdown",
   "id": "f45141a0-b44d-4ad4-b727-da7280cbc0a9",
   "metadata": {},
   "source": [
    "## Analyzing the Lifetime of an Issue"
   ]
  },
  {
   "cell_type": "code",
   "execution_count": 9,
   "id": "11f1d4bd-4474-4950-98ab-bce74613f4d5",
   "metadata": {
    "scrolled": true
   },
   "outputs": [],
   "source": [
    "non_author_comments = df_issue_clean[(df_issue_clean['type'] == 'IssueCommentEvent') & (df_issue_clean['actor_login'] != df_issue_clean['issue_user_login'])]"
   ]
  },
  {
   "cell_type": "code",
   "execution_count": 27,
   "id": "48c4808f-1643-43fa-953a-341777f91dd9",
   "metadata": {},
   "outputs": [
    {
     "name": "stdout",
     "output_type": "stream",
     "text": [
      "2.08 contributors to each issue on average\n"
     ]
    }
   ],
   "source": [
    "num_contributors = df_issue_clean[['key', 'actor_login']].drop_duplicates()\n",
    "print(f\"{num_contributors.shape[0]/df_issue_clean['key'].unique().shape[0]:.2f} contributors to each issue on average\")"
   ]
  },
  {
   "cell_type": "code",
   "execution_count": 20,
   "id": "ee349257-2637-4db2-aa57-34d09f1279f8",
   "metadata": {},
   "outputs": [],
   "source": [
    "contributors_per_issue = num_contributors.groupby('key')['actor_login'].count()"
   ]
  },
  {
   "cell_type": "code",
   "execution_count": 26,
   "id": "9b041257-356d-4332-80b2-4326bc4a77bd",
   "metadata": {},
   "outputs": [
    {
     "data": {
      "image/png": "[encoded data removed]",
      "text/plain": [
       "<Figure size 800x550 with 1 Axes>"
      ]
     },
     "metadata": {},
     "output_type": "display_data"
    }
   ],
   "source": [
    "fig, ax = plt.subplots()\n",
    "contributors_per_issue.plot(kind = 'hist', ax = ax, bins = 50)\n",
    "ax.set_yscale('log')\n",
    "plt.show()"
   ]
  },
  {
   "cell_type": "code",
   "execution_count": 29,
   "id": "7210b41b-de00-4744-8360-46cec1527d6b",
   "metadata": {
    "scrolled": true
   },
   "outputs": [],
   "source": [
    "first_nonauthor_comment = non_author_comments.sort_values('created_at').drop_duplicates(['key'])"
   ]
  },
  {
   "cell_type": "code",
   "execution_count": 42,
   "id": "d92e3fd5-0031-4efc-9909-cee1ba0770c1",
   "metadata": {
    "scrolled": true
   },
   "outputs": [],
   "source": [
    "second_nonauthor_comment = non_author_comments[~non_author_comments.index.isin(first_nonauthor_comment.index)].sort_values(\n",
    "    'created_at').drop_duplicates(['key'])"
   ]
  },
  {
   "cell_type": "code",
   "execution_count": 53,
   "id": "a247e96b-790f-41ac-acfc-e39e159d60bb",
   "metadata": {
    "scrolled": true
   },
   "outputs": [
    {
     "data": {
      "text/html": [
       "<div>\n",
       "<style scoped>\n",
       "    .dataframe tbody tr th:only-of-type {\n",
       "        vertical-align: middle;\n",
       "    }\n",
       "\n",
       "    .dataframe tbody tr th {\n",
       "        vertical-align: top;\n",
       "    }\n",
       "\n",
       "    .dataframe thead th {\n",
       "        text-align: right;\n",
       "    }\n",
       "</style>\n",
       "<table border=\"1\" class=\"dataframe\">\n",
       "  <thead>\n",
       "    <tr style=\"text-align: right;\">\n",
       "      <th></th>\n",
       "      <th>issue_author_association_repaired</th>\n",
       "      <th>actor_repo_association_repaired</th>\n",
       "      <th>count</th>\n",
       "      <th>proportion</th>\n",
       "      <th>count</th>\n",
       "      <th>proportion</th>\n",
       "    </tr>\n",
       "  </thead>\n",
       "  <tbody>\n",
       "    <tr>\n",
       "      <th>0</th>\n",
       "      <td>NONE</td>\n",
       "      <td>NONE</td>\n",
       "      <td>283016</td>\n",
       "      <td>0.47</td>\n",
       "      <td>158893</td>\n",
       "      <td>0.48</td>\n",
       "    </tr>\n",
       "    <tr>\n",
       "      <th>1</th>\n",
       "      <td>NONE</td>\n",
       "      <td>CONTRIBUTOR</td>\n",
       "      <td>144774</td>\n",
       "      <td>0.24</td>\n",
       "      <td>75255</td>\n",
       "      <td>0.23</td>\n",
       "    </tr>\n",
       "    <tr>\n",
       "      <th>2</th>\n",
       "      <td>NONE</td>\n",
       "      <td>MEMBER</td>\n",
       "      <td>62234</td>\n",
       "      <td>0.10</td>\n",
       "      <td>36586</td>\n",
       "      <td>0.11</td>\n",
       "    </tr>\n",
       "    <tr>\n",
       "      <th>3</th>\n",
       "      <td>NONE</td>\n",
       "      <td>COLLABORATOR</td>\n",
       "      <td>59120</td>\n",
       "      <td>0.10</td>\n",
       "      <td>33006</td>\n",
       "      <td>0.10</td>\n",
       "    </tr>\n",
       "    <tr>\n",
       "      <th>4</th>\n",
       "      <td>NONE</td>\n",
       "      <td>OWNER</td>\n",
       "      <td>51159</td>\n",
       "      <td>0.09</td>\n",
       "      <td>25587</td>\n",
       "      <td>0.08</td>\n",
       "    </tr>\n",
       "    <tr>\n",
       "      <th>5</th>\n",
       "      <td>CONTRIBUTOR</td>\n",
       "      <td>CONTRIBUTOR</td>\n",
       "      <td>46973</td>\n",
       "      <td>0.36</td>\n",
       "      <td>19434</td>\n",
       "      <td>0.33</td>\n",
       "    </tr>\n",
       "    <tr>\n",
       "      <th>6</th>\n",
       "      <td>CONTRIBUTOR</td>\n",
       "      <td>NONE</td>\n",
       "      <td>36379</td>\n",
       "      <td>0.28</td>\n",
       "      <td>18612</td>\n",
       "      <td>0.32</td>\n",
       "    </tr>\n",
       "    <tr>\n",
       "      <th>7</th>\n",
       "      <td>CONTRIBUTOR</td>\n",
       "      <td>MEMBER</td>\n",
       "      <td>22500</td>\n",
       "      <td>0.17</td>\n",
       "      <td>9527</td>\n",
       "      <td>0.16</td>\n",
       "    </tr>\n",
       "    <tr>\n",
       "      <th>8</th>\n",
       "      <td>CONTRIBUTOR</td>\n",
       "      <td>COLLABORATOR</td>\n",
       "      <td>22306</td>\n",
       "      <td>0.17</td>\n",
       "      <td>8772</td>\n",
       "      <td>0.15</td>\n",
       "    </tr>\n",
       "    <tr>\n",
       "      <th>9</th>\n",
       "      <td>CONTRIBUTOR</td>\n",
       "      <td>OWNER</td>\n",
       "      <td>3731</td>\n",
       "      <td>0.03</td>\n",
       "      <td>1951</td>\n",
       "      <td>0.03</td>\n",
       "    </tr>\n",
       "    <tr>\n",
       "      <th>10</th>\n",
       "      <td>MEMBER</td>\n",
       "      <td>MEMBER</td>\n",
       "      <td>18814</td>\n",
       "      <td>0.34</td>\n",
       "      <td>8738</td>\n",
       "      <td>0.32</td>\n",
       "    </tr>\n",
       "    <tr>\n",
       "      <th>11</th>\n",
       "      <td>MEMBER</td>\n",
       "      <td>NONE</td>\n",
       "      <td>13676</td>\n",
       "      <td>0.24</td>\n",
       "      <td>7145</td>\n",
       "      <td>0.26</td>\n",
       "    </tr>\n",
       "    <tr>\n",
       "      <th>12</th>\n",
       "      <td>MEMBER</td>\n",
       "      <td>CONTRIBUTOR</td>\n",
       "      <td>12894</td>\n",
       "      <td>0.23</td>\n",
       "      <td>6319</td>\n",
       "      <td>0.23</td>\n",
       "    </tr>\n",
       "    <tr>\n",
       "      <th>13</th>\n",
       "      <td>MEMBER</td>\n",
       "      <td>COLLABORATOR</td>\n",
       "      <td>10370</td>\n",
       "      <td>0.19</td>\n",
       "      <td>5026</td>\n",
       "      <td>0.18</td>\n",
       "    </tr>\n",
       "    <tr>\n",
       "      <th>14</th>\n",
       "      <td>MEMBER</td>\n",
       "      <td>OWNER</td>\n",
       "      <td>84</td>\n",
       "      <td>0.00</td>\n",
       "      <td>36</td>\n",
       "      <td>0.00</td>\n",
       "    </tr>\n",
       "    <tr>\n",
       "      <th>15</th>\n",
       "      <td>COLLABORATOR</td>\n",
       "      <td>COLLABORATOR</td>\n",
       "      <td>14567</td>\n",
       "      <td>0.40</td>\n",
       "      <td>5429</td>\n",
       "      <td>0.35</td>\n",
       "    </tr>\n",
       "    <tr>\n",
       "      <th>16</th>\n",
       "      <td>COLLABORATOR</td>\n",
       "      <td>NONE</td>\n",
       "      <td>8904</td>\n",
       "      <td>0.24</td>\n",
       "      <td>3770</td>\n",
       "      <td>0.24</td>\n",
       "    </tr>\n",
       "    <tr>\n",
       "      <th>17</th>\n",
       "      <td>COLLABORATOR</td>\n",
       "      <td>CONTRIBUTOR</td>\n",
       "      <td>7501</td>\n",
       "      <td>0.21</td>\n",
       "      <td>3282</td>\n",
       "      <td>0.21</td>\n",
       "    </tr>\n",
       "    <tr>\n",
       "      <th>18</th>\n",
       "      <td>COLLABORATOR</td>\n",
       "      <td>MEMBER</td>\n",
       "      <td>5187</td>\n",
       "      <td>0.14</td>\n",
       "      <td>3046</td>\n",
       "      <td>0.19</td>\n",
       "    </tr>\n",
       "    <tr>\n",
       "      <th>19</th>\n",
       "      <td>COLLABORATOR</td>\n",
       "      <td>OWNER</td>\n",
       "      <td>404</td>\n",
       "      <td>0.01</td>\n",
       "      <td>195</td>\n",
       "      <td>0.01</td>\n",
       "    </tr>\n",
       "    <tr>\n",
       "      <th>20</th>\n",
       "      <td>OWNER</td>\n",
       "      <td>NONE</td>\n",
       "      <td>8038</td>\n",
       "      <td>0.82</td>\n",
       "      <td>2765</td>\n",
       "      <td>0.79</td>\n",
       "    </tr>\n",
       "    <tr>\n",
       "      <th>21</th>\n",
       "      <td>OWNER</td>\n",
       "      <td>CONTRIBUTOR</td>\n",
       "      <td>997</td>\n",
       "      <td>0.10</td>\n",
       "      <td>362</td>\n",
       "      <td>0.10</td>\n",
       "    </tr>\n",
       "    <tr>\n",
       "      <th>22</th>\n",
       "      <td>OWNER</td>\n",
       "      <td>OWNER</td>\n",
       "      <td>347</td>\n",
       "      <td>0.04</td>\n",
       "      <td>143</td>\n",
       "      <td>0.04</td>\n",
       "    </tr>\n",
       "    <tr>\n",
       "      <th>23</th>\n",
       "      <td>OWNER</td>\n",
       "      <td>COLLABORATOR</td>\n",
       "      <td>308</td>\n",
       "      <td>0.03</td>\n",
       "      <td>168</td>\n",
       "      <td>0.05</td>\n",
       "    </tr>\n",
       "    <tr>\n",
       "      <th>24</th>\n",
       "      <td>OWNER</td>\n",
       "      <td>MEMBER</td>\n",
       "      <td>103</td>\n",
       "      <td>0.01</td>\n",
       "      <td>44</td>\n",
       "      <td>0.01</td>\n",
       "    </tr>\n",
       "  </tbody>\n",
       "</table>\n",
       "</div>"
      ],
      "text/plain": [
       "   issue_author_association_repaired actor_repo_association_repaired   count  \\\n",
       "0                               NONE                            NONE  283016   \n",
       "1                               NONE                     CONTRIBUTOR  144774   \n",
       "2                               NONE                          MEMBER   62234   \n",
       "3                               NONE                    COLLABORATOR   59120   \n",
       "4                               NONE                           OWNER   51159   \n",
       "5                        CONTRIBUTOR                     CONTRIBUTOR   46973   \n",
       "6                        CONTRIBUTOR                            NONE   36379   \n",
       "7                        CONTRIBUTOR                          MEMBER   22500   \n",
       "8                        CONTRIBUTOR                    COLLABORATOR   22306   \n",
       "9                        CONTRIBUTOR                           OWNER    3731   \n",
       "10                            MEMBER                          MEMBER   18814   \n",
       "11                            MEMBER                            NONE   13676   \n",
       "12                            MEMBER                     CONTRIBUTOR   12894   \n",
       "13                            MEMBER                    COLLABORATOR   10370   \n",
       "14                            MEMBER                           OWNER      84   \n",
       "15                      COLLABORATOR                    COLLABORATOR   14567   \n",
       "16                      COLLABORATOR                            NONE    8904   \n",
       "17                      COLLABORATOR                     CONTRIBUTOR    7501   \n",
       "18                      COLLABORATOR                          MEMBER    5187   \n",
       "19                      COLLABORATOR                           OWNER     404   \n",
       "20                             OWNER                            NONE    8038   \n",
       "21                             OWNER                     CONTRIBUTOR     997   \n",
       "22                             OWNER                           OWNER     347   \n",
       "23                             OWNER                    COLLABORATOR     308   \n",
       "24                             OWNER                          MEMBER     103   \n",
       "\n",
       "    proportion   count  proportion  \n",
       "0         0.47  158893        0.48  \n",
       "1         0.24   75255        0.23  \n",
       "2         0.10   36586        0.11  \n",
       "3         0.10   33006        0.10  \n",
       "4         0.09   25587        0.08  \n",
       "5         0.36   19434        0.33  \n",
       "6         0.28   18612        0.32  \n",
       "7         0.17    9527        0.16  \n",
       "8         0.17    8772        0.15  \n",
       "9         0.03    1951        0.03  \n",
       "10        0.34    8738        0.32  \n",
       "11        0.24    7145        0.26  \n",
       "12        0.23    6319        0.23  \n",
       "13        0.19    5026        0.18  \n",
       "14        0.00      36        0.00  \n",
       "15        0.40    5429        0.35  \n",
       "16        0.24    3770        0.24  \n",
       "17        0.21    3282        0.21  \n",
       "18        0.14    3046        0.19  \n",
       "19        0.01     195        0.01  \n",
       "20        0.82    2765        0.79  \n",
       "21        0.10     362        0.10  \n",
       "22        0.04     143        0.04  \n",
       "23        0.03     168        0.05  \n",
       "24        0.01      44        0.01  "
      ]
     },
     "execution_count": 53,
     "metadata": {},
     "output_type": "execute_result"
    }
   ],
   "source": [
    "# second commenter normally same as first commenter\n",
    "# surprisingly a lot of NONEs reply to NONE opened issues (discussion involving unaffiliateds, and then contributors)\n",
    "# mostly NONEs that respond to OWNER issues (interesting...very unhierarchical)\n",
    "# otherwise OWNERs rarely respond to issues\n",
    "# CONTRIBUTOR -> most likely is fellow contributor, then NONE (how to explain?) then MEMBER and then COLLABORATOR\n",
    "# COLLABORATOR -> most likely is COLLABORATOR, then NONE, then CONTRIBUTOR then MEMBER\n",
    "# MEMBER IS WEIRD\n",
    "# similarly MEMBER -> most likely is MEMBER, then NONE, then CONTRIBUTOR, then COLLABORATOR\n",
    "# i mean general vibe is similar RANK, and then decreasing chance of lower -> higher rank individuals\n",
    "\n",
    "\n",
    "commentor_author = pd.concat([first_nonauthor_comment.groupby('issue_author_association_repaired')[\n",
    "                              'actor_repo_association_repaired'].value_counts(),\n",
    "                              first_nonauthor_comment.groupby('issue_author_association_repaired')[\n",
    "                              'actor_repo_association_repaired'].value_counts(normalize = True),\n",
    "                              second_nonauthor_comment.groupby('issue_author_association_repaired')[\n",
    "                              'actor_repo_association_repaired'].value_counts(),\n",
    "                              second_nonauthor_comment.groupby('issue_author_association_repaired')[\n",
    "                              'actor_repo_association_repaired'].value_counts(normalize = True),\n",
    "          ], axis = 1).loc[[\n",
    "    'NONE', 'CONTRIBUTOR', 'MEMBER', 'COLLABORATOR', 'OWNER']]\n",
    "commentor_author = commentor_author.reset_index()\n",
    "#commentor_author.columns = ['Author Rank', 'Replier Rank', 'First Replier (Count)', 'Second Replier']\n",
    "commentor_author.round(2)"
   ]
  },
  {
   "cell_type": "code",
   "execution_count": null,
   "id": "233d24ed-04a4-4a7c-b20e-32b9e5c2b09f",
   "metadata": {},
   "outputs": [],
   "source": [
    "# how many different individuals are involved in commenting on an issue? how many commenters are there? How are the two related?\n",
    "# how often is the closer one of the commenters?\n",
    "# when do you see the first commenter (second person) arrive? third person? what is their rank\n",
    "# "
   ]
  },
  {
   "cell_type": "code",
   "execution_count": 10,
   "id": "2570c422-2e68-4f66-b069-3cf7f80eb2b1",
   "metadata": {},
   "outputs": [
    {
     "name": "stderr",
     "output_type": "stream",
     "text": [
      "\n",
      "KeyboardInterrupt\n",
      "\n"
     ]
    }
   ],
   "source": [
    "non_author_comments['earliest_nonauthor_comment_date'] = non_author_comments.groupby(['key', 'created_at'])['created_at'].transform('min')"
   ]
  },
  {
   "cell_type": "code",
   "execution_count": null,
   "id": "52c33485-0247-421e-b4c7-8cc172d3e223",
   "metadata": {
    "scrolled": true
   },
   "outputs": [],
   "source": [
    "non_author_comments[non_author_comments['earliest_nonauthor_comment_date'] == non_author_comments['created_at']].groupby(\n",
    "    'issue_author_association_repaired')['actor_repo_association_repaired'].value_counts()"
   ]
  },
  {
   "cell_type": "code",
   "execution_count": null,
   "id": "92f21069-a0ff-4771-87b2-99a1ad194ee3",
   "metadata": {},
   "outputs": [],
   "source": []
  },
  {
   "cell_type": "code",
   "execution_count": null,
   "id": "276d0620-1795-4680-a7b8-831117d9e3bc",
   "metadata": {},
   "outputs": [],
   "source": [
    "## whose opening issues\n",
    "## whose commenting\n",
    "## whose closing issues\n",
    "\n",
    "df_issue_clean"
   ]
  },
  {
   "cell_type": "code",
   "execution_count": null,
   "id": "e211b63b-65f3-467c-aee7-b03db1f3cc8d",
   "metadata": {},
   "outputs": [],
   "source": []
  },
  {
   "cell_type": "code",
   "execution_count": null,
   "id": "b0b241c7-18e3-40cb-b108-785227e27867",
   "metadata": {},
   "outputs": [],
   "source": [
    "break"
   ]
  },
  {
   "cell_type": "code",
   "execution_count": null,
   "id": "d8c455ec-6949-47aa-9cad-dc4a2c548aaf",
   "metadata": {
    "scrolled": true
   },
   "outputs": [],
   "source": [
    "# read prs\n",
    "\n",
    "add smt about PRs (linked PRs = issue that is PR review + PRs I connected)\n",
    "\n",
    "# now have to dig into PRs....\n",
    "\n",
    "# who works on the PR (code)\n",
    "# who works on the PR (commenting on PR review)\n",
    "# who works on the issue itself (commenting)\n",
    "\n",
    "# who reviews the PR request\n",
    "\n",
    "# closed date\n",
    "# comment info "
   ]
  },
  {
   "cell_type": "code",
   "execution_count": null,
   "id": "73eda12d-ec7f-47ff-a23d-feaa7f417ae9",
   "metadata": {},
   "outputs": [],
   "source": []
  },
  {
   "cell_type": "code",
   "execution_count": null,
   "id": "8a304b34-6f36-483a-876a-c52284793564",
   "metadata": {},
   "outputs": [],
   "source": []
  },
  {
   "cell_type": "code",
   "execution_count": null,
   "id": "1e65d0df-655b-4c06-ac8d-b613231b2f97",
   "metadata": {},
   "outputs": [],
   "source": []
  },
  {
   "cell_type": "code",
   "execution_count": null,
   "id": "ad3eac68-17b6-4ad5-8ff9-aba162e92c41",
   "metadata": {},
   "outputs": [],
   "source": []
  },
  {
   "cell_type": "code",
   "execution_count": null,
   "id": "e5c5292a-7214-4ba0-9460-c3fbbfcaedff",
   "metadata": {},
   "outputs": [],
   "source": []
  },
  {
   "cell_type": "code",
   "execution_count": null,
   "id": "ee2997e5-a32c-4a84-a548-aa89b5566e4b",
   "metadata": {},
   "outputs": [],
   "source": []
  }
 ],
 "metadata": {
  "kernelspec": {
   "display_name": "Python 3 (ipykernel)",
   "language": "python",
   "name": "python3"
  },
  "language_info": {
   "codemirror_mode": {
    "name": "ipython",
    "version": 3
   },
   "file_extension": ".py",
   "mimetype": "text/x-python",
   "name": "python",
   "nbconvert_exporter": "python",
   "pygments_lexer": "ipython3",
   "version": "3.8.10"
  }
 },
 "nbformat": 4,
 "nbformat_minor": 5
}
