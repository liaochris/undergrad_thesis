{
 "cells": [
  {
   "cell_type": "code",
   "execution_count": 1,
   "id": "85458e74-8d06-4b66-8e04-363f707cbed9",
   "metadata": {},
   "outputs": [],
   "source": [
    "import pandas as pd\n",
    "import os\n",
    "import numpy as np\n",
    "import yaml\n",
    "from ast import literal_eval\n",
    "from pandarallel import pandarallel"
   ]
  },
  {
   "cell_type": "code",
   "execution_count": 2,
   "id": "d13051ac-bae6-4c25-9c0d-c1c4872166a2",
   "metadata": {},
   "outputs": [
    {
     "name": "stdout",
     "output_type": "stream",
     "text": [
      "INFO: Pandarallel will run on 32 workers.\n",
      "INFO: Pandarallel will use Memory file system to transfer data between the main process and workers.\n"
     ]
    }
   ],
   "source": [
    "pandarallel.initialize(progress_bar=True)"
   ]
  },
  {
   "cell_type": "code",
   "execution_count": 3,
   "id": "7b4dbe24-47e9-4e56-88dd-c805b4d167af",
   "metadata": {},
   "outputs": [],
   "source": [
    "pd.set_option('display.max_columns', None)"
   ]
  },
  {
   "cell_type": "code",
   "execution_count": 4,
   "id": "7a06b1f9-0632-4363-95c5-a9c3f7bed196",
   "metadata": {},
   "outputs": [],
   "source": [
    "indivs_commits = pd.concat([pd.read_csv(\"data/merged_data/committers_info_pr.csv\", index_col = 0),\n",
    "                            pd.read_csv(\"data/merged_data/committers_info_push.csv\", index_col = 0)])\n",
    "indivs_commits = indivs_commits.drop(['commit_repo','committer_info'], \n",
    "                                     axis = 1).reset_index(drop = True).drop_duplicates()\n",
    "# exclude people who don’t have “@“ in email - can’t properly trace their status (and motivations)\n",
    "indivs_commits = indivs_commits[indivs_commits['email'].apply(lambda x: not pd.isnull(x) and \"@\" in x)]"
   ]
  },
  {
   "cell_type": "code",
   "execution_count": 5,
   "id": "9ca04425-0913-4fa2-ad03-5a4c956cd0ab",
   "metadata": {},
   "outputs": [],
   "source": [
    "indivs_commits['domain'] = indivs_commits['email'].apply(lambda x: x.split(\"@\")[-1])"
   ]
  },
  {
   "cell_type": "code",
   "execution_count": 6,
   "id": "41e11d96-1911-4624-ad14-8b07ba0e3afa",
   "metadata": {
    "scrolled": true
   },
   "outputs": [],
   "source": [
    "# company data source on1\n",
    "with open('data/inputs/company_domain_match_list.yaml', 'r') as f:\n",
    "    company_info = yaml.load(f, Loader=yaml.FullLoader)\n",
    "df_company = pd.DataFrame(company_info)\n",
    "df_domains = df_company[['company', 'domains']].explode('domains').drop_duplicates().groupby('domains').agg({'company':list})\n",
    "indivs_commits['company'] = indivs_commits['email'].apply(lambda x: [df_domains.loc[email, 'company'] for email in df_domains.index if x.endswith(email) and not x.split(email)[0][-1].isdigit() \\\n",
    "                                                                         and not x.split(email)[0][-1].isalpha()])\n",
    "indivs_commits['company'] = indivs_commits['company'].apply(lambda x: \"|\".join(list(set([ele[0] for ele in x]))))\n",
    "indivs_commits['company'] = indivs_commits.apply(lambda x: '' if x['email'].endswith('users.noreply.github.com') else x['company'], axis = 1)"
   ]
  },
  {
   "cell_type": "code",
   "execution_count": 7,
   "id": "73474928-5f9a-49f4-9a0b-7d8e2fbf5b29",
   "metadata": {},
   "outputs": [],
   "source": [
    "with open(\"data/inputs/free_email_domains.txt\", \"r\") as free_domain:\n",
    "    free_domains = free_domain.readlines()\n",
    "    free_domains = [ele.strip() for ele in free_domains]"
   ]
  },
  {
   "cell_type": "code",
   "execution_count": 8,
   "id": "2aee58fb-69cb-43f4-9a0f-50ceaf176f2c",
   "metadata": {},
   "outputs": [],
   "source": [
    "no_free = ['oath.com','charter.com','cable.comcast.com','comcast.com','nus.edu.sg',\n",
    "           'windstream.com','sky.com','alibaba.com','ancestry.com']\n",
    "free_domains = [domain for domain in free_domains if domain not in no_free]"
   ]
  },
  {
   "cell_type": "code",
   "execution_count": 9,
   "id": "394b4ba4-4a6b-4d40-9ea4-3d4507cf63ed",
   "metadata": {
    "scrolled": true
   },
   "outputs": [
    {
     "data": {
      "application/vnd.jupyter.widget-view+json": {
       "model_id": "493749e360014a5c8de0ebfaa40b9616",
       "version_major": 2,
       "version_minor": 0
      },
      "text/plain": [
       "VBox(children=(HBox(children=(IntProgress(value=0, description='0.00%', max=5537), Label(value='0 / 5537'))), …"
      ]
     },
     "metadata": {},
     "output_type": "display_data"
    }
   ],
   "source": [
    "indivs_commits['personal'] = indivs_commits['domain'].parallel_apply(lambda x: x in free_domains)"
   ]
  },
  {
   "cell_type": "code",
   "execution_count": 10,
   "id": "4db49a00-0f66-4726-ae63-ee4e5ede9ef4",
   "metadata": {
    "scrolled": true
   },
   "outputs": [
    {
     "data": {
      "application/vnd.jupyter.widget-view+json": {
       "model_id": "194d1c7fd7294f77b8c0875e97a7a6ec",
       "version_major": 2,
       "version_minor": 0
      },
      "text/plain": [
       "VBox(children=(HBox(children=(IntProgress(value=0, description='0.00%', max=5537), Label(value='0 / 5537'))), …"
      ]
     },
     "metadata": {},
     "output_type": "display_data"
    },
    {
     "data": {
      "application/vnd.jupyter.widget-view+json": {
       "model_id": "3ee214e6be7246e7a35d93f397979e49",
       "version_major": 2,
       "version_minor": 0
      },
      "text/plain": [
       "VBox(children=(HBox(children=(IntProgress(value=0, description='0.00%', max=5537), Label(value='0 / 5537'))), …"
      ]
     },
     "metadata": {},
     "output_type": "display_data"
    }
   ],
   "source": [
    "company_info2 = pd.read_csv('data/inputs/more_company_domains.csv', index_col = 0)\n",
    "df_domains2 = company_info2.groupby('email').agg({'name':lambda x: list(np.unique(x))})\n",
    "indivs_commits['company2'] = indivs_commits['email'].parallel_apply(lambda x: [df_domains2.loc[email, 'name'] for email in df_domains2.index if x.endswith(email) and (len(x.split(email)[0])==0 or (not x.split(email)[0][-1].isdigit() \\\n",
    "                                                                         and not x.split(email)[0][-1].isalpha()))])\n",
    "indivs_commits['company2'] = indivs_commits['company2'].parallel_apply(lambda x: \"|\".join(list(set([ele[0] for ele in x]))))\n",
    "indivs_commits['company2'] = indivs_commits.apply(lambda x: '' if x['email'].endswith('users.noreply.github.com') else x['company2'], axis = 1)"
   ]
  },
  {
   "cell_type": "code",
   "execution_count": 11,
   "id": "e7dd720c-b6f0-4637-8715-7ec665d8e399",
   "metadata": {
    "scrolled": true
   },
   "outputs": [
    {
     "data": {
      "application/vnd.jupyter.widget-view+json": {
       "model_id": "ce42d6c376994b99b27159247a8de802",
       "version_major": 2,
       "version_minor": 0
      },
      "text/plain": [
       "VBox(children=(HBox(children=(IntProgress(value=0, description='0.00%', max=5537), Label(value='0 / 5537'))), …"
      ]
     },
     "metadata": {},
     "output_type": "display_data"
    }
   ],
   "source": [
    "# university data source\n",
    "df_university = pd.read_json('data/inputs/world_universities_and_domains.json')\n",
    "df_university = df_university.explode('domains')[['name','domains']].drop_duplicates().groupby('domains').agg({'name':list})\n",
    "\n",
    "indivs_commits['university'] = indivs_commits['email'].parallel_apply(lambda x: [df_university.loc[email, 'name'] for email in df_university.index if x.endswith(email) and not x.split(email)[0][-1].isdigit() \\\n",
    "                                                                         and not x.split(email)[0][-1].isalpha()])\n",
    "indivs_commits['university'] = indivs_commits['university'].apply(lambda x: \"|\".join(list(set([ele[0] for ele in x]))))\n",
    "indivs_commits['university'] = indivs_commits.apply(lambda x: '' if x['email'].endswith('users.noreply.github.com') else x['university'], axis = 1)"
   ]
  },
  {
   "cell_type": "code",
   "execution_count": 12,
   "id": "717f659b-c0f5-44c2-8462-2beb06015c17",
   "metadata": {},
   "outputs": [],
   "source": [
    "indivs_commits['institution'] = indivs_commits['university']\n",
    "indivs_commits['domain_type'] = indivs_commits['university'].apply(lambda x: 'academic institution' if x != '' else '')\n",
    "indivs_commits['institution'] = indivs_commits.apply(lambda x: x['company'] if x['institution'] == '' and x['company'] != '' \\\n",
    "                                                     else x['institution'], axis = 1)\n",
    "indivs_commits['institution'] = indivs_commits.apply(lambda x: x['company2'] if x['institution'] == '' and x['company2'] != ''\\\n",
    "                                                     else x['institution'], axis = 1)\n",
    "indivs_commits['domain_type'] = indivs_commits.apply(lambda x: 'company' if x['institution'] != '' and x['domain_type'] == '' \\\n",
    "                                                     else x['domain_type'], axis = 1)\n",
    "indivs_commits['domain_type'] = indivs_commits.apply(lambda x: 'personal' if x['personal'] and x['domain_type'] == '' \\\n",
    "                                                     else x['domain_type'], axis = 1)\n",
    "indivs_commits['domain_type'] = indivs_commits.apply(lambda x: 'untraceable' if x['domain'] == 'users.noreply.github.com'  \\\n",
    "                                                     else x['domain_type'], axis = 1)"
   ]
  },
  {
   "cell_type": "code",
   "execution_count": 14,
   "id": "326e8e45-e799-46ad-a60a-c260358228bf",
   "metadata": {},
   "outputs": [
    {
     "data": {
      "text/html": [
       "<div>\n",
       "<style scoped>\n",
       "    .dataframe tbody tr th:only-of-type {\n",
       "        vertical-align: middle;\n",
       "    }\n",
       "\n",
       "    .dataframe tbody tr th {\n",
       "        vertical-align: top;\n",
       "    }\n",
       "\n",
       "    .dataframe thead th {\n",
       "        text-align: right;\n",
       "    }\n",
       "</style>\n",
       "<table border=\"1\" class=\"dataframe\">\n",
       "  <thead>\n",
       "    <tr style=\"text-align: right;\">\n",
       "      <th></th>\n",
       "      <th>name</th>\n",
       "      <th>email</th>\n",
       "      <th>user_type</th>\n",
       "      <th>actor_login</th>\n",
       "      <th>actor_id</th>\n",
       "      <th>site_admin</th>\n",
       "      <th>domain</th>\n",
       "      <th>company</th>\n",
       "      <th>personal</th>\n",
       "      <th>company2</th>\n",
       "      <th>university</th>\n",
       "      <th>institution</th>\n",
       "      <th>domain_type</th>\n",
       "      <th>info</th>\n",
       "    </tr>\n",
       "  </thead>\n",
       "  <tbody>\n",
       "    <tr>\n",
       "      <th>0</th>\n",
       "      <td>Emmett Butler</td>\n",
       "      <td>723615+emmettbutler@users.noreply.github.com</td>\n",
       "      <td>User</td>\n",
       "      <td>emmettbutler</td>\n",
       "      <td>723615.0</td>\n",
       "      <td>False</td>\n",
       "      <td>users.noreply.github.com</td>\n",
       "      <td></td>\n",
       "      <td>False</td>\n",
       "      <td></td>\n",
       "      <td></td>\n",
       "      <td></td>\n",
       "      <td>untraceable</td>\n",
       "      <td>Emmett Butler :|: 723615+emmettbutler@users.no...</td>\n",
       "    </tr>\n",
       "    <tr>\n",
       "      <th>1</th>\n",
       "      <td>Emmett Butler</td>\n",
       "      <td>emmett.butler321@gmail.com</td>\n",
       "      <td>User</td>\n",
       "      <td>emmettbutler</td>\n",
       "      <td>723615.0</td>\n",
       "      <td>False</td>\n",
       "      <td>gmail.com</td>\n",
       "      <td></td>\n",
       "      <td>True</td>\n",
       "      <td></td>\n",
       "      <td></td>\n",
       "      <td></td>\n",
       "      <td>personal</td>\n",
       "      <td>Emmett Butler :|: emmett.butler321@gmail.com :...</td>\n",
       "    </tr>\n",
       "    <tr>\n",
       "      <th>2</th>\n",
       "      <td>Alberto Vara</td>\n",
       "      <td>alberto.vara@datadoghq.com</td>\n",
       "      <td>User</td>\n",
       "      <td>avara1986</td>\n",
       "      <td>6352942.0</td>\n",
       "      <td>False</td>\n",
       "      <td>datadoghq.com</td>\n",
       "      <td>Datadog</td>\n",
       "      <td>False</td>\n",
       "      <td>Datadog</td>\n",
       "      <td></td>\n",
       "      <td>Datadog</td>\n",
       "      <td>company</td>\n",
       "      <td>Alberto Vara :|: alberto.vara@datadoghq.com :|...</td>\n",
       "    </tr>\n",
       "    <tr>\n",
       "      <th>3</th>\n",
       "      <td>Brett Langdon</td>\n",
       "      <td>brett.langdon@datadoghq.com</td>\n",
       "      <td>User</td>\n",
       "      <td>brettlangdon</td>\n",
       "      <td>1320353.0</td>\n",
       "      <td>False</td>\n",
       "      <td>datadoghq.com</td>\n",
       "      <td>Datadog</td>\n",
       "      <td>False</td>\n",
       "      <td>Datadog</td>\n",
       "      <td></td>\n",
       "      <td>Datadog</td>\n",
       "      <td>company</td>\n",
       "      <td>Brett Langdon :|: brett.langdon@datadoghq.com ...</td>\n",
       "    </tr>\n",
       "    <tr>\n",
       "      <th>4</th>\n",
       "      <td>Federico Mon</td>\n",
       "      <td>federico.mon@datadoghq.com</td>\n",
       "      <td>User</td>\n",
       "      <td>gnufede</td>\n",
       "      <td>412857.0</td>\n",
       "      <td>False</td>\n",
       "      <td>datadoghq.com</td>\n",
       "      <td>Datadog</td>\n",
       "      <td>False</td>\n",
       "      <td>Datadog</td>\n",
       "      <td></td>\n",
       "      <td>Datadog</td>\n",
       "      <td>company</td>\n",
       "      <td>Federico Mon :|: federico.mon@datadoghq.com :|...</td>\n",
       "    </tr>\n",
       "    <tr>\n",
       "      <th>...</th>\n",
       "      <td>...</td>\n",
       "      <td>...</td>\n",
       "      <td>...</td>\n",
       "      <td>...</td>\n",
       "      <td>...</td>\n",
       "      <td>...</td>\n",
       "      <td>...</td>\n",
       "      <td>...</td>\n",
       "      <td>...</td>\n",
       "      <td>...</td>\n",
       "      <td>...</td>\n",
       "      <td>...</td>\n",
       "      <td>...</td>\n",
       "      <td>...</td>\n",
       "    </tr>\n",
       "    <tr>\n",
       "      <th>262417</th>\n",
       "      <td>Daria Rudkiewicz</td>\n",
       "      <td>daria.rudkiewicz@gmail.com</td>\n",
       "      <td>User</td>\n",
       "      <td>drudkiewicz</td>\n",
       "      <td>6170443.0</td>\n",
       "      <td>False</td>\n",
       "      <td>gmail.com</td>\n",
       "      <td></td>\n",
       "      <td>True</td>\n",
       "      <td></td>\n",
       "      <td></td>\n",
       "      <td></td>\n",
       "      <td>personal</td>\n",
       "      <td>Daria Rudkiewicz :|: daria.rudkiewicz@gmail.co...</td>\n",
       "    </tr>\n",
       "    <tr>\n",
       "      <th>262420</th>\n",
       "      <td>Keisuke Kan</td>\n",
       "      <td>9renpoto@gmail.com</td>\n",
       "      <td>User</td>\n",
       "      <td>9renpoto</td>\n",
       "      <td>520693.0</td>\n",
       "      <td>False</td>\n",
       "      <td>gmail.com</td>\n",
       "      <td></td>\n",
       "      <td>True</td>\n",
       "      <td></td>\n",
       "      <td></td>\n",
       "      <td></td>\n",
       "      <td>personal</td>\n",
       "      <td>Keisuke Kan :|: 9renpoto@gmail.com :|:  :|: pe...</td>\n",
       "    </tr>\n",
       "    <tr>\n",
       "      <th>262428</th>\n",
       "      <td>Josh Aune</td>\n",
       "      <td>josh.aune@primarydata.com</td>\n",
       "      <td>committer</td>\n",
       "      <td>NaN</td>\n",
       "      <td>NaN</td>\n",
       "      <td>NaN</td>\n",
       "      <td>primarydata.com</td>\n",
       "      <td></td>\n",
       "      <td>False</td>\n",
       "      <td></td>\n",
       "      <td></td>\n",
       "      <td></td>\n",
       "      <td></td>\n",
       "      <td>Josh Aune :|: josh.aune@primarydata.com :|:  :|:</td>\n",
       "    </tr>\n",
       "    <tr>\n",
       "      <th>262429</th>\n",
       "      <td>elky</td>\n",
       "      <td>mail@elky.me</td>\n",
       "      <td>User</td>\n",
       "      <td>elky</td>\n",
       "      <td>209663.0</td>\n",
       "      <td>False</td>\n",
       "      <td>elky.me</td>\n",
       "      <td></td>\n",
       "      <td>False</td>\n",
       "      <td></td>\n",
       "      <td></td>\n",
       "      <td></td>\n",
       "      <td></td>\n",
       "      <td>elky :|: mail@elky.me :|:  :|:</td>\n",
       "    </tr>\n",
       "    <tr>\n",
       "      <th>262431</th>\n",
       "      <td>Facebook Github Bot 4</td>\n",
       "      <td>facebook-github-bot-4-bot@fb.com</td>\n",
       "      <td>committer</td>\n",
       "      <td>NaN</td>\n",
       "      <td>NaN</td>\n",
       "      <td>NaN</td>\n",
       "      <td>fb.com</td>\n",
       "      <td>Meta</td>\n",
       "      <td>False</td>\n",
       "      <td></td>\n",
       "      <td></td>\n",
       "      <td>Meta</td>\n",
       "      <td>company</td>\n",
       "      <td>Facebook Github Bot 4 :|: facebook-github-bot-...</td>\n",
       "    </tr>\n",
       "  </tbody>\n",
       "</table>\n",
       "<p>177160 rows × 14 columns</p>\n",
       "</div>"
      ],
      "text/plain": [
       "                         name                                         email  \\\n",
       "0               Emmett Butler  723615+emmettbutler@users.noreply.github.com   \n",
       "1               Emmett Butler                    emmett.butler321@gmail.com   \n",
       "2                Alberto Vara                    alberto.vara@datadoghq.com   \n",
       "3               Brett Langdon                   brett.langdon@datadoghq.com   \n",
       "4                Federico Mon                    federico.mon@datadoghq.com   \n",
       "...                       ...                                           ...   \n",
       "262417       Daria Rudkiewicz                    daria.rudkiewicz@gmail.com   \n",
       "262420            Keisuke Kan                            9renpoto@gmail.com   \n",
       "262428              Josh Aune                     josh.aune@primarydata.com   \n",
       "262429                   elky                                  mail@elky.me   \n",
       "262431  Facebook Github Bot 4              facebook-github-bot-4-bot@fb.com   \n",
       "\n",
       "        user_type   actor_login   actor_id site_admin  \\\n",
       "0            User  emmettbutler   723615.0      False   \n",
       "1            User  emmettbutler   723615.0      False   \n",
       "2            User     avara1986  6352942.0      False   \n",
       "3            User  brettlangdon  1320353.0      False   \n",
       "4            User       gnufede   412857.0      False   \n",
       "...           ...           ...        ...        ...   \n",
       "262417       User   drudkiewicz  6170443.0      False   \n",
       "262420       User      9renpoto   520693.0      False   \n",
       "262428  committer           NaN        NaN        NaN   \n",
       "262429       User          elky   209663.0      False   \n",
       "262431  committer           NaN        NaN        NaN   \n",
       "\n",
       "                          domain  company  personal company2 university  \\\n",
       "0       users.noreply.github.com              False                       \n",
       "1                      gmail.com               True                       \n",
       "2                  datadoghq.com  Datadog     False  Datadog              \n",
       "3                  datadoghq.com  Datadog     False  Datadog              \n",
       "4                  datadoghq.com  Datadog     False  Datadog              \n",
       "...                          ...      ...       ...      ...        ...   \n",
       "262417                 gmail.com               True                       \n",
       "262420                 gmail.com               True                       \n",
       "262428           primarydata.com              False                       \n",
       "262429                   elky.me              False                       \n",
       "262431                    fb.com     Meta     False                       \n",
       "\n",
       "       institution  domain_type  \\\n",
       "0                   untraceable   \n",
       "1                      personal   \n",
       "2          Datadog      company   \n",
       "3          Datadog      company   \n",
       "4          Datadog      company   \n",
       "...            ...          ...   \n",
       "262417                 personal   \n",
       "262420                 personal   \n",
       "262428                            \n",
       "262429                            \n",
       "262431        Meta      company   \n",
       "\n",
       "                                                     info  \n",
       "0       Emmett Butler :|: 723615+emmettbutler@users.no...  \n",
       "1       Emmett Butler :|: emmett.butler321@gmail.com :...  \n",
       "2       Alberto Vara :|: alberto.vara@datadoghq.com :|...  \n",
       "3       Brett Langdon :|: brett.langdon@datadoghq.com ...  \n",
       "4       Federico Mon :|: federico.mon@datadoghq.com :|...  \n",
       "...                                                   ...  \n",
       "262417  Daria Rudkiewicz :|: daria.rudkiewicz@gmail.co...  \n",
       "262420  Keisuke Kan :|: 9renpoto@gmail.com :|:  :|: pe...  \n",
       "262428  Josh Aune :|: josh.aune@primarydata.com :|:  :|:   \n",
       "262429                    elky :|: mail@elky.me :|:  :|:   \n",
       "262431  Facebook Github Bot 4 :|: facebook-github-bot-...  \n",
       "\n",
       "[177160 rows x 14 columns]"
      ]
     },
     "execution_count": 14,
     "metadata": {},
     "output_type": "execute_result"
    }
   ],
   "source": [
    "indivs_commits"
   ]
  },
  {
   "cell_type": "code",
   "execution_count": 13,
   "id": "0aafe558-7f98-4e43-9f5c-506c4f7d42ac",
   "metadata": {},
   "outputs": [],
   "source": [
    "indivs_commits['info']=indivs_commits['name']+\" :|: \"+indivs_commits['email']+\" :|: \"+\\\n",
    "    indivs_commits['institution']+\" :|: \"+ indivs_commits['domain_type']\n",
    "indivs_commits = indivs_commits[~indivs_commits['info'].isna()]\n",
    "indivs_commits_grouped = indivs_commits.groupby('actor_login').agg({'actor_id':'unique', 'info':'unique'}).reset_index()"
   ]
  },
  {
   "cell_type": "code",
   "execution_count": 57,
   "id": "258286f3-ca2f-45a2-afd4-6ebc30210eeb",
   "metadata": {},
   "outputs": [],
   "source": [
    "indivs_commits_grouped['actor_id'] = indivs_commits_grouped['actor_id'].apply(lambda x: [str(int(ele)) for ele in x if not pd.isnull(ele)])\n",
    "indivs_commits_grouped['names'] = indivs_commits_grouped['info'].apply(lambda x:  [val for val in np.unique([ele.split(\" :|: \")[0] for ele in x if not pd.isnull(ele)]) if val != ''])\n",
    "indivs_commits_grouped['emails'] = indivs_commits_grouped['info'].apply(lambda x:  [val for val in np.unique([ele.split(\" :|: \")[1] for ele in x if not pd.isnull(ele)]) if val != ''])\n",
    "indivs_commits_grouped['institutions'] = indivs_commits_grouped['info'].apply(lambda x:  [val for val in np.unique([ele.split(\" :|: \")[2] for ele in x if not pd.isnull(ele)]) if val != ''])\n",
    "indivs_commits_grouped['user types'] = indivs_commits_grouped['info'].apply(lambda x:  [val for val in np.unique([ele.split(\" :|: \")[3] for ele in x if not pd.isnull(ele)]) if val != ''])"
   ]
  },
  {
   "cell_type": "code",
   "execution_count": 58,
   "id": "3644189b-b22a-4cfb-8b8d-9579163a7d97",
   "metadata": {
    "scrolled": true
   },
   "outputs": [],
   "source": [
    "indivs_commits_grouped.to_csv('data/merged_data/committer_detailed_info.csv')"
   ]
  },
  {
   "cell_type": "markdown",
   "id": "14f9dcc7-0847-4a9c-9e0f-53e96ff04d1d",
   "metadata": {},
   "source": [
    "## Analysis"
   ]
  },
  {
   "cell_type": "code",
   "execution_count": 115,
   "id": "33262a0d-aa24-4756-a326-db8a51765642",
   "metadata": {
    "scrolled": true
   },
   "outputs": [
    {
     "data": {
      "text/plain": [
       "domain\n",
       "cern.ch                  224\n",
       "pm.me                    158\n",
       "posteo.de                141\n",
       "example.com              138\n",
       "localhost.localdomain    109\n",
       "anyscale.com              96\n",
       "iki.fi                    92\n",
       "mailbox.org               87\n",
       "meta.com                  82\n",
       "riseup.net                74\n",
       "debian.org                74\n",
       "protonmail.ch             72\n",
       "lbl.gov                   63\n",
       "pulumi.com                61\n",
       "allenai.org               58\n",
       "plivo.com                 55\n",
       "duosecurity.com           53\n",
       "elementl.com              52\n",
       "localhost                 50\n",
       "tutanota.com              47\n",
       "corp.netease.com          46\n",
       "posteo.net                46\n",
       "evernym.com               46\n",
       "stsci.edu                 45\n",
       "descarteslabs.com         45\n",
       "wargaming.net             43\n",
       "emc.com                   43\n",
       "corp.mail.ru              41\n",
       "sbgenomics.com            40\n",
       "pobox.com                 39\n",
       "swift-nav.com             38\n",
       "Gmail.com                 38\n",
       "imsweb.com                37\n",
       "proton.me                 37\n",
       "bytedance.com             36\n",
       "tuta.io                   35\n",
       "scilifelab.se             34\n",
       "ska.ac.za                 34\n",
       "gentoo.org                34\n",
       "blue-yonder.com           33\n",
       "trailofbits.com           31\n",
       "continuum.io              31\n",
       "openai.com                31\n",
       "dsr-company.com           29\n",
       "users.sourceforge.net     29\n",
       "savoirfairelinux.com      28\n",
       "crate.io                  28\n",
       "cartodb.com               28\n",
       "nestlabs.com              28\n",
       "disroot.org               28\n",
       "Name: count, dtype: int64"
      ]
     },
     "execution_count": 115,
     "metadata": {},
     "output_type": "execute_result"
    }
   ],
   "source": [
    "indivs_commits[indivs_commits['domain_type'] == '']['domain'].value_counts().head(50)"
   ]
  },
  {
   "cell_type": "code",
   "execution_count": 111,
   "id": "113152da-461a-41e9-88ef-c8843f557c48",
   "metadata": {},
   "outputs": [
    {
     "data": {
      "text/plain": [
       "domain_type\n",
       "personal                0.447259\n",
       "                        0.224056\n",
       "untraceable             0.193275\n",
       "company                 0.099212\n",
       "academic institution    0.036198\n",
       "Name: proportion, dtype: float64"
      ]
     },
     "execution_count": 111,
     "metadata": {},
     "output_type": "execute_result"
    }
   ],
   "source": [
    "indivs_commits[~indivs_commits['actor_login'].isna()]['domain_type'].value_counts(normalize=True)"
   ]
  },
  {
   "cell_type": "code",
   "execution_count": 161,
   "id": "c7dbfd15-5a30-4cf2-80c6-efb9e9378df6",
   "metadata": {},
   "outputs": [],
   "source": []
  },
  {
   "cell_type": "code",
   "execution_count": 177,
   "id": "75e366ab-9b2b-4e90-8aa9-74e5c8455203",
   "metadata": {
    "scrolled": true
   },
   "outputs": [
    {
     "data": {
      "text/plain": [
       "institutions\n",
       "                                      83328\n",
       "Microsoft                              1054\n",
       "Google                                  954\n",
       "Red Hat                                 401\n",
       "Amazon                                  346\n",
       "Intel                                   331\n",
       "Meta                                    314\n",
       "IBM                                     224\n",
       "University of California, Berkeley      193\n",
       "University of Michigan - Ann Arbor      136\n",
       "Name: count, dtype: int64"
      ]
     },
     "execution_count": 177,
     "metadata": {},
     "output_type": "execute_result"
    }
   ],
   "source": [
    "indivs_commits_grouped['institutions'].value_counts().head(10)"
   ]
  }
 ],
 "metadata": {
  "kernelspec": {
   "display_name": "Python 3 (ipykernel)",
   "language": "python",
   "name": "python3"
  },
  "language_info": {
   "codemirror_mode": {
    "name": "ipython",
    "version": 3
   },
   "file_extension": ".py",
   "mimetype": "text/x-python",
   "name": "python",
   "nbconvert_exporter": "python",
   "pygments_lexer": "ipython3",
   "version": "3.8.10"
  }
 },
 "nbformat": 4,
 "nbformat_minor": 5
}
