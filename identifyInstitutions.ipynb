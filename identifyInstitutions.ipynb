{
 "cells": [
  {
   "cell_type": "code",
   "execution_count": 1,
   "id": "85458e74-8d06-4b66-8e04-363f707cbed9",
   "metadata": {},
   "outputs": [],
   "source": [
    "import pandas as pd\n",
    "import os\n",
    "import numpy as np\n",
    "import yaml\n",
    "from ast import literal_eval\n",
    "from pandarallel import pandarallel"
   ]
  },
  {
   "cell_type": "code",
   "execution_count": 2,
   "id": "d13051ac-bae6-4c25-9c0d-c1c4872166a2",
   "metadata": {},
   "outputs": [
    {
     "name": "stdout",
     "output_type": "stream",
     "text": [
      "INFO: Pandarallel will run on 32 workers.\n",
      "INFO: Pandarallel will use Memory file system to transfer data between the main process and workers.\n"
     ]
    }
   ],
   "source": [
    "pandarallel.initialize(progress_bar=True)"
   ]
  },
  {
   "cell_type": "code",
   "execution_count": 3,
   "id": "7b4dbe24-47e9-4e56-88dd-c805b4d167af",
   "metadata": {},
   "outputs": [],
   "source": [
    "pd.set_option('display.max_columns', None)"
   ]
  },
  {
   "cell_type": "code",
   "execution_count": 4,
   "id": "7a06b1f9-0632-4363-95c5-a9c3f7bed196",
   "metadata": {
    "scrolled": true
   },
   "outputs": [],
   "source": [
    "indivs_commits = pd.concat([pd.read_parquet(\"data/merged_data/committers_info_pr.parquet\"),\n",
    "                            pd.read_parquet(\"data/merged_data/committers_info_push.parquet\")])\n",
    "indivs_commits = indivs_commits.drop(['commit_repo','committer_info'], \n",
    "                                     axis = 1).reset_index(drop = True).drop_duplicates()\n",
    "# exclude people who don’t have “@“ in email - can’t properly trace their status (and motivations)\n",
    "indivs_commits = indivs_commits[indivs_commits['email'].apply(lambda x: not pd.isnull(x) and \"@\" in x)]"
   ]
  },
  {
   "cell_type": "code",
   "execution_count": 5,
   "id": "9ca04425-0913-4fa2-ad03-5a4c956cd0ab",
   "metadata": {},
   "outputs": [],
   "source": [
    "indivs_commits['domain'] = indivs_commits['email'].apply(lambda x: x.split(\"@\")[-1])"
   ]
  },
  {
   "cell_type": "code",
   "execution_count": 6,
   "id": "41e11d96-1911-4624-ad14-8b07ba0e3afa",
   "metadata": {
    "scrolled": true
   },
   "outputs": [],
   "source": [
    "# company data source on1\n",
    "with open('data/inputs/company_domain_match_list.yaml', 'r') as f:\n",
    "    company_info = yaml.load(f, Loader=yaml.FullLoader)\n",
    "df_company = pd.DataFrame(company_info)\n",
    "df_domains = df_company[['company', 'domains']].explode('domains').drop_duplicates().groupby('domains').agg({'company':list})\n",
    "indivs_commits['company'] = indivs_commits['email'].apply(lambda x: [df_domains.loc[email, 'company'] for email in df_domains.index if x.endswith(email) and not x.split(email)[0][-1].isdigit() \\\n",
    "                                                                         and not x.split(email)[0][-1].isalpha()])\n",
    "indivs_commits['company'] = indivs_commits['company'].apply(lambda x: \"|\".join(list(set([ele[0] for ele in x]))))\n",
    "indivs_commits['company'] = indivs_commits.apply(lambda x: '' if x['email'].endswith('users.noreply.github.com') else x['company'], axis = 1)"
   ]
  },
  {
   "cell_type": "code",
   "execution_count": 7,
   "id": "73474928-5f9a-49f4-9a0b-7d8e2fbf5b29",
   "metadata": {},
   "outputs": [],
   "source": [
    "with open(\"data/inputs/free_email_domains.txt\", \"r\") as free_domain:\n",
    "    free_domains = free_domain.readlines()\n",
    "    free_domains = [ele.strip() for ele in free_domains]"
   ]
  },
  {
   "cell_type": "code",
   "execution_count": 8,
   "id": "2aee58fb-69cb-43f4-9a0f-50ceaf176f2c",
   "metadata": {},
   "outputs": [],
   "source": [
    "no_free = ['oath.com','charter.com','cable.comcast.com','comcast.com','nus.edu.sg',\n",
    "           'windstream.com','sky.com','alibaba.com','ancestry.com']\n",
    "free_domains = [domain for domain in free_domains if domain not in no_free]"
   ]
  },
  {
   "cell_type": "code",
   "execution_count": 9,
   "id": "394b4ba4-4a6b-4d40-9ea4-3d4507cf63ed",
   "metadata": {
    "scrolled": true
   },
   "outputs": [
    {
     "data": {
      "application/vnd.jupyter.widget-view+json": {
       "model_id": "a7cddecbcc2c4cc7980360fc19181d92",
       "version_major": 2,
       "version_minor": 0
      },
      "text/plain": [
       "VBox(children=(HBox(children=(IntProgress(value=0, description='0.00%', max=13557), Label(value='0 / 13557')))…"
      ]
     },
     "metadata": {},
     "output_type": "display_data"
    }
   ],
   "source": [
    "indivs_commits['personal'] = indivs_commits['domain'].parallel_apply(lambda x: x in free_domains)"
   ]
  },
  {
   "cell_type": "code",
   "execution_count": 10,
   "id": "4db49a00-0f66-4726-ae63-ee4e5ede9ef4",
   "metadata": {
    "scrolled": true
   },
   "outputs": [
    {
     "data": {
      "application/vnd.jupyter.widget-view+json": {
       "model_id": "6d1a43286202461eac776d85cadeb2bd",
       "version_major": 2,
       "version_minor": 0
      },
      "text/plain": [
       "VBox(children=(HBox(children=(IntProgress(value=0, description='0.00%', max=13557), Label(value='0 / 13557')))…"
      ]
     },
     "metadata": {},
     "output_type": "display_data"
    },
    {
     "data": {
      "application/vnd.jupyter.widget-view+json": {
       "model_id": "9cbb015c863e46b98c3b363ef9c9e252",
       "version_major": 2,
       "version_minor": 0
      },
      "text/plain": [
       "VBox(children=(HBox(children=(IntProgress(value=0, description='0.00%', max=13557), Label(value='0 / 13557')))…"
      ]
     },
     "metadata": {},
     "output_type": "display_data"
    }
   ],
   "source": [
    "company_info2 = pd.read_parquet('data/inputs/more_company_domains.parquet')\n",
    "df_domains2 = company_info2.groupby('email').agg({'name':lambda x: list(np.unique(x))})\n",
    "indivs_commits['company2'] = indivs_commits['email'].parallel_apply(lambda x: [df_domains2.loc[email, 'name'] for email in df_domains2.index if x.endswith(email) and (len(x.split(email)[0])==0 or (not x.split(email)[0][-1].isdigit() \\\n",
    "                                                                         and not x.split(email)[0][-1].isalpha()))])\n",
    "indivs_commits['company2'] = indivs_commits['company2'].parallel_apply(lambda x: \"|\".join(list(set([ele[0] for ele in x]))))\n",
    "indivs_commits['company2'] = indivs_commits.apply(lambda x: '' if x['email'].endswith('users.noreply.github.com') else x['company2'], axis = 1)"
   ]
  },
  {
   "cell_type": "code",
   "execution_count": 11,
   "id": "e7dd720c-b6f0-4637-8715-7ec665d8e399",
   "metadata": {
    "scrolled": true
   },
   "outputs": [
    {
     "data": {
      "application/vnd.jupyter.widget-view+json": {
       "model_id": "f7d4b692d36c4d7f8cfe56a61968083a",
       "version_major": 2,
       "version_minor": 0
      },
      "text/plain": [
       "VBox(children=(HBox(children=(IntProgress(value=0, description='0.00%', max=13557), Label(value='0 / 13557')))…"
      ]
     },
     "metadata": {},
     "output_type": "display_data"
    }
   ],
   "source": [
    "# university data source\n",
    "df_university = pd.read_json('data/inputs/world_universities_and_domains.json')\n",
    "df_university = df_university.explode('domains')[['name','domains']].drop_duplicates().groupby('domains').agg({'name':list})\n",
    "\n",
    "indivs_commits['university'] = indivs_commits['email'].parallel_apply(lambda x: [df_university.loc[email, 'name'] for email in df_university.index if x.endswith(email) and not x.split(email)[0][-1].isdigit() \\\n",
    "                                                                         and not x.split(email)[0][-1].isalpha()])\n",
    "indivs_commits['university'] = indivs_commits['university'].apply(lambda x: \"|\".join(list(set([ele[0] for ele in x]))))\n",
    "indivs_commits['university'] = indivs_commits.apply(lambda x: '' if x['email'].endswith('users.noreply.github.com') else x['university'], axis = 1)"
   ]
  },
  {
   "cell_type": "code",
   "execution_count": 12,
   "id": "717f659b-c0f5-44c2-8462-2beb06015c17",
   "metadata": {},
   "outputs": [],
   "source": [
    "indivs_commits['institution'] = indivs_commits['university']\n",
    "indivs_commits['domain_type'] = indivs_commits['university'].apply(lambda x: 'academic institution' if x != '' else '')\n",
    "indivs_commits['institution'] = indivs_commits.apply(lambda x: x['company'] if x['institution'] == '' and x['company'] != '' \\\n",
    "                                                     else x['institution'], axis = 1)\n",
    "indivs_commits['institution'] = indivs_commits.apply(lambda x: x['company2'] if x['institution'] == '' and x['company2'] != ''\\\n",
    "                                                     else x['institution'], axis = 1)\n",
    "indivs_commits['domain_type'] = indivs_commits.apply(lambda x: 'company' if x['institution'] != '' and x['domain_type'] == '' \\\n",
    "                                                     else x['domain_type'], axis = 1)\n",
    "indivs_commits['domain_type'] = indivs_commits.apply(lambda x: 'personal' if x['personal'] and x['domain_type'] == '' \\\n",
    "                                                     else x['domain_type'], axis = 1)\n",
    "indivs_commits['domain_type'] = indivs_commits.apply(lambda x: 'untraceable' if x['domain'] == 'users.noreply.github.com'  \\\n",
    "                                                     else x['domain_type'], axis = 1)"
   ]
  },
  {
   "cell_type": "code",
   "execution_count": 14,
   "id": "0aafe558-7f98-4e43-9f5c-506c4f7d42ac",
   "metadata": {},
   "outputs": [],
   "source": [
    "indivs_commits['info']=indivs_commits['name']+\" :|: \"+indivs_commits['email']+\" :|: \"+\\\n",
    "    indivs_commits['institution']+\" :|: \"+ indivs_commits['domain_type']\n",
    "indivs_commits = indivs_commits[~indivs_commits['info'].isna()]\n",
    "indivs_commits_grouped = indivs_commits.groupby('actor_login').agg({'actor_id':'unique', 'info':'unique'}).reset_index()"
   ]
  },
  {
   "cell_type": "code",
   "execution_count": 15,
   "id": "258286f3-ca2f-45a2-afd4-6ebc30210eeb",
   "metadata": {},
   "outputs": [],
   "source": [
    "indivs_commits_grouped['actor_id'] = indivs_commits_grouped['actor_id'].apply(lambda x: [str(int(ele)) for ele in x if not pd.isnull(ele)])\n",
    "indivs_commits_grouped['names'] = indivs_commits_grouped['info'].apply(lambda x:  [val for val in np.unique([ele.split(\" :|: \")[0] for ele in x if not pd.isnull(ele)]) if val != ''])\n",
    "indivs_commits_grouped['emails'] = indivs_commits_grouped['info'].apply(lambda x:  [val for val in np.unique([ele.split(\" :|: \")[1] for ele in x if not pd.isnull(ele)]) if val != ''])\n",
    "indivs_commits_grouped['institutions'] = indivs_commits_grouped['info'].apply(lambda x:  [val for val in np.unique([ele.split(\" :|: \")[2] for ele in x if not pd.isnull(ele)]) if val != ''])\n",
    "indivs_commits_grouped['user types'] = indivs_commits_grouped['info'].apply(lambda x:  [val for val in np.unique([ele.split(\" :|: \")[3] for ele in x if not pd.isnull(ele)]) if val != ''])"
   ]
  },
  {
   "cell_type": "code",
   "execution_count": 16,
   "id": "3644189b-b22a-4cfb-8b8d-9579163a7d97",
   "metadata": {
    "scrolled": true
   },
   "outputs": [],
   "source": [
    "indivs_commits_grouped.to_parquet('data/merged_data/committer_detailed_info.parquet')"
   ]
  },
  {
   "cell_type": "markdown",
   "id": "14f9dcc7-0847-4a9c-9e0f-53e96ff04d1d",
   "metadata": {},
   "source": [
    "## Analysis"
   ]
  },
  {
   "cell_type": "code",
   "execution_count": null,
   "id": "33262a0d-aa24-4756-a326-db8a51765642",
   "metadata": {
    "scrolled": true
   },
   "outputs": [],
   "source": [
    "indivs_commits[indivs_commits['domain_type'] == '']['domain'].value_counts().head(50)"
   ]
  },
  {
   "cell_type": "code",
   "execution_count": null,
   "id": "113152da-461a-41e9-88ef-c8843f557c48",
   "metadata": {},
   "outputs": [],
   "source": [
    "indivs_commits[~indivs_commits['actor_login'].isna()]['domain_type'].value_counts(normalize=True)"
   ]
  },
  {
   "cell_type": "code",
   "execution_count": null,
   "id": "75e366ab-9b2b-4e90-8aa9-74e5c8455203",
   "metadata": {
    "scrolled": true
   },
   "outputs": [],
   "source": [
    "indivs_commits_grouped['institutions'].value_counts().head(10)"
   ]
  }
 ],
 "metadata": {
  "kernelspec": {
   "display_name": "Python 3 (ipykernel)",
   "language": "python",
   "name": "python3"
  },
  "language_info": {
   "codemirror_mode": {
    "name": "ipython",
    "version": 3
   },
   "file_extension": ".py",
   "mimetype": "text/x-python",
   "name": "python",
   "nbconvert_exporter": "python",
   "pygments_lexer": "ipython3",
   "version": "3.8.10"
  }
 },
 "nbformat": 4,
 "nbformat_minor": 5
}
