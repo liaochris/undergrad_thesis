{
 "cells": [
  {
   "cell_type": "code",
   "execution_count": 67,
   "id": "ab0ca3ed-fde5-4f62-9422-cd68b5026e5a",
   "metadata": {},
   "outputs": [],
   "source": [
    "import urllib.request, json \n",
    "import requests\n",
    "from bs4 import BeautifulSoup,SoupStrainer\n",
    "import pkg_resources\n",
    "import os\n",
    "import re\n",
    "import multiprocessing\n",
    "import contextlib\n",
    "from dateutil import parser\n",
    "import pandas as pd\n",
    "from datetime import datetime\n",
    "import matplotlib.pyplot as plt\n",
    "from multiprocessing import Pool\n",
    "from pandarallel import pandarallel"
   ]
  },
  {
   "cell_type": "code",
   "execution_count": 68,
   "id": "423b90dd-488b-47e4-80f6-08639090b4e0",
   "metadata": {},
   "outputs": [
    {
     "name": "stdout",
     "output_type": "stream",
     "text": [
      "INFO: Pandarallel will run on 32 workers.\n",
      "INFO: Pandarallel will use Memory file system to transfer data between the main process and workers.\n"
     ]
    }
   ],
   "source": [
    "pandarallel.initialize(progress_bar = True)"
   ]
  },
  {
   "cell_type": "code",
   "execution_count": 95,
   "id": "e6ca46cb-b2b4-4197-8815-51f7a6b814a1",
   "metadata": {},
   "outputs": [],
   "source": [
    "def getDir(dir):\n",
    "    with open('data/pip_json/'+dir, 'r') as f:\n",
    "        json_file = json.load(f)\n",
    "        url_val, license_val = None, None\n",
    "        # try adding homepage directory\n",
    "        try:\n",
    "            all_urls = json_file['info']['project_urls']\n",
    "            all_urls = list(set([\"/\".join(ele.split(\"/\")[:5]) for ele in all_urls.values() if ele.startswith('https://github.com/')]))\n",
    "            print(all_urls)\n",
    "            if len(all_urls)>1:\n",
    "                url_val = \"Unavailable\"\n",
    "            else:\n",
    "                url_val = all_urls[0]\n",
    "        except:\n",
    "            url_val = \"Unavailable\"\n",
    "    \n",
    "        # try adding license\n",
    "        try:\n",
    "            license_val = \" | \".join([ele for ele in json_file['info']['classifiers'] if 'License' in ele])\n",
    "        except:\n",
    "            license_val = \"Unavailable\"\n",
    "    return url_val, license_val"
   ]
  },
  {
   "cell_type": "code",
   "execution_count": 73,
   "id": "9c10cc80-9467-4418-882c-b791d09b9137",
   "metadata": {},
   "outputs": [],
   "source": [
    "dirs = os.listdir('data/pip_json')"
   ]
  },
  {
   "cell_type": "code",
   "execution_count": 89,
   "id": "aa95d5b3-266b-4617-949d-a40f845407a9",
   "metadata": {
    "scrolled": true
   },
   "outputs": [
    {
     "data": {
      "application/vnd.jupyter.widget-view+json": {
       "model_id": "1928b9a1d4f84b96a0b261e8ffde810f",
       "version_major": 2,
       "version_minor": 0
      },
      "text/plain": [
       "VBox(children=(HBox(children=(IntProgress(value=0, description='0.00%', max=399), Label(value='0 / 399'))), HB…"
      ]
     },
     "metadata": {},
     "output_type": "display_data"
    }
   ],
   "source": [
    "dir_license_vals = pd.Series(dirs).parallel_apply(getDir)"
   ]
  },
  {
   "cell_type": "code",
   "execution_count": 100,
   "id": "1310b48b-cb9a-4074-bca8-e09cc97f6124",
   "metadata": {
    "scrolled": true
   },
   "outputs": [],
   "source": [
    "df_linked = pd.concat([ pd.Series(dirs), pd.DataFrame(dir_license_vals)], axis = 1)\n",
    "df_linked.columns =  ['package', 'data']\n",
    "df_linked['package'] = df_linked['package'].apply(lambda x: x.replace('.json', ''))\n",
    "df_linked['homepage'] = df_linked['data'].apply(lambda x: x[0])\n",
    "df_linked['license'] = df_linked['data'].apply(lambda x: x[1])"
   ]
  },
  {
   "cell_type": "code",
   "execution_count": 104,
   "id": "e16c4985-0f61-4331-a430-ad0ba08a4c29",
   "metadata": {},
   "outputs": [],
   "source": [
    "df_linked['license'] = df_linked['license'].replace('', 'Unavailable')\n",
    "df_linked['github repo'] = df_linked['homepage'].apply(lambda x: 'Unavailable' if 'https://github.com/' not in x else x.replace('https://github.com/',''))\n",
    "df_linked['github repo'] = df_linked['github repo'].apply(lambda x: \"Unavailable\" if \"/\" not in x else x)"
   ]
  },
  {
   "cell_type": "code",
   "execution_count": 106,
   "id": "c24f0d94-4b98-4c59-ac0d-a7aebdd8a6d0",
   "metadata": {
    "scrolled": true
   },
   "outputs": [
    {
     "name": "stdout",
     "output_type": "stream",
     "text": [
      "Total of python packages with github repository: 8829\n"
     ]
    },
    {
     "data": {
      "text/plain": [
       "license\n",
       "License :: OSI Approved :: MIT License                              3835\n",
       "Unavailable                                                         2725\n",
       "License :: OSI Approved :: BSD License                              2130\n",
       "License :: OSI Approved :: Apache Software License                  1825\n",
       "License :: OSI Approved :: GNU General Public License v3 (GPLv3)     284\n",
       "Name: count, dtype: int64"
      ]
     },
     "execution_count": 106,
     "metadata": {},
     "output_type": "execute_result"
    }
   ],
   "source": [
    "print(\"Total of python packages with github repository:\",df_linked[df_linked['github repo']!='Unavailable'].shape[0])\n",
    "df_linked['license'].value_counts()[:5]"
   ]
  },
  {
   "cell_type": "code",
   "execution_count": 109,
   "id": "9f3e73ec-6787-4e55-94f8-b2b7e1024dce",
   "metadata": {},
   "outputs": [],
   "source": [
    "df_linked[df_linked['github repo'] != 'Unavailable'][['package', 'github repo']].to_csv('data/inputs/package_repos.csv')"
   ]
  },
  {
   "cell_type": "code",
   "execution_count": 128,
   "id": "1eeab79e-fd97-48b3-82e2-329f27b27a80",
   "metadata": {},
   "outputs": [
    {
     "name": "stderr",
     "output_type": "stream",
     "text": [
      "Skipping line 145: expected 8 fields, saw 10\n",
      "Skipping line 441: expected 8 fields, saw 11\n",
      "Skipping line 516: expected 8 fields, saw 9\n",
      "Skipping line 630: expected 8 fields, saw 10\n",
      "Skipping line 974: expected 8 fields, saw 9\n",
      "\n"
     ]
    }
   ],
   "source": [
    "python_opensource = pd.read_table('data/inputs/README-Python.md', sep=\"|\", header=0, index_col=0, skipinitialspace=True, on_bad_lines='warn').dropna(axis=1, how='all').iloc[1:]   \n",
    "python_opensource['repo_name'] = python_opensource['NAME/PLACE'].apply(lambda x: \"/\".join(x.split(\"(\")[1].replace(\")\",\"\").split(\"/\")[-3:-1]))"
   ]
  },
  {
   "cell_type": "code",
   "execution_count": 132,
   "id": "9b14e61d-df13-46f3-b587-4307596702e3",
   "metadata": {
    "scrolled": true
   },
   "outputs": [
    {
     "data": {
      "text/html": [
       "<div>\n",
       "<style scoped>\n",
       "    .dataframe tbody tr th:only-of-type {\n",
       "        vertical-align: middle;\n",
       "    }\n",
       "\n",
       "    .dataframe tbody tr th {\n",
       "        vertical-align: top;\n",
       "    }\n",
       "\n",
       "    .dataframe thead th {\n",
       "        text-align: right;\n",
       "    }\n",
       "</style>\n",
       "<table border=\"1\" class=\"dataframe\">\n",
       "  <thead>\n",
       "    <tr style=\"text-align: right;\">\n",
       "      <th></th>\n",
       "      <th>STARS</th>\n",
       "      <th>FORKS</th>\n",
       "      <th>ISSUES</th>\n",
       "      <th>LAST COMMIT</th>\n",
       "      <th>NAME/PLACE</th>\n",
       "      <th>DESCRIPTION</th>\n",
       "      <th>repo_name</th>\n",
       "    </tr>\n",
       "  </thead>\n",
       "  <tbody>\n",
       "    <tr>\n",
       "      <th>NaN</th>\n",
       "      <td>53621</td>\n",
       "      <td>22054</td>\n",
       "      <td>1097</td>\n",
       "      <td>10 hours ago</td>\n",
       "      <td>[ansible](https://github.com/ansible/ansible)/4</td>\n",
       "      <td>Ansible is a radically simple IT automation pl...</td>\n",
       "      <td>ansible/ansible</td>\n",
       "    </tr>\n",
       "    <tr>\n",
       "      <th>NaN</th>\n",
       "      <td>34364</td>\n",
       "      <td>14600</td>\n",
       "      <td>3512</td>\n",
       "      <td>2 hours ago</td>\n",
       "      <td>[pandas](https://github.com/pandas-dev/pandas)/7</td>\n",
       "      <td>Flexible and powerful data analysis / manipula...</td>\n",
       "      <td>pandas-dev/pandas</td>\n",
       "    </tr>\n",
       "    <tr>\n",
       "      <th>NaN</th>\n",
       "      <td>23871</td>\n",
       "      <td>4889</td>\n",
       "      <td>56</td>\n",
       "      <td>5 days ago</td>\n",
       "      <td>[sqlmap](https://github.com/sqlmapproject/sqlm...</td>\n",
       "      <td>Automatic SQL injection and database takeover ...</td>\n",
       "      <td>sqlmapproject/sqlmap</td>\n",
       "    </tr>\n",
       "    <tr>\n",
       "      <th>NaN</th>\n",
       "      <td>20802</td>\n",
       "      <td>7052</td>\n",
       "      <td>2197</td>\n",
       "      <td>2 hours ago</td>\n",
       "      <td>[numpy](https://github.com/numpy/numpy)/19</td>\n",
       "      <td>The fundamental package for scientific computi...</td>\n",
       "      <td>numpy/numpy</td>\n",
       "    </tr>\n",
       "    <tr>\n",
       "      <th>NaN</th>\n",
       "      <td>19160</td>\n",
       "      <td>2471</td>\n",
       "      <td>21</td>\n",
       "      <td>4 hours ago</td>\n",
       "      <td>[locust](https://github.com/locustio/locust)/22</td>\n",
       "      <td>Scalable user load testing tool written in Pyt...</td>\n",
       "      <td>locustio/locust</td>\n",
       "    </tr>\n",
       "    <tr>\n",
       "      <th>...</th>\n",
       "      <td>...</td>\n",
       "      <td>...</td>\n",
       "      <td>...</td>\n",
       "      <td>...</td>\n",
       "      <td>...</td>\n",
       "      <td>...</td>\n",
       "      <td>...</td>\n",
       "    </tr>\n",
       "    <tr>\n",
       "      <th>NaN</th>\n",
       "      <td>2827</td>\n",
       "      <td>434</td>\n",
       "      <td>5</td>\n",
       "      <td>15 days ago</td>\n",
       "      <td>[praw](https://github.com/praw-dev/praw)/925</td>\n",
       "      <td>PRAW, an acronym for \"Python Reddit API Wrappe...</td>\n",
       "      <td>praw-dev/praw</td>\n",
       "    </tr>\n",
       "    <tr>\n",
       "      <th>NaN</th>\n",
       "      <td>2825</td>\n",
       "      <td>463</td>\n",
       "      <td>178</td>\n",
       "      <td>8 days ago</td>\n",
       "      <td>[shapely](https://github.com/shapely/shapely)/...</td>\n",
       "      <td>Manipulation and analysis of geometric objects</td>\n",
       "      <td>shapely/shapely</td>\n",
       "    </tr>\n",
       "    <tr>\n",
       "      <th>NaN</th>\n",
       "      <td>2792</td>\n",
       "      <td>352</td>\n",
       "      <td>128</td>\n",
       "      <td>5 days ago</td>\n",
       "      <td>[datashader](https://github.com/holoviz/datash...</td>\n",
       "      <td>Quickly and accurately render even the largest...</td>\n",
       "      <td>holoviz/datashader</td>\n",
       "    </tr>\n",
       "    <tr>\n",
       "      <th>NaN</th>\n",
       "      <td>2787</td>\n",
       "      <td>222</td>\n",
       "      <td>45</td>\n",
       "      <td>1 year, 1 month ago</td>\n",
       "      <td>[cerberus](https://github.com/pyeve/cerberus)/...</td>\n",
       "      <td>Lightweight, extensible data validation librar...</td>\n",
       "      <td>pyeve/cerberus</td>\n",
       "    </tr>\n",
       "    <tr>\n",
       "      <th>NaN</th>\n",
       "      <td>2722</td>\n",
       "      <td>324</td>\n",
       "      <td>38</td>\n",
       "      <td>2 days ago</td>\n",
       "      <td>[python-uncompyle6](https://github.com/rocky/p...</td>\n",
       "      <td>A cross-version Python bytecode decompiler</td>\n",
       "      <td>rocky/python-uncompyle6</td>\n",
       "    </tr>\n",
       "  </tbody>\n",
       "</table>\n",
       "<p>73 rows × 7 columns</p>\n",
       "</div>"
      ],
      "text/plain": [
       "      STARS   FORKS ISSUES           LAST COMMIT  \\\n",
       "NaN  53621   22054   1097          10 hours ago    \n",
       "NaN  34364   14600   3512           2 hours ago    \n",
       "NaN  23871    4889     56            5 days ago    \n",
       "NaN  20802    7052   2197           2 hours ago    \n",
       "NaN  19160    2471     21           4 hours ago    \n",
       "..      ...     ...    ...                   ...   \n",
       "NaN   2827     434      5           15 days ago    \n",
       "NaN   2825     463    178            8 days ago    \n",
       "NaN   2792     352    128            5 days ago    \n",
       "NaN   2787     222     45   1 year, 1 month ago    \n",
       "NaN   2722     324     38            2 days ago    \n",
       "\n",
       "                                            NAME/PLACE  \\\n",
       "NaN   [ansible](https://github.com/ansible/ansible)/4    \n",
       "NaN  [pandas](https://github.com/pandas-dev/pandas)/7    \n",
       "NaN  [sqlmap](https://github.com/sqlmapproject/sqlm...   \n",
       "NaN        [numpy](https://github.com/numpy/numpy)/19    \n",
       "NaN   [locust](https://github.com/locustio/locust)/22    \n",
       "..                                                 ...   \n",
       "NaN      [praw](https://github.com/praw-dev/praw)/925    \n",
       "NaN  [shapely](https://github.com/shapely/shapely)/...   \n",
       "NaN  [datashader](https://github.com/holoviz/datash...   \n",
       "NaN  [cerberus](https://github.com/pyeve/cerberus)/...   \n",
       "NaN  [python-uncompyle6](https://github.com/rocky/p...   \n",
       "\n",
       "                                           DESCRIPTION  \\\n",
       "NaN  Ansible is a radically simple IT automation pl...   \n",
       "NaN  Flexible and powerful data analysis / manipula...   \n",
       "NaN  Automatic SQL injection and database takeover ...   \n",
       "NaN  The fundamental package for scientific computi...   \n",
       "NaN  Scalable user load testing tool written in Pyt...   \n",
       "..                                                 ...   \n",
       "NaN  PRAW, an acronym for \"Python Reddit API Wrappe...   \n",
       "NaN    Manipulation and analysis of geometric objects    \n",
       "NaN  Quickly and accurately render even the largest...   \n",
       "NaN  Lightweight, extensible data validation librar...   \n",
       "NaN        A cross-version Python bytecode decompiler    \n",
       "\n",
       "                   repo_name  \n",
       "NaN          ansible/ansible  \n",
       "NaN        pandas-dev/pandas  \n",
       "NaN     sqlmapproject/sqlmap  \n",
       "NaN              numpy/numpy  \n",
       "NaN          locustio/locust  \n",
       "..                       ...  \n",
       "NaN            praw-dev/praw  \n",
       "NaN          shapely/shapely  \n",
       "NaN       holoviz/datashader  \n",
       "NaN           pyeve/cerberus  \n",
       "NaN  rocky/python-uncompyle6  \n",
       "\n",
       "[73 rows x 7 columns]"
      ]
     },
     "execution_count": 132,
     "metadata": {},
     "output_type": "execute_result"
    }
   ],
   "source": [
    "python_opensource[python_opensource['repo_name'].isin(newrepos)]"
   ]
  },
  {
   "cell_type": "code",
   "execution_count": 134,
   "id": "02dc6e31-e92e-456e-8b22-fa85f0c6844b",
   "metadata": {
    "scrolled": true
   },
   "outputs": [
    {
     "data": {
      "text/plain": [
       "1774"
      ]
     },
     "execution_count": 134,
     "metadata": {},
     "output_type": "execute_result"
    }
   ],
   "source": [
    "len(newrepos)"
   ]
  },
  {
   "cell_type": "code",
   "execution_count": 131,
   "id": "8411d762-fd57-4c18-8342-49b59523d8c3",
   "metadata": {},
   "outputs": [],
   "source": [
    "t = df_linked[df_linked['github repo'] != 'Unavailable'][['package', 'github repo']]\n",
    "newrepos = t[~t['github repo'].isin(pd.read_csv('data/merged_data/imputed_ranks/repo_login_id.csv', index_col = 0)['repo_name'].tolist())]['github repo'].tolist()\n",
    "#.to_csv('newrepos.csv')"
   ]
  }
 ],
 "metadata": {
  "kernelspec": {
   "display_name": "Python 3 (ipykernel)",
   "language": "python",
   "name": "python3"
  },
  "language_info": {
   "codemirror_mode": {
    "name": "ipython",
    "version": 3
   },
   "file_extension": ".py",
   "mimetype": "text/x-python",
   "name": "python",
   "nbconvert_exporter": "python",
   "pygments_lexer": "ipython3",
   "version": "3.8.10"
  }
 },
 "nbformat": 4,
 "nbformat_minor": 5
}
