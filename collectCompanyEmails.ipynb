{
 "cells": [
  {
   "cell_type": "code",
   "execution_count": 47,
   "id": "349540e4-8741-4b18-9a66-924a250411de",
   "metadata": {},
   "outputs": [],
   "source": [
    "import requests\n",
    "from bs4 import BeautifulSoup\n",
    "import time\n",
    "import pandas as pd"
   ]
  },
  {
   "cell_type": "code",
   "execution_count": 43,
   "id": "d1d4c448-13a3-4d32-a190-962977e0ba62",
   "metadata": {},
   "outputs": [],
   "source": [
    "# Function to get company information from a single page\n",
    "def scrape_page(page_url):\n",
    "    response = requests.get(page_url)\n",
    "    soup = BeautifulSoup(response.text, 'html.parser')\n",
    "    company_list = []\n",
    "    # Extracting information from the page\n",
    "    if len(soup.find_all('div', class_='MuiGrid-root MuiGrid-item MuiGrid-grid-xs-12 MuiGrid-grid-sm-6 css-rpybyc'))>0:\n",
    "        for company_card in soup.find_all('div', class_='MuiGrid-root MuiGrid-item MuiGrid-grid-xs-12 MuiGrid-grid-sm-6 css-rpybyc'):\n",
    "            email = company_card.find('p', class_='MuiTypography-root MuiTypography-body1 css-1l3ldki').text\n",
    "            if len(company_card.find_all('p', class_='MuiTypography-root MuiTypography-body1 css-1vlcel7'))==2:\n",
    "                name, category = [ele.text for ele in company_card.find_all('p', class_='MuiTypography-root MuiTypography-body1 css-1vlcel7')]\n",
    "            else:\n",
    "                name = company_card.find('p', class_='MuiTypography-root MuiTypography-body1 css-1vlcel7')\n",
    "                category = ''\n",
    "            company_info = {\n",
    "                'name': name,\n",
    "                'email': email,\n",
    "                'category': category\n",
    "            }\n",
    "            company_list.append(company_info)\n",
    "        return company_list\n",
    "    else:\n",
    "        return 0/0\n",
    "\n",
    "# Function to scrape all pages for a given letter\n",
    "def scrape_letter(letter):\n",
    "    base_url = 'https://skrapp.io/directory'\n",
    "    letter_url = f'{base_url}/{letter}'\n",
    "\n",
    "    response = requests.get(f'{letter_url}/1')\n",
    "    soup = BeautifulSoup(response.text, 'html.parser')\n",
    "\n",
    "    # Get the number of pages for the letter\n",
    "    page_num = 1\n",
    "    endOfPages = False\n",
    "    all_companies = []\n",
    "    while (not endOfPages):\n",
    "        try:\n",
    "            page_url = f'{letter_url}/{page_num}'\n",
    "            companies_on_page = scrape_page(page_url)\n",
    "            all_companies.extend(companies_on_page)\n",
    "            # Sleep for a short while to avoid overloading the server\n",
    "            time.sleep(.5)\n",
    "            page_num+=1\n",
    "        except:\n",
    "            endOfPages = True\n",
    "    return all_companies\n",
    "\n",
    "# Main function to scrape all letters\n",
    "def scrape_all():\n",
    "    all_data = []\n",
    "\n",
    "    # Iterate through each letter\n",
    "    for letter in 'abcdefghijklmnopqrstuvwxyz':\n",
    "        print(letter)\n",
    "        letter_data = scrape_letter(letter)\n",
    "        all_data.extend(letter_data)\n",
    "\n",
    "    return all_data"
   ]
  },
  {
   "cell_type": "code",
   "execution_count": 44,
   "id": "8e418b48-e692-4d56-abc1-33332dde63e6",
   "metadata": {
    "scrolled": true
   },
   "outputs": [
    {
     "name": "stdout",
     "output_type": "stream",
     "text": [
      "a\n",
      "b\n",
      "c\n",
      "d\n",
      "e\n",
      "f\n",
      "g\n",
      "h\n",
      "i\n",
      "j\n",
      "k\n",
      "l\n",
      "m\n",
      "n\n",
      "o\n",
      "p\n",
      "q\n",
      "r\n",
      "s\n",
      "t\n",
      "u\n",
      "v\n",
      "w\n",
      "x\n",
      "y\n",
      "z\n"
     ]
    }
   ],
   "source": [
    "company_emails=scrape_all()"
   ]
  },
  {
   "cell_type": "code",
   "execution_count": 96,
   "id": "9397f6f5-c20c-480c-a6ee-9d6652a35514",
   "metadata": {},
   "outputs": [],
   "source": [
    "df_company_emails = pd.DataFrame(company_emails)\n",
    "for col in ['name', 'email', 'category']:\n",
    "    df_company_emails[col] = df_company_emails[col].apply(lambda x: x.text if type(x) != str else x)"
   ]
  },
  {
   "cell_type": "code",
   "execution_count": 97,
   "id": "30d11c4d-85ad-4709-a6aa-cb34684c26e4",
   "metadata": {},
   "outputs": [
    {
     "data": {
      "text/plain": [
       "'\\ngmail.com - not Hamlin\\nyahoo.com - remove\\nyandex.com - remove\\nzoho.com - remove\\ntelenet.be - remove\\nearthlink.net - remove\\nshaw.ca - remove\\nrcn.com - remove\\nrogers.com - remove\\nnus.edu.sg - remove, is educational institution\\nuol.com.br - remove\\n'"
      ]
     },
     "execution_count": 97,
     "metadata": {},
     "output_type": "execute_result"
    }
   ],
   "source": [
    "\"\"\"\n",
    "gmail.com - not Hamlin\n",
    "yahoo.com - remove\n",
    "yandex.com - remove\n",
    "zoho.com - remove\n",
    "telenet.be - remove\n",
    "earthlink.net - remove\n",
    "shaw.ca - remove\n",
    "rcn.com - remove\n",
    "rogers.com - remove\n",
    "nus.edu.sg - remove, is educational institution\n",
    "uol.com.br - remove\n",
    "\"\"\""
   ]
  },
  {
   "cell_type": "code",
   "execution_count": 107,
   "id": "cb006bcb-3798-4e21-95d8-9150ae260df9",
   "metadata": {},
   "outputs": [],
   "source": [
    "email_list = ['gmail.com', 'yahoo.com','yandex.com','zoho.com' ,'telenet.be','earthlink.net','shaw.ca',\n",
    "              'rcn.com','rogers.com','uol.com.br']\n",
    "df_company_emails = df_company_emails[~df_company_emails['email'].isin(email_list)]"
   ]
  },
  {
   "cell_type": "code",
   "execution_count": 109,
   "id": "9738011f-c2c0-4500-9cf8-078e8671a232",
   "metadata": {
    "scrolled": true
   },
   "outputs": [],
   "source": [
    "df_company_emails.to_csv('data/inputs/more_company_domains.csv')"
   ]
  }
 ],
 "metadata": {
  "kernelspec": {
   "display_name": "Python 3 (ipykernel)",
   "language": "python",
   "name": "python3"
  },
  "language_info": {
   "codemirror_mode": {
    "name": "ipython",
    "version": 3
   },
   "file_extension": ".py",
   "mimetype": "text/x-python",
   "name": "python",
   "nbconvert_exporter": "python",
   "pygments_lexer": "ipython3",
   "version": "3.8.10"
  }
 },
 "nbformat": 4,
 "nbformat_minor": 5
}
