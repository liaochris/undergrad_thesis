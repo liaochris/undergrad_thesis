{
 "cells": [
  {
   "cell_type": "markdown",
   "id": "7add0c8e-4c37-4e1d-a1f5-0665f1668909",
   "metadata": {},
   "source": [
    "## Data Cleaning Goals\n",
    "1. I want to create data that will allow me to\n",
    "   \n",
    "   a. analyze the structure of hierarchy across GitHub Repositories (whose opening issues? whose commenting on issues? how many are there overall?)\n",
    "   \n",
    "   b. track the sequence of participation for each issue\n",
    "   \n",
    "   c. link PRs to issues\n",
    "   \n",
    "   d. collect covariates related to issues so I can measure \"issue difficulty\"\n",
    "   "
   ]
  },
  {
   "cell_type": "code",
   "execution_count": 1,
   "id": "3f0a94b9-c839-468d-8e9d-fe6c5fa1f976",
   "metadata": {},
   "outputs": [],
   "source": [
    "from IPython.display import display, HTML\n",
    "\n",
    "def pretty_print(df):\n",
    "    return display(HTML(df.to_html().replace(\"\\\\n\",\"<br>\") ) )"
   ]
  },
  {
   "cell_type": "code",
   "execution_count": 2,
   "id": "7c5a58ac-1efe-4472-b9bf-50fa1721b27b",
   "metadata": {},
   "outputs": [],
   "source": [
    "## Import Libraries and Data"
   ]
  },
  {
   "cell_type": "code",
   "execution_count": 3,
   "id": "6ec58803-cdc1-4a7a-8597-326e8f6b77b8",
   "metadata": {
    "scrolled": true
   },
   "outputs": [],
   "source": [
    "import glob\n",
    "import dask.dataframe as dd\n",
    "import pandas as pd\n",
    "from pandarallel import pandarallel\n",
    "import matplotlib.pyplot as plt\n",
    "from datetime import datetime, timezone\n",
    "import ast\n",
    "import numpy as np\n",
    "from operator import itemgetter\n",
    "from stargazer.stargazer import Stargazer\n",
    "import os\n",
    "import pytz\n"
   ]
  },
  {
   "cell_type": "code",
   "execution_count": 4,
   "id": "a1c863b9-f93f-420f-920b-6f1546f478b1",
   "metadata": {},
   "outputs": [],
   "source": [
    "plt.style.use(\"seaborn\")"
   ]
  },
  {
   "cell_type": "code",
   "execution_count": 5,
   "id": "29a81293-26e6-4433-a769-9eacb9891964",
   "metadata": {},
   "outputs": [
    {
     "name": "stdout",
     "output_type": "stream",
     "text": [
      "INFO: Pandarallel will run on 32 workers.\n",
      "INFO: Pandarallel will use Memory file system to transfer data between the main process and workers.\n"
     ]
    }
   ],
   "source": [
    "pandarallel.initialize(progress_bar = True)"
   ]
  },
  {
   "cell_type": "code",
   "execution_count": 6,
   "id": "138b397f-fb37-4c8e-87da-6b9cd22be566",
   "metadata": {},
   "outputs": [],
   "source": [
    "pd.set_option('display.max_columns', None)"
   ]
  },
  {
   "cell_type": "code",
   "execution_count": 7,
   "id": "eee0eeb1-53e9-4c2b-82a1-50e9fbf1c402",
   "metadata": {},
   "outputs": [],
   "source": [
    "def readDf(df,cols):\n",
    "    try:\n",
    "        cols = [col for col in cols if col in df.columns]\n",
    "        return df[cols]\n",
    "    except:\n",
    "        return pd.DataFrame()"
   ]
  },
  {
   "cell_type": "code",
   "execution_count": 8,
   "id": "9baeb519-55e4-4025-b4b0-964e49eb3660",
   "metadata": {},
   "outputs": [],
   "source": [
    "def name_split(repo):\n",
    "    return repo.split(\"/\")[0]\n",
    "def owner(bool):\n",
    "    return 'owner' if bool else np.nan\n",
    "def getLogin(x):\n",
    "    return x['id']"
   ]
  },
  {
   "cell_type": "code",
   "execution_count": 9,
   "id": "2c3e5b6d-2bad-4904-8569-1e1100662fa5",
   "metadata": {
    "scrolled": true
   },
   "outputs": [
    {
     "name": "stdout",
     "output_type": "stream",
     "text": [
      "CPU times: user 2min 48s, sys: 1min 1s, total: 3min 50s\n",
      "Wall time: 18min 1s\n"
     ]
    }
   ],
   "source": [
    "%%time\n",
    "# Read data on  comments,\n",
    "comcol = ['created_at', 'type', 'issue_number', 'repo_id', 'issue_author_association', 'repo_name', 'issue_user_login', 'actor_login',\n",
    "       'actor_id', 'latest_issue_assignee', 'latest_issue_assignees', 'org_id', 'org_login', 'issue_user_id']\n",
    "issue_com = glob.glob('data/github_clean/filtered_github_data/issueCo*')\n",
    "issue_com.extend(glob.glob('data/github_clean/github_data_pre_18/issueCo*'))\n",
    "issue_com.extend(glob.glob('data/github_clean/github_data_2324/issueCo*'))\n",
    "df_issue_comments = pd.concat([readDf(pd.read_parquet(ele), comcol) for ele in issue_com]).reset_index(drop = True)\n",
    "\n",
    "issuecol = ['created_at', 'type', 'issue_number', 'repo_id', 'issue_author_association', 'repo_name', 'issue_user_login', 'actor_login',\n",
    "            'actor_id', 'issue_action', 'issue_assignee', 'issue_assignees', 'org_id', 'org_name', 'issue_user_id']\n",
    "issues = glob.glob('data/github_clean/filtered_github_data/issues*')\n",
    "issues.extend(glob.glob('data/github_clean/github_data_pre_18/issues*'))\n",
    "issues.extend(glob.glob('data/github_clean/github_data_2324/issues*'))\n",
    "df_issue = pd.concat([readDf(pd.read_parquet(ele), issuecol) for ele in issues]).reset_index(drop = True)"
   ]
  },
  {
   "cell_type": "markdown",
   "id": "2f1a15b2-c140-4f84-bb41-9d44443aa9ba",
   "metadata": {},
   "source": [
    "## Storing Data"
   ]
  },
  {
   "cell_type": "code",
   "execution_count": 10,
   "id": "05ad98d9-37ff-44f1-bdf9-985bd5af340b",
   "metadata": {},
   "outputs": [],
   "source": [
    "OriginalDachristaStatistics = pd.DataFrame()\n",
    "DataDescriptives = pd.DataFrame()"
   ]
  },
  {
   "cell_type": "markdown",
   "id": "6f3ce80e-a701-4539-a596-4bff442a783a",
   "metadata": {},
   "source": [
    "## Data Cleaning"
   ]
  },
  {
   "cell_type": "code",
   "execution_count": 11,
   "id": "4ae10678-f6cc-4227-b2c8-9775b851706b",
   "metadata": {
    "scrolled": true
   },
   "outputs": [],
   "source": [
    "# columns to rename\n",
    "mod_columns = [ele for ele in df_issue_comments.columns if 'latest' in ele]\n",
    "mod_dict = {ele : ele.replace('latest_', '') for ele in mod_columns}\n",
    "df_issue_comments.rename(mod_dict, axis = 1, inplace = True)"
   ]
  },
  {
   "cell_type": "code",
   "execution_count": 12,
   "id": "b536752a-3bec-46c8-b6e7-58daa96e3e1f",
   "metadata": {
    "scrolled": true
   },
   "outputs": [],
   "source": [
    "full_issue_data = pd.concat([df_issue,df_issue_comments])"
   ]
  },
  {
   "cell_type": "code",
   "execution_count": 13,
   "id": "10b48efd-68d7-433b-bd41-710dc48db005",
   "metadata": {
    "scrolled": true
   },
   "outputs": [
    {
     "name": "stderr",
     "output_type": "stream",
     "text": [
      "/tmp/user/20506/ipykernel_3392565/1104531115.py:4: SettingWithCopyWarning: \n",
      "A value is trying to be set on a copy of a slice from a DataFrame.\n",
      "Try using .loc[row_indexer,col_indexer] = value instead\n",
      "\n",
      "See the caveats in the documentation: https://pandas.pydata.org/pandas-docs/stable/user_guide/indexing.html#returning-a-view-versus-a-copy\n",
      "  df_issue_clean['key'] = df_issue_clean['repo_id'].apply(str) + \"_\" + df_issue_clean['issue_number'].apply(str)\n"
     ]
    }
   ],
   "source": [
    "# clean data: remove entries with NA issue number values  \n",
    "df_issue_clean = full_issue_data[~full_issue_data['issue_number'].isna()]\n",
    "# clean data: add key variable\n",
    "df_issue_clean['key'] = df_issue_clean['repo_id'].apply(str) + \"_\" + df_issue_clean['issue_number'].apply(str)"
   ]
  },
  {
   "cell_type": "code",
   "execution_count": 14,
   "id": "b9a30c53-e83c-4e20-83ab-4a8e3c0f7cd2",
   "metadata": {},
   "outputs": [],
   "source": [
    "df_issue_clean.reset_index(drop = True, inplace = True)"
   ]
  },
  {
   "cell_type": "code",
   "execution_count": 15,
   "id": "91b71438-9f93-49ea-aa96-687171ede526",
   "metadata": {
    "scrolled": true
   },
   "outputs": [
    {
     "name": "stderr",
     "output_type": "stream",
     "text": [
      "/tmp/user/20506/ipykernel_3392565/787012437.py:1: SettingWithCopyWarning: \n",
      "A value is trying to be set on a copy of a slice from a DataFrame.\n",
      "Try using .loc[row_indexer,col_indexer] = value instead\n",
      "\n",
      "See the caveats in the documentation: https://pandas.pydata.org/pandas-docs/stable/user_guide/indexing.html#returning-a-view-versus-a-copy\n",
      "  df_issue_clean['created_at'] = pd.to_datetime(df_issue_clean['created_at'], errors='coerce', utc=True)\n"
     ]
    }
   ],
   "source": [
    "df_issue_clean['created_at'] = pd.to_datetime(df_issue_clean['created_at'], errors='coerce', utc=True)"
   ]
  },
  {
   "cell_type": "code",
   "execution_count": 16,
   "id": "2e6e78e4-e33c-43d3-bbd4-9f25c29b85f1",
   "metadata": {
    "scrolled": true
   },
   "outputs": [
    {
     "name": "stderr",
     "output_type": "stream",
     "text": [
      "/tmp/user/20506/ipykernel_3392565/2240246900.py:6: SettingWithCopyWarning: \n",
      "A value is trying to be set on a copy of a slice from a DataFrame.\n",
      "Try using .loc[row_indexer,col_indexer] = value instead\n",
      "\n",
      "See the caveats in the documentation: https://pandas.pydata.org/pandas-docs/stable/user_guide/indexing.html#returning-a-view-versus-a-copy\n",
      "  df_issue_clean.loc[fix_ind_actor, 'actor_repo_association'] = 'OWNER'\n"
     ]
    }
   ],
   "source": [
    "# FIX people who aren't classified as owner\n",
    "fix_ind = df_issue_clean[df_issue_clean.apply(lambda x: x['repo_name'].split(\"/\")[0] == x['issue_user_login'], axis = 1)].index\n",
    "df_issue_clean.loc[fix_ind, 'issue_author_association'] = 'OWNER'\n",
    "\n",
    "fix_ind_actor = df_issue_clean[df_issue_clean.apply(lambda x: x['repo_name'].split(\"/\")[0] == x['actor_login'], axis = 1)].index\n",
    "df_issue_clean.loc[fix_ind_actor, 'actor_repo_association'] = 'OWNER'"
   ]
  },
  {
   "cell_type": "code",
   "execution_count": 17,
   "id": "71c37dca-8c54-4ba1-a077-6ae465e102d1",
   "metadata": {
    "scrolled": true
   },
   "outputs": [
    {
     "name": "stderr",
     "output_type": "stream",
     "text": [
      "/tmp/user/20506/ipykernel_3392565/1242770205.py:1: SettingWithCopyWarning: \n",
      "A value is trying to be set on a copy of a slice from a DataFrame.\n",
      "Try using .loc[row_indexer,col_indexer] = value instead\n",
      "\n",
      "See the caveats in the documentation: https://pandas.pydata.org/pandas-docs/stable/user_guide/indexing.html#returning-a-view-versus-a-copy\n",
      "  df_issue_clean['repo_org'] = df_issue_clean['repo_name'].apply(name_split)\n"
     ]
    }
   ],
   "source": [
    "\n",
    "df_issue_clean['repo_org'] = df_issue_clean['repo_name'].apply(name_split)"
   ]
  },
  {
   "cell_type": "code",
   "execution_count": 18,
   "id": "b20baaf9-0a1c-4ad9-abc0-cde657b6a530",
   "metadata": {
    "scrolled": true
   },
   "outputs": [
    {
     "name": "stderr",
     "output_type": "stream",
     "text": [
      "/tmp/user/20506/ipykernel_3392565/419398438.py:1: SettingWithCopyWarning: \n",
      "A value is trying to be set on a copy of a slice from a DataFrame.\n",
      "Try using .loc[row_indexer,col_indexer] = value instead\n",
      "\n",
      "See the caveats in the documentation: https://pandas.pydata.org/pandas-docs/stable/user_guide/indexing.html#returning-a-view-versus-a-copy\n",
      "  df_issue_clean['permissions'] = (df_issue_clean['repo_org'] == df_issue_clean['actor_login']).apply(owner)\n"
     ]
    }
   ],
   "source": [
    "\n",
    "df_issue_clean['permissions'] = (df_issue_clean['repo_org'] == df_issue_clean['actor_login']).apply(owner)"
   ]
  },
  {
   "cell_type": "code",
   "execution_count": 19,
   "id": "eaca31bf-f91d-4e92-8b7e-02830a359194",
   "metadata": {},
   "outputs": [],
   "source": [
    "orgs = df_issue_clean[['org_id', 'org_login']].dropna().drop_duplicates()['org_login'].tolist()"
   ]
  },
  {
   "cell_type": "code",
   "execution_count": 20,
   "id": "516c37e0-26fe-4da7-a020-2ae36d2d6127",
   "metadata": {},
   "outputs": [
    {
     "name": "stderr",
     "output_type": "stream",
     "text": [
      "/tmp/user/20506/ipykernel_3392565/344720862.py:2: SettingWithCopyWarning: \n",
      "A value is trying to be set on a copy of a slice from a DataFrame.\n",
      "Try using .loc[row_indexer,col_indexer] = value instead\n",
      "\n",
      "See the caveats in the documentation: https://pandas.pydata.org/pandas-docs/stable/user_guide/indexing.html#returning-a-view-versus-a-copy\n",
      "  df_issue_clean['organization'] = df_issue_clean['repo_org'].isin(orgs)\n"
     ]
    }
   ],
   "source": [
    "# back out organization\n",
    "df_issue_clean['organization'] = df_issue_clean['repo_org'].isin(orgs)"
   ]
  },
  {
   "cell_type": "markdown",
   "id": "25cc366a-f69e-4f38-b9b5-5aa51cb078a3",
   "metadata": {},
   "source": [
    "# Backing out Contributors\n",
    "   1. **Release:** creates tag\n",
    "   2. **PRs:**  \n",
    "      1. PR event `edited`, `closed`, `reopened`, `assigned`, `unassigned`, `review_requested`, `review_request_removed`, `labeled`, `unlabeled`, and `synchronize`.\n",
    "      2. PR Review event `created`\n",
    "      3. Someone else's PR Review Comment `edit` or `delete`\n",
    "      4. **merged by column**\n",
    "   3. **Issues:**\n",
    "      1. Issue event: `Reopen` issues closed by non-author, `close`, `assign`,`unassigned` `labeled` `unlabeled`  all general ones\n",
    "   4. **Commit Comments**: \n",
    "      1. Check if any commit comments have `edited` tag??"
   ]
  },
  {
   "cell_type": "markdown",
   "id": "a704eff2-16d4-4fbc-8736-ef03681a18b2",
   "metadata": {},
   "source": [
    "Issue\n",
    "- Reopened, and issue_author $\\neq$ actor_login\n",
    "- Closed, and issue_author $\\neq$ actor_login"
   ]
  },
  {
   "cell_type": "markdown",
   "id": "5e138d3d-b14c-41a5-a3b9-76fdb2e1362b",
   "metadata": {},
   "source": [
    "# Issues\n",
    "Identify contributors based off whetherthey closed/reopended issues and were not the author"
   ]
  },
  {
   "cell_type": "code",
   "execution_count": 21,
   "id": "426337b9-8bfc-4ba6-b041-2068ab89c5f3",
   "metadata": {
    "scrolled": true
   },
   "outputs": [],
   "source": [
    "issue_contributors = df_issue_clean[\n",
    "    (df_issue_clean['type'] == 'IssuesEvent') & \\\n",
    "    (df_issue_clean['issue_action'].isin(['closed', 'reopened'])) & \\\n",
    "    (df_issue_clean['issue_user_login'] != df_issue_clean['actor_login']) &\n",
    "    (df_issue_clean['permissions'].isna())].index\n",
    "df_issue_clean.loc[issue_contributors, 'permissions'] = 'triage'"
   ]
  },
  {
   "cell_type": "markdown",
   "id": "3e943e60-0a4a-4b61-83e9-8a5119925fd8",
   "metadata": {},
   "source": [
    "identify people who has privileges based assignee and assignees status"
   ]
  },
  {
   "cell_type": "code",
   "execution_count": 22,
   "id": "1cc2eefa-e1c6-4835-819b-ee40b0962c00",
   "metadata": {
    "scrolled": true
   },
   "outputs": [],
   "source": [
    "# anyone who can assign other people to an issue\n",
    "\n",
    "issue_assignee = df_issue_clean[['repo_id', 'issue_number', 'issue_assignee', 'created_at', 'organization']].sort_values('created_at').dropna().drop_duplicates(\n",
    "    ['repo_id', 'issue_number', 'issue_assignee'])\n",
    "issue_assignee['issue_assignee'] = issue_assignee['issue_assignee'].apply(ast.literal_eval)\n",
    "issue_assignee['issue_assignee'] = issue_assignee['issue_assignee'].apply(getLogin)"
   ]
  },
  {
   "cell_type": "markdown",
   "id": "7cb51431-742d-4f07-9c64-06ad7d7be7e6",
   "metadata": {},
   "source": [
    "individuals who are the assignee have contributor or owner privileges"
   ]
  },
  {
   "cell_type": "code",
   "execution_count": 23,
   "id": "95def2d2-a7f0-4da1-b2b9-0266171a2671",
   "metadata": {},
   "outputs": [],
   "source": [
    "issue_assignee['permissions'] = 'triage'"
   ]
  },
  {
   "cell_type": "code",
   "execution_count": 24,
   "id": "b9987b3e-5c69-4a1d-a913-e39f12d61c95",
   "metadata": {
    "scrolled": true
   },
   "outputs": [
    {
     "name": "stderr",
     "output_type": "stream",
     "text": [
      "/tmp/user/20506/ipykernel_3392565/1449288905.py:1: SettingWithCopyWarning: \n",
      "A value is trying to be set on a copy of a slice from a DataFrame.\n",
      "Try using .loc[row_indexer,col_indexer] = value instead\n",
      "\n",
      "See the caveats in the documentation: https://pandas.pydata.org/pandas-docs/stable/user_guide/indexing.html#returning-a-view-versus-a-copy\n",
      "  df_issue_clean['issue_assignees'] = df_issue_clean['issue_assignees'].apply(lambda x: ast.literal_eval(x) if type(x) != list and x != None else x)\n"
     ]
    }
   ],
   "source": [
    "df_issue_clean['issue_assignees'] = df_issue_clean['issue_assignees'].apply(lambda x: ast.literal_eval(x) if type(x) != list and x != None else x)\n",
    "issue_assignees = df_issue_clean[['repo_id', 'issue_number', 'issue_assignees','organization']].explode('issue_assignees').dropna()\n",
    "issue_assignees['issue_assignees'] = issue_assignees['issue_assignees'].apply(getLogin)\n",
    "issue_assignees = issue_assignees.drop_duplicates().groupby(['repo_id', 'issue_number','organization']).agg({'issue_assignees':list}).reset_index()"
   ]
  },
  {
   "cell_type": "code",
   "execution_count": 25,
   "id": "303fa474-8905-4da4-888e-e7dfd7884c7e",
   "metadata": {
    "scrolled": true
   },
   "outputs": [],
   "source": [
    "issue_commenters = pd.concat([df_issue_clean[(df_issue_clean['type'] == 'IssueCommentEvent')][['repo_id','issue_number','actor_id']].reset_index(drop = True),\n",
    "                              df_issue_clean[['repo_id','issue_number','issue_user_id']].rename({'issue_user_id':'actor_id'}, axis = 1).reset_index(drop = True),\n",
    "                             ]).drop_duplicates()\n",
    "issue_commenters = issue_commenters.groupby(['repo_id','issue_number']).agg({'actor_id':list}).reset_index()"
   ]
  },
  {
   "cell_type": "code",
   "execution_count": 26,
   "id": "3cf334ed-2838-4587-bbc3-da8454c48ac4",
   "metadata": {},
   "outputs": [],
   "source": [
    "# https://docs.github.com/en/issues/tracking-your-work-with-issues/assigning-issues-and-pull-requests-to-other-github-users#"
   ]
  },
  {
   "cell_type": "code",
   "execution_count": 27,
   "id": "b03eef04-06a9-4218-a1b2-231b9a5e58d8",
   "metadata": {
    "scrolled": true
   },
   "outputs": [
    {
     "data": {
      "application/vnd.jupyter.widget-view+json": {
       "model_id": "e25a0e40461a431fa91995a3c77be516",
       "version_major": 2,
       "version_minor": 0
      },
      "text/plain": [
       "VBox(children=(HBox(children=(IntProgress(value=0, description='0.00%', max=5139), Label(value='0 / 5139'))), …"
      ]
     },
     "metadata": {},
     "output_type": "display_data"
    }
   ],
   "source": [
    "issue_assignees_not_commenter = pd.merge(issue_assignees, issue_commenters, how = 'left').dropna()\n",
    "issue_assignees_not_commenter['issue_assignees'] = issue_assignees_not_commenter.parallel_apply(\n",
    "    lambda x: [ele for ele in x['issue_assignees'] if ele not in x['actor_id']], axis = 1)\n",
    "issue_assignees_not_commenter = issue_assignees_not_commenter.explode('issue_assignees').dropna().drop('actor_id', axis = 1)"
   ]
  },
  {
   "cell_type": "code",
   "execution_count": 28,
   "id": "d48c8772-19b2-406a-94a8-7be7ec5a8ece",
   "metadata": {
    "scrolled": true
   },
   "outputs": [],
   "source": [
    "issue_assignees_date = df_issue_clean[['repo_id', 'issue_number', 'issue_assignees', 'created_at','organization']].explode('issue_assignees').dropna()\n",
    "issue_assignees_date['issue_assignees'] = issue_assignees_date['issue_assignees'].apply(getLogin)\n",
    "issue_assignees_date = issue_assignees_date.sort_values('created_at').drop_duplicates(['repo_id','issue_number','issue_assignees'])"
   ]
  },
  {
   "cell_type": "code",
   "execution_count": 29,
   "id": "30237166-def0-42ca-be1f-36787dc160be",
   "metadata": {},
   "outputs": [],
   "source": [
    "issue_assignees_not_commenter = pd.merge(issue_assignees_not_commenter, issue_assignees_date)"
   ]
  },
  {
   "cell_type": "code",
   "execution_count": 30,
   "id": "0993dfec-f5a3-4a68-8c0f-d406faf1ef54",
   "metadata": {
    "scrolled": true
   },
   "outputs": [],
   "source": [
    "issue_assignees_not_commenter['permissions'] = 'triage'"
   ]
  },
  {
   "cell_type": "code",
   "execution_count": 31,
   "id": "2a3dfec3-ef1b-42c9-b22e-3a039634db5f",
   "metadata": {
    "scrolled": true
   },
   "outputs": [],
   "source": [
    "issue_ranked = df_issue_clean[['repo_id', 'actor_id', 'created_at', 'permissions', 'organization']].dropna().sort_values(\n",
    "    'created_at').drop_duplicates(\n",
    "    ['repo_id','actor_id','permissions'])"
   ]
  },
  {
   "cell_type": "code",
   "execution_count": 32,
   "id": "017aad1d-1ba8-4b5b-acde-1a0b3c52e097",
   "metadata": {
    "scrolled": true
   },
   "outputs": [],
   "source": [
    "issue_ranked = pd.concat([\n",
    "    issue_ranked,\n",
    "    issue_assignees_not_commenter[['repo_id', 'issue_assignees', 'created_at', 'permissions', 'organization']].rename(\n",
    "        {'issue_assignees':'actor_id'}, axis = 1),\n",
    "    issue_assignee[['repo_id', 'issue_assignee', 'created_at', 'permissions', 'organization']].rename(\n",
    "        {'issue_assignee':'actor_id'}, axis = 1)]).reset_index(drop = True)"
   ]
  },
  {
   "cell_type": "code",
   "execution_count": 33,
   "id": "8eb43aaa-0da1-4960-8dd4-cf42c96239d6",
   "metadata": {},
   "outputs": [],
   "source": [
    "num_rank = {'owner': 1, 'write': 2, 'triage': 3}"
   ]
  },
  {
   "cell_type": "code",
   "execution_count": 34,
   "id": "c4726c2a-26d2-4a57-91ba-61b464330661",
   "metadata": {
    "scrolled": true
   },
   "outputs": [],
   "source": [
    "issue_ranked['derived_rank'] = issue_ranked['permissions'].apply(lambda x: num_rank[x])\n",
    "issue_ranked = issue_ranked.sort_values(['created_at', 'derived_rank']).drop_duplicates(\n",
    "    ['repo_id', 'actor_id', 'permissions']).reset_index(drop = True)"
   ]
  },
  {
   "cell_type": "code",
   "execution_count": 35,
   "id": "d7378f11-f639-4602-94c6-245a7acf023f",
   "metadata": {},
   "outputs": [],
   "source": [
    "issue_ranked['type'] = 'issue'"
   ]
  },
  {
   "cell_type": "code",
   "execution_count": 36,
   "id": "910dd127-29cc-4e34-8a02-281274a215c8",
   "metadata": {},
   "outputs": [],
   "source": [
    "issue_ranked.to_parquet('data/merged_data/imputed_ranks/issue_ranked.csv')"
   ]
  },
  {
   "cell_type": "code",
   "execution_count": 37,
   "id": "ebfc035b-d8b7-4d5a-90da-bfebbae86335",
   "metadata": {},
   "outputs": [],
   "source": [
    "allIssueActors = df_issue_clean[['created_at','repo_id', 'actor_id', 'organization']].sort_values('created_at')\n",
    "allIssueActors['actor_id'] = pd.to_numeric(allIssueActors['actor_id'], errors = 'coerce')\n",
    "allIssueActors = allIssueActors[~allIssueActors['actor_id'].isna()]\n",
    "allIssueActors = allIssueActors.drop_duplicates(['repo_id', 'actor_id', 'organization'])"
   ]
  },
  {
   "cell_type": "code",
   "execution_count": 38,
   "id": "cbabc7da-e2e9-4467-aff0-44354ec6861a",
   "metadata": {},
   "outputs": [],
   "source": [
    "allIssueActors.to_parquet('data/merged_data/imputed_ranks/allIssueActors.csv')"
   ]
  },
  {
   "cell_type": "markdown",
   "id": "a862d059-f766-4a1a-aeef-47fa5fba0bde",
   "metadata": {},
   "source": [
    "### PRs"
   ]
  },
  {
   "cell_type": "markdown",
   "id": "3ddab453-44c1-47bd-ba28-0b71aacde77b",
   "metadata": {},
   "source": [
    "**PRs:**  \n",
    "\n",
    "1. PR event `edited`, `closed`, `reopened`, `assigned`, `unassigned`, `review_requested`, `review_request_removed`, `labeled`, `unlabeled`, and `synchronize`.\n",
    "2. PR Review event `created`\n",
    "3. Someone else's PR Review Comment `edit` or `delete`\n",
    "4. **merged by column**"
   ]
  },
  {
   "cell_type": "code",
   "execution_count": 39,
   "id": "afdb0cad-fd88-416c-8577-9a2e1362f598",
   "metadata": {
    "scrolled": true
   },
   "outputs": [
    {
     "name": "stdout",
     "output_type": "stream",
     "text": [
      "CPU times: user 3min 29s, sys: 45.4 s, total: 4min 14s\n",
      "Wall time: 7min 10s\n"
     ]
    }
   ],
   "source": [
    "%%time\n",
    "# Read data on pr's, pr review's, pr review comment's\n",
    "prcols = ['created_at', 'repo_id', 'repo_name', 'type', 'actor_id', 'actor_login', 'pr_number', 'pr_action',\n",
    "          'pr_assignee','pr_assignees', 'org_id', 'org_login', 'pr_requested_reviewers', 'pr_merged_by_login',\n",
    "          'pr_merged_by_id','pr_user_id']\n",
    "prData = glob.glob('data/github_clean/filtered_github_data/prEvent*.parquet')\n",
    "prData.extend(glob.glob('data/github_clean/github_data_pre_18/prEvent*.parquet'))\n",
    "prData.extend(glob.glob('data/github_clean/github_data_2324/pullRequestEvent*.parquet'))\n",
    "df_prData = pd.concat([readDf(pd.read_parquet(ele), prcols) for ele in prData]).reset_index(drop = True)\n",
    "\n",
    "prreviewcols = ['created_at', 'repo_id', 'repo_name', 'type', 'actor_id', 'actor_login', 'pr_number', 'pr_review_action',\n",
    "                'pr_assignee','pr_assignees', 'org_id', 'org_login', 'pr_requested_reviewers', 'pr_merged_by_login',\n",
    "                'pr_merged_by_id','pr_user_id']\n",
    "prDataReview = glob.glob('data/github_clean/filtered_github_data/prReviewEvent*.parquet')\n",
    "prDataReview.extend(glob.glob('data/github_clean/github_data_pre_18/prReviewEvent*.parquet'))\n",
    "prDataReview.extend(glob.glob('data/github_clean/github_data_2324/pullRequestReviewEvent*.parquet'))\n",
    "df_prDataReview = pd.concat([readDf(pd.read_parquet(ele), prreviewcols) for ele in prDataReview]).reset_index(drop = True)\n",
    "\n",
    "prreviewcommentcols = ['created_at', 'repo_id', 'repo_name', 'type', 'actor_id', 'actor_login', 'pr_number', 'pr_review_comment_action',\n",
    "                       'pr_assignee','pr_assignees', 'org_id', 'org_login', 'pr_requested_reviewers', 'pr_merged_by_login',\n",
    "                       'pr_merged_by_id','pr_user_id']\n",
    "prDataReviewComment = glob.glob('data/github_clean/filtered_github_data/prReviewCommentEvent*.parquet')\n",
    "prDataReviewComment.extend(glob.glob('data/github_clean/github_data_pre_18/prReviewCommentEvent*.parquet'))\n",
    "prDataReviewComment.extend(glob.glob('data/github_clean/github_data_2324/pullRequestReviewCommentEvent*.parquet'))\n",
    "df_prDataReviewComment = pd.concat([readDf(pd.read_parquet(ele), prreviewcols) for ele in prDataReviewComment]).reset_index(drop = True)\n"
   ]
  },
  {
   "cell_type": "code",
   "execution_count": 40,
   "id": "d8844f44-b73b-4e87-ad70-aa38c7d91b7a",
   "metadata": {},
   "outputs": [],
   "source": [
    "prEventData = pd.concat([df_prData, df_prDataReview, df_prDataReviewComment])"
   ]
  },
  {
   "cell_type": "code",
   "execution_count": 41,
   "id": "a94894b3-1e49-42cc-aebb-41ecf91aab82",
   "metadata": {
    "scrolled": true
   },
   "outputs": [],
   "source": [
    "prEventData['repo_org'] = prEventData['repo_name'].apply(name_split)\n",
    "prEventData['permissions'] = (prEventData['repo_org'] == prEventData['actor_login']).apply(owner)\n",
    "orgs_pr = prEventData[['org_id', 'org_login']].dropna().drop_duplicates()['org_login'].tolist()\n",
    "orgs = pd.read_csv('data/merged_data/imputed_ranks/org_login_id.csv', index_col = 0)['org_login']\n",
    "orgs_pr.extend(orgs)\n",
    "prEventData['organization'] = prEventData['repo_org'].isin(orgs_pr)"
   ]
  },
  {
   "cell_type": "code",
   "execution_count": 42,
   "id": "c8859387-5a6f-4e68-bb94-75e67b570a2f",
   "metadata": {
    "scrolled": true
   },
   "outputs": [],
   "source": [
    "prEventData['created_at'] = pd.to_datetime(prEventData['created_at'], errors = 'coerce')\n",
    "prEventData['created_at'] = prEventData['created_at'].dt.tz_localize(None)"
   ]
  },
  {
   "cell_type": "code",
   "execution_count": 43,
   "id": "a0f921cc-748d-42e7-9fa7-b40a0512d135",
   "metadata": {
    "scrolled": true
   },
   "outputs": [],
   "source": [
    "prEventData.reset_index(drop = True, inplace = True)"
   ]
  },
  {
   "cell_type": "code",
   "execution_count": 44,
   "id": "425e17e7-c881-43e3-8c87-d5c99c65d5c8",
   "metadata": {},
   "outputs": [],
   "source": [
    "triage_action = prEventData[\n",
    "    ((prEventData['pr_action'].isin(['closed', 'reopened'])) & (prEventData['type'] == 'PullRequestEvent')) |\n",
    "    ((prEventData['pr_review_action'] == 'created') & (prEventData['type'] == 'PullRequestReviewEvent')) &\n",
    "    (prEventData['permissions'].isna())].index\n",
    "prEventData.loc[triage_action, 'permissions'] = 'triage'\n",
    "\n",
    "write_action = prEventData[\n",
    "    (prEventData['pr_action'].isin(['synchronize'])) &\n",
    "    (prEventData['permissions'].isna())].index\n",
    "prEventData.loc[write_action, 'permissions'] = 'write'"
   ]
  },
  {
   "cell_type": "code",
   "execution_count": 45,
   "id": "97f4b5af-2c2f-49ec-a500-25b3992eb7ea",
   "metadata": {
    "scrolled": true
   },
   "outputs": [],
   "source": [
    "# anyone who can assign other people to an pr\n",
    "pr_assignee = prEventData[['repo_id', 'pr_number', 'pr_assignee', 'created_at' ,'organization']].sort_values('created_at').dropna().drop_duplicates(\n",
    "    ['repo_id', 'pr_number', 'pr_assignee'])\n",
    "pr_assignee['pr_assignee'] = pr_assignee['pr_assignee'].apply(ast.literal_eval)\n",
    "pr_assignee = pr_assignee[pr_assignee['pr_assignee'].apply(lambda x: type(x) != list)]\n",
    "pr_assignee['pr_assignee'] = pr_assignee['pr_assignee'].apply(getLogin)"
   ]
  },
  {
   "cell_type": "markdown",
   "id": "fa487b0c-5d2c-4cf5-9c44-a29d1581fcf9",
   "metadata": {},
   "source": [
    "individuals who are the assignee have contributor or owner privileges"
   ]
  },
  {
   "cell_type": "code",
   "execution_count": 46,
   "id": "2c83127f-c654-4327-9db4-2300ecb5cce8",
   "metadata": {},
   "outputs": [],
   "source": [
    "pr_assignee['permissions'] = 'triage'"
   ]
  },
  {
   "cell_type": "code",
   "execution_count": 47,
   "id": "8bf74928-c89a-4ef8-8c17-64b029bc8ab5",
   "metadata": {
    "scrolled": true
   },
   "outputs": [
    {
     "data": {
      "application/vnd.jupyter.widget-view+json": {
       "model_id": "54695fd5722844faa847c90b2258d605",
       "version_major": 2,
       "version_minor": 0
      },
      "text/plain": [
       "VBox(children=(HBox(children=(IntProgress(value=0, description='0.00%', max=146788), Label(value='0 / 146788')…"
      ]
     },
     "metadata": {},
     "output_type": "display_data"
    }
   ],
   "source": [
    "prEventData['pr_assignees'] = prEventData['pr_assignees'].parallel_apply(lambda x: ast.literal_eval(x) if type(x) != list and type(x) != float and x != None else x)\n",
    "pr_assignees = prEventData[['repo_id', 'pr_number', 'pr_assignees','organization']].explode('pr_assignees').dropna()\n",
    "pr_assignees['pr_assignees'] = pr_assignees['pr_assignees'].apply(getLogin)\n",
    "pr_assignees = pr_assignees.drop_duplicates().groupby(['repo_id', 'pr_number','organization']).agg({'pr_assignees':list}).reset_index()"
   ]
  },
  {
   "cell_type": "code",
   "execution_count": 48,
   "id": "ddba5e64-4cf4-47d8-822f-3940fbc0bfb2",
   "metadata": {
    "scrolled": true
   },
   "outputs": [],
   "source": [
    "pr_commenters = pd.concat([prEventData[(prEventData['type'] == 'PullRequestReviewCommentEvent')][['repo_id','pr_number','actor_id']].reset_index(drop = True),\n",
    "                           prEventData[['repo_id','pr_number','pr_user_id']].rename({'pr_user_id':'actor_id'}, axis = 1).reset_index(drop = True),\n",
    "                          ]).drop_duplicates()\n",
    "pr_commenters = pr_commenters.groupby(['repo_id','pr_number']).agg({'actor_id':list}).reset_index()"
   ]
  },
  {
   "cell_type": "code",
   "execution_count": 49,
   "id": "66774ad7-f085-4051-aa18-9a754dfb9d99",
   "metadata": {},
   "outputs": [],
   "source": [
    "# https://docs.github.com/en/issues/tracking-your-work-with-issues/assigning-issues-and-pull-requests-to-other-github-users#"
   ]
  },
  {
   "cell_type": "code",
   "execution_count": 50,
   "id": "799d860d-36d8-452d-bf3b-fda214fcf0b5",
   "metadata": {
    "scrolled": true
   },
   "outputs": [
    {
     "data": {
      "application/vnd.jupyter.widget-view+json": {
       "model_id": "9575beddf5264be2ae0585a903e0478d",
       "version_major": 2,
       "version_minor": 0
      },
      "text/plain": [
       "VBox(children=(HBox(children=(IntProgress(value=0, description='0.00%', max=2624), Label(value='0 / 2624'))), …"
      ]
     },
     "metadata": {},
     "output_type": "display_data"
    }
   ],
   "source": [
    "pr_assignees_not_commenter = pd.merge(pr_assignees, pr_commenters, how = 'left')\n",
    "pr_assignees_not_commenter['pr_assignees'] = pr_assignees_not_commenter.parallel_apply(\n",
    "    lambda x: x['pr_assignees'] if type(x['actor_id']) == float else [ele for ele in x['pr_assignees'] if ele not in x['actor_id']], axis = 1)\n",
    "pr_assignees_not_commenter = pr_assignees_not_commenter.explode('pr_assignees').dropna().drop('actor_id', axis = 1)"
   ]
  },
  {
   "cell_type": "code",
   "execution_count": 51,
   "id": "9de45536-31bc-4cf4-bdf9-25e3517e9356",
   "metadata": {
    "scrolled": true
   },
   "outputs": [],
   "source": [
    "pr_assignees_date = prEventData[['repo_id', 'pr_number', 'pr_assignees', 'created_at']].explode('pr_assignees').dropna()\n",
    "pr_assignees_date['pr_assignees'] = pr_assignees_date['pr_assignees'].apply(getLogin)\n",
    "pr_assignees_date = pr_assignees_date.sort_values('created_at').drop_duplicates(['repo_id','pr_number','pr_assignees'])"
   ]
  },
  {
   "cell_type": "code",
   "execution_count": 52,
   "id": "a875cd67-cbf9-4c2b-8db9-e162d9430669",
   "metadata": {},
   "outputs": [],
   "source": [
    "pr_assignees_not_commenter = pd.merge(pr_assignees_not_commenter, pr_assignees_date)"
   ]
  },
  {
   "cell_type": "code",
   "execution_count": 53,
   "id": "c32efb0c-4af7-45cf-aa50-fe0fb2cbaf59",
   "metadata": {
    "scrolled": true
   },
   "outputs": [],
   "source": [
    "pr_assignees_not_commenter['permissions'] = 'triage'"
   ]
  },
  {
   "cell_type": "code",
   "execution_count": 54,
   "id": "520af43a-a6e4-4841-9480-84714aea245f",
   "metadata": {
    "scrolled": true
   },
   "outputs": [
    {
     "data": {
      "application/vnd.jupyter.widget-view+json": {
       "model_id": "e3c62cbc971d4056a04ecb5fbd7afa7c",
       "version_major": 2,
       "version_minor": 0
      },
      "text/plain": [
       "VBox(children=(HBox(children=(IntProgress(value=0, description='0.00%', max=27852), Label(value='0 / 27852')))…"
      ]
     },
     "metadata": {},
     "output_type": "display_data"
    }
   ],
   "source": [
    "prEventData['pr_requested_reviewers_length'] = prEventData['pr_requested_reviewers'].apply(\n",
    "    lambda x: len(x) if not pd.isnull(x) else 0)\n",
    "pr_data_index = prEventData[prEventData['pr_requested_reviewers_length']>2].index\n",
    "prEventData.loc[pr_data_index, 'pr_requested_reviewers'] = prEventData.loc[pr_data_index].parallel_apply(\n",
    "    lambda x: ast.literal_eval(x['pr_requested_reviewers']) if x['pr_requested_reviewers_length'] > 2 else np.nan, axis = 1)"
   ]
  },
  {
   "cell_type": "code",
   "execution_count": 55,
   "id": "68423cb7-7e71-4aca-8e8f-a0748c3a9820",
   "metadata": {},
   "outputs": [],
   "source": [
    "pr_reviewers = prEventData[prEventData['pr_requested_reviewers_length'].apply(lambda x: x>2)][[\n",
    "    'created_at', 'repo_id', 'pr_requested_reviewers', 'organization']]\n",
    "pr_reviewers['pr_requested_reviewers'] = pr_reviewers['pr_requested_reviewers'].apply(\n",
    "    lambda x: [getLogin(ele) for ele in x])\n",
    "pr_reviewers = pr_reviewers.explode(\"pr_requested_reviewers\")\n",
    "pr_reviewers = pr_reviewers.sort_values('created_at').drop_duplicates(['pr_requested_reviewers', 'repo_id'])\n",
    "pr_reviewers['permissions'] = 'triage'\n",
    "pr_reviewers.rename({'pr_requested_reviewrs': 'actor_id'}, axis = 1, inplace = True)"
   ]
  },
  {
   "cell_type": "code",
   "execution_count": 56,
   "id": "71153d75-0c92-4063-98ac-8de6f6a583da",
   "metadata": {},
   "outputs": [],
   "source": [
    "prEventData.drop('pr_requested_reviewers_length', axis = 1, inplace = True)"
   ]
  },
  {
   "cell_type": "code",
   "execution_count": 57,
   "id": "bcdd8581-e2da-45b4-b725-75d0ac3ca0e2",
   "metadata": {
    "scrolled": true
   },
   "outputs": [],
   "source": [
    "prEventData['repo_id'] = pd.to_numeric(prEventData['repo_id'], errors = 'coerce')\n",
    "prEventData['actor_id'] = pd.to_numeric(prEventData['actor_id'], errors = 'coerce')\n",
    "prEventData['pr_number'] = pd.to_numeric(prEventData['pr_number'], errors = 'coerce')\n",
    "prEventData['org_id'] = pd.to_numeric(prEventData['org_id'], errors = 'coerce')\n",
    "prEventData['pr_user_id'] = pd.to_numeric(prEventData['pr_user_id'], errors = 'coerce')\n",
    "#prEventData = prEventData[(~prEventData['repo_id'].isna()) & (~prEventData['actor_id'].isna())\n",
    "#     & (~prEventData['pr_number'].isna()) & (~prEventData['org_id'].isna()) & (~prEventData['pr_user_id'].isna())]"
   ]
  },
  {
   "cell_type": "code",
   "execution_count": 58,
   "id": "ea16b0e2-f5c9-4c64-bddf-e6ab82739b14",
   "metadata": {
    "scrolled": true
   },
   "outputs": [],
   "source": [
    "prEventData['pr_requested_reviewers'] = prEventData['pr_requested_reviewers'].apply(lambda x: x if type(x) != str else np.nan)"
   ]
  },
  {
   "cell_type": "code",
   "execution_count": 59,
   "id": "72a89d78-3901-4487-a3dc-b7b2c7c03568",
   "metadata": {
    "scrolled": true
   },
   "outputs": [],
   "source": [
    "prEventData.to_parquet('data/merged_data/prEventData.parquet',)"
   ]
  },
  {
   "cell_type": "code",
   "execution_count": 60,
   "id": "13e0e210-6079-4f65-82f8-82f9c74d4990",
   "metadata": {},
   "outputs": [
    {
     "data": {
      "text/plain": [
       "type\n",
       "PullRequestEvent    1139746\n",
       "Name: count, dtype: int64"
      ]
     },
     "execution_count": 60,
     "metadata": {},
     "output_type": "execute_result"
    }
   ],
   "source": [
    "prEventData[~prEventData['pr_merged_by_id'].isna()]['type'].value_counts()"
   ]
  },
  {
   "cell_type": "code",
   "execution_count": 61,
   "id": "694504e6-f135-4560-bef7-520ed594b77d",
   "metadata": {},
   "outputs": [],
   "source": [
    "pr_mergers = prEventData[~prEventData['pr_merged_by_id'].isna()][[\n",
    "    'created_at', 'repo_id', 'pr_merged_by_id', 'organization']]\n",
    "pr_mergers = pr_mergers.sort_values('created_at').drop_duplicates(['pr_merged_by_id', 'repo_id'])\n",
    "pr_mergers['permissions'] = 'write'\n",
    "pr_mergers.rename({'pr_merged_by_id': 'actor_id'}, axis = 1, inplace = True)"
   ]
  },
  {
   "cell_type": "code",
   "execution_count": 62,
   "id": "be0f2420-62b8-4fec-9edc-f7354015fca5",
   "metadata": {},
   "outputs": [],
   "source": [
    "pr_ranked = prEventData[['repo_id', 'actor_id', 'created_at', 'permissions', 'organization']].dropna().sort_values(\n",
    "    'created_at').drop_duplicates(\n",
    "    ['repo_id','actor_id','permissions'])"
   ]
  },
  {
   "cell_type": "code",
   "execution_count": 63,
   "id": "9e906ca8-97f1-4378-a2de-0bc36898847f",
   "metadata": {
    "scrolled": true
   },
   "outputs": [],
   "source": [
    "pr_ranked = pd.concat([pr_ranked,\n",
    "           pr_assignee.rename({'pr_assignee':'actor_id'}, axis = 1),\n",
    "           pr_assignees_not_commenter.rename({'pr_assignees':'actor_id'}, axis = 1),\n",
    "           pr_reviewers.rename({'pr_requested_reviewers':'actor_id'}, axis = 1),\n",
    "           pr_mergers]).drop('pr_number', axis = 1).sort_values('created_at').drop_duplicates(\n",
    "    ['repo_id', 'actor_id', 'organization', 'permissions'])"
   ]
  },
  {
   "cell_type": "code",
   "execution_count": 64,
   "id": "7e9ff3a6-0cdd-4adf-8984-dd565eaf5ba4",
   "metadata": {},
   "outputs": [],
   "source": [
    "pr_ranked['type'] = 'pr'"
   ]
  },
  {
   "cell_type": "code",
   "execution_count": 69,
   "id": "8b275cd7-b988-4942-8a49-a1373088d7fa",
   "metadata": {
    "scrolled": true
   },
   "outputs": [],
   "source": [
    "pr_ranked['repo_id'] = pd.to_numeric(pr_ranked['repo_id'])"
   ]
  },
  {
   "cell_type": "code",
   "execution_count": 70,
   "id": "5c52ecfe-4ddf-4e29-b718-253568d0904f",
   "metadata": {
    "scrolled": true
   },
   "outputs": [],
   "source": [
    "pr_ranked.to_parquet('data/merged_data/imputed_ranks/pr_ranked.parquet')"
   ]
  },
  {
   "cell_type": "code",
   "execution_count": 71,
   "id": "aec5a7bd-a489-477f-a99b-26828fb7188a",
   "metadata": {},
   "outputs": [],
   "source": [
    "allPRActors = prEventData[['created_at','repo_id', 'actor_id', 'organization']].sort_values('created_at')\n",
    "allPRActors['actor_id'] = pd.to_numeric(allPRActors['actor_id'], errors = 'coerce')\n",
    "allPRActors = allPRActors[~allPRActors['actor_id'].isna()]\n",
    "allPRActors = allPRActors.drop_duplicates(['repo_id', 'actor_id', 'organization'])"
   ]
  },
  {
   "cell_type": "code",
   "execution_count": 72,
   "id": "8acebe57-a2e2-4d47-85f7-c7f7ede7ed89",
   "metadata": {},
   "outputs": [],
   "source": [
    "allPRActors.to_parquet('data/merged_data/imputed_ranks/allPRActors.csv')"
   ]
  },
  {
   "cell_type": "markdown",
   "id": "c18cc545-1c20-4148-ac6e-b732ab659e9f",
   "metadata": {},
   "source": [
    "# pushes"
   ]
  },
  {
   "cell_type": "code",
   "execution_count": 73,
   "id": "5f39f805-e9da-49d7-8fbf-46daa07b0ff9",
   "metadata": {
    "scrolled": true
   },
   "outputs": [],
   "source": [
    "pushData = glob.glob('data/github_clean/filtered_github_data/pushEvent*')\n",
    "pushData.extend(glob.glob('data/github_clean/github_data_pre_18/pushEvent*'))\n",
    "pushData.extend(glob.glob('data/github_clean/github_data_2324/pushEvent*'))\n",
    "\n",
    "pushEventData = pd.concat([pd.read_parquet(ele) for ele in pushData])[[\n",
    "    'actor_login', 'actor_id', 'org_id', 'org_login', 'type', 'created_at', 'repo_id', 'repo_name', 'push_id', 'push_ref']]"
   ]
  },
  {
   "cell_type": "code",
   "execution_count": 74,
   "id": "88b86bb8-36aa-4aa1-a6e7-505a380ef71c",
   "metadata": {},
   "outputs": [],
   "source": [
    "pushEventData['created_at'] = pd.to_datetime(pushEventData['created_at'])\n",
    "pushEventData = pushEventData.reset_index(drop = True)"
   ]
  },
  {
   "cell_type": "code",
   "execution_count": 75,
   "id": "4ab8077c-5a75-4da2-8c65-e2efbf4bd1cb",
   "metadata": {
    "scrolled": true
   },
   "outputs": [],
   "source": [
    "pushEventData['repo_org'] = pushEventData['repo_name'].apply(name_split)\n",
    "pushEventData['permissions'] = (pushEventData['repo_org'] == pushEventData['actor_login']).apply(owner)\n",
    "orgs_push = pushEventData[['org_id', 'org_login']].dropna().drop_duplicates()['org_login'].tolist()\n",
    "#orgs_pr = pd.read_csv('orgs_pr.csv', index_col = 0)['0'].tolist()\n",
    "#orgs_push.extend(orgs_pr)\n",
    "pushEventData['organization'] = pushEventData['repo_org'].isin(orgs_pr)"
   ]
  },
  {
   "cell_type": "code",
   "execution_count": 76,
   "id": "56fe5dbc-8978-4fbc-ac27-7161e79d15b0",
   "metadata": {
    "scrolled": true
   },
   "outputs": [],
   "source": [
    "not_owner = pushEventData[pushEventData['permissions'].isna()].index\n",
    "pushEventData.loc[not_owner, 'permissions'] = 'write'"
   ]
  },
  {
   "cell_type": "code",
   "execution_count": null,
   "id": "20125883-03f6-4192-80a3-0cabf8444d97",
   "metadata": {},
   "outputs": [],
   "source": [
    "committer_pr = pd.read_csv('data/merged_data/committers_info_push.csv',index_col = 0)\n",
    "committer_push = pd.read_csv('data/merged_data/committers_info_pr.csv',index_col = 0)\n",
    "\n",
    "\n",
    "committer_push.dropna(inplace = True)\n",
    "committer_pr.dropna(inplace = True)\n",
    "committer_push['committer_info'] = committer_push['committer_info'].apply(ast.literal_eval)\n",
    "committer_pr['committer_info'] = committer_pr['committer_info'].apply(ast.literal_eval)\n",
    "committer_push['email'] = committer_push['email'].apply(lambda x: x.lower())\n",
    "committer_pr['email'] = committer_pr['email'].apply(lambda x: x.lower())\n",
    "\n",
    "email_committer_info = pd.concat([committer_push[['email', 'actor_id']],\n",
    "                                 committer_pr[['email', 'actor_id']]]).drop_duplicates().set_index('email').to_dict()['actor_id']\n",
    "\n",
    "cols = ['repo_id', 'repo_name', 'actor_id', 'org_id', 'commit changes total','commit author name',\n",
    "        'commit author email','committer name','commmitter email','commit files changed count','commit time',\n",
    "       'commit additions','commit deletions','commit file changes', 'push_id']\n",
    "\n",
    "commits_push_list = glob.glob('data/github_commits/parquet/filtered_github_data_large/*push*')\n",
    "commits_push_list.extend(glob.glob('data/github_commits/parquet/github_data_pre_18/*push*'))\n",
    "commits_push_list.extend(glob.glob('data/github_commits/parquet/github_data_2324/*push*'))\n",
    "\n",
    "df_commits_push = pd.concat([pd.read_parquet(file) for file in commits_push_list])[c]\n",
    "df_commits_push['type'] = 'push commits'"
   ]
  },
  {
   "cell_type": "code",
   "execution_count": null,
   "id": "603a0a28-04c3-4d8a-83a3-5dc04a8f7f48",
   "metadata": {},
   "outputs": [],
   "source": [
    "df_commits = df_commits_push\n",
    "df_commits['repo_org'] = df_commits['repo_name'].apply(lambda x: x.split(\"/\")[0])\n",
    "df_commits['organization'] = df_commits['repo_org'].isin(orgs_pr)\n",
    "\n",
    "df_commits.reset_index(drop = True, inplace = True)\n",
    "\n",
    "\n",
    "df_commits = df_commits[['commit author email', 'commit time', 'repo_id', 'organization']]\n",
    "df_commits['commit time'] = pd.to_datetime(df_commits['commit time'], unit = 's')\n",
    "\n",
    "df_commits = df_commits[~df_commits['commit author email'].isna()]\n",
    "df_commits = df_commits[~df_commits['repo_id'].isna()]\n",
    "df_commits['commit_actor_id'] = df_commits['commit author email'].apply(lambda x: email_committer_info.get(x.lower(), np.nan))\n",
    "\n",
    "df_commits = df_commits[~df_commits['commit_actor_id'].isna()]\n",
    "\n",
    "\n",
    "df_commits['commit_actor_id'] = df_commits['commit author email'].apply(lambda x: email_committer_info.get(x.lower(), np.nan))\n",
    "\n",
    "df_commits = df_commits[~df_commits['commit_actor_id'].isna()]"
   ]
  },
  {
   "cell_type": "code",
   "execution_count": null,
   "id": "c806c90c-2628-4f14-8cbb-a173c10c37e7",
   "metadata": {
    "scrolled": true
   },
   "outputs": [],
   "source": [
    "df_commits['permissions'] = 'write'\n",
    "df_commits = df_commits.drop('commit author email', axis = 1).rename(\n",
    "    {'commit time': 'created_at', 'commit_actor_id':'actor_id'}, axis = 1)"
   ]
  },
  {
   "cell_type": "code",
   "execution_count": null,
   "id": "2618fed5-5632-4be5-ba12-b1b2f3448db5",
   "metadata": {
    "scrolled": true
   },
   "outputs": [],
   "source": [
    "df_commits['created_at'] = df_commits['created_at'].dt.tz_localize(pytz.UTC)"
   ]
  },
  {
   "cell_type": "code",
   "execution_count": null,
   "id": "5b1d5d85-7da8-449f-9037-a74a12b54611",
   "metadata": {},
   "outputs": [],
   "source": [
    "df_commits_pushes = df_commits.sort_values('created_at').drop_duplicates(\n",
    "    ['repo_id', 'actor_id', 'organization', 'permissions'])"
   ]
  },
  {
   "cell_type": "code",
   "execution_count": null,
   "id": "1fff9757-b0b8-4884-b5ce-e2461bae1259",
   "metadata": {
    "scrolled": true
   },
   "outputs": [],
   "source": [
    "push_ranked = pushEventData[['created_at','repo_id','organization','actor_id','permissions']].sort_values('created_at').drop_duplicates(\n",
    "    ['repo_id', 'actor_id', 'organization', 'permissions'])"
   ]
  },
  {
   "cell_type": "code",
   "execution_count": null,
   "id": "5f3f7679-7a0d-43bb-b5bc-469e96073f0b",
   "metadata": {
    "scrolled": true
   },
   "outputs": [],
   "source": [
    "push_ranked = pd.concat([df_commits_pushes, push_ranked]).sort_values('created_at').drop_duplicates(\n",
    "    ['repo_id', 'actor_id', 'organization', 'permissions'])"
   ]
  },
  {
   "cell_type": "code",
   "execution_count": null,
   "id": "31234148-044b-4cc2-ab4c-e5d7ecf43141",
   "metadata": {},
   "outputs": [],
   "source": [
    "push_ranked['type'] = 'push'"
   ]
  },
  {
   "cell_type": "code",
   "execution_count": null,
   "id": "a178b85a-7c95-42cf-8074-6738e574fd72",
   "metadata": {},
   "outputs": [],
   "source": [
    "push_ranked.to_parquet('data/merged_data/imputed_ranks/push_ranked.csv')"
   ]
  },
  {
   "cell_type": "markdown",
   "id": "63c4d326-77dd-4bc9-a410-57c2f5985a49",
   "metadata": {},
   "source": [
    "# combining everything"
   ]
  },
  {
   "cell_type": "code",
   "execution_count": null,
   "id": "b3bcfbf0-6a47-48b5-9c08-361855f8392b",
   "metadata": {},
   "outputs": [],
   "source": [
    "import pytz"
   ]
  },
  {
   "cell_type": "code",
   "execution_count": null,
   "id": "0dc638ae-01b3-4257-9db1-6a37216a7293",
   "metadata": {},
   "outputs": [],
   "source": [
    "#issue_ranked = pd.read_csv('data/merged_data/imputed_ranks/issue_ranked.csv', index_col = 0)\n",
    "#push_ranked = pd.read_csv('data/merged_data/imputed_ranks/push_ranked.csv', index_col = 0)\n",
    "#pr_ranked = pd.read_csv('data/merged_data/imputed_ranks/pr_ranked.csv', index_col = 0)"
   ]
  },
  {
   "cell_type": "code",
   "execution_count": null,
   "id": "12d6461b-0ad6-4d36-b2fe-c64752d3f84b",
   "metadata": {},
   "outputs": [],
   "source": [
    "push_ranked['type'] = 'push'"
   ]
  },
  {
   "cell_type": "code",
   "execution_count": null,
   "id": "7ec7252d-2e35-4856-b518-2f190c1fe632",
   "metadata": {},
   "outputs": [],
   "source": [
    "all_ranked = pd.concat([push_ranked, issue_ranked, pr_ranked]).reset_index(drop = True)"
   ]
  },
  {
   "cell_type": "code",
   "execution_count": null,
   "id": "074dc549-c41b-4300-928d-49659ef0b531",
   "metadata": {},
   "outputs": [],
   "source": [
    "all_ranked.drop('derived_rank', axis = 1, inplace = True)"
   ]
  },
  {
   "cell_type": "code",
   "execution_count": null,
   "id": "d1420f50-1fb8-4735-9bb1-336def93c14b",
   "metadata": {
    "scrolled": true
   },
   "outputs": [],
   "source": [
    "all_ranked['created_at'] = all_ranked['created_at'].apply(lambda x: datetime(x.year, x.month, x.day, x.hour, x.minute, x.second, tzinfo = pytz.UTC))"
   ]
  },
  {
   "cell_type": "code",
   "execution_count": null,
   "id": "80bc88d9-cc95-4b26-8f33-b5e3fbe2c3ad",
   "metadata": {
    "scrolled": true
   },
   "outputs": [],
   "source": [
    "all_ranked = all_ranked.sort_values('created_at').drop_duplicates(['repo_id', 'actor_id', 'organization', 'permissions'])"
   ]
  },
  {
   "cell_type": "code",
   "execution_count": null,
   "id": "63fb95f3-9df8-43c8-bc9b-a752fe983a5a",
   "metadata": {},
   "outputs": [],
   "source": [
    "# eliminate collaborators who occur after owner\n",
    "owner_date = all_ranked[all_ranked['permissions'] == 'owner'][['repo_id','actor_id','created_at']].rename({\n",
    "    'created_at':'date_owner'}, axis = 1)\n",
    "write_date = all_ranked[all_ranked['permissions'] == 'write'][['repo_id','actor_id','created_at']].rename({\n",
    "    'created_at':'date_write'}, axis = 1)\n",
    "\n",
    "all_ranked = pd.merge(all_ranked, owner_date, how = 'left')\n",
    "all_ranked = pd.merge(all_ranked, write_date, how = 'left')"
   ]
  },
  {
   "cell_type": "code",
   "execution_count": null,
   "id": "fb81c0e9-1643-499b-a589-8d5f09a29618",
   "metadata": {
    "scrolled": true
   },
   "outputs": [],
   "source": [
    "all_ranked = all_ranked.sort_values(['repo_id', 'actor_id','created_at'])"
   ]
  },
  {
   "cell_type": "code",
   "execution_count": null,
   "id": "c6006c64-f220-4a6a-bc8a-30c888ea9dda",
   "metadata": {
    "scrolled": true
   },
   "outputs": [],
   "source": [
    "all_ranked_v1 = all_ranked[all_ranked.apply(\n",
    "    lambda x: x['permissions'] == 'owner' or \n",
    "    (x['permissions'] == 'triage' and \n",
    "         (pd.isnull(x['date_owner']) or x['created_at']<x['date_owner']) and\n",
    "         (pd.isnull(x['date_write']) or x['created_at']<x['date_write'])) or\n",
    "    (x['permissions'] == 'write' and \n",
    "         (pd.isnull(x['date_owner']) or x['created_at']<x['date_owner'])), axis = 1)].drop(\n",
    "    ['date_owner', 'date_write'], axis = 1)"
   ]
  },
  {
   "cell_type": "code",
   "execution_count": null,
   "id": "8266eb40-678d-4cfd-b731-8b5793bdc657",
   "metadata": {},
   "outputs": [],
   "source": [
    "all_ranked_v1.to_parquet('data/merged_data/imputed_ranks/all_ranked_v1.parquet')"
   ]
  },
  {
   "cell_type": "code",
   "execution_count": null,
   "id": "5a68fd0f-7c40-4d8d-9db3-ddb9b89c6ce1",
   "metadata": {},
   "outputs": [],
   "source": [
    "all_ranked['corrected_permissions'] = all_ranked['permissions']"
   ]
  },
  {
   "cell_type": "code",
   "execution_count": null,
   "id": "95b36d76-23f5-4b31-a1bd-d8672c0c353c",
   "metadata": {},
   "outputs": [],
   "source": [
    "# cases where someone has triage permissions and then suddenly has write permissions 2 days or less later\n",
    "# correct to just always having write permissions\n",
    "triage_to_write = all_ranked[all_ranked.apply(\n",
    "    lambda x: (x['permissions'] == 'triage' and \n",
    "              (x['date_write']-x['created_at']).days <= 2), axis = 1)].index\n",
    "all_ranked.loc[triage_to_write, 'corrected_permissions'] = 'write'"
   ]
  },
  {
   "cell_type": "code",
   "execution_count": null,
   "id": "8937de55-3066-4788-9d7a-4d74d7ccfca1",
   "metadata": {},
   "outputs": [],
   "source": [
    "# cases where someone has triage permissions and then suddenly has owner permissions 2 days or less later\n",
    "# correct to just always having owner permissions\n",
    "triage_to_owner = all_ranked[all_ranked.apply(\n",
    "    lambda x: (x['permissions'] == 'triage' and \n",
    "              (x['date_owner']-x['created_at']).days <= 2), axis = 1)].index\n",
    "all_ranked.loc[triage_to_owner, 'corrected_permissions'] = 'owner'"
   ]
  },
  {
   "cell_type": "code",
   "execution_count": null,
   "id": "c97d2555-6a3c-4278-87c7-9ba462300693",
   "metadata": {
    "scrolled": true
   },
   "outputs": [],
   "source": [
    "# cases where someone has write permissions and then suddenly has owner permissions 2 days or less later\n",
    "# correct to just always having owner permissions\n",
    "write_to_owner = all_ranked[all_ranked.apply(\n",
    "    lambda x: (x['permissions'] == 'write' and \n",
    "              (x['date_owner']-x['created_at']).days <= 2), axis = 1)].index\n",
    "all_ranked.loc[write_to_owner, 'corrected_permissions'] = 'owner'"
   ]
  },
  {
   "cell_type": "code",
   "execution_count": null,
   "id": "aba2b86b-04d3-4aff-a85c-57e96f7bd823",
   "metadata": {
    "scrolled": true
   },
   "outputs": [],
   "source": [
    "all_ranked.sort_values('created_at').drop_duplicates(['repo_id', 'actor_id', 'organization','corrected_permissions'])[[\n",
    "    'created_at', 'repo_id', 'actor_id', 'organization','corrected_permissions']]"
   ]
  },
  {
   "cell_type": "code",
   "execution_count": null,
   "id": "2c83a9f3-3333-4a63-bec0-478accd0acd9",
   "metadata": {},
   "outputs": [],
   "source": [
    "all_ranked_v2 = all_ranked.sort_values('created_at').drop_duplicates(['repo_id', 'actor_id', 'organization','corrected_permissions'])[['created_at', 'repo_id', 'actor_id', 'organization','corrected_permissions']]"
   ]
  },
  {
   "cell_type": "code",
   "execution_count": null,
   "id": "82c7b6f0-1066-41a4-a2f4-b51adbd074bb",
   "metadata": {
    "scrolled": true
   },
   "outputs": [],
   "source": [
    "all_ranked_v2[['created_at', 'repo_id', 'actor_id', 'organization','corrected_permissions']].to_parquet(\n",
    "    'data/merged_data/imputed_ranks/all_ranked_v2.parquet')"
   ]
  },
  {
   "cell_type": "markdown",
   "id": "49c39a76-c3b4-442f-9c18-f55e80c2861b",
   "metadata": {},
   "source": [
    "# Other Data"
   ]
  },
  {
   "cell_type": "code",
   "execution_count": null,
   "id": "f74767b9-bcac-45b6-a3e4-41976d49ef94",
   "metadata": {
    "scrolled": true
   },
   "outputs": [],
   "source": [
    "allPushActors = push_ranked[['created_at','repo_id','actor_id','organization']]\n",
    "allPushActors['created_at'] = pd.to_datetime(allPushActors['created_at'])\n",
    "allPushActors['created_at'] = allPushActors['created_at'].apply(lambda x: x.tz_localize(None))"
   ]
  },
  {
   "cell_type": "code",
   "execution_count": null,
   "id": "04ceb837-980f-4466-b674-dfca38c5f3d7",
   "metadata": {},
   "outputs": [],
   "source": [
    "allActors = pd.concat([allPushActors,allIssueActors,allPRActors]).sort_values('created_at').drop_duplicates(\n",
    "    ['repo_id', 'actor_id', 'organization'])"
   ]
  },
  {
   "cell_type": "code",
   "execution_count": null,
   "id": "3a7aba18-1e5a-4be8-b503-cebfbd39901e",
   "metadata": {},
   "outputs": [],
   "source": [
    "allActors.to_parquet('data/merged_data/imputed_ranks/allActors.parquet')"
   ]
  },
  {
   "cell_type": "code",
   "execution_count": null,
   "id": "994d4cf4-b430-462f-a7ad-3c395f1768ba",
   "metadata": {
    "scrolled": true
   },
   "outputs": [],
   "source": [
    "pd.concat([prEventData[['repo_id', 'repo_name']].drop_duplicates(),\n",
    "           pushEventData[['repo_id', 'repo_name']].drop_duplicates(),\n",
    "           df_issue_clean[['repo_id', 'repo_name']].drop_duplicates()]).drop_duplicates().dropna().to_parquet(\n",
    "    'data/merged_data/imputed_ranks/repo_login_id.parquet')"
   ]
  },
  {
   "cell_type": "code",
   "execution_count": null,
   "id": "9869b6dc-1852-49d1-a608-becf51bf59ad",
   "metadata": {
    "scrolled": true
   },
   "outputs": [],
   "source": [
    "pd.concat([prEventData[['org_id', 'org_login']].drop_duplicates(),\n",
    "           pushEventData[['org_id', 'org_login']].drop_duplicates(),\n",
    "           df_issue_clean[['org_id', 'org_login']].drop_duplicates()]).drop_duplicates().dropna().to_parquet(\n",
    "    'data/merged_data/imputed_ranks/org_login_id.parquet')"
   ]
  },
  {
   "cell_type": "code",
   "execution_count": null,
   "id": "b4c5f6f0-1055-43d9-8879-5c0f2c6008db",
   "metadata": {},
   "outputs": [],
   "source": [
    "def cleanAssignee(df, col):\n",
    "    df = df[col]\n",
    "    df = df.dropna().apply(lambda x: ast.literal_eval(x) if x[0] == '{' else np.nan).dropna()\n",
    "    df = pd.DataFrame(df)\n",
    "    df['actor_id'] = df[col].apply(lambda x: x.get('id', np.nan))\n",
    "    df['actor_login'] = df[col].apply(lambda x: x.get('login', np.nan))\n",
    "    return df.dropna()"
   ]
  },
  {
   "cell_type": "code",
   "execution_count": null,
   "id": "0f95f52d-002f-420f-b765-941c8ebd36bc",
   "metadata": {},
   "outputs": [],
   "source": [
    "def cleanAssignees(df, col):\n",
    "    df = df[col]\n",
    "    df = df[df.apply(lambda x: type(x) == list and len(x)>0)]\n",
    "    df = pd.DataFrame(df.explode().apply(\n",
    "        lambda x: ast.literal_eval(x) if type(x) != dict else x))\n",
    "    df['actor_id'] = df[col].apply(lambda x: x.get('id', np.nan))\n",
    "    df['actor_login'] = df[col].apply(lambda x: x.get('login', np.nan))\n",
    "    return df.dropna()"
   ]
  },
  {
   "cell_type": "code",
   "execution_count": null,
   "id": "7e20700e-cbf3-4b93-a571-5f9ac5e2660a",
   "metadata": {},
   "outputs": [],
   "source": [
    "df_issue_clean_assignee = cleanAssignee(df_issue_clean, 'issue_assignee')\n",
    "prEventData_assignee = cleanAssignee(prEventData, 'pr_assignee')"
   ]
  },
  {
   "cell_type": "code",
   "execution_count": null,
   "id": "88675f9a-82a3-4ae8-b356-fe3cd4db845b",
   "metadata": {
    "scrolled": true
   },
   "outputs": [],
   "source": [
    "df_issue_clean_assignees = cleanAssignees(df_issue_clean, 'issue_assignees')\n",
    "prEventData_assignees = cleanAssignees(prEventData, 'pr_assignees')\n",
    "prEventData_requested_reviewers = cleanAssignees(prEventData, 'pr_requested_reviewers')"
   ]
  },
  {
   "cell_type": "code",
   "execution_count": null,
   "id": "4aa277ca-9569-436f-bbaf-de587a7aaa21",
   "metadata": {
    "scrolled": true
   },
   "outputs": [],
   "source": [
    "actor_login_id = pd.concat([prEventData[['actor_id', 'actor_login']].drop_duplicates(),\n",
    "           pushEventData[['actor_id', 'actor_login']].drop_duplicates(),\n",
    "           df_issue_clean[['actor_id', 'actor_login']].drop_duplicates(),\n",
    "           prEventData[['pr_merged_by_id', 'pr_merged_by_login']].rename(\n",
    "               {'pr_merged_by_id':'actor_id',\n",
    "                'pr_merged_by_login': 'actor_login'}, axis = 1).drop_duplicates(),\n",
    "           df_issue_clean[['issue_user_id','issue_user_login']].rename(\n",
    "               {'issue_user_id':'actor_id',\n",
    "                'issue_user_login': 'actor_login'}, axis = 1).drop_duplicates(),\n",
    "           df_issue_clean_assignee[['actor_id','actor_login']].drop_duplicates(),\n",
    "           prEventData_assignee[['actor_id','actor_login']].drop_duplicates(),\n",
    "           df_issue_clean_assignees[['actor_id','actor_login']].drop_duplicates(),\n",
    "           prEventData_assignees[['actor_id','actor_login']].drop_duplicates(),\n",
    "           prEventData_requested_reviewers[['actor_id','actor_login']].drop_duplicates(),\n",
    "          ]).drop_duplicates().dropna()"
   ]
  },
  {
   "cell_type": "code",
   "execution_count": null,
   "id": "f6c2add3-e6ce-41e5-90e3-7d557e594026",
   "metadata": {},
   "outputs": [],
   "source": [
    "actor_login_id.to_parquet('data/merged_data/imputed_ranks/actor_login_id.parquet')"
   ]
  },
  {
   "cell_type": "code",
   "execution_count": null,
   "id": "e3d84086-f615-48bc-a92c-4b64c8780233",
   "metadata": {},
   "outputs": [],
   "source": []
  }
 ],
 "metadata": {
  "kernelspec": {
   "display_name": "Python 3 (ipykernel)",
   "language": "python",
   "name": "python3"
  },
  "language_info": {
   "codemirror_mode": {
    "name": "ipython",
    "version": 3
   },
   "file_extension": ".py",
   "mimetype": "text/x-python",
   "name": "python",
   "nbconvert_exporter": "python",
   "pygments_lexer": "ipython3",
   "version": "3.8.10"
  }
 },
 "nbformat": 4,
 "nbformat_minor": 5
}
