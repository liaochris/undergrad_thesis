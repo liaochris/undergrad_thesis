{
 "cells": [
  {
   "cell_type": "code",
   "execution_count": 1,
   "id": "3646a869-9fa0-427c-8b32-0ccdf19f951f",
   "metadata": {},
   "outputs": [],
   "source": [
    "import pandas as pd\n",
    "import numpy as np\n",
    "import glob\n",
    "from pandarallel import pandarallel\n",
    "from bs4 import BeautifulSoup, SoupStrainer\n",
    "import requests\n",
    "import os\n",
    "import random\n"
   ]
  },
  {
   "cell_type": "code",
   "execution_count": 17,
   "id": "98ebf271-1f8a-49d3-ab24-e7ca4ba5d755",
   "metadata": {},
   "outputs": [],
   "source": [
    "os.makedirs(\"data/github_clean/linked_issues\", exist_ok=True)"
   ]
  },
  {
   "cell_type": "code",
   "execution_count": 3,
   "id": "332994d3-ca76-41e6-96b4-aeea4e7f1458",
   "metadata": {},
   "outputs": [],
   "source": [
    "pd.set_option('display.max_columns', None)"
   ]
  },
  {
   "cell_type": "code",
   "execution_count": 4,
   "id": "cb42573b-adfc-4f11-bb5e-454c3972ee5a",
   "metadata": {},
   "outputs": [],
   "source": [
    "def grabIssue(repo, issue_number):\n",
    "    try:\n",
    "        scrape_url = f\"https://github.com/{repo}/issues/{issue_number}\"\n",
    "        product = SoupStrainer('a')\n",
    "        sesh = requests.Session() \n",
    "        page = sesh.get(scrape_url)\n",
    "        page_text = str(page.text)\n",
    "        if \"Please wait a few minutes before you try again\" in page_text:\n",
    "            print('pausing, rate limit hit')\n",
    "            time.sleep(120)\n",
    "            page = sesh.get(scrape_url)\n",
    "            page_text = str(page.text)\n",
    "            \n",
    "        soup = BeautifulSoup(page.content,parse_only = product,features=\"html.parser\")\n",
    "        pr_links = soup.find_all(\"a\", attrs={\"data-hovercard-type\":'pull_request'})\n",
    "        pr_link = pr_links[0]['href']\n",
    "        return pr_link\n",
    "    except Exception as e:\n",
    "        error = str(e)\n",
    "        return error"
   ]
  },
  {
   "cell_type": "code",
   "execution_count": 5,
   "id": "756bf5e8-82b8-4c23-9f3d-00e6104cd8c5",
   "metadata": {},
   "outputs": [],
   "source": [
    "files = glob.glob('data/inputs/linked_issues/*')"
   ]
  },
  {
   "cell_type": "code",
   "execution_count": 6,
   "id": "760cd83a-2d4f-44e2-9b8d-f27f2da3d56b",
   "metadata": {
    "scrolled": true
   },
   "outputs": [],
   "source": [
    "random.shuffle(files)"
   ]
  },
  {
   "cell_type": "code",
   "execution_count": 7,
   "id": "5ae45ef4-e134-484c-86b9-45f3fbbcdfa0",
   "metadata": {},
   "outputs": [],
   "source": [
    "i = 0\n",
    "existing_issues = pd.DataFrame()\n",
    "for i in range(1000):\n",
    "    i+=1\n",
    "    existing_issues = pd.concat([existing_issues, pd.read_parquet(f'data/github_clean/linked_issues2/linked_issue_{i}.parquet')])\n",
    "\n",
    "existing_issues.drop('Unnamed: 0', axis = 1, inplace = True)"
   ]
  },
  {
   "cell_type": "code",
   "execution_count": null,
   "id": "e27ed96b-c706-4c71-b7a5-0383978c90a2",
   "metadata": {},
   "outputs": [],
   "source": [
    "for file in files:\n",
    "    check_issues = pd.read_parquet(file)\n",
    "    check_issues = pd.merge(check_issues.drop('linked_pr', axis = 1), existing_issues, how = 'left')\n",
    "    fname = file.split(\"/\")[-1]\n",
    "    print(fname)\n",
    "    if fname in os.listdir('data/github_clean/linked_issues'):\n",
    "        continue\n",
    "    else:\n",
    "        while check_issues.dropna().shape[0] != check_issues.shape[0]:\n",
    "            na_df = check_issues[check_issues['linked_pr'].isna()]\n",
    "            print(f\"{na_df.shape[0]} remaining in {file}\")\n",
    "            # update file\n",
    "            apply_inds = na_df.sample(min(10, na_df.shape[0])).index\n",
    "            check_issues.loc[apply_inds, 'linked_pr'] = check_issues.loc[apply_inds].apply(\n",
    "                lambda x: grabIssue(x['repo_name'], x['potential_issues']), axis = 1)\n",
    "            ## update with new changes\n",
    "            check_issues.to_parquet(f'data/github_clean/linked_issues/{fname}')"
   ]
  },
  {
   "cell_type": "code",
   "execution_count": null,
   "id": "5ba903f4-9803-4f8c-bcea-94999067c255",
   "metadata": {
    "scrolled": true
   },
   "outputs": [],
   "source": [
    "linked_issues = pd.concat([pd.read_parquet(file, index_col = 0) for file in glob.glob('data/github_clean/linked_issues/*')])"
   ]
  },
  {
   "cell_type": "code",
   "execution_count": null,
   "id": "600f95ce-55df-4b5a-86a2-f74129e7507e",
   "metadata": {},
   "outputs": [],
   "source": [
    "linked_issues = linked_issues[linked_issues['linked_pr'] != 'list index out of range']"
   ]
  },
  {
   "cell_type": "code",
   "execution_count": null,
   "id": "1787fc26-9fdb-44cd-b1e5-b038a1cb5f8c",
   "metadata": {},
   "outputs": [],
   "source": [
    "linked_issues['pr_number'] = linked_issues['linked_pr'].apply(lambda x: x.split(\"/\")[-1])"
   ]
  },
  {
   "cell_type": "code",
   "execution_count": null,
   "id": "e51b6b14-de10-4ab6-9f77-0f0879e69fbc",
   "metadata": {},
   "outputs": [],
   "source": [
    "linked_issues.reset_index(drop = True, inplace = True)"
   ]
  },
  {
   "cell_type": "code",
   "execution_count": null,
   "id": "5d58fb42-d232-4ba3-8b3e-692f4f73e98a",
   "metadata": {
    "scrolled": true
   },
   "outputs": [],
   "source": [
    "correct = linked_issues[linked_issues['pr_number'].apply(lambda x: '#' in x)].index\n",
    "linked_issues.loc[correct, 'pr_number'] = linked_issues.loc[correct, 'pr_number'].apply(lambda x: x.split(\"#\")[0])"
   ]
  },
  {
   "cell_type": "code",
   "execution_count": null,
   "id": "4ebd5757-c864-4187-a212-e569d774fc7d",
   "metadata": {
    "scrolled": true
   },
   "outputs": [],
   "source": [
    "linked_issues.to_parquet('data/merged_data/linked_issues.parquet')"
   ]
  },
  {
   "cell_type": "code",
   "execution_count": null,
   "id": "82ed50d6-43cb-4911-b267-227b4742b304",
   "metadata": {},
   "outputs": [],
   "source": []
  }
 ],
 "metadata": {
  "kernelspec": {
   "display_name": "Python 3 (ipykernel)",
   "language": "python",
   "name": "python3"
  },
  "language_info": {
   "codemirror_mode": {
    "name": "ipython",
    "version": 3
   },
   "file_extension": ".py",
   "mimetype": "text/x-python",
   "name": "python",
   "nbconvert_exporter": "python",
   "pygments_lexer": "ipython3",
   "version": "3.8.10"
  }
 },
 "nbformat": 4,
 "nbformat_minor": 5
}
