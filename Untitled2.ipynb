{
 "cells": [
  {
   "cell_type": "code",
   "execution_count": 26,
   "id": "b4c6a660-ea50-492e-8dbf-ddf179e20c19",
   "metadata": {},
   "outputs": [],
   "source": [
    "import os\n",
    "import glob\n",
    "import pandas as pd\n",
    "import numpy as np"
   ]
  },
  {
   "cell_type": "code",
   "execution_count": 17,
   "id": "d7f7e190-a957-4136-9fe2-9420cd72823b",
   "metadata": {},
   "outputs": [],
   "source": [
    "df = pd.read_parquet('data/merged_data/prEventData.parquet')"
   ]
  },
  {
   "cell_type": "code",
   "execution_count": 30,
   "id": "53d7693d-0265-407a-bff7-dfc145980879",
   "metadata": {
    "scrolled": true
   },
   "outputs": [],
   "source": [
    "for file in glob.glob(\"**/*.parquet\", recursive=True):\n",
    "    file_stats = os.stat(file)\n",
    "    mb_size = file_stats.st_size / (1024 * 1024)\n",
    "    if mb_size>=95:\n",
    "        try:\n",
    "            df = pd.read_parquet(file)\n",
    "            df.reset_index(drop = True, inplace = True)\n",
    "            partitions_count = ceil(mb_size/95) + 3\n",
    "            df_partitions = np.array_split(df, partitions_count)\n",
    "            for i in range(partitions_count):\n",
    "                df_partitions[i].to_parquet(file.replace(\".parquet\",f\"_p{i+1}.parquet\"))\n",
    "            print(f'{file} Size in MegaBytes is {file_stats.st_size / (1024 * 1024):.0f} has been partitioned')\n",
    "        except:\n",
    "            print(f\"failed {file}\")\n",
    "            os.remove(file)"
   ]
  },
  {
   "cell_type": "code",
   "execution_count": null,
   "id": "8f712eaa-a9a1-4b2e-9bf6-9fd6eaa9990a",
   "metadata": {},
   "outputs": [],
   "source": []
  }
 ],
 "metadata": {
  "kernelspec": {
   "display_name": "Python 3 (ipykernel)",
   "language": "python",
   "name": "python3"
  },
  "language_info": {
   "codemirror_mode": {
    "name": "ipython",
    "version": 3
   },
   "file_extension": ".py",
   "mimetype": "text/x-python",
   "name": "python",
   "nbconvert_exporter": "python",
   "pygments_lexer": "ipython3",
   "version": "3.8.10"
  }
 },
 "nbformat": 4,
 "nbformat_minor": 5
}
