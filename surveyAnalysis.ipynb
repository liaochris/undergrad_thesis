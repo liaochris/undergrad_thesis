{
 "cells": [
  {
   "cell_type": "code",
   "execution_count": 1,
   "id": "4542194b-4f07-48ce-86a4-11243a849b7a",
   "metadata": {},
   "outputs": [],
   "source": [
    "import glob\n",
    "import dask.dataframe as dd\n",
    "import pandas as pd\n",
    "from pandarallel import pandarallel\n",
    "import matplotlib.pyplot as plt\n",
    "from datetime import datetime, timezone\n",
    "import ast\n",
    "import numpy as np\n",
    "from operator import itemgetter\n",
    "from stargazer.stargazer import Stargazer\n",
    "import os\n",
    "import datetime\n",
    "from dateutil.rrule import rrule, MONTHLY, YEARLY, WEEKLY\n",
    "from dateutil.relativedelta import relativedelta\n",
    "from linearmodels.panel import PanelOLS\n",
    "import multiprocessing\n",
    "import statsmodels.formula.api as smf\n",
    "import re\n",
    "from itertools import product\n",
    "import pytz\n",
    "import smtplib \n",
    "from email.mime.text import MIMEText\n",
    "from email.mime.multipart import MIMEMultipart\n",
    "import time"
   ]
  },
  {
   "cell_type": "code",
   "execution_count": 2,
   "id": "f14ae16e-5122-4a73-a59c-b6d6e639b5c2",
   "metadata": {
    "scrolled": true
   },
   "outputs": [
    {
     "name": "stdout",
     "output_type": "stream",
     "text": [
      "INFO: Pandarallel will run on 32 workers.\n",
      "INFO: Pandarallel will use Memory file system to transfer data between the main process and workers.\n"
     ]
    }
   ],
   "source": [
    "pandarallel.initialize(progress_bar = False)"
   ]
  },
  {
   "cell_type": "code",
   "execution_count": 3,
   "id": "b874e209-6830-471c-baba-ac101c734f04",
   "metadata": {},
   "outputs": [],
   "source": [
    "def readGlobDf(filename):\n",
    "    df = pd.concat([pd.read_parquet(file, engine = 'pyarrow') for file in \n",
    "               glob.glob(filename.replace(\".parquet\",\"*.parquet\"))])\n",
    "    return df\n",
    "df_actor = readGlobDf('data/merged_data/imputed_ranks/actor_login_id.parquet')\n"
   ]
  },
  {
   "cell_type": "code",
   "execution_count": 4,
   "id": "095987b5-f9a5-4e79-950f-c912829b1eb7",
   "metadata": {},
   "outputs": [],
   "source": [
    "population = pd.read_parquet('data/intermediaries/population_copilot.parquet')"
   ]
  },
  {
   "cell_type": "code",
   "execution_count": 5,
   "id": "89cbe6c9-e026-4932-8a21-d7715e4a74a5",
   "metadata": {},
   "outputs": [],
   "source": [
    "#population = population[population['stars_copilotrelease'] & population['stars_copilotrelease']<=3]"
   ]
  },
  {
   "cell_type": "markdown",
   "id": "b3fd4849-bb4a-426b-b2f9-e6c05dc17116",
   "metadata": {},
   "source": [
    "## Emails"
   ]
  },
  {
   "cell_type": "code",
   "execution_count": 6,
   "id": "dbdc853e-6c0c-4d3e-b623-252e3d326365",
   "metadata": {},
   "outputs": [],
   "source": [
    "def generateEmails( permission, project, identifier, link):    \n",
    "    email = f\"\"\"\n",
    "Hi!\n",
    "\n",
    "First, I apologize if you have received this message multiple times. The SMTP server I have been using was experiencing bugs. \n",
    "    \n",
    "My name is Chris and I am a student at UChicago writing an economics thesis about open source software. I have a few short questions to ask about your experience developing open source software, and the survey will not take more than a few minutes. If you do not recall the exact answer, I would still appreciate hearing your response, to the best of your ability. Participants will be entered in a raffle to win $10 gift cards.\n",
    "\n",
    "1) Please enter this number ({int(identifier)}) as your identifier in Q1. \n",
    "2) The project referred to in Q2 is {project}. Q2 asks you about your level of access in {project} in June 2021. If it's helpful/jogs your memory, my data indicates that you had {permission} access, but this may not be correct.\n",
    "The survey link is {link}. \n",
    "\n",
    "If you would also like to share a few thoughts about your experience using Github Copilot (if applicable) in open source development, it would be great to hear them. If you would like to chat more about your experience using Github Copilot, let me know and we can set up a time.\n",
    "Thank you for your time!\n",
    "\n",
    "Best,\n",
    "\n",
    "Chris Liao\n",
    "https://www.linkedin.com/in/chris-liao-8865b219a\n",
    "\"\"\"\n",
    "\n",
    "    return email"
   ]
  },
  {
   "cell_type": "code",
   "execution_count": 7,
   "id": "1ae7bdbd-e18b-4086-8509-4be9dac21543",
   "metadata": {},
   "outputs": [],
   "source": [
    "top_python = pd.read_csv('data/inputs/top_python_stars.csv').rename({'id':'repo_id'}, axis = 1)\n",
    "top_python_grouped = top_python.groupby('repo_id')['watch_count'].sum().reset_index()"
   ]
  },
  {
   "cell_type": "code",
   "execution_count": 8,
   "id": "dce6b3dd-38e3-4a62-b779-d69c1e9f3956",
   "metadata": {},
   "outputs": [],
   "source": [
    "top_os_python_repos = top_python_grouped.sort_values('watch_count').tail(1000)['repo_id'].tolist()"
   ]
  },
  {
   "cell_type": "code",
   "execution_count": 9,
   "id": "361096fd-1ea9-4e6c-baad-88e1d6ff55f6",
   "metadata": {
    "scrolled": true
   },
   "outputs": [],
   "source": [
    "# people who should have copilot\n",
    "should_have_copilot = population[(population['repo_id'].isin(top_os_python_repos)) & (population['permissions'].isin(['write','owner'])) & \\\n",
    "    (population['Free_Copilot'] == 1) & (population['created_at']<datetime.datetime(2021, 6, 23, tzinfo = pytz.UTC ))].sort_values(\n",
    "    ['stars_copilotrelease', 'permissions_ranked'])[['actor_id', 'Actual Name', 'emails', 'repo_id', 'permissions', 'repo_name']].drop_duplicates(['actor_id']).dropna(\n",
    "    thresh = 1).sample(frac = 1)\n",
    "should_have_copilot = should_have_copilot[~should_have_copilot['emails'].isna()]\n",
    "# people who do not have copilot - permissions\n",
    "no_copilot_perms = population[(population['repo_id'].isin(top_os_python_repos)) & \\\n",
    "    ~(population['actor_id'].isin(should_have_copilot['actor_id'].tolist())) & (population['Free_Copilot'] == 0) & \\\n",
    "    (population['permissions'].isin(['triage']))  & (population['created_at']<datetime.datetime(2021, 6, 23, tzinfo = pytz.UTC ))].sort_values(\n",
    "    ['stars_copilotrelease', 'permissions_ranked'])[['actor_id', 'Actual Name', 'emails', 'repo_id', 'permissions', 'repo_name']].drop_duplicates(['actor_id']).dropna(\n",
    "    thresh = 1).sample(frac = 1)\n",
    "no_copilot_perms = no_copilot_perms[~no_copilot_perms['emails'].isna()]\n",
    "# people who do not have copilot - project\n",
    "no_copilot_project = population[~(population['repo_id'].isin(top_os_python_repos)) & \\\n",
    "    ~(population['actor_id'].isin(should_have_copilot['actor_id'].tolist())) & (population['Free_Copilot'] == 0) & \\\n",
    "    ~(population['actor_id'].isin(no_copilot_perms['actor_id'].tolist())) & (population['permissions'].isin(['write','owner'])) \\\n",
    "    & (population['created_at']<datetime.datetime(2021, 6, 23, tzinfo = pytz.UTC ))].sort_values(\n",
    "    ['stars_copilotrelease', 'permissions_ranked'])[['actor_id', 'Actual Name', 'emails', 'repo_id', 'permissions', 'repo_name']].drop_duplicates(['actor_id']).dropna(\n",
    "    thresh = 1).sample(frac = 1)\n",
    "no_copilot_project = no_copilot_project[~no_copilot_project['emails'].isna()]"
   ]
  },
  {
   "cell_type": "code",
   "execution_count": 10,
   "id": "e1fc702b-63ed-4a0f-880c-b2eafa057b34",
   "metadata": {
    "scrolled": true
   },
   "outputs": [],
   "source": [
    "should_have_copilot['email'] = should_have_copilot.apply(\n",
    "    lambda x: generateEmails(x['permissions'], x['repo_name'],\n",
    "                             int(x['actor_id']),  \"https://forms.gle/DT3fycAQgz6HfGu19\"), axis = 1)\n",
    "no_copilot_perms['email'] = no_copilot_perms.apply(\n",
    "    lambda x: generateEmails(x['permissions'], x['repo_name'],\n",
    "                             int(x['actor_id']),  \"https://forms.gle/DT3fycAQgz6HfGu19\"), axis = 1)\n",
    "no_copilot_project['email'] = no_copilot_project.apply(\n",
    "    lambda x: generateEmails(x['permissions'], x['repo_name'],\n",
    "                             int(x['actor_id']),  \"https://forms.gle/DT3fycAQgz6HfGu19\"), axis = 1)"
   ]
  },
  {
   "cell_type": "code",
   "execution_count": 11,
   "id": "4632fe79-d669-4e45-b5c8-ddb3a7f619c1",
   "metadata": {},
   "outputs": [],
   "source": [
    "should_have_copilot.to_parquet('should_have_copilot.parquet')\n",
    "no_copilot_project.to_parquet('no_copilot_project.parquet')"
   ]
  },
  {
   "cell_type": "code",
   "execution_count": 12,
   "id": "17955ef7-d31b-47d8-bf7b-0689708e8eb3",
   "metadata": {},
   "outputs": [],
   "source": [
    "should_have_copilot = pd.read_parquet('should_have_copilot.parquet')\n",
    "no_copilot_project = pd.read_parquet('no_copilot_project.parquet')"
   ]
  },
  {
   "cell_type": "code",
   "execution_count": 13,
   "id": "7d3ce1c9-a49f-41a9-91a7-be7c593c1fcb",
   "metadata": {},
   "outputs": [],
   "source": [
    "exclude = ['methane', 'ilyan', 'Zac-HD', 'jeffkaufman', 'joshfriend', 'heyman', 'cyberw', 'hhatto', \n",
    "           'liZe', 'adiroiban', 'amoffat', 'deckar01', 'mwaskom', 'oscarbenjamin', 'bwoodsend', 'wRAR', \n",
    "           'jeremiedbb', 'danyeaw', 'gaborbernat', 'stefanv', 'mhils', 'BoboTiG', 'oscargus', 'aclark4life', \n",
    "           'kingosticks', 'coleifer', 'deckar01', 'sloria', 'PatMyron',]\n",
    "exclude_lwr = [ele.lower() for ele in exclude]"
   ]
  },
  {
   "cell_type": "code",
   "execution_count": 14,
   "id": "8848ff99-d1e7-4cf9-b656-42dfc38af22f",
   "metadata": {
    "scrolled": true
   },
   "outputs": [],
   "source": [
    "df_actor['actor_login_lwr'] = df_actor['actor_login'].apply(lambda x: x.lower())\n",
    "exclude_ids = df_actor[df_actor['actor_login_lwr'].isin(exclude_lwr)].drop_duplicates()['actor_id'].tolist()"
   ]
  },
  {
   "cell_type": "code",
   "execution_count": 15,
   "id": "aeafe8b6-5c57-4c2a-9d89-47ea8025664f",
   "metadata": {
    "scrolled": true
   },
   "outputs": [],
   "source": [
    "df_export = should_have_copilot.loc[should_have_copilot.index[60:]]\n",
    "df_export = df_export[~df_export['actor_id'].isin(exclude_ids)]\n",
    "df_export = pd.concat([df_export[['emails', 'email']], no_copilot_perms[['emails', 'email']],\n",
    "                       no_copilot_project[['emails', 'email']]])\n",
    "df_export['addresses'] = df_export['emails'].apply(lambda x: \", \".join(x))\n",
    "df_export[['addresses','email']].to_csv('survey_emails.csv')"
   ]
  },
  {
   "cell_type": "code",
   "execution_count": 16,
   "id": "b9b37157-8030-4d32-b804-355270280d3c",
   "metadata": {},
   "outputs": [
    {
     "name": "stdout",
     "output_type": "stream",
     "text": [
      "Inquiry about Participation as Open Source Developer\n"
     ]
    }
   ],
   "source": [
    "print(\"Inquiry about Participation as Open Source Developer\")"
   ]
  },
  {
   "cell_type": "code",
   "execution_count": 17,
   "id": "2d192105-1057-49a5-8210-e0a0b9bcd196",
   "metadata": {
    "scrolled": true
   },
   "outputs": [
    {
     "data": {
      "text/plain": [
       "'ind = should_have_copilot.index[i]\\ni+=1\\nprint(i)\\nif should_have_copilot.loc[ind, \\'actor_id\\'] not in exclude_ids:\\n    print(\", \".join(should_have_copilot.loc[ind, \\'emails\\']))\\n    print(generateEmails(should_have_copilot.loc[ind, \\'permissions\\'], \\n                         should_have_copilot.loc[ind, \\'repo_name\\'], \\n                         should_have_copilot.loc[ind, \\'actor_id\\'], \"https://forms.gle/DT3fycAQgz6HfGu19\"))'"
      ]
     },
     "execution_count": 17,
     "metadata": {},
     "output_type": "execute_result"
    }
   ],
   "source": [
    "\"\"\"ind = should_have_copilot.index[i]\n",
    "i+=1\n",
    "print(i)\n",
    "if should_have_copilot.loc[ind, 'actor_id'] not in exclude_ids:\n",
    "    print(\", \".join(should_have_copilot.loc[ind, 'emails']))\n",
    "    print(generateEmails(should_have_copilot.loc[ind, 'permissions'], \n",
    "                         should_have_copilot.loc[ind, 'repo_name'], \n",
    "                         should_have_copilot.loc[ind, 'actor_id'], \"https://forms.gle/DT3fycAQgz6HfGu19\"))\"\"\""
   ]
  },
  {
   "cell_type": "markdown",
   "id": "63c0c820-0677-4ed3-9c6f-bf4e5205b3b5",
   "metadata": {},
   "source": [
    "## Controls"
   ]
  },
  {
   "cell_type": "code",
   "execution_count": 18,
   "id": "6210f34d-3eb8-4d92-8180-b24838583fee",
   "metadata": {},
   "outputs": [],
   "source": [
    "i=105"
   ]
  },
  {
   "cell_type": "code",
   "execution_count": 19,
   "id": "701c414d-83fc-4f91-b0dc-d4d70ae60d3e",
   "metadata": {},
   "outputs": [],
   "source": [
    "server_response_should_have_copilot = []\n",
    "project_no_copilot = []"
   ]
  },
  {
   "cell_type": "code",
   "execution_count": 20,
   "id": "a33c769a-5527-4fd6-9e13-16ee39d679ff",
   "metadata": {},
   "outputs": [],
   "source": [
    "gmail_server='smtp.cs.uchicago.edu'\n",
    "gmail_port=465"
   ]
  },
  {
   "cell_type": "code",
   "execution_count": 21,
   "id": "9d1c25ce-3cc2-4bea-985f-1ef9a050d185",
   "metadata": {},
   "outputs": [],
   "source": [
    "#my_email='chrisliao@uchicago.edu'\n",
    "#password_key=#"
   ]
  },
  {
   "cell_type": "code",
   "execution_count": 22,
   "id": "fe86bef2-42cc-41d2-b91a-38d002d7fd7d",
   "metadata": {
    "scrolled": true
   },
   "outputs": [
    {
     "data": {
      "text/plain": [
       "'with smtplib.SMTP_SSL(gmail_server, gmail_port) as server:\\n    server.ehlo()\\n    server.login(my_email, password_key)\\n\\n    while i < len(should_have_copilot.index):\\n        ind = should_have_copilot.index[i]\\n        i+=1\\n        og_email_list = should_have_copilot.loc[ind, \\'emails\\']\\n        email_list = [email for email in og_email_list if \"noreply.github\" not in email]\\n        if len(email_list)<7 and len(email_list)>0 and should_have_copilot.loc[ind, \\'actor_id\\'] not in exclude_ids:\\n            message = MIMEMultipart(\"alternative\")\\n            message[\"Subject\"] = \"Inquiry about Participation as Open Source Developer\"\\n            message[\"From\"] = \"chrisliao@uchicago.edu\"\\n            message[\"To\"] = \", \".join(email_list)\\n            \\n            # Create the plain-text and HTML version of your message\\n            text = should_have_copilot.loc[ind, \\'email\\']\\n            # Turn these into plain/html MIMEText objects\\n            part1 = MIMEText(text, \"plain\")\\n            \\n            # Add HTML/plain-text parts to MIMEMultipart message\\n            # The email client will try to render the last part first\\n            message.attach(part1)\\n            server_response = server.send_message(message)\\n            server_response_should_have_copilot.append([ind, server_response])\\n            print(server_response, email_list)\\n            time.sleep(1)\\n        else:\\n            print(f\"no sending because we have {len(email_list)} emails\")'"
      ]
     },
     "execution_count": 22,
     "metadata": {},
     "output_type": "execute_result"
    }
   ],
   "source": [
    "\"\"\"with smtplib.SMTP_SSL(gmail_server, gmail_port) as server:\n",
    "    server.ehlo()\n",
    "    server.login(my_email, password_key)\n",
    "\n",
    "    while i < len(should_have_copilot.index):\n",
    "        ind = should_have_copilot.index[i]\n",
    "        i+=1\n",
    "        og_email_list = should_have_copilot.loc[ind, 'emails']\n",
    "        email_list = [email for email in og_email_list if \"noreply.github\" not in email]\n",
    "        if len(email_list)<7 and len(email_list)>0 and should_have_copilot.loc[ind, 'actor_id'] not in exclude_ids:\n",
    "            message = MIMEMultipart(\"alternative\")\n",
    "            message[\"Subject\"] = \"Inquiry about Participation as Open Source Developer\"\n",
    "            message[\"From\"] = \"chrisliao@uchicago.edu\"\n",
    "            message[\"To\"] = \", \".join(email_list)\n",
    "            \n",
    "            # Create the plain-text and HTML version of your message\n",
    "            text = should_have_copilot.loc[ind, 'email']\n",
    "            # Turn these into plain/html MIMEText objects\n",
    "            part1 = MIMEText(text, \"plain\")\n",
    "            \n",
    "            # Add HTML/plain-text parts to MIMEMultipart message\n",
    "            # The email client will try to render the last part first\n",
    "            message.attach(part1)\n",
    "            server_response = server.send_message(message)\n",
    "            server_response_should_have_copilot.append([ind, server_response])\n",
    "            print(server_response, email_list)\n",
    "            time.sleep(1)\n",
    "        else:\n",
    "            print(f\"no sending because we have {len(email_list)} emails\")\"\"\""
   ]
  },
  {
   "cell_type": "code",
   "execution_count": 23,
   "id": "41f06ce8-c58a-4cdf-b091-d86b3ac2402f",
   "metadata": {},
   "outputs": [],
   "source": [
    "i=0"
   ]
  },
  {
   "cell_type": "code",
   "execution_count": 24,
   "id": "59a3dab2-fead-45bb-b070-0387f20f6123",
   "metadata": {},
   "outputs": [
    {
     "data": {
      "text/plain": [
       "0"
      ]
     },
     "execution_count": 24,
     "metadata": {},
     "output_type": "execute_result"
    }
   ],
   "source": [
    "i"
   ]
  },
  {
   "cell_type": "code",
   "execution_count": 25,
   "id": "a11662ae-d7f1-4df8-8090-a7192f869b3a",
   "metadata": {
    "scrolled": true
   },
   "outputs": [
    {
     "data": {
      "text/plain": [
       "'with smtplib.SMTP_SSL(gmail_server, gmail_port) as server:\\n    server.ehlo()\\n    server.login(my_email, password_key)\\n    while i < len(no_copilot_project.index):\\n        ind = no_copilot_project.index[i]\\n        i+=1\\n        og_email_list = no_copilot_project.loc[ind, \\'emails\\']\\n        email_list = [email for email in og_email_list if \"noreply.github\" not in email]\\n        if len(email_list)<7 and len(email_list)>0:\\n            message = MIMEMultipart(\"alternative\")\\n            message[\"Subject\"] = \"Inquiry about Participation as Open Source Developer\"\\n            message[\"From\"] = \"chrisliao@uchicago.edu\"\\n            message[\"To\"] = \", \".join(email_list)\\n            # Create the plain-text and HTML version of your message\\n            text = no_copilot_project.loc[ind, \\'email\\']\\n            # Turn these into plain/html MIMEText objects\\n            part1 = MIMEText(text, \"plain\")\\n            # Add HTML/plain-text parts to MIMEMultipart message\\n            # The email client will try to render the last part first\\n            message.attach(part1)\\n            server_response = server.send_message(message)\\n            project_no_copilot.append([ind, server_response])\\n            print(server_response, email_list)\\n            time.sleep(1)\\n        else:\\n            print(f\"no sending because we have {len(email_list)} emails\")'"
      ]
     },
     "execution_count": 25,
     "metadata": {},
     "output_type": "execute_result"
    }
   ],
   "source": [
    "\"\"\"with smtplib.SMTP_SSL(gmail_server, gmail_port) as server:\n",
    "    server.ehlo()\n",
    "    server.login(my_email, password_key)\n",
    "    while i < len(no_copilot_project.index):\n",
    "        ind = no_copilot_project.index[i]\n",
    "        i+=1\n",
    "        og_email_list = no_copilot_project.loc[ind, 'emails']\n",
    "        email_list = [email for email in og_email_list if \"noreply.github\" not in email]\n",
    "        if len(email_list)<7 and len(email_list)>0:\n",
    "            message = MIMEMultipart(\"alternative\")\n",
    "            message[\"Subject\"] = \"Inquiry about Participation as Open Source Developer\"\n",
    "            message[\"From\"] = \"chrisliao@uchicago.edu\"\n",
    "            message[\"To\"] = \", \".join(email_list)\n",
    "            # Create the plain-text and HTML version of your message\n",
    "            text = no_copilot_project.loc[ind, 'email']\n",
    "            # Turn these into plain/html MIMEText objects\n",
    "            part1 = MIMEText(text, \"plain\")\n",
    "            # Add HTML/plain-text parts to MIMEMultipart message\n",
    "            # The email client will try to render the last part first\n",
    "            message.attach(part1)\n",
    "            server_response = server.send_message(message)\n",
    "            project_no_copilot.append([ind, server_response])\n",
    "            print(server_response, email_list)\n",
    "            time.sleep(1)\n",
    "        else:\n",
    "            print(f\"no sending because we have {len(email_list)} emails\")\"\"\""
   ]
  },
  {
   "cell_type": "code",
   "execution_count": 26,
   "id": "a5785cc6-5c7f-45b8-a4d0-681ef7ae89b0",
   "metadata": {
    "scrolled": true
   },
   "outputs": [],
   "source": [
    "actor_dict = df_actor[['actor_id','actor_login']].drop_duplicates().set_index('actor_login').to_dict()['actor_id']"
   ]
  },
  {
   "cell_type": "code",
   "execution_count": 27,
   "id": "12ba1cb0-724f-426e-b597-a9dcd1068545",
   "metadata": {},
   "outputs": [],
   "source": [
    "survey_response = pd.read_csv(\"Open Source Copilot Survey (Responses) - Form Responses 1.csv\")\n",
    "survey_response.columns = ['timestamp','actor_id','permission','copilot_access','copilot_usage']\n",
    "survey_response['actor_id'] = survey_response['actor_id'].apply(lambda x: x.split(\"/\")[0])\n",
    "survey_response['actor_id'] = survey_response['actor_id'].apply(lambda x: actor_dict.get(x, x))\n",
    "survey_response['actor_id'] = pd.to_numeric(survey_response['actor_id'], errors = 'coerce')"
   ]
  },
  {
   "cell_type": "code",
   "execution_count": 28,
   "id": "9a2f06b1-8f39-4a04-bec9-c1165e2d58d9",
   "metadata": {},
   "outputs": [],
   "source": [
    "include_cats = ['Received as student/teacher.','Access through work', 'I have access to Github Copilot because I work for Microsoft',\n",
    "                'University Staff','yes,  but not from the project refererred to in the email',\n",
    "                'Received earlier access from a friend on the team at the time','Yes','No']"
   ]
  },
  {
   "cell_type": "code",
   "execution_count": 29,
   "id": "cb4ddb1a-7982-4a28-860f-31f21d9bfd0d",
   "metadata": {
    "scrolled": true
   },
   "outputs": [
    {
     "data": {
      "text/html": [
       "<div>\n",
       "<style scoped>\n",
       "    .dataframe tbody tr th:only-of-type {\n",
       "        vertical-align: middle;\n",
       "    }\n",
       "\n",
       "    .dataframe tbody tr th {\n",
       "        vertical-align: top;\n",
       "    }\n",
       "\n",
       "    .dataframe thead th {\n",
       "        text-align: right;\n",
       "    }\n",
       "</style>\n",
       "<table border=\"1\" class=\"dataframe\">\n",
       "  <thead>\n",
       "    <tr style=\"text-align: right;\">\n",
       "      <th></th>\n",
       "      <th></th>\n",
       "      <th>count</th>\n",
       "      <th>proportion</th>\n",
       "    </tr>\n",
       "    <tr>\n",
       "      <th>copilot_access</th>\n",
       "      <th>copilot_usage</th>\n",
       "      <th></th>\n",
       "      <th></th>\n",
       "    </tr>\n",
       "  </thead>\n",
       "  <tbody>\n",
       "    <tr>\n",
       "      <th rowspan=\"2\" valign=\"top\">No</th>\n",
       "      <th>No</th>\n",
       "      <td>15</td>\n",
       "      <td>0.28</td>\n",
       "    </tr>\n",
       "    <tr>\n",
       "      <th>Yes</th>\n",
       "      <td>4</td>\n",
       "      <td>0.08</td>\n",
       "    </tr>\n",
       "    <tr>\n",
       "      <th rowspan=\"2\" valign=\"top\">Received as student/teacher.</th>\n",
       "      <th>No</th>\n",
       "      <td>1</td>\n",
       "      <td>0.02</td>\n",
       "    </tr>\n",
       "    <tr>\n",
       "      <th>Yes</th>\n",
       "      <td>1</td>\n",
       "      <td>0.02</td>\n",
       "    </tr>\n",
       "    <tr>\n",
       "      <th rowspan=\"2\" valign=\"top\">Yes</th>\n",
       "      <th>No</th>\n",
       "      <td>21</td>\n",
       "      <td>0.40</td>\n",
       "    </tr>\n",
       "    <tr>\n",
       "      <th>Yes</th>\n",
       "      <td>11</td>\n",
       "      <td>0.21</td>\n",
       "    </tr>\n",
       "  </tbody>\n",
       "</table>\n",
       "</div>"
      ],
      "text/plain": [
       "                                            count  proportion\n",
       "copilot_access               copilot_usage                   \n",
       "No                           No                15        0.28\n",
       "                             Yes                4        0.08\n",
       "Received as student/teacher. No                 1        0.02\n",
       "                             Yes                1        0.02\n",
       "Yes                          No                21        0.40\n",
       "                             Yes               11        0.21"
      ]
     },
     "execution_count": 29,
     "metadata": {},
     "output_type": "execute_result"
    }
   ],
   "source": [
    "have_copilot_results = pd.merge(should_have_copilot, survey_response)\n",
    "have_copilot_results_yn = have_copilot_results[have_copilot_results['copilot_access'].isin(include_cats)]\n",
    "pd.concat([have_copilot_results_yn[['copilot_access', 'copilot_usage']].value_counts().sort_index(),\n",
    "           have_copilot_results_yn[['copilot_access', 'copilot_usage']].value_counts(normalize = True).sort_index()], axis = 1).round(2)"
   ]
  },
  {
   "cell_type": "code",
   "execution_count": 30,
   "id": "be9d6e75-1093-4dba-8f4f-c87074fca2a8",
   "metadata": {
    "scrolled": true
   },
   "outputs": [
    {
     "data": {
      "text/html": [
       "<div>\n",
       "<style scoped>\n",
       "    .dataframe tbody tr th:only-of-type {\n",
       "        vertical-align: middle;\n",
       "    }\n",
       "\n",
       "    .dataframe tbody tr th {\n",
       "        vertical-align: top;\n",
       "    }\n",
       "\n",
       "    .dataframe thead th {\n",
       "        text-align: right;\n",
       "    }\n",
       "</style>\n",
       "<table border=\"1\" class=\"dataframe\">\n",
       "  <thead>\n",
       "    <tr style=\"text-align: right;\">\n",
       "      <th></th>\n",
       "      <th></th>\n",
       "      <th>count</th>\n",
       "      <th>proportion</th>\n",
       "    </tr>\n",
       "    <tr>\n",
       "      <th>copilot_access</th>\n",
       "      <th>copilot_usage</th>\n",
       "      <th></th>\n",
       "      <th></th>\n",
       "    </tr>\n",
       "  </thead>\n",
       "  <tbody>\n",
       "    <tr>\n",
       "      <th>Access through work</th>\n",
       "      <th>Yes</th>\n",
       "      <td>1</td>\n",
       "      <td>0.01</td>\n",
       "    </tr>\n",
       "    <tr>\n",
       "      <th>I have access to Github Copilot because I work for Microsoft</th>\n",
       "      <th>Yes</th>\n",
       "      <td>1</td>\n",
       "      <td>0.01</td>\n",
       "    </tr>\n",
       "    <tr>\n",
       "      <th rowspan=\"2\" valign=\"top\">No</th>\n",
       "      <th>No</th>\n",
       "      <td>47</td>\n",
       "      <td>0.44</td>\n",
       "    </tr>\n",
       "    <tr>\n",
       "      <th>Yes</th>\n",
       "      <td>23</td>\n",
       "      <td>0.22</td>\n",
       "    </tr>\n",
       "    <tr>\n",
       "      <th>Received as student/teacher.</th>\n",
       "      <th>Yes</th>\n",
       "      <td>5</td>\n",
       "      <td>0.05</td>\n",
       "    </tr>\n",
       "    <tr>\n",
       "      <th>University Staff</th>\n",
       "      <th>Yes</th>\n",
       "      <td>1</td>\n",
       "      <td>0.01</td>\n",
       "    </tr>\n",
       "    <tr>\n",
       "      <th rowspan=\"2\" valign=\"top\">Yes</th>\n",
       "      <th>No</th>\n",
       "      <td>16</td>\n",
       "      <td>0.15</td>\n",
       "    </tr>\n",
       "    <tr>\n",
       "      <th>Yes</th>\n",
       "      <td>11</td>\n",
       "      <td>0.10</td>\n",
       "    </tr>\n",
       "    <tr>\n",
       "      <th>yes,  but not from the project refererred to in the email</th>\n",
       "      <th>No</th>\n",
       "      <td>1</td>\n",
       "      <td>0.01</td>\n",
       "    </tr>\n",
       "  </tbody>\n",
       "</table>\n",
       "</div>"
      ],
      "text/plain": [
       "                                                                  count  \\\n",
       "copilot_access                                     copilot_usage          \n",
       "Access through work                                Yes                1   \n",
       "I have access to Github Copilot because I work ... Yes                1   \n",
       "No                                                 No                47   \n",
       "                                                   Yes               23   \n",
       "Received as student/teacher.                       Yes                5   \n",
       "University Staff                                   Yes                1   \n",
       "Yes                                                No                16   \n",
       "                                                   Yes               11   \n",
       "yes,  but not from the project refererred to in... No                 1   \n",
       "\n",
       "                                                                  proportion  \n",
       "copilot_access                                     copilot_usage              \n",
       "Access through work                                Yes                  0.01  \n",
       "I have access to Github Copilot because I work ... Yes                  0.01  \n",
       "No                                                 No                   0.44  \n",
       "                                                   Yes                  0.22  \n",
       "Received as student/teacher.                       Yes                  0.05  \n",
       "University Staff                                   Yes                  0.01  \n",
       "Yes                                                No                   0.15  \n",
       "                                                   Yes                  0.10  \n",
       "yes,  but not from the project refererred to in... No                   0.01  "
      ]
     },
     "execution_count": 30,
     "metadata": {},
     "output_type": "execute_result"
    }
   ],
   "source": [
    "no_copilot_results = pd.merge(no_copilot_project, survey_response)\n",
    "no_copilot_results_yn = no_copilot_results[no_copilot_results['copilot_access'].isin(include_cats)]\n",
    "pd.concat([no_copilot_results_yn[['copilot_access', 'copilot_usage']].value_counts().sort_index(),\n",
    "           no_copilot_results_yn[['copilot_access', 'copilot_usage']].value_counts(normalize = True).sort_index()], axis = 1).round(2)"
   ]
  },
  {
   "cell_type": "code",
   "execution_count": 31,
   "id": "17ecdedc-2215-4a3a-9cf4-e2a18a16c407",
   "metadata": {
    "scrolled": true
   },
   "outputs": [
    {
     "name": "stdout",
     "output_type": "stream",
     "text": [
      "True Treatment takeup rate: 0.39\n",
      "True Control takeup rate: 0.32\n"
     ]
    }
   ],
   "source": [
    "t = survey_response[survey_response['copilot_access'].isin(['No','Yes','Unsure'])][\n",
    "    ['copilot_access','copilot_usage']].value_counts(normalize = True).sort_index().round(3)\n",
    "print(\"True Treatment takeup rate: {:.2f}\".format(t.loc[('Yes','Yes')]/(t.loc[('Yes','Yes')] + t.loc[('Yes','No')])))\n",
    "print(\"True Control takeup rate: {:.2f}\".format(t.loc[('No','Yes')]/(t.loc[('No','Yes')] + t.loc[('No','No')])))"
   ]
  },
  {
   "cell_type": "code",
   "execution_count": 32,
   "id": "a4859e09-b812-491f-8a1e-33731e0a47bb",
   "metadata": {
    "scrolled": true
   },
   "outputs": [
    {
     "name": "stdout",
     "output_type": "stream",
     "text": [
      "Treatment Group Treated: 0.60, Control Group Treated: 0.25\n",
      "Treatment Group Takeup: 0.30, Control Group Takeup: 0.40\n"
     ]
    }
   ],
   "source": [
    "print(\"Treatment Group Treated: {:.2f}, Control Group Treated: {:.2f}\".format(\n",
    "    np.mean(have_copilot_results_yn['copilot_access'] == 'Yes'), np.mean(no_copilot_results_yn['copilot_access'] == 'Yes')))\n",
    "print(\"Treatment Group Takeup: {:.2f}, Control Group Takeup: {:.2f}\".format(\n",
    "    np.mean(have_copilot_results_yn['copilot_usage'] == 'Yes'), np.mean(no_copilot_results_yn['copilot_usage'] == 'Yes')))"
   ]
  },
  {
   "cell_type": "code",
   "execution_count": null,
   "id": "c3e763cb-5215-4f5f-b4ef-f70f3df4b673",
   "metadata": {},
   "outputs": [],
   "source": []
  },
  {
   "cell_type": "code",
   "execution_count": null,
   "id": "49f32993-0585-4e33-b024-67c3de21afab",
   "metadata": {},
   "outputs": [],
   "source": []
  }
 ],
 "metadata": {
  "kernelspec": {
   "display_name": "Python 3 (ipykernel)",
   "language": "python",
   "name": "python3"
  },
  "language_info": {
   "codemirror_mode": {
    "name": "ipython",
    "version": 3
   },
   "file_extension": ".py",
   "mimetype": "text/x-python",
   "name": "python",
   "nbconvert_exporter": "python",
   "pygments_lexer": "ipython3",
   "version": "3.8.10"
  }
 },
 "nbformat": 4,
 "nbformat_minor": 5
}
