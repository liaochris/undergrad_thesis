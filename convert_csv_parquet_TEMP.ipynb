{
 "cells": [
  {
   "cell_type": "code",
   "execution_count": 5,
   "id": "4170dafd-fca3-43ce-a7f1-8deab906c207",
   "metadata": {},
   "outputs": [],
   "source": [
    "import glob\n",
    "import os \n",
    "import pandas as pd"
   ]
  },
  {
   "cell_type": "code",
   "execution_count": 7,
   "id": "b7b27377-c700-4a62-8cfc-1802a224a153",
   "metadata": {
    "scrolled": true
   },
   "outputs": [
    {
     "name": "stdout",
     "output_type": "stream",
     "text": [
      "failed removing data/github_clean/filtered_github_data/prEvent000000001304.csv\n"
     ]
    },
    {
     "name": "stderr",
     "output_type": "stream",
     "text": [
      "/tmp/user/20506/ipykernel_1223629/1726102126.py:4: DtypeWarning: Columns (31,33,34) have mixed types. Specify dtype option on import or set low_memory=False.\n",
      "  df = pd.read_csv(file)\n",
      "/tmp/user/20506/ipykernel_1223629/1726102126.py:4: DtypeWarning: Columns (31,33,34) have mixed types. Specify dtype option on import or set low_memory=False.\n",
      "  df = pd.read_csv(file)\n",
      "/tmp/user/20506/ipykernel_1223629/1726102126.py:4: DtypeWarning: Columns (31,33,34) have mixed types. Specify dtype option on import or set low_memory=False.\n",
      "  df = pd.read_csv(file)\n",
      "/tmp/user/20506/ipykernel_1223629/1726102126.py:4: DtypeWarning: Columns (31,33,34) have mixed types. Specify dtype option on import or set low_memory=False.\n",
      "  df = pd.read_csv(file)\n",
      "/tmp/user/20506/ipykernel_1223629/1726102126.py:4: DtypeWarning: Columns (31,33,34) have mixed types. Specify dtype option on import or set low_memory=False.\n",
      "  df = pd.read_csv(file)\n",
      "/tmp/user/20506/ipykernel_1223629/1726102126.py:4: DtypeWarning: Columns (31,33,34) have mixed types. Specify dtype option on import or set low_memory=False.\n",
      "  df = pd.read_csv(file)\n",
      "/tmp/user/20506/ipykernel_1223629/1726102126.py:4: DtypeWarning: Columns (31,33,34) have mixed types. Specify dtype option on import or set low_memory=False.\n",
      "  df = pd.read_csv(file)\n",
      "/tmp/user/20506/ipykernel_1223629/1726102126.py:4: DtypeWarning: Columns (31,33,34) have mixed types. Specify dtype option on import or set low_memory=False.\n",
      "  df = pd.read_csv(file)\n",
      "/tmp/user/20506/ipykernel_1223629/1726102126.py:4: DtypeWarning: Columns (31,33,34) have mixed types. Specify dtype option on import or set low_memory=False.\n",
      "  df = pd.read_csv(file)\n",
      "/tmp/user/20506/ipykernel_1223629/1726102126.py:4: DtypeWarning: Columns (31,33,34) have mixed types. Specify dtype option on import or set low_memory=False.\n",
      "  df = pd.read_csv(file)\n",
      "/tmp/user/20506/ipykernel_1223629/1726102126.py:4: DtypeWarning: Columns (31,33,34) have mixed types. Specify dtype option on import or set low_memory=False.\n",
      "  df = pd.read_csv(file)\n",
      "/tmp/user/20506/ipykernel_1223629/1726102126.py:4: DtypeWarning: Columns (31,33,34) have mixed types. Specify dtype option on import or set low_memory=False.\n",
      "  df = pd.read_csv(file)\n",
      "/tmp/user/20506/ipykernel_1223629/1726102126.py:4: DtypeWarning: Columns (31,33,34) have mixed types. Specify dtype option on import or set low_memory=False.\n",
      "  df = pd.read_csv(file)\n",
      "/tmp/user/20506/ipykernel_1223629/1726102126.py:4: DtypeWarning: Columns (31,33,34) have mixed types. Specify dtype option on import or set low_memory=False.\n",
      "  df = pd.read_csv(file)\n",
      "/tmp/user/20506/ipykernel_1223629/1726102126.py:4: DtypeWarning: Columns (31,33,34) have mixed types. Specify dtype option on import or set low_memory=False.\n",
      "  df = pd.read_csv(file)\n",
      "/tmp/user/20506/ipykernel_1223629/1726102126.py:4: DtypeWarning: Columns (31,33,34) have mixed types. Specify dtype option on import or set low_memory=False.\n",
      "  df = pd.read_csv(file)\n",
      "/tmp/user/20506/ipykernel_1223629/1726102126.py:4: DtypeWarning: Columns (5) have mixed types. Specify dtype option on import or set low_memory=False.\n",
      "  df = pd.read_csv(file)\n"
     ]
    },
    {
     "name": "stdout",
     "output_type": "stream",
     "text": [
      "failed removing data/merged_data/linked_issues.csv\n",
      "failed removing data/merged_data/imputed_ranks/issue_ranked.csv\n",
      "failed removing data/merged_data/imputed_ranks/allIssueActors.csv\n",
      "failed removing data/merged_data/imputed_ranks/allPRActors.csv\n",
      "failed removing data/merged_data/imputed_ranks/push_ranked.csv\n"
     ]
    }
   ],
   "source": [
    "for file in glob.glob(\"**/*.csv\", recursive=True):\n",
    "    if \"results\" not in file:\n",
    "        try:\n",
    "            df = pd.read_csv(file)\n",
    "            df.to_parquet(file.replace(\".csv\",\".parquet\"))\n",
    "            os.remove(file)\n",
    "            print(\"converted file\")\n",
    "        except:\n",
    "            print(f\"failed removing {file}\")"
   ]
  }
 ],
 "metadata": {
  "kernelspec": {
   "display_name": "Python 3 (ipykernel)",
   "language": "python",
   "name": "python3"
  },
  "language_info": {
   "codemirror_mode": {
    "name": "ipython",
    "version": 3
   },
   "file_extension": ".py",
   "mimetype": "text/x-python",
   "name": "python",
   "nbconvert_exporter": "python",
   "pygments_lexer": "ipython3",
   "version": "3.8.10"
  }
 },
 "nbformat": 4,
 "nbformat_minor": 5
}
