{
 "cells": [
  {
   "cell_type": "code",
   "execution_count": 1,
   "id": "0cb3933e-cd68-4036-91f1-69ba41adfdaf",
   "metadata": {},
   "outputs": [],
   "source": [
    "import pandas as pd\n",
    "import numpy as np\n",
    "import glob\n",
    "from pandarallel import pandarallel\n",
    "from bs4 import BeautifulSoup, SoupStrainer\n",
    "import requests\n",
    "import os"
   ]
  },
  {
   "cell_type": "code",
   "execution_count": 2,
   "id": "580fd57e-6b3d-445c-9417-6f8013ef9e2f",
   "metadata": {},
   "outputs": [],
   "source": [
    "pd.set_option('display.max_columns', None)"
   ]
  },
  {
   "cell_type": "code",
   "execution_count": 3,
   "id": "a2bba744-a67c-4f0e-839f-ff504c1a07dd",
   "metadata": {},
   "outputs": [
    {
     "name": "stdout",
     "output_type": "stream",
     "text": [
      "INFO: Pandarallel will run on 32 workers.\n",
      "INFO: Pandarallel will use Memory file system to transfer data between the main process and workers.\n"
     ]
    }
   ],
   "source": [
    "pandarallel.initialize(progress_bar = True)"
   ]
  },
  {
   "cell_type": "markdown",
   "id": "5f3e10ad-5201-4813-bb02-011b8e03e0c8",
   "metadata": {},
   "source": [
    "## OLD WORK PROBABLY NOT USEFUL"
   ]
  },
  {
   "cell_type": "code",
   "execution_count": 4,
   "id": "4e452ea4-33c1-4788-a90e-1960f1bd903f",
   "metadata": {},
   "outputs": [],
   "source": [
    "def getints(field):\n",
    "    integers = []\n",
    "    for char in field:\n",
    "        try:        \n",
    "            value = int(char)\n",
    "            integers.append(str(value))\n",
    "        except ValueError:\n",
    "            break\n",
    "    return \"\".join(integers)"
   ]
  },
  {
   "cell_type": "code",
   "execution_count": 5,
   "id": "19382be1-8846-4eae-b57c-08a4f7cd7f8a",
   "metadata": {},
   "outputs": [],
   "source": [
    "def cleanData(df, type, body_col, extract_cols):\n",
    "    df['issue_referenced_body'] = df.fillna('').apply(lambda x: '#' in x[body_col], axis = 1)\n",
    "    df['potential_issue_body'] = df.apply(\n",
    "        lambda x: [] if not x['issue_referenced_body'] else [getints(ele) for ele in x[body_col].split(\"#\")[1:] if getints(ele) != ''], axis = 1)\n",
    "\n",
    "    if type == 'pr': \n",
    "        df['issue_referenced_title'] = df.fillna('').apply(lambda x: '#' in x['pr_title'], axis = 1)\n",
    "        df['potential_issue_title'] = df.apply(\n",
    "            lambda x: [] if not x['issue_referenced_title'] \n",
    "            else [getints(ele) for ele in x['pr_title'].split(\"#\")[1:] if getints(ele) != '' ], axis = 1)\n",
    "        df['potential_issues'] = df.apply(lambda x: x['potential_issue_title'] + x['potential_issue_body'], axis = 1)\n",
    "    df['potential_issues'] = df.apply(lambda x: x['potential_issue_body'], axis = 1)\n",
    "    \n",
    "    return df[extract_cols]  \n",
    "\n"
   ]
  },
  {
   "cell_type": "markdown",
   "id": "8c4f7d86-3b03-4c5a-9ab6-6170e6c70456",
   "metadata": {},
   "source": [
    "## PR Event"
   ]
  },
  {
   "cell_type": "code",
   "execution_count": 6,
   "id": "71b292b4-f156-452f-8091-db7218fab531",
   "metadata": {
    "scrolled": true
   },
   "outputs": [],
   "source": [
    "df_lst = glob.glob('data/github_clean/filtered_github_data/prEvent0*.parquet')\n",
    "df_lst.extend(glob.glob('data/github_clean/github_data_pre_18/prEvent0*.parquet'))\n",
    "df_lst.extend(glob.glob('data/github_clean/github_data_2324/pullRequestEvent0*.parquet'))"
   ]
  },
  {
   "cell_type": "code",
   "execution_count": 7,
   "id": "c6dd410a-372f-463b-8017-365b1d68c5f3",
   "metadata": {
    "scrolled": true
   },
   "outputs": [
    {
     "name": "stdout",
     "output_type": "stream",
     "text": [
      "CPU times: user 58 s, sys: 17.5 s, total: 1min 15s\n",
      "Wall time: 1min 34s\n"
     ]
    }
   ],
   "source": [
    "%%time\n",
    "pr_data = pd.concat([pd.read_parquet(file, columns = \n",
    "                                ['repo_id', 'repo_name', 'pr_id', 'pr_number', 'created_at','type','pr_issue_url', 'pr_title','pr_body']) for file in df_lst])"
   ]
  },
  {
   "cell_type": "code",
   "execution_count": 8,
   "id": "5d52e7ed-a0e9-4758-8471-79edc052b642",
   "metadata": {
    "scrolled": true
   },
   "outputs": [],
   "source": [
    "linked_prs = cleanData(pr_data, 'pr', 'pr_body',\n",
    "                       ['repo_id', 'repo_name', 'pr_id', 'pr_number', 'potential_issues', 'created_at','type','pr_issue_url'])\n",
    "linked_prs = linked_prs[linked_prs['potential_issues'].apply(lambda x: len(x) != 0)]"
   ]
  },
  {
   "cell_type": "markdown",
   "id": "93870b43-56e2-4cba-b480-c1daa4605029",
   "metadata": {},
   "source": [
    "## PR Review Event"
   ]
  },
  {
   "cell_type": "code",
   "execution_count": 9,
   "id": "27957027-4816-4828-ae95-83f5c990ebbb",
   "metadata": {
    "scrolled": true
   },
   "outputs": [],
   "source": [
    "df_lst_review = glob.glob('data/github_clean/filtered_github_data/prReviewEvent*.parquet')\n",
    "df_lst_review.extend(glob.glob('data/github_clean/github_data_pre_18/prReviewEvent*.parquet'))\n",
    "df_lst_review.extend(glob.glob('data/github_clean/github_data_2324/pullRequestReviewEvent*.parquet'))"
   ]
  },
  {
   "cell_type": "code",
   "execution_count": 10,
   "id": "b4b2ac72-ace7-4404-a8a6-ff3d975d8576",
   "metadata": {},
   "outputs": [
    {
     "name": "stdout",
     "output_type": "stream",
     "text": [
      "CPU times: user 31.1 s, sys: 6.88 s, total: 38 s\n",
      "Wall time: 49.7 s\n"
     ]
    }
   ],
   "source": [
    "%%time\n",
    "pr_review_data = pd.concat([pd.read_parquet(file, columns =\n",
    "                                       ['repo_id', 'repo_name', 'pr_review_id', 'pr_number', 'created_at','type', 'pr_review_body']) for file in df_lst_review])"
   ]
  },
  {
   "cell_type": "code",
   "execution_count": 11,
   "id": "21e83e5b-5d47-4edf-afaf-4d32882c511f",
   "metadata": {
    "scrolled": true
   },
   "outputs": [
    {
     "name": "stdout",
     "output_type": "stream",
     "text": [
      "CPU times: user 31.1 s, sys: 1.12 s, total: 32.2 s\n",
      "Wall time: 32.2 s\n"
     ]
    }
   ],
   "source": [
    "%%time\n",
    "df_issues_linked_review = cleanData(pr_review_data, 'pr_review', 'pr_review_body',\n",
    "                                    ['repo_id', 'repo_name', 'pr_review_id', 'pr_number', 'potential_issues', 'created_at','type'])\n",
    "df_issues_linked_review = df_issues_linked_review[df_issues_linked_review['potential_issues'].apply(lambda x: len(x)>0)]"
   ]
  },
  {
   "cell_type": "markdown",
   "id": "ff469610-1a0b-4820-9a7f-872d2139ff10",
   "metadata": {},
   "source": [
    "# PR Review Comment Event"
   ]
  },
  {
   "cell_type": "code",
   "execution_count": 12,
   "id": "0456b325-b96e-4a61-af6f-79d18ce881ab",
   "metadata": {},
   "outputs": [],
   "source": [
    "df_lst_review_comment = glob.glob('data/github_clean/filtered_github_data/prReviewCommentEvent*.parquet')\n",
    "df_lst_review_comment.extend(glob.glob('data/github_clean/github_data_pre_18/prReviewCommentEvent*.parquet'))\n",
    "df_lst_review_comment.extend(glob.glob('data/github_clean/github_data_2324/pullRequestReviewCommentEvent*.parquet'))"
   ]
  },
  {
   "cell_type": "code",
   "execution_count": 13,
   "id": "29b251f2-973e-418f-a478-4e0c083e3f2d",
   "metadata": {
    "scrolled": true
   },
   "outputs": [
    {
     "name": "stdout",
     "output_type": "stream",
     "text": [
      "CPU times: user 38.1 s, sys: 9.35 s, total: 47.4 s\n",
      "Wall time: 1min 8s\n"
     ]
    }
   ],
   "source": [
    "%%time\n",
    "pr_review_comment_data = pd.concat([pd.read_parquet(file,\n",
    "                                               columns = ['repo_id', 'repo_name', 'pr_review_comment_id', 'pr_number', 'created_at','type', 'pr_review_comment_body']) for file in df_lst_review_comment])"
   ]
  },
  {
   "cell_type": "code",
   "execution_count": 14,
   "id": "b631f55f-a9af-48ab-bd9d-5dbf8942465c",
   "metadata": {
    "scrolled": true
   },
   "outputs": [
    {
     "name": "stdout",
     "output_type": "stream",
     "text": [
      "CPU times: user 49.2 s, sys: 1.63 s, total: 50.8 s\n",
      "Wall time: 50.8 s\n"
     ]
    }
   ],
   "source": [
    "%%time\n",
    "df_issues_linked_review_comment = cleanData(pr_review_comment_data, 'pr_review_comment', 'pr_review_comment_body',\n",
    "                                            ['repo_id', 'repo_name', 'pr_review_comment_id', 'pr_number', 'potential_issues', 'created_at','type'])\n",
    "df_issues_linked_review_comment = df_issues_linked_review_comment[df_issues_linked_review_comment['potential_issues'].apply(lambda x: len(x) != 0)]"
   ]
  },
  {
   "cell_type": "markdown",
   "id": "7795c8f6-bdd8-4bfa-8d93-73d46d2f63e6",
   "metadata": {},
   "source": [
    "## Ensure we only have valid issues"
   ]
  },
  {
   "cell_type": "code",
   "execution_count": 15,
   "id": "7f43f365-c0cd-4e32-996b-f3d8a05665a6",
   "metadata": {},
   "outputs": [],
   "source": [
    "def read_parquet(fpath, colnames):\n",
    "    try:\n",
    "        return pd.read_parquet(fpath, columns = colnames)\n",
    "    except:\n",
    "        return pd.DataFrame(columns = colnames)"
   ]
  },
  {
   "cell_type": "code",
   "execution_count": 16,
   "id": "8cde78e7-3a54-4462-bcd2-70798c32a5d2",
   "metadata": {
    "scrolled": true
   },
   "outputs": [
    {
     "name": "stdout",
     "output_type": "stream",
     "text": [
      "CPU times: user 59.7 s, sys: 10.6 s, total: 1min 10s\n",
      "Wall time: 1min 27s\n"
     ]
    }
   ],
   "source": [
    "%%time\n",
    "# Read data on issue comments, issues\n",
    "issue_com = glob.glob('data/github_clean/filtered_github_data/issueCo*')\n",
    "issue_com.extend(glob.glob('data/github_clean/github_data_pre_18/issueCo*'))\n",
    "issue_com.extend(glob.glob('data/github_clean/github_data_2324/issueCo*'))\n",
    "df_issue_comments = pd.concat([read_parquet(ele, ['repo_id', 'repo_name', 'issue_number', 'created_at']) for ele in issue_com]).reset_index(drop = True)\n",
    "\n",
    "issues = glob.glob('data/github_clean/filtered_github_data/issues*')\n",
    "issues.extend(glob.glob('data/github_clean/github_data_pre_18/issues*'))\n",
    "issues.extend(glob.glob('data/github_clean/github_data_2324/issues*'))\n",
    "df_issue = pd.concat([read_parquet(ele, ['repo_id', 'repo_name', 'issue_number', 'created_at']) for ele in issues]).reset_index(drop = True)"
   ]
  },
  {
   "cell_type": "code",
   "execution_count": 17,
   "id": "cc627941-11fd-4e0e-8d32-62d442250056",
   "metadata": {
    "scrolled": true
   },
   "outputs": [],
   "source": [
    "all_issue_info = pd.concat([df_issue, df_issue_comments]).groupby(\n",
    "    ['repo_id','repo_name','issue_number'])['created_at'].min().reset_index()"
   ]
  },
  {
   "cell_type": "code",
   "execution_count": 18,
   "id": "8dac2cf1-1c03-440e-a259-8cfb18397c56",
   "metadata": {
    "scrolled": true
   },
   "outputs": [],
   "source": [
    "# pr data\n",
    "linked_pr_data = linked_prs[['repo_id', 'repo_name', 'pr_number', 'potential_issues','created_at']].explode('potential_issues')\n",
    "linked_pr_data['potential_issues'] = linked_pr_data['potential_issues'].astype(int)\n",
    "# pr review\n",
    "linked_pr_review_data = df_issues_linked_review_comment[['repo_id','repo_name', 'pr_number', 'potential_issues', 'created_at']].explode('potential_issues')\n",
    "linked_pr_review_data['potential_issues'] = pd.to_numeric(linked_pr_review_data['potential_issues'], errors = 'coerce')\n",
    "linked_pr_review_data = linked_pr_review_data[~linked_pr_review_data['potential_issues'].isna()]\n",
    "# pr review comment\n",
    "linked_pr_review_comment_data = df_issues_linked_review_comment[['repo_id', 'repo_name','pr_number', 'potential_issues', 'created_at']].explode('potential_issues')\n",
    "linked_pr_review_comment_data['potential_issues'] = pd.to_numeric(linked_pr_review_comment_data['potential_issues'], errors = 'coerce')\n",
    "linked_pr_review_comment_data = linked_pr_review_comment_data[~linked_pr_review_comment_data['potential_issues'].isna()]"
   ]
  },
  {
   "cell_type": "code",
   "execution_count": 22,
   "id": "981736b0-8845-4c24-8ea3-b63242b6c878",
   "metadata": {},
   "outputs": [],
   "source": [
    "pr_issue_data = pd.concat([linked_pr_review_comment_data,linked_pr_review_data,linked_pr_data])\n",
    "pr_issue_data['created_at'] = pd.to_datetime(pr_issue_data['created_at'], utc = True)\n",
    "pr_issue_data = pr_issue_data.sort_values('created_at').drop_duplicates(\n",
    "    ['repo_id','repo_name','pr_number','potential_issues'])"
   ]
  },
  {
   "cell_type": "code",
   "execution_count": 23,
   "id": "03f079fc-3ac7-4427-bafa-dcf5064826d8",
   "metadata": {
    "scrolled": true
   },
   "outputs": [],
   "source": [
    "all_issue_info['key'] = all_issue_info['repo_id'].apply(lambda x: str(int(x)))+\"_\"+all_issue_info['issue_number'].apply(lambda x: str(int(x)))\n",
    "all_issue_info_dict = all_issue_info[['key', 'created_at']].set_index('key').to_dict()['created_at']\n",
    "pr_issue_data['issue_first_date'] = pr_issue_data.apply(lambda x: all_issue_info_dict.get(str(int(x['repo_id']))+\"_\"+str(int(x['potential_issues']))), axis = 1)\n"
   ]
  },
  {
   "cell_type": "code",
   "execution_count": 24,
   "id": "a20c1a88-4d83-4c95-b98b-13574828d1b9",
   "metadata": {},
   "outputs": [],
   "source": [
    "pr_issue_data['created_at'] = pd.to_datetime(pr_issue_data['created_at'], utc= True)\n",
    "pr_issue_data['issue_first_date'] = pd.to_datetime(pr_issue_data['issue_first_date'], utc= True)"
   ]
  },
  {
   "cell_type": "code",
   "execution_count": 25,
   "id": "6986997d-3548-44f8-b802-1fbbed05d500",
   "metadata": {
    "scrolled": true
   },
   "outputs": [],
   "source": [
    "pr_issue_data = pr_issue_data[pr_issue_data.apply(lambda x: not pd.isnull(x['issue_first_date']) and x['created_at'] >= x['issue_first_date'], axis = 1)]"
   ]
  },
  {
   "cell_type": "code",
   "execution_count": 26,
   "id": "7eb74795-77c5-4da2-b5ea-db3a090c2782",
   "metadata": {
    "scrolled": true
   },
   "outputs": [
    {
     "data": {
      "text/html": [
       "<div>\n",
       "<style scoped>\n",
       "    .dataframe tbody tr th:only-of-type {\n",
       "        vertical-align: middle;\n",
       "    }\n",
       "\n",
       "    .dataframe tbody tr th {\n",
       "        vertical-align: top;\n",
       "    }\n",
       "\n",
       "    .dataframe thead th {\n",
       "        text-align: right;\n",
       "    }\n",
       "</style>\n",
       "<table border=\"1\" class=\"dataframe\">\n",
       "  <thead>\n",
       "    <tr style=\"text-align: right;\">\n",
       "      <th></th>\n",
       "      <th>repo_id</th>\n",
       "      <th>repo_name</th>\n",
       "      <th>potential_issues</th>\n",
       "    </tr>\n",
       "  </thead>\n",
       "  <tbody>\n",
       "    <tr>\n",
       "      <th>845</th>\n",
       "      <td>921367</td>\n",
       "      <td>cobrateam/splinter</td>\n",
       "      <td>110.0</td>\n",
       "    </tr>\n",
       "    <tr>\n",
       "      <th>1739</th>\n",
       "      <td>1062237</td>\n",
       "      <td>libgit2/pygit2</td>\n",
       "      <td>50.0</td>\n",
       "    </tr>\n",
       "    <tr>\n",
       "      <th>317</th>\n",
       "      <td>1060073</td>\n",
       "      <td>omab/django-social-auth</td>\n",
       "      <td>156.0</td>\n",
       "    </tr>\n",
       "    <tr>\n",
       "      <th>165</th>\n",
       "      <td>1357152</td>\n",
       "      <td>erikrose/nose-progressive</td>\n",
       "      <td>23.0</td>\n",
       "    </tr>\n",
       "    <tr>\n",
       "      <th>1705</th>\n",
       "      <td>1446474</td>\n",
       "      <td>pypa/virtualenv</td>\n",
       "      <td>186.0</td>\n",
       "    </tr>\n",
       "    <tr>\n",
       "      <th>...</th>\n",
       "      <td>...</td>\n",
       "      <td>...</td>\n",
       "      <td>...</td>\n",
       "    </tr>\n",
       "    <tr>\n",
       "      <th>8436</th>\n",
       "      <td>12888993</td>\n",
       "      <td>home-assistant/core</td>\n",
       "      <td>93498.0</td>\n",
       "    </tr>\n",
       "    <tr>\n",
       "      <th>13047</th>\n",
       "      <td>2081289</td>\n",
       "      <td>astropy/astropy</td>\n",
       "      <td>16080.0</td>\n",
       "    </tr>\n",
       "    <tr>\n",
       "      <th>16806</th>\n",
       "      <td>47203045</td>\n",
       "      <td>DataDog/integrations-core</td>\n",
       "      <td>15308.0</td>\n",
       "    </tr>\n",
       "    <tr>\n",
       "      <th>3564</th>\n",
       "      <td>17165658</td>\n",
       "      <td>apache/spark</td>\n",
       "      <td>4686.0</td>\n",
       "    </tr>\n",
       "    <tr>\n",
       "      <th>12344</th>\n",
       "      <td>4164482</td>\n",
       "      <td>django/django</td>\n",
       "      <td>17613.0</td>\n",
       "    </tr>\n",
       "  </tbody>\n",
       "</table>\n",
       "<p>205965 rows × 3 columns</p>\n",
       "</div>"
      ],
      "text/plain": [
       "        repo_id                  repo_name  potential_issues\n",
       "845      921367         cobrateam/splinter             110.0\n",
       "1739    1062237             libgit2/pygit2              50.0\n",
       "317     1060073    omab/django-social-auth             156.0\n",
       "165     1357152  erikrose/nose-progressive              23.0\n",
       "1705    1446474            pypa/virtualenv             186.0\n",
       "...         ...                        ...               ...\n",
       "8436   12888993        home-assistant/core           93498.0\n",
       "13047   2081289            astropy/astropy           16080.0\n",
       "16806  47203045  DataDog/integrations-core           15308.0\n",
       "3564   17165658               apache/spark            4686.0\n",
       "12344   4164482              django/django           17613.0\n",
       "\n",
       "[205965 rows x 3 columns]"
      ]
     },
     "execution_count": 26,
     "metadata": {},
     "output_type": "execute_result"
    }
   ],
   "source": [
    "pr_issue_data[['repo_id','repo_name', 'potential_issues']].drop_duplicates()"
   ]
  },
  {
   "cell_type": "markdown",
   "id": "3f15b08b-9ffd-4218-84a2-7fc95c12a5ed",
   "metadata": {},
   "source": [
    "## Ensure we only have valid PRs"
   ]
  },
  {
   "cell_type": "code",
   "execution_count": 33,
   "id": "10656740-5779-419a-b7fd-ccf32690cbc9",
   "metadata": {
    "scrolled": true
   },
   "outputs": [],
   "source": [
    "all_pr_info = pd.concat([pr_data[['repo_id','repo_name', 'pr_number', 'created_at']],\n",
    "           pr_review_data[['repo_id','repo_name', 'pr_number', 'created_at']],\n",
    "           pr_review_comment_data[['repo_id','repo_name', 'pr_number', 'created_at']]])\n",
    "all_pr_info['created_at'] = pd.to_datetime(all_pr_info['created_at'], utc = True, format = 'mixed', errors = 'coerce')\n",
    "all_pr_info = all_pr_info.sort_values('created_at').drop_duplicates(\n",
    "    ['repo_id','pr_number'])"
   ]
  },
  {
   "cell_type": "markdown",
   "id": "fd81329e-bb25-4a42-bdf9-63f871ddd9a0",
   "metadata": {},
   "source": [
    "## Issue Comment Event"
   ]
  },
  {
   "cell_type": "code",
   "execution_count": 34,
   "id": "f89f41f1-4446-4936-8f32-5582201d9104",
   "metadata": {},
   "outputs": [
    {
     "name": "stdout",
     "output_type": "stream",
     "text": [
      "CPU times: user 1min 58s, sys: 39.7 s, total: 2min 38s\n",
      "Wall time: 1min 50s\n"
     ]
    }
   ],
   "source": [
    "%%time\n",
    "# Read data on issue comments, issues\n",
    "issue_com = glob.glob('data/github_clean/filtered_github_data/issueCo*')\n",
    "issue_com.extend(glob.glob('data/github_clean/github_data_pre_18/issueCo*'))\n",
    "df_issue_comments = pd.concat([pd.read_parquet(ele) for ele in issue_com]).reset_index(drop = True)"
   ]
  },
  {
   "cell_type": "code",
   "execution_count": 35,
   "id": "2d0e5f1e-5077-408d-960a-d6d34b78b811",
   "metadata": {
    "scrolled": true
   },
   "outputs": [
    {
     "name": "stdout",
     "output_type": "stream",
     "text": [
      "CPU times: user 1min 21s, sys: 12.3 s, total: 1min 34s\n",
      "Wall time: 1min 33s\n"
     ]
    }
   ],
   "source": [
    "%%time\n",
    "df_issue_comments_linked = cleanData(df_issue_comments, 'issue_comment', 'issue_comment_body',\n",
    "                                            ['repo_id', 'repo_name', 'issue_id', 'issue_number', \n",
    "                                             'potential_issues', 'created_at','type' , 'issue_pull_request'])\n",
    "df_issue_comments_linked = df_issue_comments_linked[df_issue_comments_linked['potential_issues'].apply(\n",
    "    lambda x: len(x) != 0)]\n",
    "df_issue_comments_linked.rename({'potential_issues':'potential_prs'}, axis = 1, inplace = True)\n",
    "df_issue_comments_linked = df_issue_comments_linked[~df_issue_comments_linked['issue_number'].isna()]"
   ]
  },
  {
   "cell_type": "code",
   "execution_count": 36,
   "id": "a6cdf3be-1279-4e49-8dee-ac916371e353",
   "metadata": {
    "scrolled": true
   },
   "outputs": [],
   "source": [
    "all_pr_info = all_pr_info[all_pr_info['pr_number'].apply(lambda x: type(x) != str and type(x) != float and type(x) != type(None))]\n",
    "all_pr_info['key'] = all_pr_info['repo_id'].apply(lambda x: str(int(x)))+\"_\"+all_pr_info['pr_number'].apply(lambda x: str(int(x)))\n",
    "pr_info_dict = all_pr_info.set_index('key')['created_at'].to_dict()"
   ]
  },
  {
   "cell_type": "code",
   "execution_count": 37,
   "id": "6c50ad24-4a8e-4186-8317-ce79c2cf3518",
   "metadata": {
    "scrolled": true
   },
   "outputs": [],
   "source": [
    "linked_issue_comments = df_issue_comments_linked[['repo_id','repo_name', 'issue_number', 'potential_prs', 'created_at']].explode('potential_prs')\n",
    "linked_issue_comments['potential_prs'] = linked_issue_comments['potential_prs'].apply(lambda x: int(x))\n",
    "linked_issue_comments = linked_issue_comments.drop_duplicates()\n",
    "linked_issue_comments['key'] = linked_issue_comments['repo_id'].apply(lambda x: str(int(x)))+\"_\"+linked_issue_comments['potential_prs'].apply(lambda x: str(int(x)))\n",
    "linked_issue_comments['pr_created_date'] = linked_issue_comments['key'].apply(lambda x: pr_info_dict.get(x, np.nan))"
   ]
  },
  {
   "cell_type": "code",
   "execution_count": 38,
   "id": "c687ea52-7cf7-4cbe-b9f5-03532741371a",
   "metadata": {},
   "outputs": [],
   "source": [
    "linked_issue_comments['key'] = linked_issue_comments['repo_id'].apply(lambda x: str(int(x)))+\"_\"+linked_issue_comments['potential_prs'].apply(lambda x: str(int(x)))"
   ]
  },
  {
   "cell_type": "code",
   "execution_count": 39,
   "id": "16547c6d-7407-486a-b3f4-a83e09336791",
   "metadata": {
    "scrolled": true
   },
   "outputs": [],
   "source": [
    "linked_issue_comments = linked_issue_comments[(~linked_issue_comments['pr_created_date'].isna()) & \\\n",
    "    (linked_issue_comments['created_at']>=linked_issue_comments['pr_created_date'])]"
   ]
  },
  {
   "cell_type": "markdown",
   "id": "9b5005f6-d446-4269-aaf4-6ca3e4fafc5d",
   "metadata": {},
   "source": [
    "## Make sure the \"issues\" that are references are not PRs lmfao "
   ]
  },
  {
   "cell_type": "code",
   "execution_count": 40,
   "id": "3f03aa0f-13b6-4978-ad7c-130b0edb1af0",
   "metadata": {
    "scrolled": true
   },
   "outputs": [],
   "source": [
    "check_issues = pd.concat([\n",
    "    pr_issue_data[['repo_id', 'repo_name','potential_issues']].drop_duplicates(),\n",
    "    linked_issue_comments[['repo_id','repo_name', 'issue_number']].drop_duplicates().rename(\n",
    "        {'issue_number':'potential_issues'}, axis = 1)]).drop_duplicates()"
   ]
  },
  {
   "cell_type": "code",
   "execution_count": 41,
   "id": "113bdb17-9679-4695-9bc9-5bd6943135cb",
   "metadata": {},
   "outputs": [],
   "source": [
    "check_issues['linked_pr'] = np.nan\n",
    "check_issues['potential_issues'] = check_issues['potential_issues'].astype(int)\n",
    "check_issues = check_issues.reset_index(drop = True)"
   ]
  },
  {
   "cell_type": "code",
   "execution_count": 42,
   "id": "e7643716-142d-443b-9620-e7e43eb42f13",
   "metadata": {},
   "outputs": [],
   "source": [
    "os.makedirs(\"data/inputs/linked_issues\", exist_ok=True)"
   ]
  },
  {
   "cell_type": "code",
   "execution_count": 53,
   "id": "b233c04a-53f0-44c7-81cc-b34a90c4082f",
   "metadata": {
    "scrolled": true
   },
   "outputs": [],
   "source": [
    "check_issues['repo_id'] = pd.to_numeric(check_issues['repo_id'])"
   ]
  },
  {
   "cell_type": "code",
   "execution_count": 54,
   "id": "45a58238-a2c4-4844-8b4e-c15c29dfe589",
   "metadata": {
    "scrolled": true
   },
   "outputs": [],
   "source": [
    "inds = np.array_split(check_issues.index, 1000)\n",
    "i = 0\n",
    "for ind in inds:\n",
    "    i+=1\n",
    "    check_issues.loc[ind].to_parquet(f'data/inputs/linked_issues/linked_issue_{i}.parquet')"
   ]
  }
 ],
 "metadata": {
  "kernelspec": {
   "display_name": "Python 3 (ipykernel)",
   "language": "python",
   "name": "python3"
  },
  "language_info": {
   "codemirror_mode": {
    "name": "ipython",
    "version": 3
   },
   "file_extension": ".py",
   "mimetype": "text/x-python",
   "name": "python",
   "nbconvert_exporter": "python",
   "pygments_lexer": "ipython3",
   "version": "3.8.10"
  }
 },
 "nbformat": 4,
 "nbformat_minor": 5
}
